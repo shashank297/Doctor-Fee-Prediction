{
 "cells": [
  {
   "cell_type": "code",
   "execution_count": 2,
   "id": "13485244",
   "metadata": {
    "id": "13485244"
   },
   "outputs": [],
   "source": [
    "import numpy as np \n",
    "import pandas as pd\n",
    "import matplotlib.pyplot as plt\n",
    "import seaborn as sns"
   ]
  },
  {
   "cell_type": "code",
   "execution_count": 3,
   "id": "35c93836",
   "metadata": {
    "id": "35c93836"
   },
   "outputs": [],
   "source": [
    "import re"
   ]
  },
  {
   "cell_type": "markdown",
   "id": "89c97c75",
   "metadata": {
    "id": "89c97c75"
   },
   "source": [
    "### Removing Noise and converting to numeric"
   ]
  },
  {
   "cell_type": "code",
   "execution_count": 4,
   "id": "76aa5237",
   "metadata": {
    "colab": {
     "base_uri": "https://localhost:8080/",
     "height": 676
    },
    "id": "76aa5237",
    "outputId": "65a5c390-ce15-4092-b775-5de77efb6daa"
   },
   "outputs": [
    {
     "data": {
      "text/html": [
       "<div>\n",
       "<style scoped>\n",
       "    .dataframe tbody tr th:only-of-type {\n",
       "        vertical-align: middle;\n",
       "    }\n",
       "\n",
       "    .dataframe tbody tr th {\n",
       "        vertical-align: top;\n",
       "    }\n",
       "\n",
       "    .dataframe thead th {\n",
       "        text-align: right;\n",
       "    }\n",
       "</style>\n",
       "<table border=\"1\" class=\"dataframe\">\n",
       "  <thead>\n",
       "    <tr style=\"text-align: right;\">\n",
       "      <th></th>\n",
       "      <th>Name</th>\n",
       "      <th>Degree</th>\n",
       "      <th>DP Score</th>\n",
       "      <th>NPV Value</th>\n",
       "      <th>Location</th>\n",
       "      <th>City</th>\n",
       "      <th>Consult Fee</th>\n",
       "      <th>Years of Experience</th>\n",
       "      <th>Speciality</th>\n",
       "    </tr>\n",
       "  </thead>\n",
       "  <tbody>\n",
       "    <tr>\n",
       "      <th>0</th>\n",
       "      <td>Dr. Manish Agarwal</td>\n",
       "      <td>MBBS, MS - General Surgery</td>\n",
       "      <td>93%</td>\n",
       "      <td>(61 votes)</td>\n",
       "      <td>Saket</td>\n",
       "      <td>Delhi</td>\n",
       "      <td>₹900</td>\n",
       "      <td>26</td>\n",
       "      <td>General Surgeon, Laparoscopic Surgeon</td>\n",
       "    </tr>\n",
       "    <tr>\n",
       "      <th>1</th>\n",
       "      <td>Dr. Pallavi Joshi</td>\n",
       "      <td>BHMS</td>\n",
       "      <td>100%</td>\n",
       "      <td>(91 votes)</td>\n",
       "      <td>Saket</td>\n",
       "      <td>Delhi</td>\n",
       "      <td>₹500</td>\n",
       "      <td>16</td>\n",
       "      <td>AYUSHHomoeopath</td>\n",
       "    </tr>\n",
       "    <tr>\n",
       "      <th>2</th>\n",
       "      <td>Dr. Shikha Gurnani</td>\n",
       "      <td>MBBS, DNB - Obstetrics &amp; Gynecology</td>\n",
       "      <td>98%</td>\n",
       "      <td>(1312 votes)</td>\n",
       "      <td>Dwarka</td>\n",
       "      <td>Delhi</td>\n",
       "      <td>₹800</td>\n",
       "      <td>20</td>\n",
       "      <td>Gynecologist, Obstetrician</td>\n",
       "    </tr>\n",
       "    <tr>\n",
       "      <th>3</th>\n",
       "      <td>Dr. Sanneya Manchanda</td>\n",
       "      <td>BDS, MDS - Conservative Dentistry &amp; Endodontics</td>\n",
       "      <td>100%</td>\n",
       "      <td>(122 votes)</td>\n",
       "      <td>Jangpura</td>\n",
       "      <td>Delhi</td>\n",
       "      <td>₹400</td>\n",
       "      <td>10</td>\n",
       "      <td>Dentist, Endodontist, Conservative Dentist, Re...</td>\n",
       "    </tr>\n",
       "    <tr>\n",
       "      <th>4</th>\n",
       "      <td>Dr. Pearl Bhardwaj</td>\n",
       "      <td>BDS, MDS - Periodontics</td>\n",
       "      <td>NaN</td>\n",
       "      <td>NaN</td>\n",
       "      <td>Model Town 2</td>\n",
       "      <td>Delhi</td>\n",
       "      <td>₹400</td>\n",
       "      <td>10</td>\n",
       "      <td>Dentist, Implantologist, Periodontist</td>\n",
       "    </tr>\n",
       "    <tr>\n",
       "      <th>...</th>\n",
       "      <td>...</td>\n",
       "      <td>...</td>\n",
       "      <td>...</td>\n",
       "      <td>...</td>\n",
       "      <td>...</td>\n",
       "      <td>...</td>\n",
       "      <td>...</td>\n",
       "      <td>...</td>\n",
       "      <td>...</td>\n",
       "    </tr>\n",
       "    <tr>\n",
       "      <th>8040</th>\n",
       "      <td>Dr. Amrith Kiran Shetty</td>\n",
       "      <td>BDS, Certificate in Dental Implants</td>\n",
       "      <td>96%</td>\n",
       "      <td>(609 votes)</td>\n",
       "      <td>Banaswadi</td>\n",
       "      <td>Bangalore</td>\n",
       "      <td>₹500</td>\n",
       "      <td>20</td>\n",
       "      <td>Dental Surgeon, Dentist, Implantologist</td>\n",
       "    </tr>\n",
       "    <tr>\n",
       "      <th>8041</th>\n",
       "      <td>Dr. Smitha M</td>\n",
       "      <td>BDS, MDS - Paedodontics And Preventive Dentistry</td>\n",
       "      <td>91%</td>\n",
       "      <td>(22 votes)</td>\n",
       "      <td>RT Nagar</td>\n",
       "      <td>Bangalore</td>\n",
       "      <td>₹400</td>\n",
       "      <td>23</td>\n",
       "      <td>Pediatric Dentist</td>\n",
       "    </tr>\n",
       "    <tr>\n",
       "      <th>8042</th>\n",
       "      <td>Dr. Shamraz Abbas   (Physiotherapist)</td>\n",
       "      <td>BPTh/BPT</td>\n",
       "      <td>NaN</td>\n",
       "      <td>NaN</td>\n",
       "      <td>BTM Layout 2nd Stage</td>\n",
       "      <td>Bangalore</td>\n",
       "      <td>₹500</td>\n",
       "      <td>10</td>\n",
       "      <td>TherapistPhysiotherapist</td>\n",
       "    </tr>\n",
       "    <tr>\n",
       "      <th>8043</th>\n",
       "      <td>Dr. Lohith U</td>\n",
       "      <td>MBBS, MS - General Surgery, DNB - Surgical Gas...</td>\n",
       "      <td>100%</td>\n",
       "      <td>(15 votes)</td>\n",
       "      <td>Sarjapur Road</td>\n",
       "      <td>Bangalore</td>\n",
       "      <td>₹850</td>\n",
       "      <td>15</td>\n",
       "      <td>Laparoscopic Surgeon, GastroIntestinal Surgeon</td>\n",
       "    </tr>\n",
       "    <tr>\n",
       "      <th>8044</th>\n",
       "      <td>Dr. Faiyaz Ali</td>\n",
       "      <td>MBBS, MD - General Medicine</td>\n",
       "      <td>NaN</td>\n",
       "      <td>NaN</td>\n",
       "      <td>Kammana Halli</td>\n",
       "      <td>Bangalore</td>\n",
       "      <td>₹650</td>\n",
       "      <td>44</td>\n",
       "      <td>Internal Medicine</td>\n",
       "    </tr>\n",
       "  </tbody>\n",
       "</table>\n",
       "<p>8045 rows × 9 columns</p>\n",
       "</div>"
      ],
      "text/plain": [
       "                                       Name  \\\n",
       "0                        Dr. Manish Agarwal   \n",
       "1                         Dr. Pallavi Joshi   \n",
       "2                        Dr. Shikha Gurnani   \n",
       "3                     Dr. Sanneya Manchanda   \n",
       "4                        Dr. Pearl Bhardwaj   \n",
       "...                                     ...   \n",
       "8040                Dr. Amrith Kiran Shetty   \n",
       "8041                           Dr. Smitha M   \n",
       "8042  Dr. Shamraz Abbas   (Physiotherapist)   \n",
       "8043                           Dr. Lohith U   \n",
       "8044                         Dr. Faiyaz Ali   \n",
       "\n",
       "                                                 Degree DP Score  \\\n",
       "0                            MBBS, MS - General Surgery     93%    \n",
       "1                                                  BHMS    100%    \n",
       "2                   MBBS, DNB - Obstetrics & Gynecology     98%    \n",
       "3       BDS, MDS - Conservative Dentistry & Endodontics    100%    \n",
       "4                               BDS, MDS - Periodontics      NaN   \n",
       "...                                                 ...      ...   \n",
       "8040                BDS, Certificate in Dental Implants     96%    \n",
       "8041   BDS, MDS - Paedodontics And Preventive Dentistry     91%    \n",
       "8042                                           BPTh/BPT      NaN   \n",
       "8043  MBBS, MS - General Surgery, DNB - Surgical Gas...    100%    \n",
       "8044                        MBBS, MD - General Medicine      NaN   \n",
       "\n",
       "         NPV Value              Location        City Consult Fee  \\\n",
       "0       (61 votes)                 Saket       Delhi        ₹900   \n",
       "1       (91 votes)                 Saket       Delhi        ₹500   \n",
       "2     (1312 votes)                Dwarka       Delhi        ₹800   \n",
       "3      (122 votes)              Jangpura       Delhi        ₹400   \n",
       "4              NaN          Model Town 2       Delhi        ₹400   \n",
       "...            ...                   ...         ...         ...   \n",
       "8040   (609 votes)             Banaswadi   Bangalore        ₹500   \n",
       "8041    (22 votes)              RT Nagar   Bangalore        ₹400   \n",
       "8042           NaN  BTM Layout 2nd Stage   Bangalore        ₹500   \n",
       "8043    (15 votes)         Sarjapur Road   Bangalore        ₹850   \n",
       "8044           NaN         Kammana Halli   Bangalore        ₹650   \n",
       "\n",
       "     Years of Experience                                         Speciality  \n",
       "0                     26              General Surgeon, Laparoscopic Surgeon  \n",
       "1                     16                                    AYUSHHomoeopath  \n",
       "2                     20                         Gynecologist, Obstetrician  \n",
       "3                     10  Dentist, Endodontist, Conservative Dentist, Re...  \n",
       "4                     10              Dentist, Implantologist, Periodontist  \n",
       "...                  ...                                                ...  \n",
       "8040                  20            Dental Surgeon, Dentist, Implantologist  \n",
       "8041                  23                                  Pediatric Dentist  \n",
       "8042                  10                           TherapistPhysiotherapist  \n",
       "8043                  15     Laparoscopic Surgeon, GastroIntestinal Surgeon  \n",
       "8044                  44                                  Internal Medicine  \n",
       "\n",
       "[8045 rows x 9 columns]"
      ]
     },
     "execution_count": 4,
     "metadata": {},
     "output_type": "execute_result"
    }
   ],
   "source": [
    "df = pd.read_csv(\"doctor (1).csv\")\n",
    "df"
   ]
  },
  {
   "cell_type": "code",
   "execution_count": 5,
   "id": "3d384c71",
   "metadata": {
    "id": "3d384c71"
   },
   "outputs": [],
   "source": [
    "df['DP Score'] = df['DP Score'].str.replace('%', '', regex=True)\n",
    "df['DP Score'] = pd.to_numeric(df['DP Score'], errors='coerce')"
   ]
  },
  {
   "cell_type": "code",
   "execution_count": 6,
   "id": "ee972a5f",
   "metadata": {
    "colab": {
     "base_uri": "https://localhost:8080/"
    },
    "id": "ee972a5f",
    "outputId": "f05e43b5-3b05-48ee-dcc6-f90d806ebd17"
   },
   "outputs": [
    {
     "data": {
      "text/plain": [
       "array([  61.,   91., 1312.,  122.,   nan,  829.,   12.,   34.,  168.,\n",
       "         16.,   39.,   31.,  136.,   72.,   17.,  207.,  149.,   23.,\n",
       "        490.,   63.,   74.,  340.,  378.,  119.,   99.,  166.,  141.,\n",
       "         45.,   13.,  151.,   19.,   49.,   14.,  153.,   46.,  205.,\n",
       "         80.,  246.,  200.,   21.,   73.,   83.,  370.,   58.,  410.,\n",
       "         40.,  474.,  117.,   29., 1471.,   98.,   36.,   22.,   15.,\n",
       "         50.,  139.,   81.,   59.,   78.,  996.,   25.,  193.,  327.,\n",
       "        106.,  118.,   27.,  384.,  101.,   38.,  115.,   53.,   35.,\n",
       "       1072.,   33.,  150.,  131.,   41.,   32.,   95., 1286.,  331.,\n",
       "        566.,  413.,   26.,  350.,   42.,   94.,   67.,  233.,  251.,\n",
       "        492.,   51.,   62.,   28.,  336.,  146.,  487.,  587.,   47.,\n",
       "        156.,  181.,   43.,  138.,   82.,   88.,  428.,   24.,   69.,\n",
       "         11.,  109.,  133.,  187.,  289.,   18.,   57.,  315.,  935.,\n",
       "        858.,  110.,  316.,   52.,  293.,  145.,   60.,  369.,  120.,\n",
       "        185.,  523.,  116.,  286.,  147.,  736.,  219., 1084.,   84.,\n",
       "        385.,  154.,   54.,  416.,  275.,   70.,  159.,  231.,   79.,\n",
       "        176., 2317.,  377.,  404.,  802.,   90.,  140.,  630., 1231.,\n",
       "         48.,  451., 1308.,   75.,  127.,   92.,  324.,  105.,  647.,\n",
       "        192.,   30.,   71.,   37.,  164.,   56.,  612.,  112.,  306.,\n",
       "        169.,  137.,  103.,  509.,   65.,  311.,  108.,  134.,  226.,\n",
       "        126., 1028.,  188.,  260.,  111.,  440.,  263.,   89.,   93.,\n",
       "        645.,  206., 1389.,  279.,  125.,   20., 1409.,  107.,  210.,\n",
       "        175.,  374.,  322.,  199.,  249.,  218.,  605.,  243.,  229.,\n",
       "        403.,  305., 1376., 1291.,  415.,  329.,  338.,  142.,  186.,\n",
       "         44.,  473.,  817.,  375.,  387., 3603.,  839., 1043.,  539.,\n",
       "        173.,  341.,  235.,  355.,  590.,  554.,  407.,  241.,  343.,\n",
       "        204., 1493.,  225.,   55.,  179.,  266.,   77.,  180.,  391.,\n",
       "        148.,  239.,  165.,  167., 1342.,  468.,  170.,  256.,  232.,\n",
       "        532., 1180.,  308.,  158., 2440., 1182.,  280.,  301.,  240.,\n",
       "         85.,  284.,  862.,  682.,  129.,  171.,   96.,  135.,  697.,\n",
       "        320.,  123.,   76.,  291.,  198.,  194.,  190.,  272.,  124.,\n",
       "        242., 1489.,  894.,  572.,  113.,  595.,  152., 1518.,  265.,\n",
       "        356., 2321.,   64.,  688.,   86.,  750.,   87.,  426.,  540.,\n",
       "        507.,  313.,  214.,  230.,  144.,  270.,  660.,  573.,  485.,\n",
       "        704.,  668.,  253.,  461.,  846., 1187.,  304.,  633., 1250.,\n",
       "       1571.,  203.,  221.,  228.,  611.,  717.,  215.,  157., 1103.,\n",
       "        247.,  196., 1654.,  602.,  470.,  388.,  351.,  406.,   68.,\n",
       "        386.,  104.,  295.,  731.,  654.,  607.,  985.,  811.,  438.,\n",
       "        227.,   97., 2135., 1455., 1110.,   66., 1270., 1223.,  463.,\n",
       "        102.,  100., 1507., 1001.,  114.,  250.,  434.,  212.,  443.,\n",
       "       2408.,  662.,  183.,  637.,  130.,  287., 1157., 1031.,  128.,\n",
       "        273., 1176.,  544.,  257.,  812.,  277.,  201.,  815.,  373.,\n",
       "        457.,  264.,  383.,  268.,  294.,  538.,  980.,  262., 1045.,\n",
       "        609.,  670.,  178.,  431.,  957.,  300., 1339.,  254.,  184.,\n",
       "        323.,  245.,  564.,  818.,  174.,  395., 1242.,  172.,  237.,\n",
       "        155.,  269.,  571., 2957.,  359.,  326.,  504.,  321.,  886.,\n",
       "        276.,  197.,  299., 1070.,  189., 2311.,  121.,  618.,  282.,\n",
       "        258.,  182.,  527.,  604.,  358.,  489.,  307.,  495.,  503.,\n",
       "       1190.,  220.,  288.,  432.,  319.,  937.,  382.,  450., 1172.,\n",
       "       1113., 1018.,  593.,  511.,  569.,  533.,  561.,  281.,  513.,\n",
       "        556.,  543., 1494.,  298.,  310.,  339.,  582.,  248., 1380.,\n",
       "        223.,  913.,  368., 1423.,  209.,  312., 1768.,  309.,  132.,\n",
       "        222.,  191.,  394.,  892.,  898.,  789., 1274.,  297.,  414.,\n",
       "        425.,  363.,  696., 1321.,  161.,  354.,  292.,  376.,  907.,\n",
       "        366.,  832.,  798.,  706.,  531.,  799.,  936.,  283.,  216.,\n",
       "        333.,  759.,  195.,  558.,  380.,  337., 1282.,  362.,  500.,\n",
       "        267.,  365.,  466.,  982.,  853.,  177.,  213.,  224.,  371.,\n",
       "        859.,  255.,  963.,  574.,  314., 1015.,  653.,  738.,  460.,\n",
       "        686.,  723.,  588.,  396.,  547.,  692.,  234.,  290.,  381.,\n",
       "       1301.,  244.,  448.,  217.,  614.,  393.,  236., 1083.,  528.,\n",
       "        651.,  515., 1684., 1517.,  346.,  903.,  208., 1160.,  624.,\n",
       "        857., 1755.,  430.,  972.,  845., 2268.,  488.,  681.,  163.,\n",
       "        455.,  617.,  317.,  452.,  826.,  476.,  541., 1736.,  424.,\n",
       "        302.,  252.,  584.,  436., 1538.,  447., 1124., 1359.,  805.,\n",
       "       2153.,  872.,  978.,  740.,  676.,  444.,  160.,  516., 2011.,\n",
       "        718., 1169.,  482., 2716.,  665.,  889.,  274.,  392., 1675.,\n",
       "        412.,  735.,  271., 1325.,  518.,  417.,  727., 2677.,  486.,\n",
       "        493., 2093.,  514.,  667.,  522., 3825., 1542.,  510.,  361.,\n",
       "       3727., 1246.,  646.,  409., 1427.,  822., 1363.,  620., 2125.,\n",
       "        758., 2737.,  332., 1410.,  708., 1361.,  575., 4205., 1316.,\n",
       "        211.,  261., 1734.,  202.,  512.,  747.,  439., 1185.,  804.,\n",
       "        411.,  349.,  891.,  765.,  909.,  901.,  938.,  586.,  767.,\n",
       "        494.,  517.,  537.,  751.,  400., 4852.,  525.,  599., 1424.,\n",
       "       3677.,  596., 1338.,  579.,  629.,  238.,  360.,  483.,  536.,\n",
       "        591., 1120.,  335.,  442.,  570.,  648.,  465.,  948.,  807.,\n",
       "        632., 1666.,  296.,  848., 1587.,  923.,  162., 1652.,  883.,\n",
       "        472.,  671., 4134.,  567.,  303.,  666.,  601.,  456., 2248.,\n",
       "        615., 1265.,  703.,  884.,  744.,  669.,  875., 1600.,  143.,\n",
       "        379.,  421.,  423.,  551.,  902.,  348., 3908.,  491.,  399.,\n",
       "       1890.,  705.,  877., 1414.,  550., 8048.,  563.,  955., 1814.,\n",
       "       1773.,  702., 1145., 1649.,  627., 1938.,  701.,  389., 1058.,\n",
       "        484.,  655., 1279., 3789., 2679., 3390.,  932., 2683.,  352.,\n",
       "       2232.,  367.,  693.,  699., 1382.,  344., 1669.,  420.,  874.,\n",
       "       3529.,  497., 1048.,  863.,  677., 5479.,  545.,  741., 1138.,\n",
       "        555.,  546., 1383., 1630.,  722., 1159., 1025.,  581.,  398.,\n",
       "        879.,  520., 1521., 1189., 1227., 1581., 2280.,  542.,  328.,\n",
       "       2171.,  810.,  372.,  408., 1257., 4207.,  943.,  643., 1167.,\n",
       "        928., 1304., 2470., 1337., 1640., 3306., 5365.,  628., 3297.,\n",
       "       1594.,  526., 1735.,  471.,  761.])"
      ]
     },
     "execution_count": 6,
     "metadata": {},
     "output_type": "execute_result"
    }
   ],
   "source": [
    "df['NPV Value']=df['NPV Value'].str.split(' ').str[0]\n",
    "\n",
    "df['NPV Value']= df['NPV Value'].str[1:]\n",
    "\n",
    "df['NPV Value'] = pd.to_numeric(df['NPV Value'], errors='coerce')\n",
    "\n",
    "df['NPV Value'].unique()"
   ]
  },
  {
   "cell_type": "code",
   "execution_count": 7,
   "id": "2141df9a",
   "metadata": {
    "colab": {
     "base_uri": "https://localhost:8080/"
    },
    "id": "2141df9a",
    "outputId": "ce69482a-4c5f-4467-ce91-f7358ee1ec6a"
   },
   "outputs": [
    {
     "data": {
      "text/plain": [
       "array([ 900.,  500.,  800.,  400., 1050., 1000.,  700., 1500., 1100.,\n",
       "       1200.,  799., 3500., 2000.,  600.,  950., 1800., 1700.,   99.,\n",
       "        300.,  200., 5000., 2500., 1400.,  850., 1300., 2200.,  299.,\n",
       "       1600., 4000., 1150.,  350.,  100.,  450.,  750.,   50.,  999.,\n",
       "         nan,  330., 3000.,  199., 1850.,  550., 1450., 1250., 2600.,\n",
       "        699.,  650., 5900.,  349.,  599.,  250., 1750., 2100., 1950.,\n",
       "       2400., 2250., 3200.,  499.,  669., 1550., 2800., 4300., 1475.,\n",
       "        150., 2300., 4100., 2700., 2850.,  390.,  530., 3850., 1900.,\n",
       "       3300., 2350., 3400., 3600.,  740.,  399.,  670., 1120., 1499.,\n",
       "       1090.,  480.,  560.,  630.,  980., 1650., 2950., 2130.,  325.,\n",
       "       2830.,  320.,  660.])"
      ]
     },
     "execution_count": 7,
     "metadata": {},
     "output_type": "execute_result"
    }
   ],
   "source": [
    "df['Consult Fee']=df['Consult Fee'].str[1:]\n",
    "\n",
    "df['Consult Fee'] = pd.to_numeric(df['Consult Fee'], errors='coerce')\n",
    "\n",
    "df['Consult Fee'].unique()"
   ]
  },
  {
   "cell_type": "code",
   "execution_count": 8,
   "id": "2ec39ab2",
   "metadata": {
    "id": "2ec39ab2"
   },
   "outputs": [],
   "source": [
    "df['Years of Experience'] = df['Years of Experience'].apply(lambda x: re.sub('[^0-9]', '', str(x)))\n"
   ]
  },
  {
   "cell_type": "code",
   "execution_count": 9,
   "id": "73f575ad",
   "metadata": {
    "id": "73f575ad"
   },
   "outputs": [],
   "source": [
    "df['Years of Experience'] = pd.to_numeric(df['Years of Experience'], errors='coerce')"
   ]
  },
  {
   "cell_type": "code",
   "execution_count": 10,
   "id": "508b0e21",
   "metadata": {
    "colab": {
     "base_uri": "https://localhost:8080/"
    },
    "id": "508b0e21",
    "outputId": "16480a00-013c-4963-881e-a2478c5735b3"
   },
   "outputs": [
    {
     "data": {
      "text/plain": [
       "Name                      1\n",
       "Degree                    2\n",
       "DP Score               3283\n",
       "NPV Value              3283\n",
       "Location                  1\n",
       "City                      1\n",
       "Consult Fee              51\n",
       "Years of Experience       3\n",
       "Speciality                4\n",
       "dtype: int64"
      ]
     },
     "execution_count": 10,
     "metadata": {},
     "output_type": "execute_result"
    }
   ],
   "source": [
    "df.isnull().sum()"
   ]
  },
  {
   "cell_type": "code",
   "execution_count": 11,
   "id": "e9ab3b25",
   "metadata": {
    "colab": {
     "base_uri": "https://localhost:8080/",
     "height": 175
    },
    "id": "e9ab3b25",
    "outputId": "635e077a-4e0a-4ef1-8247-97389dc12a37"
   },
   "outputs": [
    {
     "name": "stderr",
     "output_type": "stream",
     "text": [
      "C:\\Users\\Shashank\\AppData\\Local\\Temp\\ipykernel_1556\\1134722465.py:1: FutureWarning: The default value of numeric_only in DataFrame.corr is deprecated. In a future version, it will default to False. Select only valid columns or specify the value of numeric_only to silence this warning.\n",
      "  df.corr()\n"
     ]
    },
    {
     "data": {
      "text/html": [
       "<div>\n",
       "<style scoped>\n",
       "    .dataframe tbody tr th:only-of-type {\n",
       "        vertical-align: middle;\n",
       "    }\n",
       "\n",
       "    .dataframe tbody tr th {\n",
       "        vertical-align: top;\n",
       "    }\n",
       "\n",
       "    .dataframe thead th {\n",
       "        text-align: right;\n",
       "    }\n",
       "</style>\n",
       "<table border=\"1\" class=\"dataframe\">\n",
       "  <thead>\n",
       "    <tr style=\"text-align: right;\">\n",
       "      <th></th>\n",
       "      <th>DP Score</th>\n",
       "      <th>NPV Value</th>\n",
       "      <th>Consult Fee</th>\n",
       "      <th>Years of Experience</th>\n",
       "    </tr>\n",
       "  </thead>\n",
       "  <tbody>\n",
       "    <tr>\n",
       "      <th>DP Score</th>\n",
       "      <td>1.000000</td>\n",
       "      <td>0.116738</td>\n",
       "      <td>-0.166926</td>\n",
       "      <td>-0.333568</td>\n",
       "    </tr>\n",
       "    <tr>\n",
       "      <th>NPV Value</th>\n",
       "      <td>0.116738</td>\n",
       "      <td>1.000000</td>\n",
       "      <td>-0.029123</td>\n",
       "      <td>0.057889</td>\n",
       "    </tr>\n",
       "    <tr>\n",
       "      <th>Consult Fee</th>\n",
       "      <td>-0.166926</td>\n",
       "      <td>-0.029123</td>\n",
       "      <td>1.000000</td>\n",
       "      <td>0.296974</td>\n",
       "    </tr>\n",
       "    <tr>\n",
       "      <th>Years of Experience</th>\n",
       "      <td>-0.333568</td>\n",
       "      <td>0.057889</td>\n",
       "      <td>0.296974</td>\n",
       "      <td>1.000000</td>\n",
       "    </tr>\n",
       "  </tbody>\n",
       "</table>\n",
       "</div>"
      ],
      "text/plain": [
       "                     DP Score  NPV Value  Consult Fee  Years of Experience\n",
       "DP Score             1.000000   0.116738    -0.166926            -0.333568\n",
       "NPV Value            0.116738   1.000000    -0.029123             0.057889\n",
       "Consult Fee         -0.166926  -0.029123     1.000000             0.296974\n",
       "Years of Experience -0.333568   0.057889     0.296974             1.000000"
      ]
     },
     "execution_count": 11,
     "metadata": {},
     "output_type": "execute_result"
    }
   ],
   "source": [
    "df.corr()"
   ]
  },
  {
   "cell_type": "code",
   "execution_count": 12,
   "id": "35f3f0c3",
   "metadata": {
    "colab": {
     "base_uri": "https://localhost:8080/",
     "height": 658
    },
    "id": "35f3f0c3",
    "outputId": "49c6c367-0bfe-45f6-f18b-feb4dbc63049"
   },
   "outputs": [
    {
     "data": {
      "text/html": [
       "<div>\n",
       "<style scoped>\n",
       "    .dataframe tbody tr th:only-of-type {\n",
       "        vertical-align: middle;\n",
       "    }\n",
       "\n",
       "    .dataframe tbody tr th {\n",
       "        vertical-align: top;\n",
       "    }\n",
       "\n",
       "    .dataframe thead th {\n",
       "        text-align: right;\n",
       "    }\n",
       "</style>\n",
       "<table border=\"1\" class=\"dataframe\">\n",
       "  <thead>\n",
       "    <tr style=\"text-align: right;\">\n",
       "      <th></th>\n",
       "      <th>Name</th>\n",
       "      <th>Degree</th>\n",
       "      <th>DP Score</th>\n",
       "      <th>NPV Value</th>\n",
       "      <th>Location</th>\n",
       "      <th>City</th>\n",
       "      <th>Consult Fee</th>\n",
       "      <th>Years of Experience</th>\n",
       "      <th>Speciality</th>\n",
       "    </tr>\n",
       "  </thead>\n",
       "  <tbody>\n",
       "    <tr>\n",
       "      <th>0</th>\n",
       "      <td>Dr. Manish Agarwal</td>\n",
       "      <td>MBBS, MS - General Surgery</td>\n",
       "      <td>93.0</td>\n",
       "      <td>61.0</td>\n",
       "      <td>Saket</td>\n",
       "      <td>Delhi</td>\n",
       "      <td>900.0</td>\n",
       "      <td>26.0</td>\n",
       "      <td>General Surgeon, Laparoscopic Surgeon</td>\n",
       "    </tr>\n",
       "    <tr>\n",
       "      <th>1</th>\n",
       "      <td>Dr. Pallavi Joshi</td>\n",
       "      <td>BHMS</td>\n",
       "      <td>100.0</td>\n",
       "      <td>91.0</td>\n",
       "      <td>Saket</td>\n",
       "      <td>Delhi</td>\n",
       "      <td>500.0</td>\n",
       "      <td>16.0</td>\n",
       "      <td>AYUSHHomoeopath</td>\n",
       "    </tr>\n",
       "    <tr>\n",
       "      <th>2</th>\n",
       "      <td>Dr. Shikha Gurnani</td>\n",
       "      <td>MBBS, DNB - Obstetrics &amp; Gynecology</td>\n",
       "      <td>98.0</td>\n",
       "      <td>1312.0</td>\n",
       "      <td>Dwarka</td>\n",
       "      <td>Delhi</td>\n",
       "      <td>800.0</td>\n",
       "      <td>20.0</td>\n",
       "      <td>Gynecologist, Obstetrician</td>\n",
       "    </tr>\n",
       "    <tr>\n",
       "      <th>3</th>\n",
       "      <td>Dr. Sanneya Manchanda</td>\n",
       "      <td>BDS, MDS - Conservative Dentistry &amp; Endodontics</td>\n",
       "      <td>100.0</td>\n",
       "      <td>122.0</td>\n",
       "      <td>Jangpura</td>\n",
       "      <td>Delhi</td>\n",
       "      <td>400.0</td>\n",
       "      <td>10.0</td>\n",
       "      <td>Dentist, Endodontist, Conservative Dentist, Re...</td>\n",
       "    </tr>\n",
       "    <tr>\n",
       "      <th>4</th>\n",
       "      <td>Dr. Pearl Bhardwaj</td>\n",
       "      <td>BDS, MDS - Periodontics</td>\n",
       "      <td>NaN</td>\n",
       "      <td>NaN</td>\n",
       "      <td>Model Town 2</td>\n",
       "      <td>Delhi</td>\n",
       "      <td>400.0</td>\n",
       "      <td>10.0</td>\n",
       "      <td>Dentist, Implantologist, Periodontist</td>\n",
       "    </tr>\n",
       "    <tr>\n",
       "      <th>...</th>\n",
       "      <td>...</td>\n",
       "      <td>...</td>\n",
       "      <td>...</td>\n",
       "      <td>...</td>\n",
       "      <td>...</td>\n",
       "      <td>...</td>\n",
       "      <td>...</td>\n",
       "      <td>...</td>\n",
       "      <td>...</td>\n",
       "    </tr>\n",
       "    <tr>\n",
       "      <th>8040</th>\n",
       "      <td>Dr. Amrith Kiran Shetty</td>\n",
       "      <td>BDS, Certificate in Dental Implants</td>\n",
       "      <td>96.0</td>\n",
       "      <td>609.0</td>\n",
       "      <td>Banaswadi</td>\n",
       "      <td>Bangalore</td>\n",
       "      <td>500.0</td>\n",
       "      <td>20.0</td>\n",
       "      <td>Dental Surgeon, Dentist, Implantologist</td>\n",
       "    </tr>\n",
       "    <tr>\n",
       "      <th>8041</th>\n",
       "      <td>Dr. Smitha M</td>\n",
       "      <td>BDS, MDS - Paedodontics And Preventive Dentistry</td>\n",
       "      <td>91.0</td>\n",
       "      <td>22.0</td>\n",
       "      <td>RT Nagar</td>\n",
       "      <td>Bangalore</td>\n",
       "      <td>400.0</td>\n",
       "      <td>23.0</td>\n",
       "      <td>Pediatric Dentist</td>\n",
       "    </tr>\n",
       "    <tr>\n",
       "      <th>8042</th>\n",
       "      <td>Dr. Shamraz Abbas   (Physiotherapist)</td>\n",
       "      <td>BPTh/BPT</td>\n",
       "      <td>NaN</td>\n",
       "      <td>NaN</td>\n",
       "      <td>BTM Layout 2nd Stage</td>\n",
       "      <td>Bangalore</td>\n",
       "      <td>500.0</td>\n",
       "      <td>10.0</td>\n",
       "      <td>TherapistPhysiotherapist</td>\n",
       "    </tr>\n",
       "    <tr>\n",
       "      <th>8043</th>\n",
       "      <td>Dr. Lohith U</td>\n",
       "      <td>MBBS, MS - General Surgery, DNB - Surgical Gas...</td>\n",
       "      <td>100.0</td>\n",
       "      <td>15.0</td>\n",
       "      <td>Sarjapur Road</td>\n",
       "      <td>Bangalore</td>\n",
       "      <td>850.0</td>\n",
       "      <td>15.0</td>\n",
       "      <td>Laparoscopic Surgeon, GastroIntestinal Surgeon</td>\n",
       "    </tr>\n",
       "    <tr>\n",
       "      <th>8044</th>\n",
       "      <td>Dr. Faiyaz Ali</td>\n",
       "      <td>MBBS, MD - General Medicine</td>\n",
       "      <td>NaN</td>\n",
       "      <td>NaN</td>\n",
       "      <td>Kammana Halli</td>\n",
       "      <td>Bangalore</td>\n",
       "      <td>650.0</td>\n",
       "      <td>44.0</td>\n",
       "      <td>Internal Medicine</td>\n",
       "    </tr>\n",
       "  </tbody>\n",
       "</table>\n",
       "<p>8045 rows × 9 columns</p>\n",
       "</div>"
      ],
      "text/plain": [
       "                                       Name  \\\n",
       "0                        Dr. Manish Agarwal   \n",
       "1                         Dr. Pallavi Joshi   \n",
       "2                        Dr. Shikha Gurnani   \n",
       "3                     Dr. Sanneya Manchanda   \n",
       "4                        Dr. Pearl Bhardwaj   \n",
       "...                                     ...   \n",
       "8040                Dr. Amrith Kiran Shetty   \n",
       "8041                           Dr. Smitha M   \n",
       "8042  Dr. Shamraz Abbas   (Physiotherapist)   \n",
       "8043                           Dr. Lohith U   \n",
       "8044                         Dr. Faiyaz Ali   \n",
       "\n",
       "                                                 Degree  DP Score  NPV Value  \\\n",
       "0                            MBBS, MS - General Surgery      93.0       61.0   \n",
       "1                                                  BHMS     100.0       91.0   \n",
       "2                   MBBS, DNB - Obstetrics & Gynecology      98.0     1312.0   \n",
       "3       BDS, MDS - Conservative Dentistry & Endodontics     100.0      122.0   \n",
       "4                               BDS, MDS - Periodontics       NaN        NaN   \n",
       "...                                                 ...       ...        ...   \n",
       "8040                BDS, Certificate in Dental Implants      96.0      609.0   \n",
       "8041   BDS, MDS - Paedodontics And Preventive Dentistry      91.0       22.0   \n",
       "8042                                           BPTh/BPT       NaN        NaN   \n",
       "8043  MBBS, MS - General Surgery, DNB - Surgical Gas...     100.0       15.0   \n",
       "8044                        MBBS, MD - General Medicine       NaN        NaN   \n",
       "\n",
       "                  Location        City  Consult Fee  Years of Experience  \\\n",
       "0                    Saket       Delhi        900.0                 26.0   \n",
       "1                    Saket       Delhi        500.0                 16.0   \n",
       "2                   Dwarka       Delhi        800.0                 20.0   \n",
       "3                 Jangpura       Delhi        400.0                 10.0   \n",
       "4             Model Town 2       Delhi        400.0                 10.0   \n",
       "...                    ...         ...          ...                  ...   \n",
       "8040             Banaswadi   Bangalore        500.0                 20.0   \n",
       "8041              RT Nagar   Bangalore        400.0                 23.0   \n",
       "8042  BTM Layout 2nd Stage   Bangalore        500.0                 10.0   \n",
       "8043         Sarjapur Road   Bangalore        850.0                 15.0   \n",
       "8044         Kammana Halli   Bangalore        650.0                 44.0   \n",
       "\n",
       "                                             Speciality  \n",
       "0                 General Surgeon, Laparoscopic Surgeon  \n",
       "1                                       AYUSHHomoeopath  \n",
       "2                            Gynecologist, Obstetrician  \n",
       "3     Dentist, Endodontist, Conservative Dentist, Re...  \n",
       "4                 Dentist, Implantologist, Periodontist  \n",
       "...                                                 ...  \n",
       "8040            Dental Surgeon, Dentist, Implantologist  \n",
       "8041                                  Pediatric Dentist  \n",
       "8042                           TherapistPhysiotherapist  \n",
       "8043     Laparoscopic Surgeon, GastroIntestinal Surgeon  \n",
       "8044                                  Internal Medicine  \n",
       "\n",
       "[8045 rows x 9 columns]"
      ]
     },
     "execution_count": 12,
     "metadata": {},
     "output_type": "execute_result"
    }
   ],
   "source": [
    "df"
   ]
  },
  {
   "cell_type": "code",
   "execution_count": 13,
   "id": "7073b4ae",
   "metadata": {
    "colab": {
     "base_uri": "https://localhost:8080/"
    },
    "id": "7073b4ae",
    "outputId": "2fe8876a-1834-4767-eaa4-350dbcaf792c"
   },
   "outputs": [
    {
     "data": {
      "text/plain": [
       "189.95338093238135"
      ]
     },
     "execution_count": 13,
     "metadata": {},
     "output_type": "execute_result"
    }
   ],
   "source": [
    "df[\"NPV Value\"].mean()"
   ]
  },
  {
   "cell_type": "code",
   "execution_count": 14,
   "id": "aed2fa35",
   "metadata": {
    "colab": {
     "base_uri": "https://localhost:8080/"
    },
    "id": "aed2fa35",
    "outputId": "7bf38cb0-aed7-4852-8b8f-24d0a9206b00"
   },
   "outputs": [
    {
     "data": {
      "text/plain": [
       "94.18290634187316"
      ]
     },
     "execution_count": 14,
     "metadata": {},
     "output_type": "execute_result"
    }
   ],
   "source": [
    "df[\"DP Score\"].mean()"
   ]
  },
  {
   "cell_type": "code",
   "execution_count": 15,
   "id": "c3437157",
   "metadata": {
    "id": "c3437157"
   },
   "outputs": [],
   "source": [
    "df['NPV Value'].fillna(190, inplace=True)"
   ]
  },
  {
   "cell_type": "code",
   "execution_count": 16,
   "id": "461d6b78",
   "metadata": {
    "id": "461d6b78"
   },
   "outputs": [],
   "source": [
    "df['DP Score'].fillna(94,inplace = True)"
   ]
  },
  {
   "cell_type": "code",
   "execution_count": 17,
   "id": "12da28c9",
   "metadata": {
    "colab": {
     "base_uri": "https://localhost:8080/"
    },
    "id": "12da28c9",
    "outputId": "f18a5723-61f4-4fde-9b8f-324182f48659"
   },
   "outputs": [
    {
     "data": {
      "text/plain": [
       "Name                    object\n",
       "Degree                  object\n",
       "DP Score               float64\n",
       "NPV Value              float64\n",
       "Location                object\n",
       "City                    object\n",
       "Consult Fee            float64\n",
       "Years of Experience    float64\n",
       "Speciality              object\n",
       "dtype: object"
      ]
     },
     "execution_count": 17,
     "metadata": {},
     "output_type": "execute_result"
    }
   ],
   "source": [
    "df.dtypes"
   ]
  },
  {
   "cell_type": "code",
   "execution_count": 18,
   "id": "64416f1e",
   "metadata": {
    "colab": {
     "base_uri": "https://localhost:8080/"
    },
    "id": "64416f1e",
    "outputId": "03686f31-7d41-4af9-fe2f-af47d1237985"
   },
   "outputs": [
    {
     "data": {
      "text/plain": [
       "Name                    1\n",
       "Degree                  2\n",
       "DP Score                0\n",
       "NPV Value               0\n",
       "Location                1\n",
       "City                    1\n",
       "Consult Fee            51\n",
       "Years of Experience     3\n",
       "Speciality              4\n",
       "dtype: int64"
      ]
     },
     "execution_count": 18,
     "metadata": {},
     "output_type": "execute_result"
    }
   ],
   "source": [
    "df.isnull().sum()"
   ]
  },
  {
   "cell_type": "code",
   "execution_count": 19,
   "id": "68d9ff52",
   "metadata": {
    "id": "68d9ff52"
   },
   "outputs": [],
   "source": [
    "df.dropna(inplace= True)"
   ]
  },
  {
   "cell_type": "code",
   "execution_count": 20,
   "id": "974882ed",
   "metadata": {
    "colab": {
     "base_uri": "https://localhost:8080/"
    },
    "id": "974882ed",
    "outputId": "154f0924-ed89-4fe8-d9cf-f62329f4e7fb"
   },
   "outputs": [
    {
     "data": {
      "text/plain": [
       "Name                   0\n",
       "Degree                 0\n",
       "DP Score               0\n",
       "NPV Value              0\n",
       "Location               0\n",
       "City                   0\n",
       "Consult Fee            0\n",
       "Years of Experience    0\n",
       "Speciality             0\n",
       "dtype: int64"
      ]
     },
     "execution_count": 20,
     "metadata": {},
     "output_type": "execute_result"
    }
   ],
   "source": [
    "df.isnull().sum()"
   ]
  },
  {
   "cell_type": "code",
   "execution_count": 21,
   "id": "611adb4d",
   "metadata": {
    "colab": {
     "base_uri": "https://localhost:8080/"
    },
    "id": "611adb4d",
    "outputId": "12d45396-f80a-473b-f23a-f3ae115b9dad"
   },
   "outputs": [
    {
     "name": "stdout",
     "output_type": "stream",
     "text": [
      "['General Surgeon, Laparoscopic Surgeon', 'AYUSHHomoeopath', 'Gynecologist, Obstetrician', 'Dentist, Endodontist, Conservative Dentist, Restorative Dentist', 'Dentist, Implantologist, Periodontist', 'Gynecologist, Obstetrician, Infertility Specialist, Laparoscopic Surgeon (Obs & Gyn)', 'Laparoscopic Surgeon, Proctologist, General Surgeon', 'Dermatologist', 'General Surgeon, Laparoscopic Surgeon, Bariatric Surgeon', 'Hair Transplant Surgeon', 'Laparoscopic Surgeon, Bariatric Surgeon, General Surgeon', 'Gynecologist, Obstetrician, Infertility Specialist, Laparoscopic Surgeon (Obs & Gyn)', 'Dermatologist, Hair Transplant Surgeon', 'Gynecologist, Obstetrician, Infertility Specialist, Laparoscopic Surgeon (Obs & Gyn)', 'General Physician', 'Neurosurgeon, Neurologist, General Surgeon, Spine Surgeon (Neuro)', 'Bariatric Surgeon, Laparoscopic Surgeon', 'Endodontist, Dentist, Cosmetic/Aesthetic Dentist, Implantologist', 'Gynecologist, Infertility Specialist, Obstetrician', 'Pediatrician', 'Prosthodontist, Implantologist, Dentist, Cosmetic/Aesthetic Dentist', 'ENT/ Otorhinolaryngologist', 'Urologist', 'General Surgeon, Laparoscopic Surgeon, Proctologist', 'Cardiologist', 'Gynecologist, Obstetrician', 'Internal Medicine', 'Pulmonologist', 'TherapistPhysiotherapist, Geriatric Physiotherapist', 'General Physician', 'Orthodontist, Implantologist, Dentist', 'TherapistDietitian/Nutritionist', 'Dermatologist, Trichologist, Aesthetic Dermatologist, Hair Transplant Surgeon', 'Dentist, Cosmetic/Aesthetic Dentist', 'Pulmonologist', 'General Surgeon', 'Gastroenterologist', 'Dental Surgeon, Dentist', 'TherapistDietitian/Nutritionist', 'Orthopedic surgeon', 'Dentist, Cosmetic/Aesthetic Dentist', 'ENT/ Otorhinolaryngologist', 'Laparoscopic Surgeon, Bariatric Surgeon', 'Pediatrician', 'Radiation Oncologist', 'Pediatrician', 'Orthopedic surgeon, Joint Replacement Surgeon, Spine Surgeon (Ortho), Spine And Pain Specialist', 'Pediatric Dentist, Cosmetic/Aesthetic Dentist, Implantologist', 'Pediatrician, Neonatologist', 'Implantologist, Dentist', 'Periodontist, Cosmetic/Aesthetic Dentist', 'Cardiac Surgeon', 'Cosmetic/Aesthetic Dentist, Dentist', 'Ophthalmologist/ Eye Surgeon', 'ENT/ Otorhinolaryngologist', 'Gynecologist, Infertility Specialist', 'Cardiologist, Interventional Cardiologist', 'ENT/ Otorhinolaryngologist', 'AYUSHAyurveda, Sexologist (Ayurveda), Sexologist', 'Cardiologist', 'AYUSHHomoeopath', 'Obstetrician, Gynecologist, Infertility Specialist', 'Pediatrician', 'General Physician', 'Neurologist', 'Neurosurgeon', 'Neurologist, Neurosurgeon', 'Dermatologist, Venereologist, Aesthetic Dermatologist', 'Dermatologist', 'Gynecologist, Obstetrician, Infertility Specialist', 'TherapistPsychotherapist, Counselling Psychologist', 'Dentist, Implantologist, Prosthodontist', 'AYUSHAyurveda', 'Gynecologist, Obstetrician', 'Periodontist, Implantologist, Dental Surgeon', 'Gynecologist, Obstetrician, Laparoscopic Surgeon (Obs & Gyn)', 'Orthopedic surgeon', 'AYUSHHomoeopath', 'General Surgeon', 'Plastic Reconstruction Surgeon, Plastic Surgeon, Hair Transplant Surgeon, Burn Surgeon, Diabetic Foot Surgeon, Cosmetologist', 'General Surgeon', 'Implantologist', 'Neurosurgeon', 'Orthodontist', 'Nephrologist/Renal Specialist', 'Pediatrician', 'Dentist, Orthodontist, Implantologist', 'Gynecologist', 'TherapistPhysiotherapist, Orthopedic Physiotherapist', 'Ophthalmologist/ Eye Surgeon', 'Periodontist, Implantologist, Dentist, Cosmetic/Aesthetic Dentist, Dental Surgeon', 'ENT/ Otorhinolaryngologist', 'Cardiologist, Interventional Cardiologist', 'Plastic Surgeon, Hair Transplant Surgeon', 'Orthopedic surgeon', 'Neurosurgeon, Spine Surgeon (Neuro)', 'General Physician', 'Internal Medicine, General Physician', 'TherapistCounselling Psychologist', 'Pediatrician', 'TherapistCounselling Psychologist', 'Dental Surgeon, Implantologist', 'Internal Medicine', 'Gynecologist, Obstetrician', 'Orthopedic surgeon', 'ENT/ Otorhinolaryngologist', 'General Surgeon, Laparoscopic Surgeon, Bariatric Surgeon', 'Prosthodontist', 'Periodontist, Dentist, Cosmetic/Aesthetic Dentist', 'Medical Oncologist', 'Pediatrician', 'Neurologist', 'Pediatrician', 'Gynecologist', 'General Physician', 'General Physician, Internal Medicine', 'TherapistOrthopedic Physiotherapist', 'Dental Surgeon, Periodontist, Implantologist, Dentist, Cosmetic/Aesthetic Dentist', 'Endocrinologist, Diabetologist', 'Geriatrician, Consultant Physician', 'Orthopedic surgeon, Joint Replacement Surgeon', 'Ophthalmologist/ Eye Surgeon', 'Prosthodontist, Dental Surgeon, Implantologist', 'General Surgeon, Bariatric Surgeon', 'General Practitioner', 'Obstetrician, Gynecologist, Infertility Specialist', 'Pediatric Surgeon', 'ENT/ Otorhinolaryngologist', 'Orthodontist, Dentofacial Orthopedist, Cosmetic/Aesthetic Dentist, Dentist', 'General Physician', 'Gastroenterologist', 'ENT/ Otorhinolaryngologist', 'General Physician', 'Pediatrician', 'Dentist, Prosthodontist', 'Gynecologist, Infertility Specialist, Obstetrician, Laparoscopic Surgeon (Obs & Gyn)', 'Bariatric Surgeon, Laparoscopic Surgeon', 'Gynecologist, Obstetrician', 'Pediatrician', 'Gastroenterologist', 'Internal Medicine, General Physician', 'AYUSHAyurveda', 'General Surgeon', 'Infertility Specialist', 'Psychotherapist, Addiction Psychiatrist, Psychiatrist, Neuropsychiatrist, Geriatric Psychiatrist', 'Gastroenterologist', 'General Surgeon', 'Gynecologist, Obstetrician, Infertility Specialist', 'Ophthalmologist/ Eye Surgeon', 'GastroIntestinal Surgeon', 'Dentist, Prosthodontist, Dental Surgeon, Implantologist, Cosmetic/Aesthetic Dentist', 'ENT/ Otorhinolaryngologist', 'Dermatologist', 'AYUSHAyurveda', 'General Practitioner', 'Pediatrician', 'Dentist, Cosmetic/Aesthetic Dentist', 'Bariatric Surgeon, GastroIntestinal Surgeon, Laparoscopic Surgeon', 'Ophthalmologist/ Eye Surgeon', 'Pediatrician', 'Gastroenterologist', 'Ophthalmologist/ Eye Surgeon', 'Orthopedic surgeon', 'Gynecologist, Obstetrician', 'Gynecologist, Infertility Specialist, Laparoscopic Surgeon (Obs & Gyn)', 'Implantologist, Oral And MaxilloFacial Surgeon', 'Dermatologist, Dermatosurgeon, Trichologist, Pediatric Dermatologist', 'Neurosurgeon', 'General Physician', 'Gynecologist, Obstetrician', 'Radiation Oncologist', 'Obstetrician, Gynecologist', 'Pediatrician', 'Internal Medicine', 'Neurosurgeon, Neurologist', 'Gynecologist, Obstetrician', 'Gynecologist, Obstetrician', 'Oral And MaxilloFacial Surgeon', 'Joint Replacement Surgeon, Orthopedic surgeon, Spine And Pain Specialist, Spine Surgeon (Ortho)', 'Addiction Psychiatrist, Geriatric Psychiatrist, Psychiatrist', 'Pediatrician, Paediatric Intensivist', 'Gynecologist, Obstetrician, Infertility Specialist', 'Joint Replacement Surgeon, Spine Surgeon (Ortho)', 'Gynecologist, Obstetrician, Infertility Specialist', 'Bariatric Surgeon, Laparoscopic Surgeon', 'Internal Medicine, Consultant Physician, General Physician', 'Pediatrician', 'General Physician', 'Internal Medicine, Consultant Physician, General Physician', 'Psychiatrist', 'Cardiologist, Interventional Cardiologist', 'Dentist', 'Neurologist', 'Dentist, Dental Surgeon', 'Dental Surgeon, Implantologist', 'ENT/ Otorhinolaryngologist', 'TherapistPhysiotherapist, Sports and Musculoskeletal Physiotherapist', 'AYUSHHomoeopath', 'ENT/ Otorhinolaryngologist', 'Gynecologist, Infertility Specialist, Laparoscopic Surgeon (Obs & Gyn)', 'Sports Medicine Physician', 'Prosthodontist, Dentist', 'Pediatric Dentist, Preventive Dentistry, Dentist', 'TherapistCounselling Psychologist', 'Orthopedic surgeon', 'Gastroenterologist', 'Gynecologist, Obstetrician, Infertility Specialist, Laparoscopic Surgeon (Obs & Gyn)', 'Joint Replacement Surgeon, Orthopedic surgeon', 'TherapistAudiologist, Speech Therapist', 'General Surgeon', 'Ophthalmologist/ Eye Surgeon', 'Cardiologist', 'AYUSHHomoeopath', 'TherapistClinical Psychologist, Counselling Psychologist, Psychologist', 'Pediatrician', 'Psychiatrist, Sexologist, Addiction Psychiatrist', 'Obstetrician, Gynecologist', 'TherapistPhysiotherapist', 'Pediatrician', 'Gastroenterologist', 'AYUSHAyurveda', 'Orthopedic surgeon', 'Prosthodontist, Implantologist', 'General Physician', 'Gastroenterologist', 'Neurosurgeon, Neurointerventional Surgery, Neurologist', 'TherapistCounselling Psychologist', 'Prosthodontist, Implantologist, Cosmetic/Aesthetic Dentist, Dentist', 'Neurosurgeon, Spine Surgeon (Neuro)', 'General Physician', 'Nephrologist/Renal Specialist', 'Gynecologist, Obstetrician, Laparoscopic Surgeon (Obs & Gyn)', 'Pediatrician', 'AYUSHAyurveda', 'TherapistPhysiotherapist', 'Obstetrician, Gynecologist, Infertility Specialist', 'AYUSHHomoeopath', 'Gynecologist, Obstetrician, Infertility Specialist, Laparoscopic Surgeon (Obs & Gyn)', 'Gynecologist, Obstetrician, Reproductive Endocrinologist (Infertility), Laparoscopic Surgeon (Obs & Gyn)', 'Gynecologist, Obstetrician, Infertility Specialist', 'Internal Medicine', 'Cardiologist', 'ENT/ Otorhinolaryngologist, Head and Neck Surgeon, Pediatric Otorhinolaryngologist', 'Endodontist, Dentist, Cosmetic/Aesthetic Dentist', 'Cardiologist', 'Spine Surgeon (Neuro), Neurosurgeon', 'Pediatrician', 'ENT/ Otorhinolaryngologist', 'Pulmonologist', 'General Practitioner', 'Gastroenterologist', 'General Physician', 'Orthopedic surgeon, Joint Replacement Surgeon, Spine And Pain Specialist', 'Orthopedic surgeon', 'Psychiatrist', 'Dentist, Prosthodontist', 'Psychiatrist', 'Pediatrician', 'TherapistClinical Psychologist', 'Cosmetologist, Dermatologist', 'General Surgeon', 'Cardiac Surgeon', 'General Surgeon', 'General Physician', 'Gynecologist, Obstetrician, Infertility Specialist, Laparoscopic Surgeon (Obs & Gyn)', 'Pediatrician', 'Psychiatrist, Addiction Psychiatrist, Neuropsychiatrist', 'Dentist, Prosthodontist, Implantologist, Cosmetic/Aesthetic Dentist', 'AYUSHAyurveda', 'Spine Surgeon (Ortho), Sports Medicine Surgeon', 'TherapistOccupational Therapist, OT For Mentally Challenged, Pediatric OT', 'Plastic Surgeon', 'Cosmetologist, Cosmetic/Aesthetic Dentist', 'Gynecologist, Obstetrician, Infertility Specialist', 'Obstetrician, Gynecologist', 'AYUSHHomoeopath', 'Orthodontist, Dental Surgeon, Dentofacial Orthopedist', 'TherapistClinical Psychologist, Psychologist', 'Nephrologist/Renal Specialist', 'Gynecologist, Obstetrician', 'Gynecologist, Obstetrician, Infertility Specialist', 'TherapistPsychologist', 'Internal Medicine, General Physician', 'Pediatrician', 'General Surgeon', 'Endocrinologist', 'ENT/ Otorhinolaryngologist', 'Dental Surgeon, Orthodontist, Dentist', 'Surgical Oncologist', 'Dermatologist', 'Internal Medicine, General Physician', 'Dentist, Cosmetic/Aesthetic Dentist', 'Prosthodontist, Implantologist', 'Dentist', 'Neurosurgeon', 'Dentist', 'General Physician, Internal Medicine', 'TherapistPhysiotherapist', 'Gynecologist, Obstetrician', 'AYUSHAyurveda', 'Pediatrician', 'General Physician, Consultant Physician, Internal Medicine', 'Cardiologist', 'Andrologist, Urologist, Urological Surgeon, Sexologist', 'TherapistDietitian/Nutritionist, Sports Nutritionist', 'Nephrologist/Renal Specialist', 'Dermatologist, Cosmetologist, Dermatosurgeon, Hair Transplant Surgeon, Aesthetic Dermatologist', 'Pediatric Surgeon', 'General Surgeon', 'General Physician, Ophthalmologist/ Eye Surgeon', 'Pediatrician', 'AYUSHHomoeopath', 'Gynecologist, Obstetrician, Infertility Specialist', 'Neurologist', 'Implantologist', 'Psychiatrist, Psychotherapist, Sexologist', 'Psychiatrist, Addiction Psychiatrist, Neuropsychiatrist', 'Neurosurgeon, Neurointerventional Surgery, Spine And Pain Specialist', 'Cosmetic/Aesthetic Dentist, Implantologist, Oral Medicine and Radiology', 'Spine Surgeon (Ortho)', 'TherapistPhysiotherapist', 'Endocrinologist, Diabetologist', 'Gynecologist, Laparoscopic Surgeon (Obs & Gyn), Reproductive Endocrinologist (Infertility)', 'Dermatologist, Dermatosurgeon, Hair Transplant Surgeon', 'ENT/ Otorhinolaryngologist', 'Cosmetic/Aesthetic Dentist', 'Gynecologist, Obstetrician, Infertility Specialist, Laparoscopic Surgeon (Obs & Gyn)', 'ENT/ Otorhinolaryngologist', 'Nephrologist/Renal Specialist', 'Dentist, Prosthodontist, Implantologist', 'Pediatrician', 'Joint Replacement Surgeon, Orthopedic surgeon', 'General Physician, General Practitioner', 'Cardiologist', 'Dentist', 'Cardiologist, Interventional Cardiologist', 'General Surgeon, Laparoscopic Surgeon, Bariatric Surgeon', 'Dental Surgeon, Periodontist, Dentist', 'Surgical Oncologist', 'Obstetrician, Gynecologist', 'Nephrologist/Renal Specialist', 'Plastic Surgeon, Hair Transplant Surgeon', 'Pediatrician', 'TherapistPsychologist, Counselling Psychologist', 'Cardiologist', 'Dentist', 'Diabetologist, General Physician', 'TherapistClinical Psychologist', 'Ophthalmologist/ Eye Surgeon', 'General Physician', 'TherapistCosmetologist', 'Dermatologist, Cosmetologist, Dermatosurgeon, Aesthetic Dermatologist, Immunodermatologist, Pediatric Dermatologist, Trichologist, Venereologist', 'General Surgeon', 'Endodontist, Dentist, Cosmetic/Aesthetic Dentist', 'Orthodontist, Dentist', 'AYUSHAyurveda', 'Neurologist', 'Internal Medicine, Consultant Physician, General Physician', 'ENT/ Otorhinolaryngologist', 'General Physician, General Practitioner', 'Pulmonologist', 'General Physician, Internal Medicine', 'Orthodontist, Dentist, Dental Surgeon', 'Neurologist', 'Orthopedic surgeon', 'Periodontist', 'Gynecologist, Obstetrician, Laparoscopic Surgeon (Obs & Gyn)', 'Urological Surgeon, Urologist, Andrologist', 'AYUSHSexologist, Ayurveda, Alternative Medicine', 'TherapistCounselling Psychologist', 'General Physician, General Practitioner', 'Ophthalmologist/ Eye Surgeon', 'Orthopedic surgeon', 'Implantologist, Dentist, Oral And MaxilloFacial Surgeon', 'Internal Medicine', 'Neonatologist, Pediatrician', 'Ophthalmologist/ Eye Surgeon', 'Obstetrician, Gynecologist, Infertility Specialist', 'AYUSHSexologist, Homoeopath, Sexologist (Homeopathy)', 'Pediatric Surgeon', 'Orthopedic surgeon', 'Pulmonologist', 'Laparoscopic Surgeon, General Surgeon', 'Spine And Pain Specialist', 'Pediatric Dentist, Preventive Dentistry', 'Orthopedic surgeon', 'Dentist, Preventive Dentistry, Pediatric Dentist', 'Internal Medicine', 'Dentist, Dental Surgeon', 'Orthopedic surgeon', 'Urologist, Andrologist', 'General Surgeon, Laparoscopic Surgeon', 'Laparoscopic Surgeon, Bariatric Surgeon', 'ENT/ Otorhinolaryngologist', 'Dermatologist, Dermatosurgeon, Aesthetic Dermatologist, Hair Transplant Surgeon, Trichologist, Cosmetologist, Pediatric Dermatologist', 'Cardiologist', 'Gynecologist, Obstetrician', 'Pediatrician', 'Dentist, Cosmetic/Aesthetic Dentist, Implantologist', 'Pediatrician, Pediatric Hematologic-Oncologist', 'Dentist', 'Gynecologist', 'TherapistCounselling Psychologist', 'Gynecologist, Infertility Specialist', 'Internal Medicine', 'Cosmetic/Aesthetic Dentist, Dentist, Implantologist', 'AYUSHHomoeopath', 'Dermatologist, Aesthetic Dermatologist', 'General Surgeon, Bariatric Surgeon', 'AYUSHHomoeopath', 'Internal Medicine, General Physician', 'Dentist, Cosmetic/Aesthetic Dentist, Implantologist', 'Gynecologist, General Surgeon', 'Pulmonologist, Internal Medicine', 'Dermatologist', 'Neurologist', 'General Physician', 'Medical Oncologist', 'Psychiatrist, Neuropsychiatrist', 'Tuberculous and chest Diseases Specialist', 'Gynecologist, Obstetrician, Infertility Specialist', 'Dermatologist, Hair Transplant Surgeon, Dermatosurgeon, Cosmetologist, Aesthetic Dermatologist, Immunodermatologist, Pediatric Dermatologist', 'ENT/ Otorhinolaryngologist, Pediatric Otorhinolaryngologist, Otologist/ Neurotologist', 'TherapistOrthopedic Physiotherapist', 'Gynecologist, Obstetrician, Infertility Specialist', 'General Physician, General Practitioner', 'Interventional Cardiologist, Cardiologist', 'Orthopedic surgeon', 'Gastroenterologist', 'Pediatrician', 'TherapistOrthopedic Physiotherapist, Physiotherapist', 'Ophthalmologist/ Eye Surgeon', 'Dentist, Endodontist', 'Endodontist, Dental Surgeon, Dentist', 'Dentist', 'TherapistPhysiotherapist', 'TherapistDietitian/Nutritionist', 'Pediatrician', 'Radiologist, Ultrasonologist', 'Dentist, Orthodontist, Dentofacial Orthopedist', 'AYUSHAyurveda', 'General Physician', 'General Physician, General Practitioner', 'Plastic Surgeon', 'AYUSHHomoeopath', 'Internal Medicine, Consultant Physician', 'Cardiologist', 'AYUSHAyurveda', 'TherapistClinical Psychologist', 'Neurologist', 'Gynecologist, Obstetrician, Laparoscopic Surgeon (Obs & Gyn)', 'General Physician', 'Pulmonologist', 'TherapistDietitian/Nutritionist, Clinical Nutritionist', 'General Physician', 'Orthodontist, Dentofacial Orthopedist', 'Gynecologist', 'TherapistClinical Psychologist, Psychologist, Psychotherapist', 'Endocrinologist', 'Gynecologist, Obstetrician, Infertility Specialist', 'Implantologist, Cosmetic/Aesthetic Dentist, Dentist, Prosthodontist', 'Implantologist, Prosthodontist, Dentist', 'ENT/ Otorhinolaryngologist', 'Plastic Surgeon', 'Obstetrician, Gynecologist', 'Gastroenterologist, Internal Medicine', 'AYUSHAyurveda, Sexologist', 'General Physician, Special Interest in Diabetology', 'Paediatric Intensivist, Pediatrician', 'Orthopedic surgeon, Joint Replacement Surgeon, Spine And Pain Specialist', 'Vascular Surgeon, Cardiothoracic and Vascular Surgeon', 'Nephrologist/Renal Specialist', 'Psychiatrist', 'Pediatrician', 'Implantologist, Cosmetic/Aesthetic Dentist', 'Cardiologist', 'Ophthalmologist/ Eye Surgeon, General Practitioner', 'Cosmetic/Aesthetic Dentist, Endodontist', 'TherapistCounselling Psychologist, Psychotherapist, Health Psychologist', 'ENT/ Otorhinolaryngologist', 'Orthopedic surgeon', 'Orthopedic surgeon', 'Obstetrician, Gynecologist', 'Internal Medicine', 'AYUSHAyurveda', 'Dentist, Dental Surgeon', 'Ophthalmologist/ Eye Surgeon', 'AYUSHHomoeopath', 'Gastroenterologist', 'Dentist, Oral Pathologist, Implantologist', 'Psychiatrist, Neuropsychiatrist, Sexologist', 'TherapistCounselling Psychologist, Special Educator for Mentally Challenged', 'Consultant Physician', 'General Surgeon', 'Gynecologist', 'ENT/ Otorhinolaryngologist, Head and Neck Surgeon, Pediatric Otorhinolaryngologist', 'Prosthodontist, Implantologist, Dental Surgeon', 'ENT/ Otorhinolaryngologist', 'Pediatrician', 'Gynecologist, Laparoscopic Surgeon (Obs & Gyn)', 'General Physician', 'Gynecologist, Obstetrician', 'ENT/ Otorhinolaryngologist, Pediatric Otorhinolaryngologist', 'Cardiologist, Interventional Cardiologist', 'Orthopedic surgeon', 'TherapistPhysiotherapist', 'Pediatrician', 'Oral And MaxilloFacial Surgeon, Craniofacial Surgeon', 'ENT/ Otorhinolaryngologist', 'Orthopedic surgeon', 'TherapistPhysiotherapist', 'Pediatrician', 'Dermatologist', 'Pediatrician', 'TherapistClinical Psychologist, Psychologist', 'Infertility Specialist, Gynecologist, Obstetrician', 'Pulmonologist, Tuberculous and chest Diseases Specialist', 'Gynecologist, Obstetrician', 'Pediatrician, Neonatologist', 'Dentist', 'Cardiologist', 'Surgical Oncologist', 'Internal Medicine', 'Internal Medicine, Consultant Physician', 'TherapistPhysiotherapist', 'Cardiac Surgeon, General Surgeon', 'Radiation Oncologist', 'Ophthalmologist/ Eye Surgeon', 'Urologist, Laparoscopic Surgeon, General Surgeon', 'Pediatrician', 'TherapistSpeech Therapist, Audiologist', 'Cardiologist', 'Orthopedic surgeon', 'AYUSHHomoeopath', 'Ophthalmologist/ Eye Surgeon', 'Gynecologist, Obstetrician, Infertility Specialist', 'Orthopedic surgeon', 'Obstetrician, Gynecologist, Infertility Specialist', 'ENT/ Otorhinolaryngologist', 'Neurosurgeon, Spine Surgeon (Ortho), Neurologist', 'Hair Transplant Surgeon', 'Gynecologist, Obstetrician', 'Surgical Oncologist', 'Dentist, Cosmetic/Aesthetic Dentist', 'General Surgeon, Laparoscopic Surgeon', 'Gynecologist, Obstetrician', 'Orthopedic surgeon, Spine Surgeon (Ortho), Joint Replacement Surgeon', 'Dentist', 'TherapistClinical Psychologist', 'Gastroenterologist', 'ENT/ Otorhinolaryngologist', 'Dentist', 'Plastic Surgeon, General Surgeon, Hair Transplant Surgeon', 'Ophthalmologist/ Eye Surgeon', 'AYUSHHomoeopath', 'Orthopedic surgeon, Joint Replacement Surgeon', 'Orthopedic surgeon, Joint Replacement Surgeon', 'Dentist, Cosmetic/Aesthetic Dentist, Implantologist, Oral Medicine and Radiology', 'ENT/ Otorhinolaryngologist, Head and Neck Surgeon', 'Ophthalmologist/ Eye Surgeon', 'AYUSHHomoeopath', 'ENT/ Otorhinolaryngologist', 'General Practitioner, General Physician', 'General Physician, Internal Medicine', 'Cosmetic/Aesthetic Dentist, Dental Surgeon', 'Dentist, Cosmetic/Aesthetic Dentist, Dental Surgeon', 'Nephrologist/Renal Specialist', 'Pediatrician', 'Dentist, Dental Surgeon', 'TherapistAudiologist, Speech Therapist', 'Orthodontist, Dentist, Implantologist', 'ENT/ Otorhinolaryngologist, Otologist/ Neurotologist', 'Gynecologist, Obstetrician', 'Dermatologist, Cosmetologist', 'Gynecologist, Laparoscopic Surgeon (Obs & Gyn), Obstetrician', 'Cardiologist, General Physician, Consultant Physician, Interventional Cardiologist', 'Pulmonologist', 'Periodontist, Dental Surgeon, Dentist', 'Dermatologist', 'Dermatologist', 'Nephrologist/Renal Specialist', 'ENT/ Otorhinolaryngologist', 'Dentist, Dentofacial Orthopedist, Implantologist, Orthodontist, Dental Surgeon', 'Gynecologist, Laparoscopic Surgeon (Obs & Gyn)', 'Neurologist', 'General Physician, Cardiologist', 'Dentist, Cosmetic/Aesthetic Dentist', 'General Physician', 'Gynecologist', 'Gynecologist', 'TherapistPsychotherapist, Hypnotherapist, Health Psychologist, Counselling Psychologist', 'AYUSHHomoeopath, Sexologist', 'Gynecologist, Obstetrician', 'Cardiologist', 'Pediatrician', 'GastroIntestinal Surgeon, General Surgeon, Gastroenterologist, Intestine Surgeon, Laparoscopic Surgeon, Surgical Oncologist', 'General Physician', 'ENT/ Otorhinolaryngologist', 'Dermatologist, Dermatosurgeon, Venereologist, Aesthetic Dermatologist', 'Joint Replacement Surgeon, Spine And Pain Specialist, Orthopedic surgeon', 'Internal Medicine, General Physician', 'Dentist, Conservative Dentist, Endodontist', 'Dentist, Pediatric Dentist', 'Obstetrician, Gynecologist', 'Implantologist, Dentist', 'General Physician', 'General Physician', 'Gynecologist, Obstetrician', 'Obstetrician, Gynecologist, Laparoscopic Surgeon (Obs & Gyn), Infertility Specialist', 'GastroIntestinal Surgeon, General Surgeon, Intestine Surgeon', 'Pulmonologist', 'Urologist', 'Dermatologist, Aesthetic Dermatologist, Cosmetologist, Venereologist', 'Endocrinologist', 'Cardiologist', 'ENT/ Otorhinolaryngologist', 'Pediatrician', 'Oral And MaxilloFacial Surgeon, Dentist, Dental Surgeon', 'Laparoscopic Surgeon, General Surgeon', 'Orthopedic surgeon, Joint Replacement Surgeon, Spine Surgeon (Ortho)', 'Infertility Specialist, Reproductive Endocrinologist (Infertility)', 'Cardiologist', 'ENT/ Otorhinolaryngologist, Otologist/ Neurotologist, Pediatric Otorhinolaryngologist', 'General Surgeon', 'TherapistPhysiotherapist', 'Orthodontist, Dentofacial Orthopedist, Dentist', 'Spine Surgeon (Neuro)', 'AYUSHAyurveda', 'Dentist, Cosmetic/Aesthetic Dentist, Dental Surgeon, Implantologist', 'ENT/ Otorhinolaryngologist, Pediatric Otorhinolaryngologist, Head and Neck Surgeon, Otologist/ Neurotologist', 'Dermatologist, Cosmetologist', 'ENT/ Otorhinolaryngologist', 'General Physician, Internal Medicine', 'Neurologist', 'Gynecologist', 'Orthopedic surgeon, Spine Surgeon (Ortho), Joint Replacement Surgeon', 'Dentist, Orthodontist, Cosmetic/Aesthetic Dentist', 'Internal Medicine', 'Nephrologist/Renal Specialist', 'Endocrinologist', 'Ophthalmologist/ Eye Surgeon', 'TherapistClinical Psychologist', 'GastroIntestinal Surgeon', 'Pediatrician', 'Laparoscopic Surgeon, Bariatric Surgeon, General Surgeon', 'AYUSHHomoeopath, Sexologist (Homeopathy)', 'Gynecologist, Obstetrician', 'Pediatrician', 'Pulmonologist', 'Neurosurgeon, Spine Surgeon (Neuro)', 'Pediatrician', 'Internal Medicine', 'ENT/ Otorhinolaryngologist', 'ENT/ Otorhinolaryngologist', 'Gynecologist, Obstetrician, Laparoscopic Surgeon (Obs & Gyn)', 'Vascular Surgeon', 'Infertility Specialist, Laparoscopic Surgeon (Obs & Gyn), Gynecologist, Obstetrician', 'Gastroenterologist', 'Dentist', 'Psychiatrist', 'Nephrologist/Renal Specialist', 'Endocrinologist', 'AYUSHHomoeopath', 'Cardiothoracic Surgeon', 'Internal Medicine, General Physician', 'Pediatric Surgeon', 'Dentist, Oral Medicine and Radiology, Implantologist', 'Gastroenterologist', 'Gynecologist, Obstetrician, Infertility Specialist', 'Plastic Surgeon', 'Internal Medicine, General Physician', 'Psychiatrist, Addiction Psychiatrist, Sexologist', 'Oral And MaxilloFacial Surgeon, Implantologist, Dentist', 'Infertility Specialist', 'Gynecologist, Obstetrician, Infertility Specialist', 'Dentist, Periodontist, Implantologist', 'TherapistOrthopedic Physiotherapist', 'General Physician', 'Gastroenterologist', 'General Practitioner, Internal Medicine', 'Joint Replacement Surgeon', 'Pulmonologist', 'Cardiothoracic Surgeon', 'Spine Surgeon (Ortho), Neurosurgeon', 'Internal Medicine, General Physician', 'Dentist', 'General Physician, Sexologist', 'Dermatologist, Aesthetic Dermatologist, Hair Transplant Surgeon', 'Spine Surgeon (Neuro), Neurosurgeon', 'Rheumatologist', 'TherapistAudiologist, Speech Therapist', 'Ophthalmologist/ Eye Surgeon', 'Nephrologist/Renal Specialist', 'General Surgeon, Laparoscopic Surgeon, Bariatric Surgeon', 'Pediatric Surgeon', 'General Physician', 'Dermatologist, Cosmetologist', 'Orthopedic surgeon', 'Internal Medicine, General Physician, Diabetologist', 'Pediatrician', 'Implantologist, Endodontist, Dentist, Cosmetic/Aesthetic Dentist', 'Dermatologist, Aesthetic Dermatologist, Cosmetologist', 'Spine Surgeon (Ortho)', 'Urologist, Urological Surgeon, Andrologist, Sexologist', 'General Physician', 'Pain Management Specialist', 'ENT/ Otorhinolaryngologist', 'ENT/ Otorhinolaryngologist', 'Pediatrician', 'General Surgeon, Bariatric Surgeon, Laparoscopic Surgeon, Proctologist', 'TherapistDietitian/Nutritionist, Clinical Nutritionist', 'Obstetrician, Gynecologist', 'Endodontist', 'Dermatologist', 'Neurosurgeon', 'Orthopedic surgeon, Spine Surgeon (Ortho)', 'General Physician', 'Dentist, Dental Surgeon', 'General Surgeon', 'TherapistSpeech Therapist', 'Psychiatrist, Neuropsychiatrist', 'General Physician', 'TherapistSpeech Therapist', 'Obstetrician, Gynecologist, Infertility Specialist', 'TherapistDietitian/Nutritionist, Clinical Nutritionist', 'Pediatrician', 'Urologist', 'Dental Surgeon, Dentist', 'General Surgeon', 'Ophthalmologist/ Eye Surgeon', 'Obstetrician, Gynecologist', 'Endocrinologist', 'Urologist, Andrologist', 'Neurosurgeon, Neurologist', 'General Physician, Internal Medicine', 'AYUSHAyurveda', 'General Physician', 'Psychiatrist, Addiction Psychiatrist', 'Dermatologist, Dermatosurgeon, Venereologist, Hair Transplant Surgeon', 'Dermatologist', 'Gynecologist, Obstetrician, Infertility Specialist', 'Prosthodontist, Cosmetic/Aesthetic Dentist, Implantologist', 'Orthopedic surgeon', 'Dentist, Cosmetic/Aesthetic Dentist, Dental Surgeon', 'Interventional Radiologist, Radiologist', 'General Surgeon, Bariatric Surgeon', 'Interventional Cardiologist, Cardiologist', 'Dentist, Cosmetic/Aesthetic Dentist', 'General Surgeon', 'Dentist, Cosmetic/Aesthetic Dentist, Implantologist', 'AYUSHHomoeopath', 'TherapistClinical Psychologist, Counselling Psychologist, Psychotherapist, Psychologist, Health Psychologist', 'Dermatologist', 'ENT/ Otorhinolaryngologist', 'Dentist, Dental Surgeon', 'TherapistClinical Psychologist, Psychotherapist', 'Dermatologist', 'General Physician', 'Spine And Pain Specialist, Pain Management Specialist', 'Gynecologist', 'Obstetrician, Gynecologist', 'Pediatrician', 'ENT/ Otorhinolaryngologist', 'Internal Medicine, General Physician', 'Bariatric Surgeon, General Surgeon, Laparoscopic Surgeon', 'Gynecologist, Infertility Specialist', 'General Physician, Internal Medicine', 'Internal Medicine, General Physician, Special Interest in Diabetology', 'TherapistPhysiotherapist', 'Gynecologist, Obstetrician', 'ENT/ Otorhinolaryngologist', 'Neurologist', 'Ophthalmologist/ Eye Surgeon', 'ENT/ Otorhinolaryngologist', 'TherapistSexologist', 'Endodontist, Cosmetic/Aesthetic Dentist', 'Gynecologist, Obstetrician', 'Urologist, Sexologist, Urological Surgeon', 'Dermatologist', 'Obstetrician, Gynecologist, Laparoscopic Surgeon (Obs & Gyn)', 'Dentist', 'Cardiothoracic and Vascular Surgeon', 'GastroIntestinal Surgeon, Surgical Oncologist', 'Internal Medicine, General Physician', 'Urologist', 'Obstetrician, Gynecologist', 'General Physician', 'Pediatrician', 'Psychiatrist, Neuropsychiatrist', 'Urologist', 'Implantologist', 'Dentist', 'Psychiatrist', 'Laparoscopic Surgeon (Obs & Gyn), Gynecologist, Obstetrician', 'Orthodontist, Dentofacial Orthopedist, Dentist', 'Pediatrician', 'TherapistPsychologist', 'Joint Replacement Surgeon, Orthopedic surgeon', 'Gynecologist, Infertility Specialist, Obstetrician', 'Infertility Specialist, Reproductive Endocrinologist (Infertility), Gynecologist, Obstetrician', 'TherapistDietitian/Nutritionist', 'Dentist', 'TherapistClinical Psychologist', 'Pediatric Dentist, Implantologist, Cosmetic/Aesthetic Dentist, Dentist', 'Pediatrician', 'Orthodontist, Implantologist, Dentist', 'Obstetrician, Gynecologist', 'Dental Surgeon, Dentist, Conservative Dentist', 'Gynecologist', 'Cardiologist, Interventional Cardiologist', 'TherapistPhysiotherapist', 'Dentist, Cosmetic/Aesthetic Dentist', 'TherapistDietitian/Nutritionist', 'Ophthalmologist/ Eye Surgeon', 'Gynecologist', 'Rheumatologist', 'ENT/ Otorhinolaryngologist', 'Radiologist', 'Gynecologist, Obstetrician, Infertility Specialist', 'Diabetologist, Consultant Physician', 'Gynecologist, Obstetrician, Infertility Specialist', 'Gastroenterologist', 'Radiologist, Ultrasonologist', 'Neurologist', 'TherapistSports and Musculoskeletal Physiotherapist', 'Cardiac Surgeon', 'AYUSHDietitian/Nutritionist, Ayurveda', 'Dentist, Dental Surgeon, Cosmetic/Aesthetic Dentist', 'Dentist', 'Internal Medicine', 'Joint Replacement Surgeon, Orthopedic surgeon, Spine Surgeon (Ortho)', 'Dentist, Dental Surgeon, Implantologist', 'AYUSHAyurveda, Alternative Medicine, Sexologist', 'Orthopedic surgeon, Joint Replacement Surgeon', 'Dermatologist, Cosmetologist, Hair Transplant Surgeon', 'Pulmonologist, Tuberculous and chest Diseases Specialist', 'Psychiatrist, Neuropsychiatrist, Geriatric Psychiatrist', 'General Surgeon', 'TherapistClinical Psychologist', 'Gastroenterologist, General Physician', 'Dentist, Dental Surgeon, Cosmetic/Aesthetic Dentist', 'Orthopedic surgeon', 'Orthopedic surgeon', 'Dermatologist', 'Gynecologist, Obstetrician', 'Joint Replacement Surgeon, Orthopedic surgeon, Spine Surgeon (Ortho)', 'Dental Surgeon, Dentist', 'Obstetrician, Gynecologist', 'Pulmonologist, General Physician', 'General Surgeon, Neurosurgeon', 'AYUSHAyurveda, Sexologist', 'Pediatrician', 'Colorectal Surgeon, General Surgeon', 'Internal Medicine', 'Endocrinologist, Diabetologist', 'Plastic Surgeon', 'Dentist', 'ENT/ Otorhinolaryngologist', 'Orthopedic surgeon', 'Implantologist, Dentist, Dental Surgeon', 'Pain Management Specialist, Spine And Pain Specialist', 'Pediatrician', 'Orthodontist, Dentist', 'Dermatologist', 'Plastic Surgeon, Burn Surgeon', 'Pediatrician', 'Clinical Hematologist', 'TherapistCounselling Psychologist', 'Gynecologist, Obstetrician', 'Laparoscopic Surgeon, Bariatric Surgeon, GastroIntestinal Surgeon, Surgical Oncologist, Intestine Surgeon, Gastroenterologist, General Surgeon', 'AYUSHAyurveda', 'Dental Surgeon, Implantologist, Cosmetic/Aesthetic Dentist', 'Pediatrician', 'General Physician', 'Internal Medicine', 'General Surgeon', 'Dentist, Implantologist, Cosmetic/Aesthetic Dentist, Dental Surgeon', 'Orthopedic surgeon, Joint Replacement Surgeon', 'ENT/ Otorhinolaryngologist', 'Dermatologist', 'Neurosurgeon, Neurointerventional Surgery', 'Dental Surgeon', 'ENT/ Otorhinolaryngologist', 'Gastroenterologist', 'TherapistPhysiotherapist', 'Orthopedic surgeon', 'AYUSHHomoeopath', 'Ophthalmologist/ Eye Surgeon', 'Orthopedic surgeon', 'AYUSHAyurveda, Dietitian/Nutritionist', 'Hair Transplant Surgeon', 'AYUSHHomoeopath', 'Cardiologist, Interventional Cardiologist', 'General Surgeon, Laparoscopic Surgeon', 'Family Physician, General Physician, General Practitioner', 'Obstetrician, Gynecologist', 'General Physician', 'General Surgeon', 'Plastic Surgeon, General Surgeon', 'Cardiologist', 'Internal Medicine', 'Gynecologist, Obstetrician, Infertility Specialist', 'Pediatrician', 'Gastroenterologist', 'Nephrologist/Renal Specialist', 'Pediatric Surgeon', 'Laparoscopic Surgeon (Obs & Gyn), Infertility Specialist, Obstetrician', 'Plastic Surgeon, Hair Transplant Surgeon', 'Dentist, Orthodontist, Implantologist, Cosmetic/Aesthetic Dentist', 'Gynecologist, Obstetrician, Infertility Specialist', 'Clinical Hematologist', 'ENT/ Otorhinolaryngologist', 'Pediatrician', 'TherapistPhysiotherapist, Sports and Musculoskeletal Physiotherapist', 'General Physician', 'General Physician, Nephrologist/Renal Specialist', 'ENT/ Otorhinolaryngologist', 'Pediatrician', 'Neurosurgeon', 'Dentist, Dental Surgeon', 'General Practitioner, General Physician', 'Psychiatrist, Neuropsychiatrist, Addiction Psychiatrist', 'Dermatologist, Aesthetic Dermatologist', 'Urologist, Urological Surgeon, Andrologist', 'Ophthalmologist/ Eye Surgeon', 'Joint Replacement Surgeon', 'Urologist, Andrologist', 'Pain Management Specialist, Anesthesiologist, Spine And Pain Specialist', 'Orthopedic surgeon, Joint Replacement Surgeon', 'Orthopedic surgeon', 'Laparoscopic Surgeon, General Surgeon', 'ENT/ Otorhinolaryngologist, Head and Neck Surgeon', 'Obstetrician, Gynecologist, Infertility Specialist', 'Pediatrician', 'Gynecologist, Infertility Specialist, Obstetrician', 'Ophthalmologist/ Eye Surgeon', 'Obstetrician, Gynecologist, Infertility Specialist, Reproductive Endocrinologist (Infertility)', 'Medical Oncologist', 'Obstetrician', 'ENT/ Otorhinolaryngologist', 'Gastroenterologist, Internal Medicine', 'Dentist, Dental Surgeon', 'Dentist, Endodontist', 'Nephrologist/Renal Specialist', 'Gynecologist, Obstetrician, Infertility Specialist', 'General Physician, General Practitioner', 'Orthopedic surgeon', 'Burn Surgeon, Plastic Surgeon', 'Gynecologist, Obstetrician', 'Dentist, Implantologist, Dental Surgeon, Cosmetic/Aesthetic Dentist', 'Orthopedic surgeon, Joint Replacement Surgeon', 'Dentist, Prosthodontist', 'Infertility Specialist, Gynecologist', 'Radiation Oncologist', 'Dermatologist', 'Gastroenterologist', 'Internal Medicine, General Physician', 'Cardiologist', 'Orthopedic surgeon', 'Nephrologist/Renal Specialist', 'Dermatologist, Hair Transplant Surgeon, Dermatosurgeon', 'Endodontist, Cosmetic/Aesthetic Dentist, Dentist, Implantologist', 'Gynecologist', 'Orthopedic surgeon, Joint Replacement Surgeon', 'Dentist, Dental Surgeon, Prosthodontist, Implantologist, Cosmetic/Aesthetic Dentist', 'Cardiothoracic Surgeon', 'Gynecologist, Obstetrician', 'Pulmonologist', 'Urologist, Urological Surgeon', 'TherapistCounselling Psychologist, Psychotherapist', 'Dermatologist, Venereologist, Trichologist, Pediatric Dermatologist', 'Laparoscopic Surgeon (Obs & Gyn), Gynecologist', 'Orthopedic surgeon', 'Orthopedic surgeon, Joint Replacement Surgeon', 'Orthopedic surgeon', 'TherapistAudiologist, Speech Therapist', 'Pediatrician, Paediatric Intensivist', 'General Surgeon', 'Hair Transplant Surgeon', 'General Surgeon, Laparoscopic Surgeon', 'Infertility Specialist, Gynecologist, Obstetrician', 'Pain Management Specialist, Spine And Pain Specialist, Anesthesiologist', 'Veterinary Physician', 'Pediatrician', 'Gynecologist, Obstetrician', 'Pulmonologist, Somnologist (Sleep Specialist)', 'Cardiologist, Interventional Cardiologist', 'AYUSHHomoeopath', 'TherapistCounselling Psychologist, Psychotherapist, Health Psychologist', 'AYUSHAyurveda', 'Dentist', 'General Physician', 'Gynecologist, Obstetrician, Infertility Specialist, Laparoscopic Surgeon (Obs & Gyn)', 'AYUSHAyurveda, Alternative Medicine, Sexologist', 'General Surgeon', 'Internal Medicine, General Physician', 'General Physician, Internal Medicine, Consultant Physician', 'Dermatologist, Aesthetic Dermatologist, Dermatosurgeon', 'Dentist, Dental Surgeon, Prosthodontist', 'Psychiatrist, Neuropsychiatrist', 'Cosmetologist, Dermatologist, Dermatosurgeon, Aesthetic Dermatologist, Hair Transplant Surgeon, Trichologist', 'AYUSHHomoeopath', 'Surgical Oncologist', 'Neurosurgeon, Neurologist', 'General Surgeon, Bariatric Surgeon', 'Periodontist, Implantologist, Dentist', 'General Physician', 'Pulmonologist', 'Gynecologist, Obstetrician, Infertility Specialist', 'Radiation Oncologist', 'Dermatologist, Dermatosurgeon', 'Gynecologist', 'ENT/ Otorhinolaryngologist', 'TherapistPhysiotherapist, Geriatric Physiotherapist, Sports and Musculoskeletal Physiotherapist', 'Pediatrician', 'Gynecologist', 'ENT/ Otorhinolaryngologist', 'General Physician', 'Orthopedic surgeon, Joint Replacement Surgeon', 'AYUSHAyurveda', 'Pediatrician', 'Pediatrician', 'Gynecologist', 'Psychiatrist, Addiction Psychiatrist, Neuropsychiatrist', 'Endodontist, Dental Surgeon, Cosmetic/Aesthetic Dentist', 'Urologist', 'Cardiac Surgeon', 'Infertility Specialist, Gynecologist', 'Pediatrician', 'Obstetrician, Gynecologist', 'Neurologist', 'Dermatologist, Aesthetic Dermatologist', 'Ophthalmologist/ Eye Surgeon', 'Bariatric Surgeon, Laparoscopic Surgeon, General Surgeon', 'Pediatrician', 'Pediatrician', 'Cardiologist', 'AYUSHHomoeopath', 'Dermatologist, Hair Transplant Surgeon, Aesthetic Dermatologist, Cosmetologist', 'General Physician', 'Urologist', 'Obstetrician, Gynecologist, Laparoscopic Surgeon (Obs & Gyn)', 'Dermatologist, Pediatric Dermatologist, Dermatosurgeon', 'Neurologist', 'Dentist, Dental Surgeon, Dentofacial Orthopedist, Orthodontist', 'General Physician, General Practitioner', 'Ophthalmologist/ Eye Surgeon', 'Plastic Surgeon, Hair Transplant Surgeon, Burn Surgeon', 'TherapistPhysiotherapist', 'Internal Medicine, General Physician', 'Radiation Oncologist', 'ENT/ Otorhinolaryngologist', 'Dentist, Dental Surgeon, Cosmetic/Aesthetic Dentist', 'TherapistPhysiotherapist', 'Implantologist, Prosthodontist, Dentist, Dental Surgeon, Cosmetic/Aesthetic Dentist', 'Gynecologist, Obstetrician', 'Psychiatrist', 'Pediatrician', 'Implantologist, Cosmetic/Aesthetic Dentist, Periodontist', 'Hair Transplant Surgeon', 'Nephrologist/Renal Specialist', 'Laparoscopic Surgeon', 'Pulmonologist', 'General Physician', 'Cardiologist', 'Dentist, Dental Surgeon, Cosmetic/Aesthetic Dentist', 'Obstetrician, Gynecologist', 'TherapistPsychologist, Counselling Psychologist', 'Psychiatrist', 'Orthopedic surgeon, Joint Replacement Surgeon, Spine Surgeon (Ortho)', 'Internal Medicine', 'Gynecologist, Obstetrician, Infertility Specialist, Laparoscopic Surgeon (Obs & Gyn)', 'Internal Medicine, General Physician', 'Gynecologist', 'TherapistPhysiotherapist', 'Ophthalmologist/ Eye Surgeon', 'Obstetrician, Gynecologist', 'Ophthalmologist/ Eye Surgeon', 'Laparoscopic Surgeon', 'AYUSHHomoeopath', 'Ophthalmologist/ Eye Surgeon', 'Psychiatrist, Neuropsychiatrist', 'Plastic Surgeon', 'Dermatologist, Cosmetologist', 'General Surgeon, Laparoscopic Surgeon, Proctologist', 'Gynecologist, Obstetrician, Laparoscopic Surgeon (Obs & Gyn)', 'General Physician, Internal Medicine', 'Emergency Medicine, General Physician', 'Obstetrician, Infertility Specialist', 'Gynecologist, Obstetrician', 'Pediatrician', 'ENT/ Otorhinolaryngologist', 'Surgical Oncologist', 'TherapistCounselling Psychologist', 'Psychiatrist', 'Radiation Oncologist', 'Obstetrician, Gynecologist', 'Urologist, Urological Surgeon, Andrologist', 'Urologist, Laparoscopic Surgeon, Urological Surgeon', 'General Surgeon, Laparoscopic Surgeon', 'Cardiologist', 'Pediatrician', 'Orthodontist, Dentofacial Orthopedist, Dentist', 'Tuberculous and chest Diseases Specialist, General Physician, General Practitioner, Pulmonologist', 'Pediatrician, General Physician', 'Orthopedic surgeon', 'General Physician', 'Joint Replacement Surgeon', 'Dentist, Cosmetic/Aesthetic Dentist, Prosthodontist', 'Dental Surgeon, Cosmetic/Aesthetic Dentist', 'Spine Surgeon (Ortho), Spine And Pain Specialist, Orthopedic surgeon', 'Psychiatrist, Addiction Psychiatrist, Psychotherapist', 'Gynecologist, Obstetrician', 'Orthopedic surgeon, Spine Surgeon (Ortho)', 'Obstetrician, Gynecologist, Infertility Specialist', 'Interventional Cardiologist', 'TherapistDietitian/Nutritionist', 'Dentist, Endodontist', 'Orthopedic surgeon', 'TherapistPhysiotherapist', 'Gynecologist, Obstetrician, Infertility Specialist', 'Psychiatrist, Neuropsychiatrist, Addiction Psychiatrist', 'Orthopedic surgeon', 'Pediatrician', 'Obstetrician, Gynecologist', 'Cosmetic/Aesthetic Dentist, Dentist, Implantologist', 'Plastic Surgeon', 'Prosthodontist, Implantologist, Dentist, Cosmetic/Aesthetic Dentist, Dental Surgeon', 'Dentist, Pediatric Dentist, Preventive Dentistry', 'General Surgeon', 'ENT/ Otorhinolaryngologist', 'Orthopedic surgeon', 'Obstetrician, Gynecologist', 'Cardiologist', 'Cardiologist, Interventional Cardiologist', 'Internal Medicine, General Physician', 'ENT/ Otorhinolaryngologist', 'Orthopedic surgeon', 'Pediatric Surgeon, General Surgeon', 'Cardiologist', 'Gynecologist', 'Gynecologist', 'Urologist', 'Gynecologist, Obstetrician', 'Gynecologist, Infertility Specialist', 'Gastroenterologist', 'Orthopedic surgeon', 'General Surgeon', 'Obstetrician, Gynecologist, Laparoscopic Surgeon (Obs & Gyn)', 'GastroIntestinal Surgeon, Gastroenterologist, Bariatric Surgeon, General Surgeon, Laparoscopic Surgeon', 'Ophthalmologist/ Eye Surgeon', 'Consultant Physician, Pulmonologist', 'Laparoscopic Surgeon, Bariatric Surgeon, General Surgeon', 'Gynecologist, Obstetrician', 'AYUSHAyurveda', 'TherapistPhysiotherapist, Orthopedic Physiotherapist', 'Dermatologist, Dermatosurgeon, Trichologist', 'Gynecologist, Urogynecologist', 'Laparoscopic Surgeon (Obs & Gyn), Obstetrician, Gynecologist', 'Neurologist', 'Orthodontist, Dentist, Implantologist', 'AYUSHAyurveda', 'Urologist', 'Gynecologist, Obstetrician, Infertility Specialist, Laparoscopic Surgeon (Obs & Gyn)', 'Pediatrician', 'Thoracic (Chest) Surgeon', 'Cardiologist', 'Dermatologist', 'ENT/ Otorhinolaryngologist, Pediatric Otorhinolaryngologist, Head and Neck Surgeon', 'TherapistDietitian/Nutritionist', 'AYUSHHomoeopath', 'TherapistClinical Psychologist', 'General Physician, Internal Medicine', 'Obstetrician, Gynecologist', 'TherapistClinical Psychologist', 'Orthopedic surgeon, Joint Replacement Surgeon', 'AYUSHHomoeopath', 'Gynecologist', 'Pediatrician', 'Periodontist, Cosmetic/Aesthetic Dentist, Dental Surgeon, Dentist, Implantologist', 'Cardiologist', 'Plastic Surgeon', 'TherapistDietitian/Nutritionist', 'AYUSHHomoeopath', 'Endodontist', 'AYUSHHomoeopath, Counselling Psychologist', 'Pediatrician', 'Spine And Pain Specialist, Pain Management Specialist', 'AYUSHHomoeopath', 'Radiologist', 'Nephrologist/Renal Specialist', 'Internal Medicine', 'Neurologist', 'TherapistDietitian/Nutritionist', 'Dentist, Cosmetic/Aesthetic Dentist, Periodontist', 'Urologist', 'Dentist', 'Endodontist, Restorative Dentist, Cosmetic/Aesthetic Dentist', 'Laparoscopic Surgeon (Obs & Gyn), Obstetrician, Infertility Specialist', 'Hair Transplant Surgeon', 'AYUSHHomoeopath', 'Pediatrician', 'TherapistClinical Psychologist, Counselling Psychologist', 'Oral And MaxilloFacial Surgeon, Implantologist', 'Dentist', 'Dermatologist, Venereologist', 'Pediatrician', 'Pediatric Surgeon', 'Prosthodontist, Implantologist, Dentist', 'Surgical Oncologist', 'Dentist, Dental Surgeon, Cosmetic/Aesthetic Dentist', 'Joint Replacement Surgeon, Orthopedic surgeon', 'Ophthalmologist/ Eye Surgeon', 'Endocrinologist', 'Orthopedic surgeon, Joint Replacement Surgeon', 'Psychiatrist', 'Pediatrician', 'Addiction Psychiatrist, Psychiatrist', 'Gynecologist, Obstetrician', 'Orthopedic surgeon', 'Gastroenterologist', 'Internal Medicine', 'General Surgeon, Laparoscopic Surgeon, Bariatric Surgeon', 'Laparoscopic Surgeon (Obs & Gyn), Gynecologist, Obstetrician', 'TherapistClinical Psychologist', 'General Physician', 'Dermatologist, Cosmetologist, Venereologist, Dermatosurgeon', 'Psychiatrist', 'Pediatrician', 'Ophthalmologist/ Eye Surgeon', 'Gynecologist, Obstetrician, Infertility Specialist, Laparoscopic Surgeon (Obs & Gyn)', 'Internal Medicine', 'General Practitioner', 'Gastroenterologist', 'TherapistCounselling Psychologist', 'TherapistAudiologist, Speech Therapist', 'TherapistDietitian/Nutritionist', 'Dermatologist', 'Cardiac Surgeon', 'Vascular Surgeon, General Surgeon', 'Nephrologist/Renal Specialist, Internal Medicine', 'Urologist, Andrologist, Urological Surgeon', 'Neurosurgeon', 'Joint Replacement Surgeon, Orthopedic surgeon', 'General Surgeon', 'Gynecologist, Obstetrician', 'General Physician, Internal Medicine', 'Urologist, Andrologist', 'TherapistDietitian/Nutritionist', 'AYUSHHomoeopath', 'Interventional Cardiologist', 'Obstetrician, Gynecologist, Infertility Specialist', 'AYUSHHomoeopath', 'Infertility Specialist, Gynecologist, Obstetrician', 'Gynecologist, Obstetrician, Infertility Specialist', 'Dentist', 'General Physician', 'Orthodontist', 'Gynecologist', 'Gynecologist, Obstetrician, Infertility Specialist', 'ENT/ Otorhinolaryngologist, Head and Neck Surgeon', 'TherapistSports and Musculoskeletal Physiotherapist', 'Pediatrician', 'Dentist, Dental Surgeon, Oral Medicine and Radiology', 'Urologist', 'Dentist, Implantologist', 'Orthopedic surgeon, Spine Surgeon (Ortho), Spine And Pain Specialist', 'General Physician', 'Endodontist, Cosmetic/Aesthetic Dentist, Conservative Dentist', 'Spine Surgeon (Ortho), Orthopedic surgeon, Spine And Pain Specialist', 'Plastic Surgeon, Cosmetologist, Plastic Reconstruction Surgeon', 'Gynecologist, Obstetrician', 'Vascular Surgeon', 'Urogynecologist, Gynecologist, Obstetrician', 'Dentist, Implantologist, Cosmetic/Aesthetic Dentist, Dental Surgeon', 'Plastic Surgeon', 'TherapistCounselling Psychologist', 'Psychiatrist, Neuropsychiatrist, Psychotherapist', 'Orthopedic surgeon', 'Psychiatrist, Neuropsychiatrist, Sexologist', 'Infertility Specialist, Gynecologist, Obstetrician, Laparoscopic Surgeon (Obs & Gyn)', 'Pediatrician', 'Orthopedic surgeon, Spine Surgeon (Ortho), Joint Replacement Surgeon', 'Obstetrician, Gynecologist, Infertility Specialist', 'AYUSHAyurveda', 'TherapistPhysiotherapist, Sports and Musculoskeletal Physiotherapist', 'Dental Surgeon', 'Gynecologist, Obstetrician', 'General Surgeon, Laparoscopic Surgeon', 'Dental Surgeon', 'TherapistNeuro Physiotherapist, Geriatric Physiotherapist, Physiotherapist', 'Endodontist', 'Orthopedic surgeon', 'AYUSHHomoeopath', 'Endodontist, Implantologist, Cosmetic/Aesthetic Dentist, Dentist', 'Orthopedic surgeon', 'Pain Management Specialist, Spine And Pain Specialist, Anesthesiologist', 'Pulmonologist, Tuberculous and chest Diseases Specialist', 'Gynecologist, Infertility Specialist, Laparoscopic Surgeon (Obs & Gyn)', 'Orthopedic surgeon, Joint Replacement Surgeon', 'Gynecologist', 'Pulmonologist, Tuberculous and chest Diseases Specialist', 'Tuberculous and chest Diseases Specialist, Pulmonologist', 'AYUSHAyurveda, Sexologist (Ayurveda)', 'TherapistClinical Psychologist', 'Prosthodontist, Implantologist, Cosmetic/Aesthetic Dentist', 'Dentist, Dental Surgeon', 'Gynecologist, Obstetrician, Infertility Specialist', 'Dental Surgeon', 'General Physician', 'Urologist', 'Ophthalmologist/ Eye Surgeon', 'Orthopedic surgeon', 'Gynecologist, Obstetrician', 'Gynecologist, Obstetrician', 'Dentist, Cosmetic/Aesthetic Dentist, Dental Surgeon', 'Dentist, Cosmetic/Aesthetic Dentist', 'ENT/ Otorhinolaryngologist', 'Psychiatrist, Sexologist, Addiction Psychiatrist', 'Pediatrician, Neonatologist', 'Nephrologist/Renal Specialist', 'Neurosurgeon, Spine And Pain Specialist, Spine Surgeon (Neuro)', 'Laparoscopic Surgeon, General Surgeon', 'Dentist', 'AYUSHAyurveda', 'Dentist', 'ENT/ Otorhinolaryngologist', 'TherapistDietitian/Nutritionist', 'Orthopedic surgeon', 'General Physician', 'Bariatric Surgeon, Laparoscopic Surgeon', 'Dentist', 'Urologist, General Surgeon', 'Pediatrician', 'Dentist, Prosthodontist, Implantologist', 'Dentist, Pediatric Dentist, Preventive Dentistry', 'Urologist', 'Hair Transplant Surgeon', 'Pediatrician', 'Internal Medicine', 'Diabetologist, Consultant Physician', 'General Surgeon', 'Internal Medicine', 'Orthopedic surgeon', 'AYUSHHomoeopath', 'Dentist, Orthodontist, Dentofacial Orthopedist', 'Infertility Specialist, Gynecologist', 'Dentist', 'Pediatrician', 'Joint Replacement Surgeon, Orthopedic surgeon, Spine And Pain Specialist', 'Pulmonologist', 'Gastroenterologist', 'Pediatrician', 'Ophthalmologist/ Eye Surgeon', 'ENT/ Otorhinolaryngologist', 'Dermatologist, Cosmetologist', 'Neonatologist, Pediatrician', 'Gastroenterologist', 'AYUSHHomoeopath', 'AYUSHHomoeopath', 'Pediatric Surgeon', 'General Surgeon, Laparoscopic Surgeon, Bariatric Surgeon', 'Oral And MaxilloFacial Surgeon, Cosmetic/Aesthetic Dentist, Dental Surgeon, Dentist, Implantologist', 'Pediatrician', 'Gynecologist, Laparoscopic Surgeon (Obs & Gyn), Infertility Specialist', 'Pediatrician', 'Gynecologist', 'Dentist, Implantologist', 'Hair Transplant Surgeon', 'Psychiatrist, Neuropsychiatrist', 'Dermatologist, Hair Transplant Surgeon, Cosmetologist', 'Urologist', 'Gynecologist, Obstetrician', 'Gynecologist', 'Dentist, Prosthodontist, Implantologist, Cosmetic/Aesthetic Dentist', 'TherapistDietitian/Nutritionist', 'Neurologist, Consultant Physician, General Physician', 'TherapistPhysiotherapist', 'Diabetologist, Internal Medicine', 'TherapistPhysiotherapist, Orthopedic Physiotherapist', 'Laparoscopic Surgeon (Obs & Gyn), Gynecologist, Obstetrician', 'Dentist, Endodontist, Conservative Dentist', 'TherapistCounselling Psychologist', 'Gynecologist, Obstetrician, Infertility Specialist', 'Pediatric Dentist, Dentist, Preventive Dentistry', 'Psychiatrist', 'TherapistPhysiotherapist, Orthopedic Physiotherapist, Geriatric Physiotherapist', 'Pediatrician', 'Spine And Pain Specialist, Pain Management Specialist', 'Gastroenterologist', 'Dermatologist', 'Medical Oncologist, Hematologic Oncologist', 'Dentist, Implantologist', 'Periodontist, Dentist, Implantologist', 'Dentist', 'Internal Medicine, General Physician', 'Gynecologist, Obstetrician', 'Ophthalmologist/ Eye Surgeon', 'Endodontist, Restorative Dentist, Cosmetic/Aesthetic Dentist', 'Urologist', 'Psychiatrist, Sexologist, Addiction Psychiatrist', 'Dermatologist', 'General Physician, Internal Medicine', 'ENT/ Otorhinolaryngologist, Head and Neck Surgeon, Otologist/ Neurotologist', 'Dentist, Dental Surgeon, Cosmetic/Aesthetic Dentist, Implantologist', 'Urologist', 'Gynecologist', 'Prosthodontist, Cosmetic/Aesthetic Dentist, Implantologist', 'Psychiatrist, Neuropsychiatrist, Addiction Psychiatrist', 'AYUSHHomoeopath', 'Pediatrician', 'TherapistCounselling Psychologist, Special Educator for Learning Disability', 'Ophthalmologist/ Eye Surgeon', 'Interventional Cardiologist', 'Internal Medicine', 'TherapistDietitian/Nutritionist, Sports Nutritionist', 'Dermatologist', 'ENT/ Otorhinolaryngologist', 'Internal Medicine', 'Dentist', 'Endodontist, Implantologist, Dentist', 'AYUSHAyurveda', 'General Surgeon, Proctologist, Laparoscopic Surgeon', 'Gynecologist', 'Cosmetologist, Implantologist', 'Pediatrician', 'Ophthalmologist/ Eye Surgeon', 'Gynecologist, Obstetrician, Infertility Specialist', 'Spine And Pain Specialist, Neurosurgeon', 'Dermatologist', 'Joint Replacement Surgeon', 'TherapistDietitian/Nutritionist', 'Urologist', 'Dermatologist', 'Interventional Cardiologist, Cardiologist', 'TherapistOrthopedic Physiotherapist', 'TherapistDietitian/Nutritionist', 'Pulmonologist, Tuberculous and chest Diseases Specialist, General Physician', 'Pediatric Dentist, Dentist, Dental Surgeon', 'Gynecologist, Obstetrician, Infertility Specialist, Laparoscopic Surgeon (Obs & Gyn)', 'Psychiatrist, Addiction Psychiatrist', 'Vascular Surgeon', 'Vascular Surgeon', 'Pediatrician', 'Neuropsychiatrist, Sexologist, Addiction Psychiatrist', 'Dental Surgeon', 'Gynecologist', 'General Physician', 'Pediatrician', 'Radiologist', 'Cardiologist, Interventional Cardiologist', 'Gastroenterologist', 'Obstetrician, Gynecologist', 'General Physician', 'GastroIntestinal Surgeon, Gastroenterologist, General Surgeon', 'Gynecologist, Obstetrician, Infertility Specialist', 'Urologist', 'Periodontist, Dentist, Cosmetic/Aesthetic Dentist, Dental Surgeon', 'General Physician', 'Nephrologist/Renal Specialist', 'Gynecologist', 'General Surgeon, Laparoscopic Surgeon', 'AYUSHHomoeopath', 'Dermatologist, Cosmetologist, Aesthetic Dermatologist, Pediatric Dermatologist, Dermatosurgeon, Hair Transplant Surgeon, Sexologist', 'Cardiologist', 'Dentist, Cosmetic/Aesthetic Dentist, Dental Surgeon', 'Urologist, Urological Surgeon', 'General Physician', 'Hair Transplant Surgeon', 'TherapistOrthopedic Physiotherapist', 'AYUSHHomoeopath, Homoeopathic Pediatrician', 'Internal Medicine, General Physician, Consultant Physician', 'Implantologist, Dentist', 'Obstetrician', 'Gynecologist', 'Surgical Oncologist', 'Pain Management Specialist, Spine And Pain Specialist', 'Neurologist, Pain Management Specialist', 'Periodontist, Cosmetic/Aesthetic Dentist, Implantologist, Dentist', 'General Physician, Consultant Physician, Internal Medicine', 'Dentist', 'Dermatologist, Hair Transplant Surgeon, Cosmetologist', 'Nephrologist/Renal Specialist, General Physician, Internal Medicine', 'General Physician', 'Urologist', 'Obstetrician, Gynecologist', 'Obstetrician, Gynecologist', 'Ophthalmologist/ Eye Surgeon', 'Urologist, Urological Surgeon, Sexologist', 'Dermatologist, Hair Transplant Surgeon', 'Pediatrician', 'Gynecologist, Obstetrician', 'AYUSHHomoeopath', 'Pediatrician', 'Pulmonologist, Tuberculous and chest Diseases Specialist, Somnologist (Sleep Specialist)', 'General Physician, Internal Medicine', 'Dental Surgeon, Dentist', 'Laparoscopic Surgeon, General Surgeon', 'Gastroenterologist', 'Implantologist, Prosthodontist, Dentist', 'Obstetrician, Gynecologist', 'Internal Medicine', 'Dermatologist, Trichologist', 'TherapistCounselling Psychologist', 'Psychiatrist', 'Dermatologist', 'Gynecologist, Obstetrician', 'Neurologist', 'Internal Medicine, Consultant Physician', 'Gynecologist, Obstetrician, Infertility Specialist, Laparoscopic Surgeon (Obs & Gyn)', 'Gastroenterologist, Consultant Physician, Internal Medicine', 'Obstetrician, Gynecologist', 'Pulmonologist, Tuberculous and chest Diseases Specialist, General Physician', 'Orthodontist, Dentist, Dental Surgeon', 'Cardiothoracic Surgeon', 'AYUSHHomoeopath', 'Anesthesiologist', 'Plastic Surgeon', 'Spine Surgeon (Ortho), Joint Replacement Surgeon, Orthopedic surgeon, Spine And Pain Specialist', 'Dental Surgeon, Implantologist', 'Dentist, Cosmetic/Aesthetic Dentist', 'AYUSHAyurveda', 'Cardiologist', 'General Physician, Internal Medicine', 'Pediatrician', 'TherapistPhysiotherapist, Chiropractor', 'Orthodontist, Dentist', 'Gastroenterologist', 'Dermatologist, Hair Transplant Surgeon', 'Gynecologist, Obstetrician, Infertility Specialist, Laparoscopic Surgeon (Obs & Gyn)', 'Internal Medicine, General Physician', 'General Physician, Internal Medicine', 'Pediatrician', 'Cardiologist, Interventional Cardiologist', 'TherapistPhysiotherapist', 'Radiation Oncologist', 'Gynecologist', 'Dentist', 'Gynecologist, Obstetrician, Infertility Specialist', 'Pulmonologist', 'Obstetrician', 'TherapistDietitian/Nutritionist', 'GastroIntestinal Surgeon, General Surgeon, Surgical Oncologist, Bariatric Surgeon', 'Dental Surgeon, Dentist', 'Neuroradiologist', 'General Physician', 'TherapistCounselling Psychologist', 'Gynecologist, Infertility Specialist', 'Dermatologist, Venereologist, Cosmetologist', 'Gastroenterologist, Laparoscopic Surgeon, General Surgeon', 'Ophthalmologist/ Eye Surgeon', 'Orthopedic surgeon, Joint Replacement Surgeon', 'Pediatrician, Neonatologist', 'Gynecologist, Obstetrician, Infertility Specialist', 'Neurologist', 'Dentist', 'Laparoscopic Surgeon, General Surgeon, Bariatric Surgeon', 'TherapistDietitian/Nutritionist', 'General Surgeon', 'Orthopedic surgeon, Joint Replacement Surgeon', 'Orthodontist', 'ENT/ Otorhinolaryngologist', 'Cardiologist', 'Internal Medicine, Consultant Physician, General Physician', 'Neurologist', 'Gastroenterologist', 'Radiation Oncologist', 'Orthopedic surgeon, Joint Replacement Surgeon', 'Orthodontist, Dentist', 'Orthopedic surgeon', 'Orthopedic surgeon, Joint Replacement Surgeon', 'ENT/ Otorhinolaryngologist, Head and Neck Surgeon', 'Obstetrician, Gynecologist', 'Dermatologist, Cosmetologist', 'General Physician, General Practitioner', 'Infertility Specialist, Gynecologist, Obstetrician', 'General Physician, Consultant Physician', 'Dermatologist, Hair Transplant Surgeon, Aesthetic Dermatologist', 'Orthopedic surgeon, Joint Replacement Surgeon, Sports Medicine Physician', 'TherapistPhysiotherapist', 'Joint Replacement Surgeon, Orthopedic surgeon', 'Internal Medicine', 'Cardiologist', 'Hair Transplant Surgeon', 'Gynecologist, Obstetrician', 'Pediatrician', 'Special Interest in Pediatric Neurology', 'Gynecologist, Obstetrician', 'Dermatologist', 'Orthopedic surgeon', 'Gynecologist, Obstetrician, Infertility Specialist', 'Medical Oncologist', 'Dental Surgeon, Dentist, Oral And MaxilloFacial Surgeon', 'Gynecologist, Obstetrician, Infertility Specialist', 'Pediatric Cardiologist', 'Dental Surgeon', 'Gynecologist, Obstetrician', 'General Physician', 'Pediatrician', 'Laparoscopic Surgeon (Obs & Gyn), Obstetrician, Gynecologist', 'Nephrologist/Renal Specialist, Internal Medicine, General Physician', 'Obstetrician, Gynecologist', 'Psychiatrist, Neuropsychiatrist, Addiction Psychiatrist', 'Nephrologist/Renal Specialist', 'TherapistClinical Psychologist, Psychologist', 'Pulmonologist', 'Dentist, Implantologist', 'TherapistRehabilitation Psychologist, Psychologist', 'Dermatosurgeon, Aesthetic Dermatologist', 'TherapistSexologist', 'Dermatologist', 'Pediatrician', 'Gastroenterologist', 'Cardiologist', 'Oral And MaxilloFacial Surgeon, Dentist, Implantologist', 'General Physician', 'Cardiothoracic Surgeon', 'Cardiologist', 'Urologist, Andrologist, Urological Surgeon', 'Orthopedic surgeon, Joint Replacement Surgeon', 'Gynecologist', 'Orthopedic surgeon, Spine And Pain Specialist, Joint Replacement Surgeon', 'ENT/ Otorhinolaryngologist', 'TherapistClinical Psychologist', 'Obstetrician, Gynecologist', 'Cardiologist, Interventional Cardiologist', 'Obstetrician, Gynecologist', 'Plastic Surgeon, Hair Transplant Surgeon, Plastic Reconstruction Surgeon', 'General Physician, Internal Medicine', 'Medical Oncologist', 'ENT/ Otorhinolaryngologist', 'Pediatrician', 'Endocrinologist, Diabetologist', 'AYUSHAyurveda, Alternative Medicine, Sexologist (Ayurveda), Sexologist', 'General Physician', 'Medical Oncologist', 'Plastic Surgeon, Burn Surgeon, Hair Transplant Surgeon', 'Laparoscopic Surgeon, Urological Surgeon, Andrologist', 'Orthopedic surgeon', 'Hair Transplant Surgeon', 'Gynecologist, Obstetrician', 'Psychiatrist', 'Plastic Surgeon', 'Ophthalmologist/ Eye Surgeon', 'Dermatologist, Hair Transplant Surgeon', 'Plastic Surgeon, Hair Transplant Surgeon', 'ENT/ Otorhinolaryngologist, Otologist/ Neurotologist', 'Pain Management Specialist', 'Neurologist', 'Dentist, Dental Surgeon, Cosmetic/Aesthetic Dentist', 'Pediatric Cardiologist', 'Orthopedic surgeon, Joint Replacement Surgeon', 'Orthopedic surgeon, Spine And Pain Specialist', 'Pediatrician', 'Pediatrician', 'AYUSHAyurveda, Alternative Medicine', 'General Physician', 'TherapistPhysiotherapist', 'Plastic Surgeon', 'General Physician', 'General Surgeon', 'Implantologist, Cosmetic/Aesthetic Dentist', 'Pediatric Gastroenterologist', 'Gynecologist, Obstetrician, Infertility Specialist', 'Pulmonologist', 'Pulmonologist', 'Gynecologist, Infertility Specialist, Obstetrician', 'Prosthodontist, Implantologist, Cosmetic/Aesthetic Dentist', 'TherapistDietitian/Nutritionist', 'Implantologist, Prosthodontist, Cosmetic/Aesthetic Dentist', 'ENT/ Otorhinolaryngologist', 'TherapistClinical Psychologist, Psychologist', 'Gastroenterologist', 'Psychiatrist', 'Pediatrician', 'Gynecologist', 'Gastroenterologist, GastroIntestinal Surgeon', 'Plastic Surgeon', 'Infertility Specialist', 'TherapistDietitian/Nutritionist', 'Internal Medicine', 'AYUSHHomoeopath', 'Pediatric Surgeon', 'Implantologist', 'Psychiatrist', 'Internal Medicine', 'Gynecologist, Infertility Specialist', 'Periodontist, Implantologist, Dentist', 'Psychiatrist', 'General Physician', 'Pediatrician', 'Orthodontist, Dentist, Implantologist', 'Psychiatrist', 'Gynecologist, Reproductive Endocrinologist (Infertility), Infertility Specialist', 'Psychiatrist, Addiction Psychiatrist', 'Pediatrician', 'Medical Oncologist', 'Dentist, Endodontist, Implantologist, Cosmetic/Aesthetic Dentist', 'Dentist, Dental Surgeon, Implantologist', 'Orthopedic surgeon', 'TherapistDietitian/Nutritionist', 'Neurologist, Geriatric Neurologist', 'Dermatologist, Aesthetic Dermatologist, Cosmetologist', 'Gynecologist, Obstetrician', 'Bariatric Surgeon, General Surgeon', 'Gastroenterologist', 'Dermatologist, Hair Transplant Surgeon, Trichologist, Pediatric Dermatologist, Venereologist', 'Consultant Physician, Internal Medicine', 'Gynecologist, Obstetrician', 'Oral And MaxilloFacial Surgeon', 'ENT/ Otorhinolaryngologist', 'Gynecologist, Obstetrician, Infertility Specialist', 'Dentist', 'Dentist, Periodontist, Implantologist', 'TherapistClinical Psychologist, Psychologist', 'General Practitioner, General Physician', 'ENT/ Otorhinolaryngologist', 'Ophthalmologist/ Eye Surgeon', 'Gynecologist, Obstetrician', 'Orthopedic surgeon, Joint Replacement Surgeon', 'Implantologist, Prosthodontist, Dentist, Cosmetic/Aesthetic Dentist', 'AYUSHAyurveda, Dietitian/Nutritionist, Alternative Medicine', 'Gynecologist, Obstetrician', 'Gynecologist, Obstetrician, Infertility Specialist', 'TherapistDietitian/Nutritionist', 'Neuropsychiatrist, Addiction Psychiatrist, Sexologist, Geriatric Psychiatrist, Psychiatrist', 'ENT/ Otorhinolaryngologist', 'General Surgeon', 'Orthopedic surgeon, Joint Replacement Surgeon', 'Implantologist, Dental Surgeon', 'Interventional Cardiologist', 'Pulmonologist', 'Gynecologist, Laparoscopic Surgeon (Obs & Gyn)', 'Cardiologist', 'Gynecologist, Obstetrician', 'Pediatric Hematologic-Oncologist', 'TherapistPhysiotherapist, Orthopedic Physiotherapist', 'Orthopedic surgeon, Spine Surgeon (Ortho)', 'General Physician, Internal Medicine', 'Laparoscopic Surgeon, General Surgeon, Bariatric Surgeon, Proctologist', 'General Surgeon', 'Dentist', 'Ophthalmologist/ Eye Surgeon', 'AYUSHHomoeopath', 'General Physician', 'Gynecologist, Laparoscopic Surgeon (Obs & Gyn)', 'Gynecologist, Obstetrician, Laparoscopic Surgeon (Obs & Gyn), Infertility Specialist', 'Endodontist, Cosmetic/Aesthetic Dentist', 'Cardiologist, Interventional Cardiologist', 'Surgical Oncologist', 'Pediatrician', 'General Physician', 'Dermatologist, Cosmetologist, Dermatosurgeon, Hair Transplant Surgeon, Trichologist, HIV Specialist, Aesthetic Dermatologist', 'Dentist, Dental Surgeon, Cosmetic/Aesthetic Dentist', 'Ophthalmologist/ Eye Surgeon', 'Ophthalmologist/ Eye Surgeon', 'General Physician', 'Pediatrician', 'Plastic Surgeon, Plastic Reconstruction Surgeon, Cosmetologist', 'Dentist, Implantologist, Prosthodontist', 'Ophthalmologist/ Eye Surgeon', 'TherapistOccupational Therapist, Pediatric OT, OT For Mentally Challenged', 'Endocrinologist', 'Pediatrician', 'Ophthalmologist/ Eye Surgeon', 'Internal Medicine', 'ENT/ Otorhinolaryngologist', 'AYUSHSexologist (Ayurveda), Ayurveda', 'ENT/ Otorhinolaryngologist, Head and Neck Surgeon', 'Gynecologist, Laparoscopic Surgeon (Obs & Gyn), Obstetrician', 'Neurosurgeon, Neurointerventional Surgery', 'Dentist, Cosmetic/Aesthetic Dentist, Implantologist', 'ENT/ Otorhinolaryngologist', 'Neurologist', 'Anesthesiologist', 'Radiation Oncologist', 'Dental Surgeon', 'General Physician', 'Neurosurgeon', 'Pediatrician', 'Plastic Surgeon', 'Orthopedic surgeon', 'TherapistPhysiotherapist', 'Dentist, Endodontist, Implantologist', 'TherapistCounselling Psychologist', 'AYUSHHomoeopath', 'Ophthalmologist/ Eye Surgeon', 'Bariatric Surgeon, Laparoscopic Surgeon', 'Dermatologist', 'Dentist', 'AYUSHAyurveda, Alternative Medicine, Sexologist (Ayurveda)', 'Pediatrician', 'Gynecologist, Laparoscopic Surgeon (Obs & Gyn), Obstetrician', 'Dentist, Implantologist, Cosmetic/Aesthetic Dentist, Dental Surgeon', 'TherapistPsychotherapist, Clinical Psychologist', 'Urologist', 'General Surgeon', 'Implantologist, Dentist', 'TherapistNeuro Physiotherapist', 'Pediatric Surgeon', 'ENT/ Otorhinolaryngologist', 'Gynecologist', 'Psychiatrist, Addiction Psychiatrist, Neuropsychiatrist', 'General Physician', 'General Surgeon', 'Orthopedic surgeon, Joint Replacement Surgeon', 'Cosmetic/Aesthetic Dentist, Dental Surgeon, Dentist', 'Ophthalmologist/ Eye Surgeon', 'Dentist, Orthodontist', 'Implantologist', 'TherapistCounselling Psychologist', 'Gynecologist, Obstetrician', 'Nephrologist/Renal Specialist', 'Orthodontist, Implantologist, Cosmetic/Aesthetic Dentist', 'Urologist, Andrologist', 'TherapistClinical Psychologist', 'Gynecologist, Obstetrician', 'Cardiologist', 'General Surgeon', 'Cardiologist, Interventional Cardiologist', 'Pediatrician', 'Dermatologist, Cosmetologist', 'Ophthalmologist/ Eye Surgeon', 'Gynecologist, Obstetrician', 'Gastroenterologist', 'TherapistDietitian/Nutritionist', 'GastroIntestinal Surgeon, General Surgeon', 'Gastroenterologist', 'Dentist, Cosmetic/Aesthetic Dentist, Implantologist', 'Dentist', 'Gynecologist, Obstetrician', 'Cardiologist', 'Cardiologist', 'Dentist, Cosmetic/Aesthetic Dentist', 'Dermatologist', 'Dermatologist, Hair Transplant Surgeon, Aesthetic Dermatologist, Cosmetologist', 'Neurosurgeon, Spine Surgeon (Neuro)', 'Dental Surgeon, Implantologist', 'Dentist', 'Cardiologist, Interventional Cardiologist, Consultant Physician', 'General Surgeon', 'Dentist, Orthodontist, Cosmetic/Aesthetic Dentist, Implantologist, Dental Surgeon, Dentofacial Orthopedist', 'Nephrologist/Renal Specialist', 'Cardiologist', 'General Surgeon', 'Gynecologist', 'Gynecologist, Obstetrician, Infertility Specialist', 'Orthopedic surgeon', 'Dentist, Pediatric Dentist, Dental Surgeon, Preventive Dentistry', 'Gynecologist, Obstetrician', 'General Surgeon', 'Cardiologist', 'TherapistSports and Musculoskeletal Physiotherapist', 'General Physician, Pediatrician', 'Medical Oncologist', 'Internal Medicine', 'Geneticist, Gynecologist, Obstetrician', 'General Surgeon', 'Obstetrician, Gynecologist', 'TherapistCounselling Psychologist, Sexologist', 'AYUSHHomoeopath', 'Psychiatrist, Geriatric Psychiatrist, Neuropsychiatrist, Addiction Psychiatrist', 'TherapistPhysiotherapist', 'TherapistClinical Psychologist', 'General Surgeon, Proctologist, Laparoscopic Surgeon', 'AYUSHHomoeopath', 'Orthopedic surgeon, Joint Replacement Surgeon, Spine Surgeon (Ortho), Spine And Pain Specialist', 'ENT/ Otorhinolaryngologist, Cosmetologist', 'Gynecologist', 'Cardiologist', 'Orthopedic surgeon, Joint Replacement Surgeon', 'Orthodontist, Dentist', 'AYUSHAyurveda, Dietitian/Nutritionist', 'General Physician', 'Gynecologist, Obstetrician, Infertility Specialist', 'Ophthalmologist/ Eye Surgeon', 'Neurologist', 'Pediatrician', 'Dentist, Dental Surgeon', 'Pediatrician', 'Internal Medicine', 'Ophthalmologist/ Eye Surgeon', 'Endodontist, Cosmetic/Aesthetic Dentist, Dental Surgeon, Restorative Dentist, Dentist', 'General Physician, Internal Medicine', 'Hematologist, Hematologic Oncologist, Pediatrician', 'Obstetrician', 'Special Interest in Surgical Oncology', 'Obstetrician, Gynecologist', 'Pulmonologist', 'AYUSHHomoeopath', 'Dentist, Endodontist, Cosmetic/Aesthetic Dentist', 'TherapistDietitian/Nutritionist', 'General Physician', 'Orthopedic surgeon', 'Psychiatrist, Addiction Psychiatrist, Neuropsychiatrist', 'Pediatrician', 'Laparoscopic Surgeon (Obs & Gyn), Obstetrician, Gynecologist', 'Dentist', 'General Surgeon', 'Dentist', 'General Surgeon', 'TherapistOrthopedic Physiotherapist', 'Pediatrician', 'Gynecologist, Obstetrician', 'Internal Medicine, General Physician', 'Nephrologist/Renal Specialist', 'Joint Replacement Surgeon, Orthopedic surgeon', 'Pediatric Dentist, Dentist, Dental Surgeon', 'Gynecologist, Obstetrician, Laparoscopic Surgeon (Obs & Gyn), Infertility Specialist', 'Surgical Oncologist', 'Hair Transplant Surgeon, Burn Surgeon', 'Dentist', 'General Physician', 'Urologist, Andrologist, Sexologist', 'Dermatologist', 'Dentist, Prosthodontist', 'Pediatrician, General Practitioner', 'Cardiologist', 'AYUSHAyurveda, Alternative Medicine, Sexologist', 'AYUSHHomoeopath', 'Joint Replacement Surgeon, Orthopedic surgeon, Spine Surgeon (Ortho)', 'Internal Medicine, General Physician', 'TherapistDietitian/Nutritionist', 'Dermatologist, Aesthetic Dermatologist, Cosmetologist, Dermatosurgeon, Hair Transplant Surgeon, Trichologist, Venereologist', 'TherapistClinical Psychologist', 'Pediatrician', 'Radiation Oncologist', 'Dentist, Cosmetic/Aesthetic Dentist', 'Orthopedic surgeon', 'Cardiothoracic and Vascular Surgeon', 'Pediatrician', 'TherapistGeriatric Physiotherapist', 'General Physician', 'Joint Replacement Surgeon, Orthopedic surgeon', 'General Surgeon', 'AYUSHUnani, Sexologist', 'Surgical Oncologist', 'Cardiologist', 'General Physician', 'Dentist', 'Dermatologist', 'Gynecologist, Infertility Specialist, Reproductive Endocrinologist (Infertility)', 'Dentist, Endodontist, Implantologist', 'Medical Oncologist', 'Dentist, Implantologist, Orthodontist', 'Ophthalmologist/ Eye Surgeon', 'Gynecologist, Obstetrician, Laparoscopic Surgeon (Obs & Gyn)', 'Gynecologist, Obstetrician, Infertility Specialist', 'Pediatrician', 'Gynecologist, Obstetrician', 'Gynecologist, Obstetrician', 'General Physician', 'Laparoscopic Surgeon, General Surgeon, Bariatric Surgeon, Gastroenterologist, Surgical Oncologist', 'Obstetrician, Gynecologist', 'Orthopedic surgeon', 'Neurosurgeon', 'Neurosurgeon, Spine Surgeon (Neuro)', 'ENT/ Otorhinolaryngologist', 'Nephrologist/Renal Specialist', 'Obstetrician, Gynecologist', 'General Surgeon, Laparoscopic Surgeon, Bariatric Surgeon', 'Gynecologist, Obstetrician', 'TherapistDietitian/Nutritionist', 'General Physician', 'Cardiologist', 'Veterinary Physician', 'Joint Replacement Surgeon, Orthopedic surgeon', 'Pediatrician', 'Surgical Oncologist', 'Dentist, Implantologist', 'Periodontist, Implantologist, Dentist', 'Ophthalmologist/ Eye Surgeon', 'ENT/ Otorhinolaryngologist', 'Gastroenterologist', 'Thoracic (Chest) Surgeon', 'Orthopedic surgeon', 'Urologist', 'Urologist, Andrologist, Urological Surgeon', 'General Surgeon', 'ENT/ Otorhinolaryngologist, Head and Neck Surgeon', 'Pediatrician', 'AYUSHHomoeopath', 'AYUSHPhysiotherapist, Osteopath', 'Psychiatrist', 'Pediatrician', 'General Physician, Family Physician', 'Medical Oncologist', 'General Surgeon, Laparoscopic Surgeon, Bariatric Surgeon', 'TherapistCounselling Psychologist, Psychotherapist', 'Neurologist', 'Pediatrician', 'Urologist, Urological Surgeon', 'Dentist', 'Dental Surgeon, Cosmetic/Aesthetic Dentist', 'TherapistDietitian/Nutritionist', 'Laparoscopic Surgeon, General Surgeon, General Practitioner', 'Gynecologist, Laparoscopic Surgeon (Obs & Gyn), Reproductive Endocrinologist (Infertility), Infertility Specialist, Obstetrician', 'Radiation Oncologist', 'Cosmetic/Aesthetic Dentist, Dentist, Dental Surgeon', 'General Surgeon, Laparoscopic Surgeon', 'General Surgeon', 'Ophthalmologist/ Eye Surgeon', 'General Surgeon', 'Dentist, Cosmetic/Aesthetic Dentist, Implantologist, Dental Surgeon', 'Orthopedic surgeon', 'Radiation Oncologist', 'TherapistCounselling Psychologist, Psychotherapist', 'Rheumatologist', 'Ophthalmologist/ Eye Surgeon', 'ENT/ Otorhinolaryngologist', 'Pediatrician, Anesthesiologist', 'Dentist, Dental Surgeon, Implantologist', 'Cardiologist', 'Periodontist, Dental Surgeon, Dentist', 'Internal Medicine', 'Rehab & Physical Medicine Specialist', 'AYUSHAyurveda, Alternative Medicine, Sexologist', 'TherapistPhysiotherapist, Orthopedic Physiotherapist, Geriatric Physiotherapist', 'Neurologist', 'General Physician, Internal Medicine', 'Internal Medicine', 'Pediatric Dentist, Implantologist, Cosmetic/Aesthetic Dentist', 'Internal Medicine, General Physician', 'Pediatrician, General Physician', 'ENT/ Otorhinolaryngologist', 'Interventional Cardiologist, Cardiologist', 'Implantologist, Prosthodontist, Cosmetic/Aesthetic Dentist', 'Orthodontist, Dentist', 'Radiologist', 'TherapistCounselling Psychologist, Clinical Psychologist', 'Dental Surgeon, Dentist', 'Pain Management Specialist, Spine And Pain Specialist', 'TherapistAudiologist, Speech Therapist', 'ENT/ Otorhinolaryngologist', 'ENT/ Otorhinolaryngologist, Head and Neck Surgeon', 'Aesthetic Dermatologist, Dermatologist, Dermatosurgeon', 'Pediatrician', 'Dentist, Prosthodontist', 'Prosthodontist, Implantologist, Dentist, Cosmetic/Aesthetic Dentist, Dental Surgeon', 'Joint Replacement Surgeon', 'Internal Medicine', 'General Physician, Internal Medicine', 'Internal Medicine', 'AYUSHHomoeopath', 'Orthopedic surgeon', 'Pediatrician', 'Cardiologist', 'Joint Replacement Surgeon, Orthopedic surgeon', 'Dentist, Implantologist, Cosmetic/Aesthetic Dentist', 'Gynecologist, Obstetrician, Infertility Specialist', 'TherapistPhysiotherapist', 'Spine And Pain Specialist, Spine Surgeon (Ortho)', 'Pediatrician', 'Pediatric Cardiologist', 'Dentist, Endodontist, Cosmetic/Aesthetic Dentist', 'Laparoscopic Surgeon (Obs & Gyn)', 'Dentist, Dental Surgeon', 'Urologist, General Surgeon', 'AYUSHHomoeopath', 'TherapistOccupational Therapist', 'ENT/ Otorhinolaryngologist', 'Plastic Surgeon, Cosmetologist', 'Radiation Oncologist', 'Obstetrician, Gynecologist, Laparoscopic Surgeon (Obs & Gyn)', 'Medical Oncologist', 'Pediatric Hematologic-Oncologist', 'Ophthalmologist/ Eye Surgeon', 'ENT/ Otorhinolaryngologist', 'General Physician', 'Dentist, Pediatric Dentist', 'Gastroenterologist, Pediatrician', 'General Physician', 'Internal Medicine, General Physician', 'Pediatrician', 'Dentist', 'Internal Medicine, Consultant Physician', 'Laparoscopic Surgeon, General Surgeon', 'Dermatologist, Cosmetologist', 'Orthopedic surgeon, Joint Replacement Surgeon', 'Endodontist, Dentist', 'General Surgeon, Bariatric Surgeon, Laparoscopic Surgeon', 'Plastic Surgeon, Plastic Reconstruction Surgeon, Hair Transplant Surgeon', 'Gynecologist, Obstetrician', 'General Surgeon, Laparoscopic Surgeon', 'General Physician', 'Psychiatrist, Addiction Psychiatrist, Geriatric Psychiatrist, Neuropsychiatrist', 'Cardiologist', 'Plastic Surgeon', 'TherapistDietitian/Nutritionist', 'Pediatric Surgeon', 'Orthopedic surgeon, Joint Replacement Surgeon', 'General Surgeon', 'Pediatrician', 'ENT/ Otorhinolaryngologist', 'TherapistClinical Psychologist, Counselling Psychologist, Psychologist', 'Laparoscopic Surgeon (Obs & Gyn), Gynecologist, Obstetrician', 'Pulmonologist', 'Pediatrician', 'Orthopedic surgeon', 'Pediatric Cardiologist', 'Internal Medicine, General Physician', 'Oral And MaxilloFacial Surgeon, Dental Surgeon', 'TherapistClinical Psychologist', 'Ophthalmologist/ Eye Surgeon', 'Gynecologist, Obstetrician, Infertility Specialist', 'Orthopedic surgeon', 'Hair Transplant Surgeon', 'Gynecologist, Obstetrician, Laparoscopic Surgeon (Obs & Gyn)', 'TherapistDietitian/Nutritionist, Clinical Nutritionist', 'Obstetrician, Gynecologist, Infertility Specialist', 'Pediatrician', 'Pediatrician', 'Pediatrician', 'Spine Surgeon (Ortho), Orthopedic surgeon', 'Obstetrician, Infertility Specialist', 'Tuberculous and chest Diseases Specialist, Pulmonologist', 'AYUSHAyurveda, Alternative Medicine, Sexologist', 'Dermatologist, Cosmetologist, Hair Transplant Surgeon', 'Dentist, Dental Surgeon', 'Internal Medicine', 'Cardiologist', 'AYUSHHomoeopath', 'Nephrologist/Renal Specialist, Internal Medicine, Consultant Physician', 'Dentist, Cosmetic/Aesthetic Dentist', 'General Surgeon, Cardiothoracic Surgeon', 'Pediatrician', 'TherapistDietitian/Nutritionist', 'Ultrasonologist, Interventional Radiologist', 'Pediatrician', 'Orthopedic surgeon, Joint Replacement Surgeon', 'Neurologist', 'Ophthalmologist/ Eye Surgeon', 'Plastic Surgeon', 'Dentist, Oral And MaxilloFacial Surgeon', 'Internal Medicine', 'Ophthalmologist/ Eye Surgeon', 'Ophthalmologist/ Eye Surgeon', 'Ophthalmologist/ Eye Surgeon', 'Medical Oncologist', 'Bariatric Surgeon', 'Ophthalmologist/ Eye Surgeon', 'Urologist', 'Dentist, Periodontist', 'Dental Surgeon, Implantologist', 'Dermatologist, Hair Transplant Surgeon', 'Ophthalmologist/ Eye Surgeon', 'Orthopedic surgeon, Joint Replacement Surgeon, Spine And Pain Specialist, Spine Surgeon (Ortho)', 'General Physician, Internal Medicine, Endocrinologist', 'Implantologist, Oral And MaxilloFacial Surgeon', 'General Physician', 'Neurosurgeon, Neurologist, Spine Surgeon (Neuro), Spine And Pain Specialist', 'General Surgeon', 'Orthodontist, Dentist', 'Pain Management Specialist, Spine And Pain Specialist', 'Dermatologist, Hair Transplant Surgeon', 'Surgical Oncologist', 'Gynecologic Oncologist', 'Cardiologist', 'Implantologist, Cosmetic/Aesthetic Dentist', 'Gynecologist, Obstetrician, Infertility Specialist', 'Gynecologist', 'Dermatologist, Cosmetologist', 'Pediatrician', 'Dentist, Periodontist', 'Prosthodontist, Implantologist', 'Gynecologist, Laparoscopic Surgeon (Obs & Gyn), Obstetrician, Infertility Specialist', 'General Surgeon, General Physician', 'TherapistOccupational Therapist, Pediatric OT, Occupational/Ergo Medicine Therapist', 'Dentist, Dental Surgeon, Cosmetic/Aesthetic Dentist', 'Clinical Biochemistry Specialist, General Physician', 'GastroIntestinal Surgeon', 'Urologist', 'Cardiothoracic and Vascular Surgeon', 'Orthodontist, Dentist, Dental Surgeon', 'Ophthalmologist/ Eye Surgeon', 'Dentist, Prosthodontist, Implantologist', 'Gynecologist, Obstetrician', 'General Surgeon', 'Radiation Oncologist', 'Cardiologist', 'Rheumatologist, Clinical Immunologist', 'Pediatrician', 'Dentist, Dental Surgeon, Cosmetic/Aesthetic Dentist', 'AYUSHAyurveda, Ayurvedic General Medicine', 'Laparoscopic Surgeon (Obs & Gyn), Reproductive Endocrinologist (Infertility), Gynecologist, Obstetrician', 'Dermatologist, Trichologist, Venereologist, Pediatric Dermatologist', 'General Surgeon, Bariatric Surgeon, Laparoscopic Surgeon', 'Gynecologist, Obstetrician', 'ENT/ Otorhinolaryngologist, Pediatric Otorhinolaryngologist', 'Pediatrician', 'Obstetrician, Gynecologist', 'Internal Medicine, General Physician', 'Psychiatrist', 'TherapistPsychotherapist', 'Dermatologist, Venereologist, Trichologist, Hair Transplant Surgeon, Cosmetologist, Dermatosurgeon, Pediatric Dermatologist', 'Plastic Surgeon', 'TherapistPhysiotherapist, Sports and Musculoskeletal Physiotherapist', 'Dentist, Endodontist, Restorative Dentist', 'Internal Medicine', 'Counselling Psychologist, General Physician', 'Neonatologist, Pediatrician', 'Orthodontist, Dentist, Cosmetic/Aesthetic Dentist, Dental Surgeon', 'General Physician, Dietitian/Nutritionist', 'Neurologist', 'Internal Medicine', 'Neurologist', 'Orthodontist, Dentofacial Orthopedist, Cosmetic/Aesthetic Dentist, Dental Surgeon', 'Obstetrician, Gynecologist, Infertility Specialist', 'Ophthalmologist/ Eye Surgeon', 'Medical Oncologist', 'Internal Medicine, General Physician', 'Cardiac Surgeon', 'Laparoscopic Surgeon, Special Interest in Surgical Oncology', 'Dermatologist, Trichologist', 'Endocrinologist', 'Dental Surgeon, Implantologist', 'Psychiatrist, Geriatric Psychiatrist, Addiction Psychiatrist', 'General Physician', 'General Physician', 'Gynecologist, Obstetrician', 'Orthopedic surgeon', 'Dental Surgeon, Periodontist', 'Plastic Surgeon', 'Neurologist', 'TherapistPhysiotherapist', 'Ophthalmologist/ Eye Surgeon', 'Medical Oncologist', 'AYUSHHomoeopath', 'Pediatrician', 'Pediatrician', 'Neurosurgeon', 'Dermatologist', 'Dermatologist, Aesthetic Dermatologist, Hair Transplant Surgeon', 'Dentist', 'Obstetrician, Gynecologist', 'Pediatrician', 'Cardiologist', 'Ophthalmologist/ Eye Surgeon', 'Cardiologist', 'Gastroenterologist', 'Dentist, Pediatric Dentist, Cosmetic/Aesthetic Dentist', 'Pediatrician', 'TherapistPhysiotherapist', 'Dentist, Endodontist, Implantologist', 'Gynecologist, Obstetrician', 'Cardiologist', 'Orthopedic surgeon', 'Pulmonologist', 'Pediatrician', 'Neurosurgeon', 'Psychiatrist, Addiction Psychiatrist, Neuropsychiatrist', 'Spine And Pain Specialist, Orthopedic surgeon, Joint Replacement Surgeon, Spine Surgeon (Ortho)', 'Prosthodontist, Cosmetic/Aesthetic Dentist, Implantologist, Dentist', 'Psychiatrist, Addiction Psychiatrist, Geriatric Psychiatrist', 'Pulmonologist', 'TherapistClinical Psychologist', 'Ophthalmologist/ Eye Surgeon', 'Orthopedic surgeon, Spine And Pain Specialist', 'General Physician', 'TherapistCounselling Psychologist, Psychotherapist', 'Neonatologist, Pediatrician', 'AYUSHHomoeopath', 'TherapistPhysiotherapist', 'Rheumatologist', 'TherapistClinical Nutritionist', 'Nephrologist/Renal Specialist, Internal Medicine, General Physician', 'AYUSHSexologist, Ayurveda, Alternative Medicine', 'Endocrinologist', 'Aesthetic Dermatologist, Dermatologist', 'Orthopedic surgeon', 'General Surgeon, Laparoscopic Surgeon, Proctologist', 'Dermatologist', 'Gynecologist, Infertility Specialist, Laparoscopic Surgeon (Obs & Gyn)', 'Bariatric Surgeon, Laparoscopic Surgeon', 'Dentist, Dental Surgeon', 'Paediatric Intensivist, Pediatrician', 'General Practitioner', 'Ophthalmologist/ Eye Surgeon', 'Dentist, Cosmetic/Aesthetic Dentist, Cosmetologist', 'General Physician', 'Urologist', 'Pulmonologist, Tuberculous and chest Diseases Specialist', 'Pediatric Surgeon', 'General Surgeon', 'Veterinary Physician', 'Vascular Surgeon, Diabetic Foot Surgeon', 'General Surgeon', 'Nephrologist/Renal Specialist', 'General Surgeon', 'Ophthalmologist/ Eye Surgeon', 'Obstetrician, Gynecologist, Laparoscopic Surgeon (Obs & Gyn)', 'Neurosurgeon, Clinical Psychologist, Spine And Pain Specialist', 'Laparoscopic Surgeon, GastroIntestinal Surgeon', 'Ophthalmologist/ Eye Surgeon', 'Neurologist', 'Internal Medicine, General Physician', 'Orthodontist, Dentofacial Orthopedist', 'Gynecologist', 'Hepatologist', 'Dermatologist, Hair Transplant Surgeon, Cosmetologist', 'Psychiatrist', 'Joint Replacement Surgeon', 'TherapistCounselling Psychologist, Psychotherapist', 'Neurologist', 'General Physician', 'Cardiologist', 'Plastic Surgeon, Cosmetologist, Hair Transplant Surgeon', 'Gynecologist, Obstetrician, Laparoscopic Surgeon (Obs & Gyn)', 'General Surgeon', 'General Physician', 'Gynecologist', 'Orthopedic surgeon', 'ENT/ Otorhinolaryngologist', 'Dermatologist, Venereologist, Cosmetologist', 'AYUSHHomoeopath', 'Gynecologist, Obstetrician', 'General Surgeon', 'Ophthalmologist/ Eye Surgeon', 'Ophthalmologist/ Eye Surgeon', 'Obstetrician', 'General Physician', 'Gynecologist, Obstetrician, Infertility Specialist', 'Orthopedic surgeon, Joint Replacement Surgeon', 'General Physician, Internal Medicine', 'Joint Replacement Surgeon, Orthopedic surgeon', 'Dermatologist, Dermatosurgeon, Aesthetic Dermatologist', 'ENT/ Otorhinolaryngologist, Otologist/ Neurotologist, Pediatric Otorhinolaryngologist', 'Medical Oncologist', 'Laparoscopic Surgeon, Bariatric Surgeon, General Surgeon', 'Pediatrician', 'Obstetrician, Gynecologist', 'Neurosurgeon, Spine Surgeon (Neuro)', 'Orthopedic surgeon', 'Pediatrician', 'Dentist, Implantologist', 'Gastroenterologist', 'Cosmetic/Aesthetic Dentist, Dentist, Implantologist', 'Cardiologist', 'Gynecologist, Obstetrician', 'Pediatrician', 'Gastroenterologist', 'Implantologist, Orthodontist, Dentist', 'Pediatric Dentist, Dentist, Implantologist', 'Aesthetic Dermatologist, Dermatologist', 'General Physician, Internal Medicine', 'Gynecologist', 'Dentist, Dental Surgeon', 'General Physician', 'Ophthalmologist/ Eye Surgeon', 'TherapistPsychologist', 'Orthopedic surgeon, Joint Replacement Surgeon', 'TherapistPsychotherapist, Counselling Psychologist', 'General Surgeon', 'Dentist, Prosthodontist, Implantologist', 'GastroIntestinal Surgeon', 'AYUSHHomoeopath', 'ENT/ Otorhinolaryngologist', 'AYUSHHomoeopath', 'Gastroenterologist', 'Dermatologist, Pediatric Dermatologist, Dermatosurgeon, Venereologist, Trichologist, Aesthetic Dermatologist', 'Obstetrician, Gynecologist, Infertility Specialist', 'Pediatric Dentist, Dentist, Dental Surgeon, Cosmetic/Aesthetic Dentist', 'Cardiologist', 'Thoracic (Chest) Surgeon', 'General Physician', 'Gynecologist', 'Pediatrician', 'Cardiac Surgeon', 'Dental Surgeon', 'Laparoscopic Surgeon, General Surgeon', 'TherapistPhysiotherapist, Geriatric Physiotherapist', 'TherapistCounselling Psychologist, Psychotherapist', 'Infertility Specialist, Laparoscopic Surgeon (Obs & Gyn), Gynecologist', 'Gynecologist, Obstetrician', 'ENT/ Otorhinolaryngologist', 'Dentist', 'Gynecologist, Obstetrician', 'Dentist, Dental Surgeon, Cosmetic/Aesthetic Dentist', 'Pulmonologist', 'Dermatologist, Cosmetologist, Dermatosurgeon', 'ENT/ Otorhinolaryngologist', 'Psychiatrist, Addiction Psychiatrist, Psychotherapist, Neuropsychiatrist', 'Dermatologist, Aesthetic Dermatologist, Dermatosurgeon', 'General Surgeon', 'Pediatric Dentist, Preventive Dentistry, Cosmetic/Aesthetic Dentist, Dentist', 'Cardiologist', 'AYUSHAyurveda', 'General Physician, Internal Medicine', 'General Physician', 'Cardiologist, Interventional Cardiologist', 'Hematologist', 'Pediatrician', 'General Surgeon', 'Head and Neck Surgeon', 'Obstetrician, Gynecologist', 'General Surgeon, Laparoscopic Surgeon', 'Dentist, Oral And MaxilloFacial Surgeon', 'Pulmonologist', 'Neurosurgeon', 'Pediatric Neurologist', 'AYUSHHomoeopath', 'TherapistPhysiotherapist, Neuro Physiotherapist', 'Gynecologist', 'Dentist, Endodontist, Dental Surgeon, Cosmetic/Aesthetic Dentist', 'Orthopedic surgeon', 'Radiation Oncologist', 'Pulmonologist, General Physician', 'Orthopedic surgeon, Joint Replacement Surgeon', 'AYUSHAyurveda, Alternative Medicine', 'Gynecologist, Obstetrician, Infertility Specialist', 'General Surgeon, Bariatric Surgeon, Laparoscopic Surgeon, Proctologist', 'General Physician', 'General Surgeon', 'ENT/ Otorhinolaryngologist', 'General Surgeon', 'Orthopedic surgeon', 'Urologist, Urological Surgeon', 'Infertility Specialist, Gynecologist, Obstetrician', 'Gastroenterologist', 'Gynecologist, Obstetrician', 'Dermatologist, Dermatosurgeon, Aesthetic Dermatologist', 'Pediatrician', 'ENT/ Otorhinolaryngologist', 'Orthopedic surgeon', 'Orthopedic surgeon', 'Pediatrician', 'Cardiologist', 'TherapistCounselling Psychologist', 'Ophthalmologist/ Eye Surgeon', 'AYUSHAyurveda, Alternative Medicine', 'General Physician, General Practitioner, Critical Care Medicine', 'Pain Management Specialist, Anesthesiologist', 'Interventional Cardiologist, Cardiologist, Internal Medicine', 'Orthopedic surgeon, Joint Replacement Surgeon', 'Gynecologist, Obstetrician', 'Neurologist', 'Pediatric Dentist, Preventive Dentistry', 'Gynecologist, Laparoscopic Surgeon (Obs & Gyn), Obstetrician, Infertility Specialist', 'Medical Oncologist, Hematologic Oncologist', 'Ophthalmologist/ Eye Surgeon', 'Consultant Physician, Internal Medicine, General Physician', 'Oral Medicine and Radiology, Dentist', 'Gynecologist, Obstetrician, Infertility Specialist', 'Ophthalmologist/ Eye Surgeon', 'Orthodontist, Implantologist', 'Psychiatrist', 'Dental Surgeon, Pediatric Dentist', 'Medical Oncologist', 'Urologist', 'TherapistPhysiotherapist', 'TherapistPhysiotherapist', 'ENT/ Otorhinolaryngologist, Pediatric Otorhinolaryngologist', 'General Physician', 'Diabetologist, General Physician', 'Laparoscopic Surgeon (Obs & Gyn), Infertility Specialist, Gynecologist, Obstetrician', 'TherapistCosmetologist', 'ENT/ Otorhinolaryngologist', 'General Surgeon', 'Gynecologist, Infertility Specialist', 'Vascular Surgeon', 'Endodontist, Cosmetic/Aesthetic Dentist, Dental Surgeon', 'Gynecologist', 'Orthodontist, Cosmetic/Aesthetic Dentist', 'TherapistDietitian/Nutritionist', 'Pediatrician', 'Pediatrician, Special Interest in Pediatric Endocrinology', 'Plastic Surgeon', 'Orthopedic surgeon, Joint Replacement Surgeon, Spine Surgeon (Ortho), Spine And Pain Specialist', 'Prosthodontist, Implantologist', 'Neurologist', 'Dermatologist, Dermatosurgeon, Pediatric Dermatologist', 'Gastroenterologist', 'Spine Surgeon (Neuro), Spine And Pain Specialist, Neurosurgeon', 'General Surgeon, Laparoscopic Surgeon, Bariatric Surgeon', 'Dermatologist, Cosmetologist', 'TherapistOccupational Therapist', 'Gynecologist, Obstetrician', 'TherapistPhysiotherapist', 'General Surgeon', 'AYUSHHomoeopath', 'ENT/ Otorhinolaryngologist', 'Orthodontist', 'Neurosurgeon, Spine And Pain Specialist, Spine Surgeon (Neuro)', 'General Physician, Sexologist, Dermatologist, General Practitioner', 'Joint Replacement Surgeon, Spine Surgeon (Ortho)', 'Gynecologist, Obstetrician, Infertility Specialist', 'Dentist, Cosmetic/Aesthetic Dentist, Dental Surgeon', 'Internal Medicine, General Physician', 'Dental Surgeon, Dentist', 'Ophthalmologist/ Eye Surgeon', 'Pediatrician, Neonatologist', 'Dentist, Orthodontist, Dentofacial Orthopedist, Dental Surgeon', 'General Physician', 'Gynecologist', 'Cosmetic/Aesthetic Dentist, Implantologist', 'Orthopedic surgeon', 'ENT/ Otorhinolaryngologist', 'AYUSHHomoeopath', 'Psychiatrist, Neuropsychiatrist', 'Dentist, Orthodontist', 'Dermatologist, Trichologist, Dermatosurgeon', 'Cardiologist', 'TherapistOrthopedic Physiotherapist', 'Obstetrician, Gynecologist', 'General Surgeon', 'Radiation Oncologist', 'Cosmetic/Aesthetic Dentist', 'Psychiatrist', 'Laparoscopic Surgeon, General Surgeon, Bariatric Surgeon', 'Dentist', 'General Physician, Internal Medicine', 'TherapistSports Nutritionist', 'AYUSHHomoeopath, Psychotherapist', 'Obstetrician, Gynecologist', 'Dentist', 'Dermatologist, Cosmetologist, Trichologist, Aesthetic Dermatologist, Dermatosurgeon, Pediatric Dermatologist, Hair Transplant Surgeon', 'Gynecologist, Obstetrician, Infertility Specialist', 'TherapistPsychotherapist, Counselling Psychologist', 'Dentist', 'TherapistPhysiotherapist, Geriatric Physiotherapist', 'Dentist', 'Dentist', 'Pulmonologist', 'TherapistAudiologist, Speech Therapist', 'Gynecologist, Obstetrician', 'General Physician', 'Gynecologist, Obstetrician', 'Internal Medicine, General Physician', 'Pediatric Dentist, Dentist', 'AYUSHHomoeopath', 'Neurosurgeon', 'Orthopedic surgeon', 'Neurosurgeon', 'Psychiatrist, Sexologist, Geriatric Psychiatrist, Psychotherapist, Addiction Psychiatrist', 'Endodontist, Dentist', 'TherapistPhysiotherapist', 'Nephrologist/Renal Specialist', 'Dermatologist, Hair Transplant Surgeon, Cosmetologist', 'Orthopedic surgeon', 'Pediatric Surgeon', 'AYUSHAyurveda', 'Cosmetic/Aesthetic Dentist, Dental Surgeon', 'Gynecologist, Obstetrician', 'Plastic Surgeon, Burn Surgeon', 'Pediatrician', 'Sexologist, Venereologist, HIV Specialist', 'Urologist', 'AYUSHYoga and Naturopathy', 'Pediatrician', 'Obstetrician, Gynecologist', 'Dentist, Implantologist, Dental Surgeon', 'AYUSHHomoeopath, Sexologist, Sexologist (Homeopathy)', 'ENT/ Otorhinolaryngologist', 'AYUSHHomoeopath', 'Dentist, Prosthodontist, Implantologist', 'Dentist, Dental Surgeon, Cosmetic/Aesthetic Dentist', 'Obstetrician, Gynecologist', 'General Surgeon', 'Dentist, Cosmetic/Aesthetic Dentist', 'Pediatrician', 'Dermatologist, Cosmetologist, Trichologist, Aesthetic Dermatologist, Dermatosurgeon, Pediatric Dermatologist', 'Prosthodontist, Implantologist, Cosmetic/Aesthetic Dentist', 'AYUSHAyurveda', 'General Physician', 'TherapistCosmetologist', 'Bariatric Surgeon, General Surgeon', 'AYUSHHomoeopath, Sexologist', 'General Surgeon, Proctologist, Laparoscopic Surgeon', 'Gynecologist', 'General Physician', 'Dermatologist, Trichologist, Aesthetic Dermatologist', 'Gynecologist, Obstetrician, Infertility Specialist', 'Dentist', 'GastroIntestinal Surgeon, Gastroenterologist, Laparoscopic Surgeon', 'Periodontist, Cosmetic/Aesthetic Dentist, Implantologist', 'AYUSHAyurveda', 'Orthopedic surgeon', 'Periodontist, Implantologist, Cosmetic/Aesthetic Dentist, Dental Surgeon, Dentist', 'Special Interest in Surgical Oncology', 'Ophthalmologist/ Eye Surgeon', 'Orthopedic surgeon, Spine Surgeon (Ortho), Joint Replacement Surgeon', 'Dentist, Endodontist, Dental Surgeon', 'Ophthalmologist/ Eye Surgeon', 'TherapistPhysiotherapist', 'AYUSHPhysiotherapist, Osteopath', 'Cosmetic/Aesthetic Dentist, Implantologist', 'Gynecologist, Sexologist, Obstetrician, Infertility Specialist', 'Urologist', 'Obstetrician, Infertility Specialist, Gynecologist, Laparoscopic Surgeon (Obs & Gyn)', 'Dermatologist, Cosmetologist, Venereologist, Trichologist, Hair Transplant Surgeon', 'Dentist, Orthodontist', 'Periodontist, Implantologist, Dentist', 'Obstetrician, Gynecologist', 'Hematologist, Hematologic Oncologist', 'Nephrologist/Renal Specialist', 'Ophthalmologist/ Eye Surgeon', 'General Surgeon, Laparoscopic Surgeon, Proctologist', 'Infertility Specialist, Gynecologist', 'Cardiologist, Interventional Cardiologist', 'ENT/ Otorhinolaryngologist', 'TherapistSports and Musculoskeletal Physiotherapist', 'Urologist, Urological Surgeon, Andrologist', 'Dentofacial Orthopedist, Orthodontist, Dentist', 'AYUSHHomoeopath', 'Dermatologist, Trichologist, Cosmetologist', 'Orthopedic surgeon, Spine Surgeon (Ortho)', 'Cardiologist', 'Gynecologist', 'TherapistCounselling Psychologist', 'TherapistOccupational Therapist, Pediatric OT, Occupational/Ergo Medicine Therapist', 'Dentist', 'General Physician, General Practitioner', 'Pediatrician, Neonatologist', 'Gynecologist, Obstetrician', 'Gynecologist', 'Gynecologist, Obstetrician', 'Interventional Radiologist', 'Laparoscopic Surgeon, General Surgeon, Bariatric Surgeon', 'Joint Replacement Surgeon, Orthopedic surgeon', 'Infertility Specialist', 'Cardiologist, Interventional Cardiologist', 'AYUSHAyurvedic Pharmacologist, Sexologist (Ayurveda), Ayurveda', 'Dentist', 'Prosthodontist', 'Pediatrician', 'AYUSHHomoeopath', 'Ophthalmologist/ Eye Surgeon', 'Pediatric Dentist', 'Prosthodontist, Implantologist, Dentist', 'Dentist, Endodontist', 'AYUSHAyurveda, Sexologist', 'Infertility Specialist, Laparoscopic Surgeon (Obs & Gyn), Obstetrician', 'Cosmetic/Aesthetic Dentist, Dental Surgeon', 'Urological Surgeon, Urologist, General Surgeon', 'TherapistPhysiotherapist', 'Gynecologist', 'Dentist, Cosmetic/Aesthetic Dentist', 'Neurologist', 'Pediatric Dentist, Preventive Dentistry, Dentist', 'General Physician', 'Laparoscopic Surgeon, General Surgeon', 'General Surgeon, Plastic Surgeon', 'AYUSHAyurveda', 'Orthopedic surgeon, Joint Replacement Surgeon, Spine And Pain Specialist', 'Implantologist', 'Gynecologist, Infertility Specialist, Laparoscopic Surgeon (Obs & Gyn), Obstetrician', 'Plastic Reconstruction Surgeon', 'Neurologist', 'General Physician', 'Pediatric Surgeon', 'General Physician', 'Spine And Pain Specialist, Pain Management Specialist', 'ENT/ Otorhinolaryngologist, Otologist/ Neurotologist', 'Orthopedic surgeon, Joint Replacement Surgeon, Spine Surgeon (Ortho)', 'Dentist, Cosmetic/Aesthetic Dentist', 'Internal Medicine', 'Radiation Oncologist', 'Ophthalmologist/ Eye Surgeon', 'Gynecologist, Infertility Specialist, Obstetrician', 'Dentist', 'Pediatrician', 'Psychiatrist, Psychotherapist, Psychologist', 'AYUSHHomoeopath', 'General Surgeon', 'Dentist, Periodontist, Implantologist', 'Gastroenterologist', 'Plastic Surgeon, Diabetic Foot Surgeon', 'ENT/ Otorhinolaryngologist, Head and Neck Surgeon', 'Dentist, Dental Surgeon', 'Dermatologist, Hair Transplant Surgeon, Cosmetologist, Pediatric Dermatologist, Trichologist, Dermatosurgeon', 'Obstetrician, Gynecologist, Infertility Specialist', 'Psychiatrist, Neuropsychiatrist', 'Dentist', 'Dentist', 'Dentist', 'TherapistPhysiotherapist', 'Prosthodontist, Dentist, Implantologist, Cosmetic/Aesthetic Dentist', 'TherapistPsychotherapist, Counselling Psychologist', 'TherapistHypnotherapist', 'Orthodontist, Cosmetic/Aesthetic Dentist', 'Dermatologist, Aesthetic Dermatologist, Dermatosurgeon, Cosmetologist, Trichologist', 'Nephrologist/Renal Specialist', 'ENT/ Otorhinolaryngologist', 'Dentist, Cosmetic/Aesthetic Dentist', 'Nephrologist/Renal Specialist', 'Dermatologist', 'Dentofacial Orthopedist, Orthodontist', 'Dermatologist, Cosmetologist, Dermatosurgeon', 'Dentist', 'TherapistCounselling Psychologist', 'Endodontist, Restorative Dentist, Dental Surgeon', 'AYUSHHomoeopath', 'General Physician', 'Ophthalmologist/ Eye Surgeon', 'Psychiatrist, Psychotherapist', 'TherapistDietitian/Nutritionist', 'General Physician, Special Interest in Diabetology', 'Dentist, Dental Surgeon', 'Dentist', 'Dental Surgeon, Dentist', 'General Physician', 'Neurologist', 'General Physician, General Practitioner', 'Ophthalmologist/ Eye Surgeon', 'General Surgeon', 'Cosmetic/Aesthetic Dentist, Dental Surgeon', 'Oral And MaxilloFacial Surgeon', 'Pediatrician', 'Gastroenterologist', 'Psychiatrist', 'Psychiatrist', 'Dentist', 'TherapistPhysiotherapist', 'ENT/ Otorhinolaryngologist', 'Dentist', 'TherapistCounselling Psychologist, Psychotherapist', 'Dentist, Prosthodontist, Implantologist', 'General Physician', 'TherapistCounselling Psychologist, Psychotherapist', 'AYUSHHomoeopath', 'Implantologist, Dentist', 'Dentist, Cosmetic/Aesthetic Dentist, Dental Surgeon', 'Dentist', 'TherapistPhysiotherapist', 'AYUSHHomoeopath', 'TherapistCounselling Psychologist', 'Dentist, Dental Surgeon, Prosthodontist, Implantologist', 'Ophthalmologist/ Eye Surgeon', 'Dentist', 'AYUSHHomoeopath', 'Dentist', 'Orthopedic surgeon', 'TherapistCounselling Psychologist, Psychotherapist', 'Dentist, Endodontist, Dental Surgeon, Implantologist', 'Dentist', 'Implantologist, Dental Surgeon, Cosmetic/Aesthetic Dentist', 'Surgical Oncologist', 'Dentist', 'AYUSHHomoeopath', 'Plastic Surgeon, Burn Surgeon', 'Pediatrician', 'General Physician', 'AYUSHAyurveda', 'AYUSHHomoeopath', 'Spine Surgeon (Ortho), Orthopedic surgeon, Joint Replacement Surgeon, Spine And Pain Specialist', 'Dentist, Implantologist, Dental Surgeon', 'Dermatologist, Cosmetologist, Hair Transplant Surgeon', 'Neurosurgeon, Neurologist', 'Dermatologist, Cosmetologist, Trichologist, Hair Transplant Surgeon', 'TherapistDietitian/Nutritionist', 'TherapistDietitian/Nutritionist', 'Consultant Physician, Internal Medicine', 'Prosthodontist, Implantologist, Cosmetic/Aesthetic Dentist', 'Cosmetic/Aesthetic Dentist, Dentist', 'Laparoscopic Surgeon', 'ENT/ Otorhinolaryngologist, Head and Neck Surgeon, Pediatric Otorhinolaryngologist', 'Cosmetic/Aesthetic Dentist', 'Orthopedic surgeon, Spine Surgeon (Ortho), Joint Replacement Surgeon', 'Dermatologist, Aesthetic Dermatologist, Trichologist', 'Joint Replacement Surgeon', 'Dentist', 'AYUSHHomoeopath', 'AYUSHAyurveda', 'Neurologist', 'Diabetic Foot Surgeon, Podiatrist, General Surgeon', 'Ophthalmologist/ Eye Surgeon', 'Cardiologist', 'Dentist, Cosmetic/Aesthetic Dentist, Implantologist', 'AYUSHHomoeopath, Cosmetologist', 'Oral And MaxilloFacial Surgeon', 'AYUSHHomoeopath', 'Ophthalmologist/ Eye Surgeon', 'Pediatrician', 'Implantologist, Cosmetic/Aesthetic Dentist', 'General Physician', 'Dentist, Dental Surgeon', 'Orthodontist, Dentist', 'TherapistPhysiotherapist', 'ENT/ Otorhinolaryngologist', 'Orthodontist, Dentist, Dentofacial Orthopedist', 'TherapistPhysiotherapist', 'Dentist', 'Dermatologist', 'Dermatologist, Cosmetologist', 'Dentist', 'TherapistPhysiotherapist', 'ENT/ Otorhinolaryngologist', 'Bariatric Surgeon, Laparoscopic Surgeon, General Surgeon, Proctologist', 'Endocrinologist, Diabetologist', 'Dermatologist, Cosmetologist, Aesthetic Dermatologist', 'General Physician', 'Dentist, Dental Surgeon, Cosmetic/Aesthetic Dentist', 'Spine And Pain Specialist, Pain Management Specialist', 'Pediatrician', 'TherapistPhysiotherapist', 'Pediatric Dentist, Dentist, Preventive Dentistry', 'General Physician', 'TherapistAudiologist, Speech Therapist', 'Dentist, Cosmetic/Aesthetic Dentist', 'TherapistPhysiotherapist', 'Plastic Surgeon', 'Psychiatrist', 'Hair Transplant Surgeon, Dermatologist, Trichologist, Cosmetologist', 'Dentist', 'Dermatologist, Trichologist, Dermatosurgeon, Cosmetologist, Immunodermatologist', 'Psychiatrist', 'General Physician, Family Physician', 'General Physician', 'TherapistPhysiotherapist, Orthopedic Physiotherapist', 'Dentist', 'Gastroenterologist', 'Urologist, General Physician', 'Ophthalmologist/ Eye Surgeon', 'Interventional Radiologist', 'Gynecologist, Infertility Specialist, Obstetrician', 'TherapistPsychologist, Hypnotherapist, Counselling Psychologist', 'Family Physician', 'Dentist, Cosmetic/Aesthetic Dentist, Implantologist, Dental Surgeon', 'Psychiatrist, Psychotherapist, Addiction Psychiatrist, Neuropsychiatrist', 'TherapistPhysiotherapist', 'Gastroenterologist', 'Gynecologist, Urogynecologist', 'TherapistAcupuncturist', 'Dentist, Orthodontist, Dentofacial Orthopedist, Dentist', 'Dental Surgeon, Prosthodontist, Implantologist', 'General Surgeon, Laparoscopic Surgeon', 'Dermatologist', 'Dentist, Cosmetic/Aesthetic Dentist, Periodontist, Dental Surgeon, Implantologist', 'Radiation Oncologist', 'Orthopedic surgeon', 'TherapistSexologist', 'Gynecologic Oncologist', 'Dental Surgeon, Dentist, Cosmetic/Aesthetic Dentist', 'Pediatrician', 'Pediatrician', 'Obstetrician, Infertility Specialist, Gynecologist', 'Prosthodontist, Dentist, Implantologist, Cosmetic/Aesthetic Dentist', 'Gynecologist, Obstetrician, Infertility Specialist, Laparoscopic Surgeon (Obs & Gyn)', 'Spine And Pain Specialist, Spine Surgeon (Ortho), Orthopedic surgeon', 'TherapistPhysiotherapist', 'Dentist, Oral And MaxilloFacial Surgeon', 'General Surgeon, Laparoscopic Surgeon', 'Gynecologist, Obstetrician', 'Pulmonologist, General Physician', 'Endodontist', 'TherapistCosmetologist', 'Dentist, Cosmetic/Aesthetic Dentist', 'Endodontist, Restorative Dentist, Dentist', 'AYUSHAyurveda', 'Oral Pathologist, Dental Surgeon', 'Pediatrician', 'Medical Oncologist, Hematologic Oncologist', 'Sexologist, Clinical Psychologist, Psychiatrist', 'TherapistDietitian/Nutritionist', 'Dentist, Orthodontist, Dentofacial Orthopedist', 'Dentist, Dental Surgeon, Orthodontist', 'General Physician, Special Interest in Diabetology', 'Orthopedic surgeon', 'TherapistPhysiotherapist', 'Interventional Radiologist', 'Dentist, Orthodontist', 'TherapistPhysiotherapist', 'Hair Transplant Surgeon, Oral And MaxilloFacial Surgeon', 'Neurologist, Geriatric Neurologist', 'Dermatologist', 'Special Interest in Surgical Oncology', 'Dentist, Prosthodontist, Implantologist, Cosmetic/Aesthetic Dentist', 'TherapistCounselling Psychologist', 'Dentist, Cosmetic/Aesthetic Dentist', 'Dentist, Cosmetic/Aesthetic Dentist', 'Oral Medicine and Radiology, Dentist', 'Gynecologist, Obstetrician, Infertility Specialist', 'Dentist, Dental Surgeon, Cosmetic/Aesthetic Dentist', 'Dental Surgeon, Prosthodontist, Implantologist, Cosmetic/Aesthetic Dentist', 'Gynecologist, Infertility Specialist, Reproductive Endocrinologist (Infertility)', 'Dentist', 'Gynecologist, Obstetrician, Infertility Specialist', 'Dentist, Cosmetic/Aesthetic Dentist, Implantologist', 'Dentist', 'Orthopedic surgeon', 'Urologist, Andrologist', 'TherapistCounselling Psychologist', 'Gynecologist', 'Ophthalmologist/ Eye Surgeon', 'Dentist, Cosmetic/Aesthetic Dentist, Implantologist, Dental Surgeon', 'Neurosurgeon', 'Psychiatrist', 'Prosthodontist, Dentist', 'Gynecologist, Obstetrician', 'Gynecologist', 'General Physician', 'Cosmetic/Aesthetic Dentist, Dental Surgeon, Implantologist', 'Oral And MaxilloFacial Surgeon, Craniofacial Surgeon, Hair Transplant Surgeon', 'Dentist, Cosmetic/Aesthetic Dentist', 'Dermatologist, Cosmetologist, Hair Transplant Surgeon', 'AYUSHDietitian/Nutritionist, Yoga and Naturopathy', 'Urologist', 'Gastroenterologist', 'Spine Surgeon (Ortho), Spine And Pain Specialist, Orthopedic surgeon', 'AYUSHSexologist, Sexologist (Unani), Unani', 'General Physician', 'Dentist', 'Gynecologist', 'Ophthalmologist/ Eye Surgeon', 'Consultant Physician', 'AYUSHAyurveda', 'Ophthalmologist/ Eye Surgeon', 'Cardiothoracic and Vascular Surgeon', 'Nephrologist/Renal Specialist', 'Dental Surgeon, Cosmetic/Aesthetic Dentist', 'Orthopedic surgeon', 'Prosthodontist, Dentist', 'Joint Replacement Surgeon, Orthopedic surgeon', 'Orthopedic surgeon', 'Dentist', 'Ophthalmologist/ Eye Surgeon', 'TherapistPhysiotherapist', 'Dermatologist', 'TherapistPhysiotherapist', 'Dentist', 'Internal Medicine, Consultant Physician', 'Joint Replacement Surgeon, Spine Surgeon (Ortho), Orthopedic surgeon', 'Pulmonologist', 'General Physician', 'General Physician', 'Bariatric Surgeon, General Surgeon, Laparoscopic Surgeon', 'Dentist, Implantologist', 'Cosmetic/Aesthetic Dentist', 'Neurosurgeon, Spine And Pain Specialist', 'Surgical Oncologist', 'Infertility Specialist', 'Dentist, Orthodontist', 'Ophthalmologist/ Eye Surgeon', 'AYUSHAyurveda', 'Dentist, Endodontist, Cosmetic/Aesthetic Dentist', 'TherapistCounselling Psychologist', 'Neurosurgeon', 'Dentist', 'Hair Transplant Surgeon, Plastic Surgeon, Cosmetologist, Trichologist', 'GastroIntestinal Surgeon, Laparoscopic Surgeon, Gastroenterologist, General Surgeon', 'TherapistOrthopedic Physiotherapist, Physiotherapist, Geriatric Physiotherapist', 'Endodontist, Cosmetic/Aesthetic Dentist, Dentist', 'Pediatrician', 'Laparoscopic Surgeon (Obs & Gyn), Gynecologist', 'Dentist', 'Dentist', 'Cosmetologist, Dermatologist', 'Gynecologist, Obstetrician', 'TherapistNeuro Physiotherapist, Physiotherapist', 'Dentist', 'Gynecologist, Obstetrician', 'Bariatric Surgeon, Laparoscopic Surgeon', 'Infertility Specialist, Gynecologist, Obstetrician', 'Rheumatologist', 'Gynecologist, Laparoscopic Surgeon (Obs & Gyn)', 'General Surgeon', 'Internal Medicine, General Physician', 'AYUSHHomoeopath', 'Pediatrician, Special Interest in Pediatric Endocrinology', 'Pediatrician', 'ENT/ Otorhinolaryngologist, Pediatric Otorhinolaryngologist', 'Diabetologist, General Physician', 'TherapistPhysiotherapist', 'Neurologist', 'TherapistCounselling Psychologist', 'Neurologist', 'Dentist, Cosmetic/Aesthetic Dentist, Dental Surgeon', 'Ophthalmologist/ Eye Surgeon', 'Medical Oncologist', 'Interventional Radiologist, Radiologist', 'General Physician', 'Pediatric Surgeon', 'Orthopedic surgeon', 'Dermatologist, Trichologist, Pediatric Dermatologist, Aesthetic Dermatologist, Dermatosurgeon', 'Pediatrician', 'Gynecologist', 'Orthopedic surgeon', 'Dentist', 'Dentist, Cosmetic/Aesthetic Dentist, Implantologist', 'TherapistCounselling Psychologist', 'AYUSHHomoeopath', 'General Physician, General Practitioner', 'Cardiologist, Interventional Cardiologist', 'AYUSHAyurveda', 'General Physician', 'Dentist, Dental Surgeon', 'Dentist', 'Aesthetic Dermatologist, Cosmetologist, Hair Transplant Surgeon, Dermatologist', 'Dentist', 'Cardiologist, Interventional Cardiologist', 'Neurologist', 'Orthopedic surgeon', 'Gynecologist, Obstetrician, Laparoscopic Surgeon (Obs & Gyn)', 'Gynecologist, Obstetrician, Infertility Specialist', 'AYUSHHomoeopath', 'TherapistPhysiotherapist', 'Internal Medicine', 'Urological Surgeon', 'Ophthalmologist/ Eye Surgeon', 'Cosmetic/Aesthetic Dentist', 'Ophthalmologist/ Eye Surgeon', 'AYUSHAyurveda', 'TherapistCounselling Psychologist', 'Cardiologist', 'TherapistAcupuncturist', 'Pediatrician', 'General Physician', 'Dermatologist', 'Pediatrician', 'Psychiatrist', 'Ophthalmologist/ Eye Surgeon', 'Gynecologist, Obstetrician', 'Cosmetic/Aesthetic Dentist, Dentist', 'Dentist', 'AYUSHHomoeopath', 'Gynecologist', 'Dentist, Dental Surgeon, Cosmetic/Aesthetic Dentist, Implantologist', 'Dermatologist, Aesthetic Dermatologist, Trichologist', 'Gynecologist, Obstetrician', 'Dentist, Orthodontist, Cosmetic/Aesthetic Dentist', 'TherapistPhysiotherapist', 'Orthodontist, Dentist', 'Implantologist, Cosmetic/Aesthetic Dentist, Dental Surgeon, Dentist', 'Dentist', 'Cosmetic/Aesthetic Dentist, Dentist, Implantologist', 'Orthodontist', 'Dental Surgeon, Implantologist', 'Dentist, Dental Surgeon, Cosmetic/Aesthetic Dentist', 'Psychiatrist', 'Dentist, Cosmetic/Aesthetic Dentist, Dental Surgeon', 'AYUSHHomoeopath, Counselling Psychologist', 'Urological Surgeon, Urologist, Andrologist', 'Ophthalmologist/ Eye Surgeon', 'Gynecologist', 'Pediatric Surgeon', 'Orthopedic surgeon, Joint Replacement Surgeon', 'Urologist', 'TherapistDietitian/Nutritionist', 'TherapistPhysiotherapist', 'TherapistPhysiotherapist', 'Oral And MaxilloFacial Surgeon', 'Cardiologist', 'Neurosurgeon, Spine Surgeon (Neuro)', 'TherapistSports Nutritionist', 'Orthopedic surgeon', 'Cardiothoracic and Vascular Surgeon', 'Dentist', 'Dentist', 'Ophthalmologist/ Eye Surgeon', 'Trichologist, Aesthetic Dermatologist, Cosmetologist, Dermatologist', 'General Surgeon, Laparoscopic Surgeon', 'Orthopedic surgeon', 'Orthopedic surgeon', 'TherapistDietitian/Nutritionist', 'Ophthalmologist/ Eye Surgeon', 'Plastic Surgeon', 'Medical Oncologist', 'Ophthalmologist/ Eye Surgeon', 'Orthopedic surgeon, Joint Replacement Surgeon', 'TherapistPhysiotherapist', 'Dentist', 'Cosmetic/Aesthetic Dentist, Oral Medicine and Radiology', 'General Physician, Consultant Physician, Internal Medicine', 'Dentist', 'Pediatrician', 'Urological Surgeon, Andrologist', 'Urologist', 'Dentist', 'TherapistGeriatric Physiotherapist, Sports and Musculoskeletal Physiotherapist, Physiotherapist', 'Obstetrician, Gynecologist, Infertility Specialist', 'AYUSHAyurveda', 'Gynecologist, Obstetrician, Infertility Specialist', 'Psychiatrist, Addiction Psychiatrist, Sexologist', 'Cardiac Surgeon, Cardiothoracic and Vascular Surgeon, Thoracic (Chest) Surgeon, Vascular Surgeon, Cardiothoracic Surgeon, Cardiologist', 'Gynecologist, Obstetrician, Infertility Specialist', 'Dentist', 'Dentist, Orthodontist', 'Gynecologist, Obstetrician', 'Nephrologist/Renal Specialist', 'TherapistCosmetologist', 'Implantologist', 'Dentist, Implantologist, Cosmetic/Aesthetic Dentist', 'Dermatologist, Dermatosurgeon, Cosmetologist, Aesthetic Dermatologist, Trichologist, Pediatric Dermatologist, Venereologist', 'TherapistPhysiotherapist', 'Internal Medicine, Neurologist', 'Dentist, Dental Surgeon, Cosmetic/Aesthetic Dentist', 'Orthopedic surgeon, Joint Replacement Surgeon', 'AYUSHHomoeopath', 'Dentist', 'Ophthalmologist/ Eye Surgeon', 'Pediatrician', 'TherapistPhysiotherapist, Sports and Musculoskeletal Physiotherapist, Geriatric Physiotherapist, Acupuncturist', 'Medical Oncologist', 'Endocrinologist, Diabetologist', 'TherapistPhysiotherapist', 'Cosmetic/Aesthetic Dentist, Dentist', 'Dental Surgeon', 'Dental Surgeon, Cosmetic/Aesthetic Dentist', 'Infertility Specialist, Gynaecological Endoscopist', 'Ophthalmologist/ Eye Surgeon', 'Pediatrician', 'Dental Surgeon, Cosmetic/Aesthetic Dentist', 'Ophthalmologist/ Eye Surgeon', 'TherapistDietitian/Nutritionist', 'ENT/ Otorhinolaryngologist', 'Medical Oncologist', 'TherapistCounselling Psychologist', 'TherapistEducational Psychologist', 'Gastroenterologist', 'Orthodontist, Cosmetic/Aesthetic Dentist', 'Ophthalmologist/ Eye Surgeon', 'General Surgeon', 'Pediatric Dentist, Cosmetic/Aesthetic Dentist, Implantologist, Dentist', 'Dentist, Dental Surgeon, Implantologist', 'Pediatrician, General Physician', 'Nephrologist/Renal Specialist', 'Dermatologist, Cosmetologist, Pediatric Dermatologist', 'Nephrologist/Renal Specialist', 'Pediatrician', 'Dentist, Dental Surgeon', 'Periodontist, Cosmetic/Aesthetic Dentist, Dentist', 'Orthopedic surgeon, Joint Replacement Surgeon, Spine And Pain Specialist, Spine Surgeon (Ortho)', 'General Physician, Internal Medicine', 'TherapistAudiologist, Speech Therapist', 'Dentist, Dental Surgeon, Implantologist, Cosmetic/Aesthetic Dentist', 'Dentist, Cosmetic/Aesthetic Dentist', 'AYUSHAyurveda', 'Gynecologist', 'Pediatric Hematologic-Oncologist', 'Dentist, Orthodontist, Implantologist', 'TherapistDietitian/Nutritionist', 'Ophthalmologist/ Eye Surgeon', 'TherapistHypnotherapist', 'Dermatologist, Pediatric Dermatologist, Dermatosurgeon, Cosmetologist', 'Psychiatrist, Sexologist, Addiction Psychiatrist', 'Orthodontist, Cosmetic/Aesthetic Dentist, Dentist', 'Dentist', 'General Surgeon, Laparoscopic Surgeon', 'Endodontist, Cosmetic/Aesthetic Dentist, Restorative Dentist', 'Ophthalmologist/ Eye Surgeon', 'TherapistPhysiotherapist', 'Orthopedic surgeon', 'Obstetrician, Gynecologist', 'Anesthesiologist', 'Dental Surgeon', 'Ophthalmologist/ Eye Surgeon', 'Orthopedic surgeon', 'Medical Oncologist', 'Medical Oncologist', 'TherapistPhysiotherapist', 'AYUSHHomoeopath, Dietitian/Nutritionist', 'Ophthalmologist/ Eye Surgeon', 'Dentist, Cosmetic/Aesthetic Dentist', 'Diabetologist', 'Cosmetic/Aesthetic Dentist', 'General Physician', 'Spine Surgeon (Ortho), Spine And Pain Specialist', 'Laparoscopic Surgeon, Pediatric Surgeon', 'Spine Surgeon (Ortho), Orthopedic surgeon', 'Gastroenterologist', 'TherapistCounselling Psychologist', 'Cosmetic/Aesthetic Dentist, Implantologist', 'Internal Medicine', 'Dentist, Cosmetic/Aesthetic Dentist', 'Neurosurgeon, Neurologist', 'TherapistDietitian/Nutritionist', 'Plastic Surgeon', 'Dentist, Implantologist, Cosmetic/Aesthetic Dentist', 'Dentist, Dental Surgeon, Implantologist', 'General Physician', 'Gynecologist, Obstetrician', 'Ophthalmologist/ Eye Surgeon', 'Ophthalmologist/ Eye Surgeon', 'Orthopedic surgeon', 'AYUSHAyurveda', 'Obstetrician, Gynecologist', 'Pediatrician', 'Oral And MaxilloFacial Surgeon, Implantologist', 'Gynecologist, Obstetrician', 'Dental Surgeon, Cosmetic/Aesthetic Dentist, Implantologist', 'AYUSHAyurveda', 'Dentist, Prosthodontist', 'Dermatologist, Cosmetologist', 'Gynecologist, Obstetrician, Laparoscopic Surgeon (Obs & Gyn)', 'Endodontist, Dentist, Restorative Dentist', 'General Physician, General Practitioner', 'Ophthalmologist/ Eye Surgeon', 'Gynecologist, Obstetrician, Infertility Specialist', 'General Surgeon', 'TherapistCounselling Psychologist, Psychotherapist', 'Cardiothoracic and Vascular Surgeon', 'Psychiatrist, Neuropsychiatrist, Sexologist', 'ENT/ Otorhinolaryngologist', 'Psychiatrist, Sexologist, Addiction Psychiatrist', 'TherapistPhysiotherapist', 'Gynecologist, Obstetrician, Laparoscopic Surgeon (Obs & Gyn)', 'Laparoscopic Surgeon', 'Dentist', 'General Physician', 'ENT/ Otorhinolaryngologist', 'Dental Surgeon, Dentist, Oral And MaxilloFacial Surgeon, Implantologist', 'Dentist', 'Orthopedic surgeon', 'Pediatrician', 'Oral And MaxilloFacial Surgeon', 'Joint Replacement Surgeon, Spine Surgeon (Ortho), Orthopedic surgeon', 'Laparoscopic Surgeon, Pediatric Surgeon', 'General Surgeon, Bariatric Surgeon, Laparoscopic Surgeon', 'Dermatologist, Trichologist, Cosmetologist', 'General Surgeon, Proctologist, Laparoscopic Surgeon', 'TherapistAcupuncturist', 'Gynecologist, Obstetrician', 'Urologist', 'General Surgeon, Laparoscopic Surgeon, Proctologist', 'Gynecologist', 'General Physician', 'Dentist, Implantologist', 'Prosthodontist, Implantologist', 'General Physician', 'Dentist', 'Ophthalmologist/ Eye Surgeon', 'Periodontist, Dental Surgeon, Implantologist', 'TherapistPhysiotherapist', 'TherapistCounselling Psychologist', 'Dermatologist, Cosmetologist, Trichologist', 'Dentist, Dental Surgeon', 'Ophthalmologist/ Eye Surgeon', 'Dental Surgeon, Dentist', 'TherapistDietitian/Nutritionist, Sports Nutritionist', 'Interventional Radiologist', 'Dentist, Cosmetic/Aesthetic Dentist, Dental Surgeon', 'Ophthalmologist/ Eye Surgeon', 'General Physician', 'Gynecologist', 'Gynecologist, Obstetrician, Infertility Specialist', 'TherapistCounselling Psychologist', 'Gynecologist, Obstetrician, Infertility Specialist, Laparoscopic Surgeon (Obs & Gyn), Reproductive Endocrinologist (Infertility)', 'Dermatologist, Cosmetologist, Trichologist', 'Pediatric Surgeon', 'Nephrologist/Renal Specialist', 'Dentist, Oral And MaxilloFacial Surgeon', 'Gynecologist, Obstetrician, Infertility Specialist, Reproductive Endocrinologist (Infertility), Laparoscopic Surgeon (Obs & Gyn)', 'AYUSHAyurveda', 'Ophthalmologist/ Eye Surgeon', 'AYUSHHomoeopath', 'Dentist, Dental Surgeon', 'Pulmonologist, Somnologist (Sleep Specialist)', 'Obstetrician, Gynecologist', 'Pediatrician', 'Oral And MaxilloFacial Surgeon', 'Prosthodontist, Dentist', 'Ophthalmologist/ Eye Surgeon', 'Dentist', 'Gynecologist, Obstetrician', 'Dermatologist, Cosmetologist, Trichologist', 'Pediatrician', 'Pulmonologist', 'Gynecologist, Obstetrician', 'AYUSHHomoeopath', 'Gynecologist, Obstetrician', 'Dentist, Dental Surgeon', 'Orthopedic surgeon', 'Prosthodontist, Dentist', 'AYUSHHomoeopath', 'General Physician, General Practitioner', 'Dermatologist, Cosmetologist, Trichologist', 'AYUSHHomoeopath', 'ENT/ Otorhinolaryngologist', 'Dentist, Prosthodontist', 'TherapistPhysiotherapist, Sports and Musculoskeletal Physiotherapist', 'Dentist, Implantologist, Cosmetic/Aesthetic Dentist', 'Dentist, Cosmetic/Aesthetic Dentist', 'Ophthalmologist/ Eye Surgeon', 'TherapistDietitian/Nutritionist', 'TherapistPhysiotherapist, Geriatric Physiotherapist, Acupuncturist', 'AYUSHHomoeopath', 'Pediatrician', 'TherapistCounselling Psychologist', 'Cosmetic/Aesthetic Dentist, Dentist', 'AYUSHAyurveda', 'Implantologist, Cosmetic/Aesthetic Dentist', 'Prosthodontist', 'Psychiatrist', 'Dentist, Implantologist, Prosthodontist, Dental Surgeon, Cosmetic/Aesthetic Dentist', 'General Physician, Internal Medicine, Consultant Physician', 'ENT/ Otorhinolaryngologist', 'Cosmetic/Aesthetic Dentist, Endodontist, Dentist', 'Internal Medicine, General Physician', 'Ophthalmologist/ Eye Surgeon', 'TherapistPhysiotherapist', 'Dentist', 'Obstetrician', 'Gynecologist', 'TherapistPhysiotherapist, Orthopedic Physiotherapist', 'Infertility Specialist, Obstetrician, Gynecologist', 'Gastroenterologist, Consultant Physician', 'Pediatrician', 'TherapistDietitian/Nutritionist, Sports Nutritionist', 'AYUSHHomoeopath, Sexologist', 'TherapistCounselling Psychologist', 'Orthopedic surgeon, Joint Replacement Surgeon, Spine And Pain Specialist', 'Internal Medicine', 'AYUSHHomoeopath', 'Gynecologist', 'Pediatrician', 'Gynecologist, Obstetrician, Reproductive Endocrinologist (Infertility), Infertility Specialist', 'Cosmetic/Aesthetic Dentist, Cosmetologist', 'TherapistPhysiotherapist', 'Implantologist, Periodontist, Dentist, Cosmetic/Aesthetic Dentist, Dental Surgeon', 'Neurosurgeon', 'Dentist, Endodontist', 'Gynecologist, Obstetrician, Infertility Specialist', 'Proctologist, General Surgeon', 'Gynecologist', 'Urologist', 'Endocrinologist', 'Dental Surgeon, Dentist, Implantologist', 'Plastic Surgeon', 'Prosthodontist, Dentist, Cosmetic/Aesthetic Dentist', 'General Physician, General Practitioner, Clinical Pharmacologist', 'Dentist', 'General Physician', 'TherapistCounselling Psychologist, Psychotherapist', 'TherapistCounselling Psychologist, Psychotherapist', 'AYUSHHomoeopath', 'Psychiatrist, Neuropsychiatrist', 'Dentist, Cosmetic/Aesthetic Dentist, Dental Surgeon, Implantologist', 'Dermatologist, Cosmetologist', 'TherapistDietitian/Nutritionist', 'General Physician, Special Interest in Diabetology', 'Dentist', 'TherapistSports Nutritionist, Dietitian/Nutritionist, Clinical Nutritionist', 'Dermatologist, Cosmetologist, Trichologist', 'AYUSHHomoeopath', 'ENT/ Otorhinolaryngologist, Otologist/ Neurotologist', 'General Physician', 'Gynecologist', 'Dermatologist, Cosmetologist, Trichologist', 'Dental Surgeon, Orthodontist', 'Gynecologist, Obstetrician, Infertility Specialist', 'General Physician, Consultant Physician, Internal Medicine', 'Orthopedic surgeon', 'Urological Surgeon, Andrologist, Urologist', 'General Physician, Family Physician', 'Orthopedic surgeon, Joint Replacement Surgeon', 'ENT/ Otorhinolaryngologist', 'TherapistDietitian/Nutritionist', 'TherapistDietitian/Nutritionist', 'Orthopedic surgeon, Joint Replacement Surgeon', 'Infertility Specialist, Laparoscopic Surgeon (Obs & Gyn), Obstetrician', 'Radiologist', 'TherapistOrthopedic Physiotherapist', 'Dentist, Pediatric Dentist, Implantologist', 'Laparoscopic Surgeon, Pediatric Surgeon', 'ENT/ Otorhinolaryngologist', 'Neonatologist, Pediatrician', 'Plastic Surgeon', 'Ophthalmologist/ Eye Surgeon', 'Internal Medicine', 'Nephrologist/Renal Specialist', 'AYUSHHomoeopath, Sexologist (Homeopathy)', 'Dentist, Cosmetic/Aesthetic Dentist, Dental Surgeon', 'Ophthalmologist/ Eye Surgeon', 'Periodontist, Dentist', 'Orthodontist', 'Ophthalmologist/ Eye Surgeon', 'Ophthalmologist/ Eye Surgeon', 'GastroIntestinal Surgeon', 'Gastroenterologist', 'Prosthodontist, Implantologist', 'Dentist, Oral And MaxilloFacial Surgeon, Cosmetic/Aesthetic Dentist, Implantologist', 'Neurologist', 'Dentist, Dental Surgeon, Cosmetic/Aesthetic Dentist', 'Gynecologist', 'TherapistPhysiotherapist', 'Interventional Cardiologist, Cardiologist', 'Orthopedic surgeon, Joint Replacement Surgeon', 'Pediatrician', 'ENT/ Otorhinolaryngologist', 'Veterinary Physician, Veterinary Surgeon', 'TherapistPhysiotherapist', 'Pediatric Dentist, Dental Surgeon, Preventive Dentistry', 'Dermatologist, Trichologist, Cosmetologist', 'Breast Surgeon, Special Interest in Surgical Oncology', 'TherapistPhysiotherapist', 'Cardiologist', 'Hair Transplant Surgeon, Cosmetologist, Dermatologist, Trichologist', 'Gynecologist', 'Nephrologist/Renal Specialist', 'Spine Surgeon (Ortho), Orthopedic surgeon', 'Ophthalmologist/ Eye Surgeon', 'AYUSHAyurveda', 'Orthopedic surgeon, Joint Replacement Surgeon', 'Pediatrician', 'Obstetrician, Gynecologist, Infertility Specialist', 'Geriatric Psychiatrist, Psychiatrist, Neuropsychiatrist', 'Cardiologist', 'Ophthalmologist/ Eye Surgeon', 'Orthopedic surgeon', 'Joint Replacement Surgeon, Orthopedic surgeon', 'AYUSHAyurveda', 'Internal Medicine, Consultant Physician, General Physician', 'Dentist, Cosmetic/Aesthetic Dentist, Dental Surgeon', 'Oral And MaxilloFacial Surgeon, Implantologist, Dentist', 'Gynecologist, Obstetrician', 'Dentist, Endodontist', 'Orthopedic surgeon, Spine Surgeon (Ortho), Spine And Pain Specialist', 'TherapistDietitian/Nutritionist', 'TherapistPhysiotherapist', 'Gastroenterologist', 'Dermatologist, Trichologist, Pediatric Dermatologist, Hair Transplant Surgeon', 'General Surgeon', 'General Physician', 'TherapistPhysiotherapist, Sports and Musculoskeletal Physiotherapist', 'TherapistDietitian/Nutritionist', 'TherapistPhysiotherapist', 'Ophthalmologist/ Eye Surgeon', 'Dentist, Cosmetic/Aesthetic Dentist, Periodontist', 'General Physician', 'Dental Surgeon, Dentist', 'Dentist, Prosthodontist', 'Gynecologist', 'Endodontist, Dentist, Dental Surgeon, Cosmetic/Aesthetic Dentist, Implantologist', 'AYUSHHomoeopath', 'General Physician, Radiologist', 'Implantologist, Cosmetic/Aesthetic Dentist, Dentist', 'Cardiologist', 'General Surgeon', 'TherapistPhysiotherapist', 'Dentist, Dental Surgeon', 'TherapistPhysiotherapist', 'Nephrologist/Renal Specialist', 'AYUSHHomoeopath', 'Gynecologist, Obstetrician, Infertility Specialist, Reproductive Endocrinologist (Infertility)', 'Gynecologist, Laparoscopic Surgeon (Obs & Gyn), Urogynecologist', 'Pediatric Surgeon', 'Dermatologist, Cosmetologist, Trichologist', 'Ophthalmologist/ Eye Surgeon', 'Dentist, Endodontist, Cosmetic/Aesthetic Dentist', 'AYUSHHomoeopath', 'Dentist', 'Ophthalmologist/ Eye Surgeon', 'Ophthalmologist/ Eye Surgeon', 'TherapistClinical Psychologist', 'AYUSHAyurveda', 'Cardiologist, Interventional Cardiologist', 'Pediatric Dentist', 'Dentist', 'Obstetrician, Gynecologist, Infertility Specialist', 'Dental Surgeon, Implantologist, Cosmetic/Aesthetic Dentist', 'Orthodontist, Dentofacial Orthopedist', 'TherapistPhysiotherapist, Geriatric Physiotherapist', 'Cosmetic/Aesthetic Dentist, Dentist, Implantologist', 'Dermatologist', 'Implantologist, Periodontist, Cosmetic/Aesthetic Dentist, Dentist', 'Ophthalmologist/ Eye Surgeon', 'General Physician, Pediatrician', 'Pediatrician', 'Pediatrician', 'Cardiologist', 'TherapistPhysiotherapist', 'Obstetrician, Gynecologist, Laparoscopic Surgeon (Obs & Gyn)', 'Laparoscopic Surgeon, General Surgeon', 'Pediatric Dentist, Preventive Dentistry', 'Pediatrician', 'Cosmetic/Aesthetic Dentist', 'Pediatric Dentist, Preventive Dentistry, Dentist', 'Dentist', 'AYUSHAyurveda, Yoga and Naturopathy', 'Laparoscopic Surgeon (Obs & Gyn), Gynecologist', 'Orthopedic surgeon', 'Gynecologist, Obstetrician, Infertility Specialist', 'Periodontist', 'AYUSHHomoeopath', 'AYUSHHomoeopath', 'TherapistPsychotherapist, Counselling Psychologist', 'Orthopedic surgeon', 'Dentist', 'AYUSHHomoeopath', 'AYUSHHomoeopath', 'Ophthalmologist/ Eye Surgeon', 'Pediatric Dentist', 'Gynecologist, Laparoscopic Surgeon (Obs & Gyn), Infertility Specialist', 'Endodontist, Implantologist, Cosmetic/Aesthetic Dentist', 'Ophthalmologist/ Eye Surgeon', 'Ophthalmologist/ Eye Surgeon', 'TherapistOccupational Therapist', 'Pediatrician', 'Oral And MaxilloFacial Surgeon', 'Ophthalmologist/ Eye Surgeon', 'Dermatologist, Dermatosurgeon, Aesthetic Dermatologist', 'Neurosurgeon', 'Dermatologist', 'Periodontist, Dentist, Implantologist, Cosmetic/Aesthetic Dentist', 'Ophthalmologist/ Eye Surgeon', 'Cardiologist', 'TherapistEducational Psychologist, Child Behavior Therapist', 'Gynecologist, Obstetrician, Infertility Specialist', 'Dentist, Implantologist, Cosmetic/Aesthetic Dentist', 'Gynecologist, Obstetrician, Laparoscopic Surgeon (Obs & Gyn)', 'Oral Pathologist, Dentist', 'Dentist, Implantologist', 'Dentist', 'Orthopedic surgeon, Joint Replacement Surgeon', 'TherapistCounselling Psychologist, Psychologist, Clinical Psychologist', 'TherapistPhysiotherapist', 'TherapistPhysiotherapist', 'TherapistClinical Psychologist, Counselling Psychologist', 'Dentist, Periodontist, Implantologist', 'Surgical Oncologist', 'Psychiatrist', 'Gynecologist, Obstetrician, Laparoscopic Surgeon (Obs & Gyn), Infertility Specialist', 'TherapistPhysiotherapist', 'Infertility Specialist, Obstetrician, Gynecologist', 'TherapistPhysiotherapist', 'Cardiologist, Interventional Cardiologist', 'AYUSHHomoeopath', 'TherapistPhysiotherapist', 'Tuberculous and chest Diseases Specialist, Pulmonologist', 'Ophthalmologist/ Eye Surgeon', 'Infertility Specialist, Gynecologist', 'Endodontist, Cosmetic/Aesthetic Dentist, Conservative Dentist', 'Cardiologist', 'Dentist', 'Dentist, Cosmetic/Aesthetic Dentist, Implantologist', 'Dermatologist, Dermatosurgeon, Pediatric Dermatologist, Hair Transplant Surgeon', 'Infertility Specialist, Gynecologist, Obstetrician', 'Gynecologist, Obstetrician, Laparoscopic Surgeon (Obs & Gyn), Infertility Specialist', 'General Physician, Internal Medicine', 'General Surgeon, Laparoscopic Surgeon', 'General Physician', 'Orthopedic surgeon', 'Special Interest in Surgical Oncology', 'Ophthalmologist/ Eye Surgeon', 'Interventional Cardiologist', 'Neurosurgeon', 'AYUSHHomoeopath', 'Orthopedic surgeon, Joint Replacement Surgeon', 'Spine Surgeon (Ortho)', 'General Surgeon', 'Gynecologist, Obstetrician', 'Dermatologist, Trichologist, Hair Transplant Surgeon, Aesthetic Dermatologist, Pediatric Dermatologist, Cosmetologist, Dermatosurgeon', 'Allergist/Immunologist, Pediatrician', 'AYUSHHomoeopath', 'Dental Surgeon', 'Neurosurgeon, Spine Surgeon (Neuro), Neurointerventional Surgery', 'Urological Surgeon, Urologist', 'ENT/ Otorhinolaryngologist, Otologist/ Neurotologist, Pediatric Otorhinolaryngologist', 'Infertility Specialist, Obstetrician', 'Dentist', 'Gynecologist, Obstetrician', 'Periodontist, Implantologist', 'General Physician', 'Endodontist, Implantologist, Cosmetic/Aesthetic Dentist', 'Endodontist, Cosmetic/Aesthetic Dentist', 'Prosthodontist, Implantologist, Cosmetic/Aesthetic Dentist, Dentist', 'Dentist, Endodontist, Cosmetic/Aesthetic Dentist, Dental Surgeon, Implantologist', 'Dentist, Cosmetic/Aesthetic Dentist, Implantologist', 'TherapistPhysiotherapist', 'Pediatrician', 'AYUSHHomoeopath', 'Dental Surgeon, Dentist', 'TherapistDietitian/Nutritionist', 'ENT/ Otorhinolaryngologist', 'Cosmetic/Aesthetic Dentist, Dentist, Dental Surgeon', 'TherapistAcupuncturist', 'Gynecologist, Infertility Specialist, Laparoscopic Surgeon (Obs & Gyn)', 'AYUSHHomoeopath', 'Gynecologist, Obstetrician', 'Orthopedic surgeon, Spine And Pain Specialist', 'Dentist, Cosmetic/Aesthetic Dentist', 'Bariatric Surgeon, General Surgeon', 'General Surgeon, Laparoscopic Surgeon, Bariatric Surgeon', 'Dentist', 'TherapistCounselling Psychologist', 'Dental Surgeon, Cosmetic/Aesthetic Dentist', 'Gynecologist', 'Head and Neck Surgeon, ENT/ Otorhinolaryngologist', 'Ophthalmologist/ Eye Surgeon', 'Plastic Surgeon', 'Endodontist, Dental Surgeon, Dentist', 'Spine Surgeon (Ortho)', 'Ophthalmologist/ Eye Surgeon', 'Surgical Oncologist', 'TherapistPhysiotherapist', 'Surgical Oncologist', 'Ophthalmologist/ Eye Surgeon', 'Joint Replacement Surgeon, Orthopedic surgeon', 'Gynecologist, Infertility Specialist, Obstetrician', 'Gynecologist', 'Laparoscopic Surgeon (Obs & Gyn), Gynecologist, Obstetrician', 'Ophthalmologist/ Eye Surgeon', 'General Physician', 'General Surgeon', 'Joint Replacement Surgeon, Spine Surgeon (Ortho), Orthopedic surgeon', 'Orthodontist, Dentist, Cosmetic/Aesthetic Dentist, Dentofacial Orthopedist, Implantologist', 'Orthopedic surgeon', 'Dentist, Orthodontist, Cosmetic/Aesthetic Dentist', 'Dentist, Dental Surgeon, Implantologist, Cosmetic/Aesthetic Dentist', 'General Surgeon', 'Surgical Oncologist', 'Cosmetic/Aesthetic Dentist', 'Psychiatrist', 'Dentist, Dental Surgeon, Implantologist', 'Prosthodontist', 'Cardiologist', 'Ophthalmologist/ Eye Surgeon', 'TherapistClinical Psychologist', 'Gynecologist, Obstetrician, Laparoscopic Surgeon (Obs & Gyn)', 'Ophthalmologist/ Eye Surgeon', 'Plastic Surgeon', 'Endodontist, Cosmetic/Aesthetic Dentist', 'General Surgeon, Laparoscopic Surgeon', 'Cardiologist, Interventional Cardiologist', 'Dentist', 'AYUSHHomoeopath', 'Medical Oncologist', 'Neurologist', 'Laparoscopic Surgeon, General Surgeon, Proctologist', 'Dental Surgeon, Implantologist', 'TherapistPhysiotherapist', 'General Physician', 'Dermatologist, Cosmetologist', 'Pediatric Dentist, Dentist', 'TherapistPhysiotherapist', 'TherapistPhysiotherapist', 'Gastroenterologist', 'Infertility Specialist, Gynecologist, Obstetrician', 'Pediatrician', 'General Physician', 'Pediatric Dentist, Cosmetic/Aesthetic Dentist', 'Dentist, Cosmetic/Aesthetic Dentist, Dental Surgeon, Implantologist', 'Neurointerventional Surgery', 'AYUSHHomoeopath', 'Endodontist, Dentist', 'AYUSHHomoeopath', 'TherapistOccupational Therapist, Pediatric OT', 'Dermatologist, Aesthetic Dermatologist, Venereologist', 'Gastroenterologist', 'TherapistCounselling Psychologist', 'ENT/ Otorhinolaryngologist', 'Periodontist, Dentist, Dental Surgeon, Implantologist, Cosmetic/Aesthetic Dentist', 'AYUSHAyurveda', 'TherapistSexologist', 'AYUSHHomoeopath', 'Pediatrician', 'TherapistPsychotherapist, Counselling Psychologist', 'Dentist, Cosmetic/Aesthetic Dentist, Implantologist, Dental Surgeon', 'General Physician', 'Dentist, Cosmetic/Aesthetic Dentist, Dental Surgeon, Implantologist', 'TherapistDietitian/Nutritionist, Sports Nutritionist', 'Dermatologist, Trichologist, Cosmetologist', 'Pediatric Dentist, Dentist, Dental Surgeon, Cosmetic/Aesthetic Dentist', 'Ophthalmologist/ Eye Surgeon', 'Pediatrician', 'Dentist, Cosmetic/Aesthetic Dentist', 'Pediatric Surgeon', 'Infertility Specialist, Gynecologist, Obstetrician, Laparoscopic Surgeon (Obs & Gyn)', 'TherapistCounselling Psychologist', 'Medical Oncologist', 'Laparoscopic Surgeon, General Surgeon, Bariatric Surgeon', 'ENT/ Otorhinolaryngologist', 'Pediatrician', 'Prosthodontist, Implantologist, Cosmetic/Aesthetic Dentist', 'Urologist, Laparoscopic Surgeon, Urological Surgeon, Andrologist', 'Psychiatrist', 'Gynecologist, Obstetrician, Infertility Specialist', 'Gynecologist, Infertility Specialist, Obstetrician', 'Urologist, Andrologist', 'Gynecologist, Obstetrician, Infertility Specialist', 'ENT/ Otorhinolaryngologist', 'TherapistDietitian/Nutritionist', 'Dentist', 'Pediatric Dentist, Preventive Dentistry', 'Dermatologist, Cosmetologist, Trichologist', 'Gynecologist, Obstetrician, Infertility Specialist', 'Ophthalmologist/ Eye Surgeon', 'General Physician', 'TherapistCounselling Psychologist', 'TherapistOrthopedic Physiotherapist', 'TherapistDietitian/Nutritionist, Sports Nutritionist', 'Neurosurgeon', 'TherapistSports and Musculoskeletal Physiotherapist', 'Oral And MaxilloFacial Surgeon, Dentist, Implantologist', 'Pediatric Dentist', 'Nephrologist/Renal Specialist', 'Pediatric Dentist, Preventive Dentistry', 'Oral And MaxilloFacial Surgeon, Dentist', 'General Physician', 'Orthodontist, Dentofacial Orthopedist, Dental Surgeon, Dentist', 'Consultant Physician, General Physician', 'ENT/ Otorhinolaryngologist', 'Internal Medicine', 'Radiation Oncologist', 'Orthopedic surgeon', 'AYUSHHomoeopath', 'General Physician', 'Pediatrician', 'AYUSHHomoeopath', 'Cardiac Surgeon', 'Plastic Surgeon, Breast Surgeon', 'General Surgeon', 'General Surgeon', 'Psychiatrist', 'Dentist, Orthodontist, Cosmetic/Aesthetic Dentist', 'Dermatologist, Aesthetic Dermatologist, Pediatric Dermatologist, Trichologist', 'TherapistDietitian/Nutritionist, Clinical Nutritionist', 'Ophthalmologist/ Eye Surgeon', 'Gynecologist, Obstetrician', 'TherapistCounselling Psychologist', 'Psychiatrist', 'Head and Neck Surgeon', 'Gynecologist, Obstetrician', 'Reproductive Endocrinologist (Infertility), Laparoscopic Surgeon (Obs & Gyn)', 'Laparoscopic Surgeon (Obs & Gyn), Infertility Specialist', 'Dentist, Periodontist, Cosmetic/Aesthetic Dentist', 'Dentist', 'Pediatric Surgeon, Laparoscopic Surgeon', 'Gastroenterologist', 'TherapistPhysiotherapist', 'Dentist, Pediatric Dentist', 'Gynecologist, Obstetrician, Infertility Specialist, Laparoscopic Surgeon (Obs & Gyn)', 'Consultant Physician, Internal Medicine', 'Gynecologist', 'Pediatrician', 'General Physician, General Practitioner', 'Hair Transplant Surgeon, Dermatosurgeon, Aesthetic Dermatologist', 'TherapistPhysiotherapist', 'Plastic Surgeon, Diabetic Foot Surgeon', 'Orthopedic surgeon, Spine And Pain Specialist, Spine Surgeon (Ortho)', 'Dentist', 'Dentist, Cosmetic/Aesthetic Dentist, Dental Surgeon', 'Dentofacial Orthopedist, Dentist, Orthodontist, Cosmetic/Aesthetic Dentist', 'Dentist, Implantologist, Dental Surgeon', 'Ophthalmologist/ Eye Surgeon', 'Dentist, Cosmetic/Aesthetic Dentist', 'Consultant Physician', 'Dermatologist, Cosmetologist, Aesthetic Dermatologist', 'Special Interest in Infectious and Tropical Medicine', 'Gynecologist', 'Dentist, Pediatric Dentist', 'Gynecologist, Infertility Specialist, Obstetrician', 'Gynecologist, Obstetrician, Infertility Specialist', 'Gynecologist, Obstetrician', 'Ophthalmologist/ Eye Surgeon', 'AYUSHAyurveda', 'TherapistPhysiotherapist, Neuro Physiotherapist', 'Psychiatrist, Addiction Psychiatrist, Geriatric Psychiatrist', 'TherapistPhysiotherapist', 'Cosmetic/Aesthetic Dentist, Dentist', 'Prosthodontist, Implantologist, Cosmetic/Aesthetic Dentist', 'AYUSHHomoeopath', 'Endocrinologist, Diabetologist', 'Obstetrician, Gynecologist, Infertility Specialist', 'AYUSHHomoeopath, Sexologist', 'Ophthalmologist/ Eye Surgeon', 'Dentist', 'Orthopedic surgeon', 'Obstetrician, Gynecologist', 'Dentist', 'Dentist, Cosmetic/Aesthetic Dentist, Implantologist', 'Radiologist', 'Neurologist', 'Gastroenterologist', 'Dental Surgeon, Oral And MaxilloFacial Surgeon', 'Infertility Specialist, Gynecologist, Laparoscopic Surgeon (Obs & Gyn)', 'Pediatric Dentist', 'Dentist', 'Cardiologist', 'Dentist, Dental Surgeon, Implantologist', 'Periodontist, Dental Surgeon, Implantologist', 'Spine Surgeon (Ortho), Orthopedic surgeon, Spine And Pain Specialist', 'AYUSHAyurveda', 'Endodontist, Cosmetic/Aesthetic Dentist, Restorative Dentist', 'Dentist, Prosthodontist, Implantologist, Cosmetic/Aesthetic Dentist', 'Ophthalmologist/ Eye Surgeon', 'Gastroenterologist', 'Dermatologist, Cosmetologist, Pediatric Dermatologist', 'Plastic Surgeon', 'Orthopedic surgeon', 'Dermatologist', 'AYUSHHomoeopath', 'Dentist', 'Dental Surgeon', 'Psychotherapist, Psychiatrist', 'Plastic Reconstruction Surgeon, Diabetic Foot Surgeon, Burn Surgeon', 'Ophthalmologist/ Eye Surgeon', 'TherapistPhysiotherapist', 'Dentist, Cosmetic/Aesthetic Dentist, Implantologist', 'Dentist, Cosmetic/Aesthetic Dentist', 'General Physician', 'TherapistPhysiotherapist', 'General Physician', 'Cardiologist', 'General Surgeon, Laparoscopic Surgeon, Proctologist', 'Dermatologist', 'Dentist, Implantologist, Dental Surgeon', 'AYUSHAyurveda', 'Gynecologist', 'Plastic Surgeon', 'Dermatologist', 'TherapistPhysiotherapist', 'Neurosurgeon', 'TherapistHypnotherapist', 'Ophthalmologist/ Eye Surgeon', 'Obstetrician, Gynecologist, Infertility Specialist, Laparoscopic Surgeon (Obs & Gyn)', 'Dentist, Cosmetic/Aesthetic Dentist', 'Dentist', 'Dental Surgeon, Dentist', 'Psychiatrist, Addiction Psychiatrist, Forensic Psychiatrist, Geriatric Psychiatrist, Neuropsychiatrist', 'Pediatrician', 'Dentist, Cosmetic/Aesthetic Dentist', 'Internal Medicine, General Physician', 'Dentist, Dental Surgeon', 'Orthopedic surgeon', 'ENT/ Otorhinolaryngologist', 'ENT/ Otorhinolaryngologist', 'ENT/ Otorhinolaryngologist', 'Dentist, Periodontist, Dental Surgeon', 'Urologist, Urological Surgeon', 'General Physician', 'Obstetrician, Reproductive Endocrinologist (Infertility), Gynecologist', 'Dermatologist, Hair Transplant Surgeon, Trichologist, Dermatosurgeon', 'TherapistCounselling Psychologist, Psychologist, Health Psychologist, Clinical Psychologist', 'Urological Surgeon, Urologist', 'Ophthalmologist/ Eye Surgeon', 'Cardiologist', 'Dermatologist, Cosmetologist', 'Gynecologist, Obstetrician, Infertility Specialist, Laparoscopic Surgeon (Obs & Gyn)', 'General Surgeon, Laparoscopic Surgeon', 'General Physician', 'Obstetrician', 'Ophthalmologist/ Eye Surgeon', 'Cardiac Surgeon, Cardiothoracic Surgeon', 'Dentist, Cosmetic/Aesthetic Dentist, Dental Surgeon', 'Dentist', 'Pulmonologist', 'General Surgeon, Laparoscopic Surgeon, Proctologist, Bariatric Surgeon', 'TherapistDietitian/Nutritionist', 'Neonatologist', 'Medical Oncologist', 'Dermatologist, Hair Transplant Surgeon, Cosmetologist', 'Obstetrician, Laparoscopic Surgeon (Obs & Gyn), Infertility Specialist, Gynecologist', 'Gynecologist, Obstetrician, Laparoscopic Surgeon (Obs & Gyn), Infertility Specialist', 'Obstetrician, Gynecologist', 'Pediatrician', 'TherapistCounselling Psychologist', 'Obstetrician, Gynecologist', 'Cardiologist, Vascular Surgeon, Thoracic (Chest) Surgeon', 'Dentist, Cosmetic/Aesthetic Dentist, Implantologist, Dental Surgeon', 'Infertility Specialist, Gynecologist, Obstetrician, Laparoscopic Surgeon (Obs & Gyn)', 'Gynecologist, Laparoscopic Surgeon (Obs & Gyn), Infertility Specialist', 'Orthodontist, Cosmetic/Aesthetic Dentist, Dentist', 'Dental Surgeon, Cosmetic/Aesthetic Dentist, Implantologist', 'General Surgeon, Diabetic Foot Surgeon', 'Ophthalmologist/ Eye Surgeon', 'AYUSHAyurveda', 'Cosmetologist, Cosmetic/Aesthetic Dentist', 'Nephrologist/Renal Specialist', 'Spine Surgeon (Ortho), Spine And Pain Specialist, Orthopedic surgeon', 'TherapistPhysiotherapist', 'Pediatric Dentist', 'General Physician', 'Pulmonologist', 'Urologist, General Surgeon', 'Dermatologist, Cosmetologist, Trichologist, Hair Transplant Surgeon', 'Dermatologist, Pediatric Dermatologist, Cosmetologist, Trichologist', 'Surgical Oncologist', 'Dentist, Cosmetic/Aesthetic Dentist, Implantologist, Dental Surgeon', 'Orthopedic surgeon', 'Pediatrician, Paediatric Intensivist', 'TherapistPhysiotherapist', 'General Practitioner', 'Orthopedic surgeon', 'Surgical Oncologist', 'AYUSHHomoeopath', 'Dentist', 'General Physician', 'Orthodontist, Dentofacial Orthopedist', 'Neurologist', 'Plastic Surgeon, Hair Transplant Surgeon', 'TherapistDietitian/Nutritionist, Sports Nutritionist', 'Dentist, Implantologist', 'Ophthalmologist/ Eye Surgeon', 'Pediatric Dentist', 'AYUSHHomoeopath', 'AYUSHSexologist, Alternative Medicine, Ayurveda', 'Interventional Radiologist', 'TherapistPsychologist', 'Ophthalmologist/ Eye Surgeon', 'ENT/ Otorhinolaryngologist', 'AYUSHHomoeopath', 'AYUSHSexologist, Homoeopath', 'General Surgeon', 'Dermatologist', 'Ophthalmologist/ Eye Surgeon', 'Aesthetic Dermatologist, Trichologist', 'Radiation Oncologist', 'AYUSHAyurveda', 'Cardiologist', 'AYUSHAyurveda', 'Orthopedic surgeon', 'Gynecologist', 'Dentist, Implantologist, Cosmetic/Aesthetic Dentist', 'AYUSHHomoeopath', 'Implantologist, Dentist, Dental Surgeon, Cosmetic/Aesthetic Dentist', 'Ophthalmologist/ Eye Surgeon', 'Orthopedic surgeon', 'TherapistCounselling Psychologist, Special Educator for Mentally Challenged', 'Dental Surgeon, Cosmetic/Aesthetic Dentist, Oral Medicine and Radiology, Dentist', 'TherapistPhysiotherapist', 'General Surgeon, Laparoscopic Surgeon', 'General Physician, Vascular Surgeon', 'Ophthalmologist/ Eye Surgeon', 'Orthopedic surgeon, Joint Replacement Surgeon', 'Plastic Surgeon, Plastic Reconstruction Surgeon', 'Orthopedic surgeon', 'Orthopedic surgeon', 'Prosthodontist, Implantologist, Cosmetic/Aesthetic Dentist, Dental Surgeon', 'Gynecologist', 'AYUSHHomoeopath', 'Pediatric Surgeon', 'AYUSHHomoeopath', 'TherapistCounselling Psychologist', 'General Surgeon', 'Dentist, Dental Surgeon, Cosmetic/Aesthetic Dentist', 'Dental Surgeon, Dentist', 'Pediatrician', 'Endodontist, Dentist', 'AYUSHHomoeopath', 'Orthopedic surgeon', 'AYUSHAyurveda', 'Endodontist, Dental Surgeon, Restorative Dentist', 'TherapistPhysiotherapist', 'Cardiologist', 'Dentist', 'Dermatologist, Venereologist', 'Gastroenterologist', 'Pediatrician', 'Dermatologist, Cosmetologist, Hair Transplant Surgeon', 'Endodontist, Implantologist, Cosmetic/Aesthetic Dentist', 'TherapistPhysiotherapist', 'TherapistPhysiotherapist', 'Urologist', 'Dentist, Implantologist, Cosmetic/Aesthetic Dentist', 'AYUSHAcupuncturist, Alternative Medicine', 'Gynecologist', 'Ophthalmologist/ Eye Surgeon', 'Gynecologist, Obstetrician', 'ENT/ Otorhinolaryngologist, Pediatric Otorhinolaryngologist, Head and Neck Surgeon', 'Psychiatrist, Sexologist, Addiction Psychiatrist, Forensic Psychiatrist, Geriatric Psychiatrist, Neuropsychiatrist, Clinical Psychologist', 'General Physician', 'Ophthalmologist/ Eye Surgeon', 'TherapistCounselling Psychologist', 'Gynecologist, Obstetrician, Infertility Specialist, Laparoscopic Surgeon (Obs & Gyn), Reproductive Endocrinologist (Infertility)', 'Ophthalmologist/ Eye Surgeon', 'Nephrologist/Renal Specialist', 'Joint Replacement Surgeon, Orthopedic surgeon', 'General Physician', 'Cardiologist, Interventional Cardiologist, Consultant Physician', 'Obstetrician, Infertility Specialist', 'TherapistDietitian/Nutritionist, Sports Nutritionist', 'TherapistClinical Psychologist, Psychologist', 'Dermatologist, Cosmetologist, Immunodermatologist, Pediatric Dermatologist, Dermatosurgeon, Aesthetic Dermatologist, Venereologist, Trichologist', 'ENT/ Otorhinolaryngologist', 'Oral And MaxilloFacial Surgeon, Implantologist', 'Nephrologist/Renal Specialist', 'General Surgeon', 'Pediatrician', 'Endocrinologist', 'Cosmetic/Aesthetic Dentist, Implantologist, Dentist', 'Spine And Pain Specialist, Pain Management Specialist', 'ENT/ Otorhinolaryngologist', 'Dermatologist, Cosmetologist', 'TherapistPhysiotherapist', 'Dermatologist, Hair Transplant Surgeon, Dermatosurgeon', 'AYUSHAyurveda', 'Dentist', 'Dermatologist, Cosmetologist, Trichologist, Pediatric Dermatologist', 'TherapistSports and Musculoskeletal Physiotherapist', 'Orthopedic surgeon', 'TherapistCounselling Psychologist', 'Dentist, Prosthodontist', 'TherapistPsychotherapist', 'Dentist, Orthodontist', 'Interventional Cardiologist', 'AYUSHAyurveda, Ayurvedic General Medicine', 'AYUSHHomoeopath', 'TherapistPhysiotherapist', 'Ophthalmologist/ Eye Surgeon', 'Gynecologist', 'AYUSHAyurveda', 'Plastic Surgeon', 'Ophthalmologist/ Eye Surgeon', 'Dermatologist, Cosmetologist, Trichologist, Dermatosurgeon', 'Interventional Radiologist', 'Dentist, Implantologist', 'TherapistPhysiotherapist, Geriatric Physiotherapist', 'TherapistPhysiotherapist', 'Dentist, Preventive Dentistry, Pediatric Dentist', 'Ophthalmologist/ Eye Surgeon', 'General Surgeon', 'Gynecologist, Obstetrician, Reproductive Endocrinologist (Infertility), Laparoscopic Surgeon (Obs & Gyn), Infertility Specialist', 'Gynecologist, Obstetrician', 'Pulmonologist, Tuberculous and chest Diseases Specialist', 'AYUSHAyurveda', 'Gynecologist, Obstetrician', 'TherapistDietitian/Nutritionist', 'Pediatrician', 'Gynecologist', 'AYUSHHomoeopath', 'Psychiatrist, Neuropsychiatrist', 'Dentist, Periodontist, Dental Surgeon', 'General Physician', 'Pediatrician', 'Ophthalmologist/ Eye Surgeon', 'General Surgeon, Neurosurgeon', 'Pediatrician', 'Pediatrician', 'TherapistCosmetologist', 'Diabetologist, General Physician', 'AYUSHAyurveda, Alternative Medicine', 'Pediatrician', 'Gynecologist, Infertility Specialist, Reproductive Endocrinologist (Infertility)', 'Neurosurgeon', 'TherapistCounselling Psychologist, Hypnotherapist', 'Dermatologist, Trichologist, Cosmetologist', 'Prosthodontist, Cosmetic/Aesthetic Dentist, Implantologist', 'TherapistDietitian/Nutritionist', 'Gynecologist, Infertility Specialist, Obstetrician, Laparoscopic Surgeon (Obs & Gyn)', 'Gynecologist', 'Laparoscopic Surgeon', 'Obstetrician, Infertility Specialist, Laparoscopic Surgeon (Obs & Gyn)', 'General Surgeon, Proctologist', 'Dermatologist, Trichologist, Cosmetologist', 'Psychiatrist, Psychotherapist, Neuropsychiatrist', 'General Physician', 'Neurologist', 'Gynecologist, Obstetrician', 'Pediatric Surgeon', 'Orthodontist, Dentist', 'Dentist, Orthodontist, Implantologist', 'Gynecologist, Obstetrician', 'ENT/ Otorhinolaryngologist', 'Pediatrician', 'Dentist', 'Gynecologist, Laparoscopic Surgeon, Infertility Specialist', 'TherapistPhysiotherapist', 'Breast Surgeon, General Surgeon', 'Orthopedic surgeon, Joint Replacement Surgeon', 'TherapistCounselling Psychologist, Hypnotherapist', 'Dentist', 'TherapistCounselling Psychologist', 'Dentist, Cosmetic/Aesthetic Dentist, Dental Surgeon', 'AYUSHHomoeopath', 'TherapistPhysiotherapist', 'General Surgeon, Laparoscopic Surgeon', 'Obstetrician, Gynecologist', 'Cosmetic/Aesthetic Dentist, Dental Surgeon, Implantologist', 'Dentist, Oral And MaxilloFacial Surgeon', 'Gynecologist, Infertility Specialist, Obstetrician, Laparoscopic Surgeon (Obs & Gyn)', 'AYUSHHomoeopath', 'Plastic Surgeon, Burn Surgeon, Plastic Reconstruction Surgeon, Cosmetologist', 'Dermatologist', 'TherapistCosmetologist', 'General Surgeon', 'Implantologist, Dental Surgeon, Cosmetic/Aesthetic Dentist, Dentist', 'Dentist, Orthodontist, Cosmetic/Aesthetic Dentist, Dentofacial Orthopedist, Dental Surgeon', 'Infertility Specialist, Obstetrician, Gynecologist', 'Implantologist, Prosthodontist, Cosmetic/Aesthetic Dentist, Dental Surgeon', 'Implantologist, Dentist', 'General Surgeon, Proctologist', 'Neurologist', 'ENT/ Otorhinolaryngologist', 'Dentist', 'Dentist', 'Implantologist, Orthodontist, Dentist', 'TherapistPhysiotherapist', 'Dermatologist, Cosmetologist, Trichologist', 'TherapistPhysiotherapist, Geriatric Physiotherapist', 'Obstetrician, Gynecologist, Gynecologic Oncologist', 'Dentist', 'General Surgeon, Laparoscopic Surgeon', 'Orthopedic surgeon', 'General Surgeon', 'Pediatric Dentist, Dentist, Preventive Dentistry', 'TherapistDietitian/Nutritionist', 'AYUSHHomoeopath', 'Orthopedic surgeon', 'AYUSHHomoeopath', 'Dentist, Cosmetic/Aesthetic Dentist, Implantologist, Prosthodontist', 'Cardiologist, Interventional Cardiologist', 'Dental Surgeon, Cosmetic/Aesthetic Dentist', 'Spine Surgeon (Ortho), Orthopedic surgeon', 'TherapistPhysiotherapist', 'Dermatologist, Cosmetologist, Trichologist', 'Geriatrician', 'Medical Oncologist', 'TherapistPhysiotherapist', 'AYUSHHomoeopath', 'Gynecologist, Infertility Specialist, Cosmetologist', 'Orthopedic surgeon, Joint Replacement Surgeon', 'TherapistDietitian/Nutritionist, Sports Nutritionist', 'Psychiatrist, Addiction Psychiatrist', 'Dermatologist', 'Obstetrician, Gynecologist, Infertility Specialist', 'Gynecologist, Laparoscopic Surgeon (Obs & Gyn), Infertility Specialist, Obstetrician', 'TherapistDietitian/Nutritionist', 'Ophthalmologist/ Eye Surgeon', 'AYUSHHomoeopath', 'Dental Surgeon', 'TherapistDietitian/Nutritionist', 'Neurologist', 'TherapistPhysiotherapist', 'Gynecologist, Obstetrician', 'Dentist, Oral And MaxilloFacial Surgeon, Dental Surgeon', 'Consultant Physician', 'TherapistPhysiotherapist', 'Dentist, Implantologist', 'Dentist, Dental Surgeon, Cosmetic/Aesthetic Dentist', 'Endodontist, Cosmetic/Aesthetic Dentist, Implantologist', 'AYUSHHomoeopath', 'Orthodontist', 'TherapistCounselling Psychologist, Psychotherapist', 'Ophthalmologist/ Eye Surgeon', 'Dentist, Dental Surgeon', 'Orthopedic surgeon', 'Dental Surgeon, Implantologist', 'TherapistPsychologist', 'Dentist, Implantologist, Cosmetic/Aesthetic Dentist', 'Infertility Specialist, Gynecologist, Obstetrician', 'Pediatrician', 'TherapistDietitian/Nutritionist', 'Obstetrician, Infertility Specialist', 'Laparoscopic Surgeon, Urologist', 'Orthopedic surgeon, Joint Replacement Surgeon, Spine And Pain Specialist, Spine Surgeon (Ortho)', 'Pediatrician', 'TherapistPhysiotherapist', 'Dental Surgeon, Cosmetic/Aesthetic Dentist', 'Pediatrician', 'Dentist, Implantologist', 'Dentist', 'AYUSHUnani', 'Gynecologist, Obstetrician, Infertility Specialist, Laparoscopic Surgeon (Obs & Gyn)', 'TherapistGeriatric OT, Occupational/Ergo Medicine Therapist, OT For Mentally Challenged', 'Urologist, Urological Surgeon', 'Dentist', 'Dentist, Dental Surgeon', 'Ophthalmologist/ Eye Surgeon', 'Gynecologist, Obstetrician, Infertility Specialist', 'Cardiothoracic and Vascular Surgeon', 'Ophthalmologist/ Eye Surgeon', 'TherapistSports and Musculoskeletal Physiotherapist', 'ENT/ Otorhinolaryngologist, Head and Neck Surgeon', 'General Physician', 'Pediatrician', 'ENT/ Otorhinolaryngologist', 'TherapistPhysiotherapist', 'Neurosurgeon', 'General Surgeon, Laparoscopic Surgeon, Proctologist', 'Dentist, Implantologist', 'Dermatologist, Cosmetologist, Trichologist, Aesthetic Dermatologist, Pediatric Dermatologist', 'Dentist', 'Gynecologist, Obstetrician', 'General Physician', 'Dental Surgeon, Prosthodontist, Implantologist, Dentist', 'Dermatologist, Cosmetologist, Trichologist', 'Interventional Radiologist, Radiologist', 'Gastroenterologist', 'Endocrinologist, Diabetologist', 'Prosthodontist, Dentist', 'Dentist, Dental Surgeon', 'Spine Surgeon (Ortho)', 'Dermatologist, Aesthetic Dermatologist, Trichologist', 'Gynecologist', 'Gynecologist, Obstetrician, Infertility Specialist', 'AYUSHHomoeopath', 'Urologist', 'TherapistPsychotherapist, Counselling Psychologist', 'Dentist, Cosmetic/Aesthetic Dentist', 'Pediatrician', 'Spine Surgeon (Ortho), Joint Replacement Surgeon', 'Gynecologist, Obstetrician, Infertility Specialist', 'Gynecologist', 'TherapistDietitian/Nutritionist', 'TherapistNeuro Physiotherapist, Physiotherapist', 'General Physician', 'AYUSHAyurveda', 'Medical Oncologist', 'Surgical Oncologist', 'Plastic Surgeon, General Physician', 'Dentist, Implantologist', 'Dermatologist, Trichologist, Cosmetologist', 'ENT/ Otorhinolaryngologist', 'Gynecologist, Infertility Specialist, Obstetrician', 'Urologist, Andrologist, Laparoscopic Surgeon', 'Dentist, Dental Surgeon, Implantologist, Cosmetic/Aesthetic Dentist', 'TherapistCounselling Psychologist, Psychotherapist', 'Orthodontist, Dentist, Dental Surgeon', 'AYUSHHomoeopath', 'Dentist', 'Dermatologist', 'Orthopedic surgeon', 'Ophthalmologist/ Eye Surgeon', 'Dental Surgeon, Prosthodontist', 'Gynecologist, Obstetrician, Infertility Specialist, Laparoscopic Surgeon (Obs & Gyn), Reproductive Endocrinologist (Infertility)', 'Medical Oncologist', 'TherapistSports and Musculoskeletal Physiotherapist, Physiotherapist, Geriatric Physiotherapist', 'Neurosurgeon, Spine Surgeon (Neuro), Spine And Pain Specialist', 'ENT/ Otorhinolaryngologist', 'Dentist, Periodontist, Implantologist', 'Pediatric Dentist', 'Dentist', 'General Physician', 'Ophthalmologist/ Eye Surgeon', 'Dental Surgeon', 'Reproductive Endocrinologist (Infertility)', 'General Physician', 'TherapistAudiologist, Speech Therapist', 'Pain Management Specialist, Spine And Pain Specialist', 'AYUSHHomoeopath', 'General Physician', 'Joint Replacement Surgeon', 'Pediatrician', 'Gynecologist, Obstetrician', 'AYUSHHomoeopath', 'Spine Surgeon (Ortho), Orthopedic surgeon', 'TherapistDietitian/Nutritionist', 'Dermatologist, Aesthetic Dermatologist, Trichologist', 'Orthodontist, Dentofacial Orthopedist, Dentist', 'Orthopedic surgeon', 'AYUSHAyurveda', 'Dermatologist, Cosmetologist, Trichologist, Dermatosurgeon, Aesthetic Dermatologist, Immunodermatologist, Venereologist, Pediatric Dermatologist', 'Prosthodontist, Dentist, Dental Surgeon', 'Obstetrician, Gynecologist', 'Plastic Reconstruction Surgeon, Plastic Surgeon', 'Dentist', 'Dentist', 'General Physician', 'TherapistDietitian/Nutritionist', 'General Physician, General Practitioner, Sexologist', 'Bariatric Surgeon', 'General Surgeon', 'Dentist, Prosthodontist', 'Laparoscopic Surgeon', 'Orthodontist', 'Dentist', 'Spine Surgeon (Ortho)', 'TherapistPhysiotherapist', 'Laparoscopic Surgeon, Bariatric Surgeon, General Surgeon', 'Urologist', 'Pediatrician', 'Pulmonologist, Critical Care Medicine', 'Dermatologist, Hair Transplant Surgeon, Aesthetic Dermatologist', 'Gynecologist, Obstetrician, Laparoscopic Surgeon (Obs & Gyn), Infertility Specialist', 'Gynecologist, Obstetrician, Infertility Specialist', 'Orthodontist, Dentist, Dentofacial Orthopedist', 'Gynecologist, Obstetrician, Laparoscopic Surgeon (Obs & Gyn)', 'Plastic Surgeon, Burn Surgeon', 'Orthopedic surgeon', 'Ophthalmologist/ Eye Surgeon', 'Gynecologist, Obstetrician, Infertility Specialist', 'Dentist, Endodontist, Cosmetic/Aesthetic Dentist', 'Oral And MaxilloFacial Surgeon, Dentist', 'Dentist, Endodontist, Cosmetic/Aesthetic Dentist', 'Urologist', 'Infertility Specialist, Gynecologist, Obstetrician', 'Pediatrician', 'Dentist', 'AYUSHAyurveda', 'TherapistCounselling Psychologist', 'AYUSHHomoeopath', 'Urologist', 'Endodontist, Cosmetic/Aesthetic Dentist, Dental Surgeon, Dentist, Implantologist', 'Obstetrician, Gynecologist', 'Nephrologist/Renal Specialist, General Physician', 'General Physician', 'TherapistDietitian/Nutritionist', 'Gynecologist', 'Infertility Specialist, Laparoscopic Surgeon (Obs & Gyn)', 'Dentist, Orthodontist', 'Gynecologist, Infertility Specialist, Laparoscopic Surgeon (Obs & Gyn), Obstetrician', 'General Physician', 'Dentist, Prosthodontist', 'Dentist, Implantologist, Dental Surgeon, Cosmetic/Aesthetic Dentist', 'Radiologist, Interventional Radiologist', 'Dentist, Dental Surgeon', 'Dentist, Dental Surgeon, Cosmetic/Aesthetic Dentist', 'Cosmetic/Aesthetic Dentist, Dental Surgeon, Dentist', 'TherapistDietitian/Nutritionist', 'Dentist, Dental Surgeon', 'General Physician', 'Cardiologist', 'Dental Surgeon', 'Gastroenterologist', 'Orthopedic surgeon, Joint Replacement Surgeon', 'Pulmonologist', 'Implantologist, Oral And MaxilloFacial Surgeon, Dentist, Dental Surgeon', 'Dermatologist, Venereologist, Cosmetologist', 'Orthodontist, Dentofacial Orthopedist, Implantologist, Dental Surgeon, Dentist', 'Obstetrician, Gynecologist', 'Ophthalmologist/ Eye Surgeon', 'Dentist', 'Reproductive Endocrinologist (Infertility), Gynecologist, Infertility Specialist', 'Dentist, Dental Surgeon', 'TherapistPhysiotherapist', 'Endodontist, Dentist, Dental Surgeon', 'Obstetrician, Gynecologist, Infertility Specialist, Laparoscopic Surgeon (Obs & Gyn)', 'Dentist, Prosthodontist, Implantologist', 'Cosmetic/Aesthetic Dentist, Dental Surgeon, Implantologist', 'Dentist, Endodontist, Cosmetic/Aesthetic Dentist, Dental Surgeon', 'Dermatologist, Hair Transplant Surgeon, Trichologist, Cosmetologist, Aesthetic Dermatologist, Pediatric Dermatologist, Dermatosurgeon, Venereologist, General Practitioner', 'AYUSHHomoeopath', 'Dermatologist, Cosmetologist, Trichologist', 'Dermatologist, Dermatosurgeon, Hair Transplant Surgeon', 'Dentist', 'Obstetrician, Gynecologist', 'Oral And MaxilloFacial Surgeon, Dental Surgeon', 'Dentist, Orthodontist, Dentofacial Orthopedist', 'General Physician, Pain Management Specialist', 'Urologist, Andrologist', 'Dermatologist', 'Dentist', 'Dentist, Implantologist', 'Prosthodontist, Cosmetic/Aesthetic Dentist, Dentist', 'TherapistDietitian/Nutritionist', 'Dental Surgeon', 'Pediatrician', 'Dermatologist', 'Dermatologist, Cosmetologist', 'TherapistDietitian/Nutritionist', 'Joint Replacement Surgeon', 'General Physician, General Practitioner', 'AYUSHAyurveda', 'ENT/ Otorhinolaryngologist, Pediatric Otorhinolaryngologist', 'Pediatrician, Neonatologist', 'General Physician, Special Interest in Infectious Diseases', 'General Surgeon', 'Gynecologist', 'Laparoscopic Surgeon, General Surgeon', 'Gynecologist, Laparoscopic Surgeon (Obs & Gyn), Infertility Specialist', 'TherapistDietitian/Nutritionist, Clinical Nutritionist, Sports Nutritionist', 'Dentist, Implantologist', 'Trichologist, Dermatologist, Cosmetologist, Pediatric Dermatologist', 'Rheumatologist', 'Dentist, Implantologist, Dental Surgeon', 'Ophthalmologist/ Eye Surgeon', 'Gynecologist, Obstetrician, Laparoscopic Surgeon (Obs & Gyn), Infertility Specialist', 'Dentist, Orthodontist', 'Pediatric Surgeon', 'Pulmonologist', 'Dermatologist, Cosmetologist, Trichologist', 'Joint Replacement Surgeon, Orthopedic surgeon', 'Gastroenterologist', 'Orthopedic surgeon, Joint Replacement Surgeon', 'Rheumatologist', 'General Physician', 'Gynecologist, Obstetrician, Infertility Specialist, Reproductive Endocrinologist (Infertility)', 'General Physician', 'ENT/ Otorhinolaryngologist', 'Dentist, Cosmetic/Aesthetic Dentist, Dental Surgeon', 'Nephrologist/Renal Specialist', 'TherapistPhysiotherapist', 'Oral Medicine and Radiology', 'General Surgeon, Laparoscopic Surgeon', 'Urologist', 'Dentist, Cosmetic/Aesthetic Dentist, Dental Surgeon', 'Neurologist', 'Dentist', 'General Physician', 'Cosmetic/Aesthetic Dentist, Dental Surgeon, Orthodontist, Implantologist', 'Dentist', 'Obstetrician, Gynecologist', 'Dentist', 'Dental Surgeon, Dentist, Orthodontist', 'Orthodontist, Dentofacial Orthopedist, Dentist', 'Dentist, Dental Surgeon', 'Infertility Specialist, Gynecologist', 'Cardiologist', 'Orthopedic surgeon', 'Endocrinologist, General Physician, Internal Medicine', 'AYUSHAyurveda', 'General Physician', 'Endodontist', 'Consultant Physician, Internal Medicine, General Physician', 'General Physician', 'Plastic Surgeon', 'Orthopedic surgeon', 'Dentist, Cosmetic/Aesthetic Dentist, Dental Surgeon', 'Orthopedic surgeon', 'Dermatologist', 'Internal Medicine, General Physician', 'Pulmonologist', 'AYUSHHomoeopath', 'Endodontist, Cosmetic/Aesthetic Dentist', 'Infertility Specialist', 'Gynecologist, Obstetrician', 'TherapistClinical Psychologist', 'Ophthalmologist/ Eye Surgeon', 'Dentist, Endodontist', 'Dentist, Endodontist, Restorative Dentist', 'Gynecologist, Laparoscopic Surgeon (Obs & Gyn), Infertility Specialist, Obstetrician', 'TherapistNeuro Physiotherapist', 'Obstetrician, Gynecologist, Infertility Specialist', 'TherapistPhysiotherapist', 'Orthodontist, Cosmetic/Aesthetic Dentist, Dentist, Dental Surgeon, Dentofacial Orthopedist', 'TherapistPhysiotherapist', 'Infertility Specialist, Obstetrician, Gynecologist', 'Orthopedic surgeon', 'Neurologist', 'Medical Oncologist, Hematologic Oncologist', 'Psychiatrist, Addiction Psychiatrist', 'Ophthalmologist/ Eye Surgeon', 'Neurologist', 'AYUSHAyurveda, Sexologist (Ayurveda)', 'AYUSHHomoeopath', 'TherapistSpeech Therapist, Audiologist', 'Infertility Specialist, Reproductive Endocrinologist (Infertility)', 'Implantologist, Dentist', 'Orthopedic surgeon, Joint Replacement Surgeon', 'Dermatologist, Cosmetologist', 'AYUSHAyurveda, Ayurvedic General Medicine', 'Pediatric Surgeon, Laparoscopic Surgeon', 'TherapistPhysiotherapist', 'Orthodontist', 'Pulmonologist', 'Endocrinologist, Diabetologist', 'Endodontist, Restorative Dentist', 'Pediatrician', 'General Physician', 'AYUSHAyurveda, Sexologist (Ayurveda), Ayurvedic General Medicine', 'Neurologist', 'Neurologist, Neurosurgeon', 'Plastic Reconstruction Surgeon', 'Gynecologist, Obstetrician', 'Dermatologist, Aesthetic Dermatologist, Cosmetologist', 'Dentist, Dental Surgeon', 'AYUSHAyurveda', 'Internal Medicine, General Physician', 'Ophthalmologist/ Eye Surgeon', 'TherapistPhysiotherapist', 'Medical Oncologist', 'General Surgeon', 'TherapistPhysiotherapist, Orthopedic Physiotherapist', 'Pediatrician', 'Obstetrician, Gynecologist', 'TherapistSexologist, Sexologist (Ayurveda)', 'Obstetrician, Gynecologist', 'Dermatologist', 'Gynecologist, Obstetrician', 'TherapistCounselling Psychologist', 'Orthopedic surgeon', 'General Physician, Consultant Physician, General Practitioner, Internal Medicine', 'Orthopedic surgeon, Joint Replacement Surgeon', 'Orthopedic surgeon, Joint Replacement Surgeon', 'Interventional Cardiologist, Cardiologist', 'Hair Transplant Surgeon', 'ENT/ Otorhinolaryngologist', 'Endocrinologist', 'Periodontist, Dentist', 'Surgical Oncologist', 'Dermatologist', 'Obstetrician, Gynecologist, Infertility Specialist', 'TherapistCounselling Psychologist', 'Dental Surgeon, Oral Pathologist', 'Orthopedic surgeon', 'Dentist, Dental Surgeon', 'Dermatologist', 'TherapistNeuro Physiotherapist, Physiotherapist, Geriatric Physiotherapist', 'Emergency Medicine, General Physician', 'Interventional Cardiologist, Cardiologist', 'Dentist, Prosthodontist, Implantologist', 'Cardiologist', 'General Physician', 'Neurosurgeon, Neurologist, Spine And Pain Specialist', 'Gynecologist, Obstetrician', 'Obstetrician, Gynecologist', 'General Physician, Internal Medicine, Consultant Physician', 'Laparoscopic Surgeon, General Surgeon, Bariatric Surgeon, Proctologist', 'TherapistRehabilitation Psychologist', 'TherapistCounselling Psychologist', 'Obstetrician, Gynecologist', 'TherapistCounselling Psychologist', 'General Surgeon', 'Dental Surgeon, Implantologist, Dentist', 'Psychiatrist', 'Neuropsychiatrist, Clinical Psychologist, Psychologist, Psychiatrist, Geriatric Psychiatrist, Psychotherapist, Addiction Psychiatrist', 'Gastroenterologist', 'Pulmonologist', 'Internal Medicine', 'Dentist', 'AYUSHAyurveda', 'General Physician', 'Family and Community Medicine Specialist, General Practitioner, General Physician, Epidemiologist', 'General Surgeon', 'Dermatologist, Cosmetologist, Aesthetic Dermatologist, Dermatosurgeon', 'Obstetrician, Gynecologist, Infertility Specialist', 'Urologist', 'Gynecologist, Obstetrician', 'Gynecologist, Obstetrician', 'Obstetrician, Gynecologist, Infertility Specialist', 'Endodontist, Restorative Dentist, Cosmetic/Aesthetic Dentist', 'Dentist, Endodontist, Cosmetic/Aesthetic Dentist', 'Infertility Specialist, Reproductive Endocrinologist (Infertility), Gynecologist', 'ENT/ Otorhinolaryngologist', 'Dentist', 'Prosthodontist, Dental Surgeon', 'Prosthodontist, Dentist, Implantologist', 'Dentist', 'Gynecologist, Obstetrician', 'Hair Transplant Surgeon, Dermatologist', 'Cardiothoracic and Vascular Surgeon', 'Pediatrician', 'Gynecologist, Obstetrician', 'TherapistCosmetologist', 'ENT/ Otorhinolaryngologist', 'General Surgeon, Proctologist, Bariatric Surgeon, Laparoscopic Surgeon', 'Endocrinologist, Diabetologist', 'Dental Surgeon, Dentist, Orthodontist', 'Rheumatologist', 'General Surgeon, Laparoscopic Surgeon', 'Dermatologist, Hair Transplant Surgeon, Aesthetic Dermatologist', 'Infertility Specialist', 'Pediatrician, Neonatologist', 'Gynecologist, Obstetrician, Infertility Specialist, Reproductive Endocrinologist (Infertility)', 'Orthopedic surgeon', 'General Physician', 'Orthopedic surgeon', 'Infertility Specialist, Reproductive Endocrinologist (Infertility), Gynecologist, Reproductive Health Specialist', 'Joint Replacement Surgeon', 'TherapistPhysiotherapist', 'Dermatologist, Aesthetic Dermatologist, Trichologist, Hair Transplant Surgeon, Cosmetologist', 'General Physician, Internal Medicine', 'Obstetrician, Gynecologist', 'TherapistPhysiotherapist', 'Spine Surgeon (Ortho)', 'Urologist, Andrologist', 'AYUSHAyurveda', 'Internal Medicine, General Physician', 'Cosmetic/Aesthetic Dentist', 'Orthopedic surgeon', 'Pediatrician', 'Nephrologist/Renal Specialist', 'TherapistPhysiotherapist', 'Plastic Surgeon', 'GastroIntestinal Surgeon', 'Endodontist, Dentist', 'Orthopedic surgeon', 'Pediatrician, Special Interest in Pediatric Neurology', 'Consultant Physician', 'Radiation Oncologist', 'TherapistSports and Musculoskeletal Physiotherapist, Orthopedic Physiotherapist, Physiotherapist', 'Ophthalmologist/ Eye Surgeon', 'Dermatologist, Dermatosurgeon', 'Periodontist, Dentist, Implantologist', 'Implantologist, Periodontist, Cosmetic/Aesthetic Dentist', 'Gynecologist, Obstetrician', 'Radiologist', 'Orthodontist', 'Aesthetic Dermatologist, Pediatric Dermatologist, Dermatologist, Cosmetologist, Hair Transplant Surgeon, Trichologist', 'AYUSHAyurveda', 'Gynecologist, Obstetrician, Laparoscopic Surgeon (Obs & Gyn)', 'Neurosurgeon, Spine And Pain Specialist, Spine Surgeon (Neuro)', 'Implantologist, Periodontist', 'Pediatrician', 'TherapistPhysiotherapist, Cardiovascular & Pulmonary Physiotherapist', 'ENT/ Otorhinolaryngologist', 'Neurosurgeon, Neurointerventional Surgery, Neurologist', 'TherapistPhysiotherapist', 'TherapistDietitian/Nutritionist, Sports Nutritionist', 'Dental Surgeon, Implantologist', 'AYUSHHomoeopath, Sexologist (Homeopathy)', 'General Surgeon, Surgical Oncologist', 'Dentist', 'Endodontist, Cosmetic/Aesthetic Dentist', 'Radiologist', 'Gynecologist, Obstetrician', 'Pediatrician', 'Plastic Surgeon, General Surgeon, Hair Transplant Surgeon', 'Orthopedic surgeon', 'Spine Surgeon (Ortho)', 'Obstetrician, Gynecologist', 'Dentist', 'Obstetrician', 'AYUSHHomoeopath', 'Prosthodontist, Dental Surgeon, Dentist', 'General Physician, General Practitioner, Internal Medicine', 'ENT/ Otorhinolaryngologist', 'General Physician, Consultant Physician', 'Oral And MaxilloFacial Surgeon, Craniofacial Surgeon, Cosmetologist', 'Dentist, Cosmetic/Aesthetic Dentist, Dental Surgeon', 'Dentist, Endodontist, Implantologist', 'Pediatrician', 'General Physician', 'Orthopedic surgeon, Joint Replacement Surgeon, Spine Surgeon (Ortho)', 'Nephrologist/Renal Specialist', 'Cardiologist', 'Internal Medicine, General Practitioner', 'Obstetrician, Gynecologist, Infertility Specialist, Laparoscopic Surgeon (Obs & Gyn)', 'AYUSHAyurveda', 'Infertility Specialist, Gynecologist', 'Dermatologist, Cosmetologist, Dermatosurgeon', 'Gynecologist, Obstetrician', 'Paediatric Intensivist, Pediatrician', 'Dentist, Dental Surgeon', 'Oral And MaxilloFacial Surgeon, Implantologist', 'Cardiologist, Interventional Cardiologist', 'Pediatrician', 'Dentist, Preventive Dentistry, Public Health Dentist', 'Nephrologist/Renal Specialist', 'Gynecologist, Obstetrician', 'Gynecologist, Obstetrician', 'Infertility Specialist, Obstetrician, Gynecologist', 'Psychiatrist', 'Consultant Physician, Internal Medicine', 'AYUSHHomoeopath', 'Orthodontist, Dentist', 'Urologist', 'Cosmetic/Aesthetic Dentist, Implantologist, Dental Surgeon', 'Dermatologist', 'Plastic Reconstruction Surgeon, Plastic Surgeon, Hair Transplant Surgeon, Cosmetologist, Burn Surgeon', 'Neuropsychiatrist, Addiction Psychiatrist, Psychiatrist', 'Prosthodontist', 'Dermatologist, Cosmetologist', 'Dentist, Cosmetic/Aesthetic Dentist, Dental Surgeon', 'Diabetologist, Endocrinologist', 'Dental Surgeon', 'Cardiologist', 'Cardiologist', 'Psychiatrist, Neuropsychiatrist', 'Urologist', 'Dental Surgeon, Dentist', 'Pediatrician, Paediatric Intensivist', 'Gastroenterologist', 'AYUSHHomoeopath', 'Bariatric Surgeon, General Surgeon, Laparoscopic Surgeon, GastroIntestinal Surgeon', 'Dentist', 'Pediatrician', 'Pulmonologist', 'Dentist, Dental Surgeon, Orthodontist, Dentofacial Orthopedist', 'Psychiatrist', 'Gynecologist, Obstetrician, Infertility Specialist', 'Dentist, Cosmetic/Aesthetic Dentist, Dental Surgeon', 'Dentist, Implantologist, Cosmetic/Aesthetic Dentist', 'Dentist, Orthodontist', 'TherapistPhysiotherapist, Geriatric Physiotherapist', 'TherapistCounselling Psychologist, Health Psychologist', 'Gynecologist, Obstetrician', 'Obstetrician, Gynecologist', 'Dental Surgeon, Implantologist', 'AYUSHHomoeopath', 'TherapistPhysiotherapist', 'Gastroenterologist', 'Neurosurgeon, Neurologist', 'Pediatrician', 'Implantologist, Periodontist, Dentist', 'Dentist, Orthodontist, Dentofacial Orthopedist', 'Gynecologist, Obstetrician', 'Infertility Specialist, Gynecologist, Obstetrician', 'Orthopedic surgeon', 'Hematologist', 'TherapistDietitian/Nutritionist, Clinical Nutritionist', 'Veterinary Surgeon', 'General Surgeon', 'Pediatrician', 'Dentist, Cosmetic/Aesthetic Dentist, Implantologist', 'Dentist', 'AYUSHAyurveda', 'TherapistSports and Musculoskeletal Physiotherapist, Physiotherapist, Acupuncturist', 'Infertility Specialist, Gynecologist', 'Gynecologist, Obstetrician', 'AYUSHAcupuncturist, Yoga and Naturopathy', 'Orthopedic surgeon', 'AYUSHAyurveda, Sexologist (Ayurveda)', 'Gastroenterologist', 'ENT/ Otorhinolaryngologist, Head and Neck Surgeon', 'Pediatric Surgeon', 'Pediatric Dentist, Preventive Dentistry', 'Obstetrician, Gynecologist', 'Radiologist', 'Gynecologist, Obstetrician', 'Obstetrician, Gynecologist', 'Gynecologist, Laparoscopic Surgeon (Obs & Gyn), Infertility Specialist, Obstetrician', 'Pediatrician', 'Dentist, Dental Surgeon', 'Dentist, Prosthodontist, Cosmetic/Aesthetic Dentist', 'Gynecologist, Obstetrician, Laparoscopic Surgeon (Obs & Gyn)', 'Internal Medicine, General Physician', 'Gastroenterologist', 'Plastic Surgeon', 'Neurosurgeon', 'Cardiologist, Interventional Cardiologist', 'Pulmonologist', 'GastroIntestinal Surgeon', 'Gynecologist, Obstetrician, Laparoscopic Surgeon', 'Orthopedic surgeon', 'Gynecologist, Infertility Specialist', 'Dentist, Oral And MaxilloFacial Surgeon, Cosmetic/Aesthetic Dentist, Implantologist', 'Orthopedic surgeon, Joint Replacement Surgeon', 'Dentist, Endodontist, Dental Surgeon', 'Obstetrician, Gynecologist, Infertility Specialist', 'TherapistPhysiotherapist', 'Obstetrician, Gynecologist, Laparoscopic Surgeon (Obs & Gyn)', 'Dentist, Oral And MaxilloFacial Surgeon', 'Dentist, Cosmetic/Aesthetic Dentist, Dental Surgeon', 'Endodontist, Restorative Dentist, Cosmetic/Aesthetic Dentist', 'Gynecologist, Obstetrician', 'TherapistPhysiotherapist, Geriatric Physiotherapist', 'Dentist, Orthodontist, Dentofacial Orthopedist, Implantologist', 'Internal Medicine, General Physician', 'Plastic Surgeon, Plastic Reconstruction Surgeon', 'General Physician', 'Dermatologist, Cosmetologist', 'Obstetrician, Gynecologist', 'Dentist', 'Gynecologist, Obstetrician', 'Special Interest in Pediatric Neurology', 'Dentist, Dental Surgeon, Cosmetic/Aesthetic Dentist', 'Pediatrician', 'TherapistSexologist', 'ENT/ Otorhinolaryngologist, Pediatric Otorhinolaryngologist', 'AYUSHHomoeopath', 'Medical Oncologist', 'Dentist', 'TherapistClinical Psychologist', 'Pediatrician, Paediatric Intensivist', 'General Physician', 'Orthopedic surgeon', 'Pediatric Surgeon, General Surgeon', 'Orthodontist', 'Dentist, Cosmetic/Aesthetic Dentist', 'Dentist, Endodontist, Dental Surgeon, Cosmetic/Aesthetic Dentist, Conservative Dentist', 'Psychiatrist, Neuropsychiatrist, Addiction Psychiatrist, Psychotherapist, Geriatric Psychiatrist, Sexologist', 'Orthopedic surgeon, Joint Replacement Surgeon', 'Dental Surgeon', 'Implantologist, Cosmetic/Aesthetic Dentist, Dentist', 'Pediatrician', 'TherapistPhysiotherapist', 'General Physician', 'Cardiologist, Interventional Cardiologist', 'Dentist, Implantologist, Dental Surgeon', 'Psychiatrist', 'Obstetrician, Infertility Specialist, Gynecologist', 'Gynecologist, Obstetrician, Infertility Specialist', 'Gynecologist, Infertility Specialist', 'AYUSHAyurveda', 'TherapistDietitian/Nutritionist, Sports Nutritionist', 'Neurosurgeon', 'Gastroenterologist', 'Dentist, Dental Surgeon', 'General Physician', 'Infertility Specialist, Gynecologist, Obstetrician', 'Pediatrician', 'Orthodontist', 'Obstetrician, Gynecologist, Infertility Specialist', 'TherapistPsychologist, Counselling Psychologist, Psychotherapist', 'ENT/ Otorhinolaryngologist, General Physician', 'Nephrologist/Renal Specialist', 'AYUSHAyurveda, Alternative Medicine', 'Internal Medicine', 'Orthodontist, Cosmetic/Aesthetic Dentist, Dentofacial Orthopedist, Dental Surgeon, Dentist', 'Internal Medicine', 'Plastic Surgeon', 'General Practitioner, General Physician', 'Endodontist, Cosmetic/Aesthetic Dentist, Conservative Dentist, Dentist', 'Neurologist', 'Gynecologist', 'Gynecologist, Infertility Specialist, Obstetrician, Laparoscopic Surgeon (Obs & Gyn)', 'Orthodontist, Dentofacial Orthopedist, Dental Surgeon', 'Internal Medicine', 'Pediatrician', 'Radiation Oncologist', 'TherapistCounselling Psychologist', 'Veterinary Physician', 'General Physician', 'GastroIntestinal Surgeon, Laparoscopic Surgeon', 'TherapistChiropractor', 'Ophthalmologist/ Eye Surgeon', 'Hematologist, Hematologic Oncologist', 'TherapistPhysiotherapist', 'General Surgeon', 'AYUSHHomoeopath', 'Ophthalmologist/ Eye Surgeon', 'Dentist', 'Pediatrician', 'Joint Replacement Surgeon', 'Dentist, Cosmetic/Aesthetic Dentist, Implantologist', 'Internal Medicine', 'Dentist, Periodontist, Implantologist, Dental Surgeon', 'Periodontist, Implantologist, Cosmetic/Aesthetic Dentist', 'Pediatrician', 'Prosthodontist', 'ENT/ Otorhinolaryngologist, Head and Neck Surgeon, Pediatric Otorhinolaryngologist, Otologist/ Neurotologist', 'Endocrinologist', 'Dental Surgeon, Periodontist', 'Pediatric Neurologist, Pediatrician', 'Pulmonologist', 'Pediatric Dentist', 'Plastic Surgeon', 'Dental Surgeon, Implantologist, Dentist', 'Pediatric Surgeon', 'Pediatrician', 'ENT/ Otorhinolaryngologist', 'TherapistCounselling Psychologist', 'Dentist, Cosmetic/Aesthetic Dentist, Dental Surgeon', 'Orthopedic surgeon, Joint Replacement Surgeon, Spine And Pain Specialist', 'Laparoscopic Surgeon, GastroIntestinal Surgeon, General Surgeon', 'Oral And MaxilloFacial Surgeon', 'ENT/ Otorhinolaryngologist', 'Dentist, Dental Surgeon', 'Periodontist, Dentist', 'Neurosurgeon', 'Pediatrician', 'TherapistPhysiotherapist', 'Internal Medicine', 'Pain Management Specialist', 'Pediatrician', 'AYUSHAyurveda', 'Infertility Specialist, Gynecologist', 'Dentist, Dental Surgeon, Cosmetic/Aesthetic Dentist', 'General Physician, General Practitioner', 'Internal Medicine', 'Gynecologist, Obstetrician, Infertility Specialist', 'Neurosurgeon, Spine Surgeon (Neuro)', 'Obstetrician, Gynecologist, Infertility Specialist', 'Dermatologist, Cosmetologist', 'Dentist, Implantologist', 'AYUSHAyurveda', 'Pediatrician', 'ENT/ Otorhinolaryngologist', 'Psychiatrist', 'Neurosurgeon', 'Infertility Specialist, Gynecologist', 'Dentist, Periodontist, Implantologist', 'Colorectal Surgeon', 'Consultant Physician', 'Surgical Oncologist', 'Oral And MaxilloFacial Surgeon, Implantologist, Cosmetic/Aesthetic Dentist', 'Gynecologist, Obstetrician, Infertility Specialist', 'Nephrologist/Renal Specialist', 'Neurosurgeon', 'General Surgeon, Proctologist, Laparoscopic Surgeon', 'Neurologist', 'Dentist', 'Pediatrician', 'AYUSHCounselling Psychologist, Homoeopath', 'Gynecologist, Obstetrician', 'Orthopedic surgeon', 'Oral And MaxilloFacial Surgeon', 'Orthopedic surgeon', 'Ophthalmologist/ Eye Surgeon', 'ENT/ Otorhinolaryngologist', 'Rheumatologist', 'Psychiatrist', 'Ophthalmologist/ Eye Surgeon', 'TherapistCounselling Psychologist', 'TherapistGeriatric Physiotherapist, Physiotherapist', 'Orthopedic surgeon', 'Infertility Specialist, Reproductive Endocrinologist (Infertility), Gynecologist', 'General Physician, Consultant Physician, Internal Medicine', 'AYUSHHomoeopath', 'Obstetrician, Gynecologist', 'Obstetrician, Gynecologist', 'Pediatrician', 'Dentist, Dental Surgeon', 'Psychiatrist', 'General Surgeon, Laparoscopic Surgeon, Bariatric Surgeon', 'GastroIntestinal Surgeon', 'General Physician, General Practitioner', 'Dermatologist, Dermatosurgeon, Aesthetic Dermatologist, Hair Transplant Surgeon', 'Dentist', 'Obstetrician, Gynecologist', 'Pediatrician', 'AYUSHAyurveda', 'AYUSHHomoeopath', 'Laparoscopic Surgeon (Obs & Gyn), Infertility Specialist', 'Orthopedic surgeon, Joint Replacement Surgeon', 'Gynecologist, Obstetrician', 'Orthopedic surgeon, Joint Replacement Surgeon', 'Dentist, Dental Surgeon', 'Gynecologist, Obstetrician', 'Oral And MaxilloFacial Surgeon, Cosmetologist, Hair Transplant Surgeon, Implantologist, Cosmetic/Aesthetic Dentist, Dentist', 'Pediatrician', 'ENT/ Otorhinolaryngologist', 'Neurosurgeon, Neurologist, Spine Surgeon (Neuro)', 'Pediatrician', 'Gynecologist, Obstetrician', 'Dental Surgeon', 'Periodontist, Dentist, Implantologist, Dental Surgeon', 'AYUSHAyurveda, Alternative Medicine', 'Dentist, Dental Surgeon, Implantologist', 'Orthopedic surgeon', 'Plastic Surgeon', 'Surgical Oncologist, General Surgeon', 'Urologist', 'Gynecologist, Obstetrician', 'Obstetrician, Gynecologist', 'Dental Surgeon', 'Orthopedic surgeon', 'Implantologist, Dentist, Cosmetic/Aesthetic Dentist, Prosthodontist', 'Pediatric Surgeon', 'Psychiatrist', 'Gastroenterologist', 'Pediatrician, Allergist/Immunologist', 'TherapistPsychologist', 'Dermatologist, Trichologist, Hair Transplant Surgeon, Cosmetologist', 'Dermatologist', 'General Physician', 'Cosmetic/Aesthetic Dentist, Implantologist, Dentist, Dental Surgeon', 'Dental Surgeon', 'Urologist', 'Pulmonologist', 'General Surgeon, Laparoscopic Surgeon', 'Obstetrician, Gynecologist', 'TherapistCounselling Psychologist, Psychotherapist, Hypnotherapist', 'AYUSHHomoeopath', 'AYUSHHomoeopath', 'Gynecologist', 'ENT/ Otorhinolaryngologist', 'Orthopedic surgeon', 'Dermatologist, Hair Transplant Surgeon', 'Neurosurgeon', 'Gynecologist, Obstetrician', 'Spine Surgeon (Ortho)', 'Orthopedic surgeon', 'Dentist, Implantologist, Cosmetic/Aesthetic Dentist', 'General Physician', 'General Physician', 'Ophthalmologist/ Eye Surgeon', 'AYUSHAyurveda, Alternative Medicine', 'Dentist', 'TherapistPhysiotherapist', 'Infertility Specialist, Gynecologist, Obstetrician', 'Pediatrician', 'TherapistCounselling Psychologist', 'TherapistPhysiotherapist', 'Orthodontist, Dentofacial Orthopedist, Implantologist', 'AYUSHAyurveda', 'Dental Surgeon', 'Radiologist', 'Psychiatrist', 'General Practitioner', 'General Physician', 'Gastroenterologist', 'Dentist, Cosmetic/Aesthetic Dentist', 'Gynecologist', 'AYUSHAyurveda', 'Dermatologist, Trichologist, Aesthetic Dermatologist, Hair Transplant Surgeon, Cosmetologist', 'TherapistPhysiotherapist', 'General Physician, Internal Medicine', 'Internal Medicine, General Physician', 'Hematologist, Hematologic Oncologist', 'Gynecologist', 'Periodontist', 'Cardiologist, Interventional Cardiologist', 'Dentist, Orthodontist', 'Rheumatologist', 'Orthopedic surgeon', 'ENT/ Otorhinolaryngologist', 'Ophthalmologist/ Eye Surgeon', 'AYUSHHomoeopath', 'TherapistPhysiotherapist', 'Psychiatrist', 'Paediatric Intensivist, Pediatrician', 'General Physician, General Practitioner', 'Psychiatrist', 'Dermatologist, Trichologist, Cosmetologist, Hair Transplant Surgeon, Aesthetic Dermatologist', 'Dermatologist', 'Orthopedic surgeon', 'Dental Surgeon, Dentist, Cosmetic/Aesthetic Dentist, Oral Pathologist', 'Urologist', 'Dermatologist', 'Dermatologist', 'Surgical Oncologist', 'Dermatologist, Trichologist, Aesthetic Dermatologist, Hair Transplant Surgeon, Cosmetologist', 'Orthopedic surgeon, Joint Replacement Surgeon, Spine And Pain Specialist', 'Nephrologist/Renal Specialist, Internal Medicine', 'Pediatrician', 'Dentist, Implantologist, Oral And MaxilloFacial Surgeon', 'GastroIntestinal Surgeon, General Surgeon', 'AYUSHAyurveda, Ayurvedic Gynecologist & Obstetrician', 'Pulmonologist', 'Dentist, Cosmetic/Aesthetic Dentist, Implantologist', 'Dentist, Periodontist, Dental Surgeon', 'Internal Medicine', 'AYUSHAyurveda', 'General Physician', 'Cosmetic/Aesthetic Dentist, Dental Surgeon, Endodontist, Dentist', 'Oral And MaxilloFacial Surgeon, Dentist', 'Orthopedic surgeon', 'Dentist', 'Cosmetic/Aesthetic Dentist, Implantologist', 'Dentist, Dental Surgeon, Cosmetic/Aesthetic Dentist', 'Pediatrician', 'Endocrinologist', 'TherapistCounselling Psychologist', 'Pediatric Dentist, Dentist', 'Neurologist', 'Dentist', 'Gynecologist', 'Pediatric Surgeon', 'Pulmonologist', 'Neurosurgeon, Neurointerventional Surgery, Spine Surgeon (Neuro)', 'General Physician, Internal Medicine', 'Plastic Surgeon', 'Endodontist, Cosmetic/Aesthetic Dentist, Dentist, Restorative Dentist, Dental Surgeon', 'Endodontist, Cosmetic/Aesthetic Dentist', 'Neurosurgeon', 'General Physician', 'Gynecologist, Obstetrician', 'Cardiologist', 'Radiation Oncologist', 'TherapistCounselling Psychologist', 'Pediatrician', 'Gastroenterologist', 'Pulmonologist', 'Dentist, Dental Surgeon, Cosmetic/Aesthetic Dentist', 'Gynecologist, Obstetrician', 'Pediatrician, Neonatologist', 'Internal Medicine, Gastroenterologist', 'Infertility Specialist', 'ENT/ Otorhinolaryngologist', 'Pediatrician', 'Pediatrician', 'Neurologist', 'Dermatologist', 'Nephrologist/Renal Specialist', 'Pediatrician, Neonatologist', 'Dentist, Pediatric Dentist', 'Dentist, Orthodontist', 'Pediatrician', 'General Physician, Internal Medicine, Endocrinologist, Diabetologist', 'Rheumatologist', 'Psychiatrist', 'Dentist', 'Dental Surgeon, Conservative Dentist, Cosmetic/Aesthetic Dentist, Endodontist', 'ENT/ Otorhinolaryngologist', 'Gastroenterologist', 'Cosmetic/Aesthetic Dentist, Implantologist', 'Urologist, Laparoscopic Surgeon', 'Dentist, Public Health Dentist', 'AYUSHAyurveda', 'Endodontist, Dental Surgeon, Dentist', 'Hair Transplant Surgeon, Plastic Surgeon', 'Rheumatologist', 'Joint Replacement Surgeon', 'Gynecologist, Reproductive Endocrinologist (Infertility), Infertility Specialist', 'General Surgeon, Laparoscopic Surgeon', 'Gastroenterologist', 'Spine Surgeon (Ortho)', 'Dentist, Pediatric Dentist', 'Dentist, Cosmetic/Aesthetic Dentist, Dental Surgeon', 'Endodontist', 'Dermatologist, Cosmetologist', 'Interventional Cardiologist, Cardiologist, Cardiologist', 'Gynecologist, Obstetrician, Infertility Specialist', 'Gynecologist, Obstetrician, Laparoscopic Surgeon (Obs & Gyn), Infertility Specialist', 'ENT/ Otorhinolaryngologist', 'Neurologist', 'Gastroenterologist', 'Infertility Specialist, Obstetrician, Gynecologist', 'TherapistPhysiotherapist, Sports and Musculoskeletal Physiotherapist', 'TherapistPhysiotherapist', 'Dentist', 'Gynecologist', 'Endocrinologist', 'Orthopedic surgeon', 'General Physician, Internal Medicine', 'Dentofacial Orthopedist, Orthodontist', 'Orthopedic surgeon', 'Medical Oncologist, Hematologic Oncologist', 'Nephrologist/Renal Specialist', 'Dermatologist', 'Gynecologist, Laparoscopic Surgeon (Obs & Gyn)', 'Plastic Surgeon', 'Veterinary Physician', 'Nephrologist/Renal Specialist', 'Infertility Specialist, Gynecologist, Obstetrician', 'Pediatrician', 'Internal Medicine', 'Dermatologist, Pediatric Dermatologist', 'Interventional Cardiologist', 'Cosmetic/Aesthetic Dentist, Dentist, Implantologist', 'General Surgeon', 'Pediatrician', 'Laparoscopic Surgeon, Bariatric Surgeon', 'Plastic Surgeon', 'General Physician', 'Neurosurgeon', 'Pediatrician', 'Endodontist, Dental Surgeon', 'Family Physician', 'Gynecologist', 'Neurosurgeon', 'Surgical Oncologist', 'Nephrologist/Renal Specialist', 'Nephrologist/Renal Specialist', 'ENT/ Otorhinolaryngologist', 'Neurologist', 'Cardiologist', 'Cardiologist', 'Periodontist, Dental Surgeon, Implantologist', 'Pediatrician', 'Rehab & Physical Medicine Specialist', 'Gynecologist, Obstetrician', 'Laparoscopic Surgeon, General Surgeon', 'Pediatrician', 'Oral Medicine and Radiology, Cosmetic/Aesthetic Dentist, Implantologist', 'Dentist, Pediatric Dentist', 'Pulmonologist, General Physician', 'Paediatric Intensivist, Pediatrician', 'TherapistPhysiotherapist', 'Dermatologist', 'Internal Medicine', 'TherapistPhysiotherapist, Geriatric Physiotherapist', 'Gynecologist', 'Orthopedic surgeon', 'AYUSHAyurveda, Alternative Medicine', 'TherapistPhysiotherapist, Neuro Physiotherapist', 'Dentist', 'ENT/ Otorhinolaryngologist', 'Family Physician, General Physician', 'General Surgeon', 'General Surgeon, Proctologist, Bariatric Surgeon, Laparoscopic Surgeon', 'Gynecologist, Obstetrician', 'Orthopedic surgeon, Joint Replacement Surgeon, Spine Surgeon (Ortho)', 'Orthodontist', 'Urologist, Andrologist, Urological Surgeon', 'Dermatologist', 'General Physician', 'Pediatric Surgeon', 'Pediatrician', 'Orthodontist, Implantologist, Dentist', 'Spine And Pain Specialist, Pain Management Specialist', 'Pediatrician', 'Urologist, Urological Surgeon, Andrologist, General Surgeon, Laparoscopic Surgeon', 'Dermatologist, Cosmetologist, Venereologist', 'Orthopedic surgeon', 'Nephrologist/Renal Specialist', 'Infertility Specialist, Reproductive Endocrinologist (Infertility), Gynecologist', 'Gynecologist, Obstetrician', 'Gastroenterologist, General Physician, Internal Medicine', 'ENT/ Otorhinolaryngologist', 'Dermatologist, Hair Transplant Surgeon, Trichologist', 'Dentist, Dental Surgeon', 'Neurosurgeon', 'ENT/ Otorhinolaryngologist, Pediatric Otorhinolaryngologist, Head and Neck Surgeon', 'Dermatologist', 'Cosmetic/Aesthetic Dentist, Implantologist, Dentist', 'Dentist', 'AYUSHHomoeopath', 'Infectious Diseases Physician , Internal Medicine, HIV Specialist, General Physician', 'Pediatrician', 'Gynecologist, Obstetrician', 'Pulmonologist', 'Pediatrician', 'Urologist, Urological Surgeon', 'Pulmonologist', 'AYUSHHomoeopath', 'Neurosurgeon', 'Gynecologist, Obstetrician, Infertility Specialist', 'Plastic Surgeon', 'Dentist', 'AYUSHHomoeopath', 'Internal Medicine', 'Gastroenterologist', 'Pulmonologist, Tuberculous and chest Diseases Specialist', 'Infertility Specialist, Gynecologist, Reproductive Endocrinologist (Infertility)', 'Endocrinologist', 'Infertility Specialist, Gynecologist, Obstetrician', 'Internal Medicine, Consultant Physician, General Physician', 'Pediatrician', 'Radiologist', 'Joint Replacement Surgeon', 'Internal Medicine, General Physician', 'Prosthodontist, Implantologist, Dentist', 'Prosthodontist, Dentist', 'General Physician', 'Gynecologist, Obstetrician, Infertility Specialist', 'Ophthalmologist/ Eye Surgeon', 'TherapistPhysiotherapist', 'General Physician', 'Pediatric Dentist, Preventive Dentistry, Dentist', 'Internal Medicine', 'Cardiologist', 'TherapistPsychotherapist', 'Gynecologist, Infertility Specialist, Obstetrician', 'Endodontist, Implantologist, Restorative Dentist', 'AYUSHAyurveda', 'Cardiologist', 'Obstetrician, Gynecologist', 'Orthopedic surgeon', 'Dermatosurgeon, Aesthetic Dermatologist, Trichologist, Dermatologist, Hair Transplant Surgeon, Cosmetologist', 'Gynecologist, Obstetrician', 'Obstetrician, Gynecologist, Laparoscopic Surgeon (Obs & Gyn)', 'General Physician', 'Urologist, Urological Surgeon, Andrologist', 'Obstetrician, Gynecologist, Infertility Specialist', 'Cosmetic/Aesthetic Dentist', 'Pulmonologist, Tuberculous and chest Diseases Specialist', 'Nephrologist/Renal Specialist', 'AYUSHAyurveda', 'Dermatologist, Hair Transplant Surgeon, Aesthetic Dermatologist, Trichologist, Cosmetologist', 'Obstetrician, Gynecologist', 'Hair Transplant Surgeon', 'Dental Surgeon', 'Dermatologist', 'Urologist', 'AYUSHAcupuncturist, Yoga and Naturopathy', 'Dermatologist, Aesthetic Dermatologist, Venereologist, Trichologist, Hair Transplant Surgeon, Cosmetologist, Dermatosurgeon', 'Orthopedic surgeon', 'Orthopedic surgeon', 'Nephrologist/Renal Specialist', 'Pediatrician', 'AYUSHCosmetologist, Homoeopath', 'ENT/ Otorhinolaryngologist, Pediatric Otorhinolaryngologist', 'Cardiologist', 'TherapistPhysiotherapist', 'Dermatologist, Aesthetic Dermatologist, Trichologist, Cosmetologist, Hair Transplant Surgeon', 'Dental Surgeon, Dentist', 'Hair Transplant Surgeon', 'AYUSHAyurveda', 'Orthopedic surgeon', 'Consultant Physician, General Physician, Internal Medicine', 'Pulmonologist', 'Endodontist, Dentist, Cosmetic/Aesthetic Dentist', 'General Physician', 'Hematologic Oncologist, Medical Oncologist', 'AYUSHAyurveda', 'Neonatologist, Pediatrician', 'Dermatologist', 'Gynecologist, Obstetrician, Laparoscopic Surgeon (Obs & Gyn)', 'General Surgeon, Laparoscopic Surgeon, Bariatric Surgeon', 'Infertility Specialist', 'Periodontist, Dentist, Implantologist, Dental Surgeon', 'Aesthetic Dermatologist, Dermatologist, Trichologist, Cosmetologist', 'Gynecologist', 'Pediatrician', 'AYUSHAyurveda, Counselling Psychologist', 'AYUSHHomoeopath, Dietitian/Nutritionist, Counselling Psychologist', 'Dental Surgeon, Dentist, Cosmetic/Aesthetic Dentist', 'Gynecologist, Obstetrician, Infertility Specialist', 'General Surgeon', 'Plastic Surgeon', 'Urologist', 'ENT/ Otorhinolaryngologist', 'Internal Medicine, General Physician', 'Orthopedic surgeon, Joint Replacement Surgeon, Spine Surgeon (Ortho)', 'Dermatologist', 'Infertility Specialist, Gynecologist, Laparoscopic Surgeon (Obs & Gyn)', 'Neurologist', 'AYUSHAyurveda', 'Endodontist, Cosmetic/Aesthetic Dentist, Restorative Dentist', 'TherapistPhysiotherapist', 'Dentist', 'Gynecologist, Obstetrician', 'Dentist', 'Gynecologist, Obstetrician', 'Urologist', 'AYUSHAyurveda', 'Nephrologist/Renal Specialist', 'General Practitioner, General Physician', 'TherapistClinical Psychologist', 'Internal Medicine, General Physician', 'Endodontist, Cosmetic/Aesthetic Dentist, Dentist', 'Pediatrician', 'Hair Transplant Surgeon', 'Orthopedic surgeon', 'General Physician, General Practitioner', 'Nephrologist/Renal Specialist', 'AYUSHHomoeopath', 'Consultant Physician, Internal Medicine, General Physician', 'Neurosurgeon', 'TherapistDietitian/Nutritionist', 'Obstetrician, Gynecologist', 'Gynecologist, Infertility Specialist, Laparoscopic Surgeon (Obs & Gyn), Obstetrician', 'Orthodontist, Dentist', 'Endodontist, Cosmetic/Aesthetic Dentist', 'Pulmonologist, Tuberculous and chest Diseases Specialist, Somnologist (Sleep Specialist)', 'Pediatric Dentist, Preventive Dentistry', 'TherapistPhysiotherapist', 'Dentist, Oral And MaxilloFacial Surgeon, Cosmetic/Aesthetic Dentist', 'General Physician', 'Endodontist, Conservative Dentist, Cosmetic/Aesthetic Dentist', 'Spine Surgeon (Ortho), Orthopedic surgeon, Spine And Pain Specialist', 'Orthopedic surgeon', 'Endodontist, Restorative Dentist, Cosmetic/Aesthetic Dentist, Dentist', 'Cardiac Surgeon, Cardiothoracic Surgeon, Cardiothoracic and Vascular Surgeon', 'Medical Oncologist', 'Orthopedic surgeon', 'Orthopedic surgeon, Joint Replacement Surgeon', 'ENT/ Otorhinolaryngologist', 'Neurosurgeon, Spine Surgeon (Ortho)', 'Orthopedic surgeon', 'Orthopedic surgeon', 'AYUSHHomoeopath', 'Dentist', 'Dentist', 'Pediatrician', 'Pediatrician', 'TherapistDietitian/Nutritionist', 'Pediatrician', 'Neurologist', 'Pediatric Surgeon', 'Dermatologist, Cosmetologist, Hair Transplant Surgeon', 'Gynecologist', 'Dermatologist, Cosmetologist, Dermatosurgeon, Aesthetic Dermatologist', 'Orthopedic surgeon', 'Dental Surgeon, Implantologist', 'AYUSHHomoeopath, Sexologist (Homeopathy)', 'ENT/ Otorhinolaryngologist', 'ENT/ Otorhinolaryngologist', 'TherapistPhysiotherapist', 'Medical Oncologist', 'General Physician', 'Internal Medicine, General Physician, Consultant Physician', 'Pediatrician, Neonatologist', 'Dentist, Dental Surgeon, Cosmetic/Aesthetic Dentist, Implantologist', 'Dermatologist, Aesthetic Dermatologist', 'Plastic Surgeon', 'Endodontist, Dentist', 'Pediatrician', 'General Physician', 'Orthodontist', 'Dentist, Implantologist, Prosthodontist', 'Dermatologist', 'Neonatologist', 'Cardiologist', 'Gynecologist', 'ENT/ Otorhinolaryngologist', 'Pediatrician', 'TherapistSports and Musculoskeletal Physiotherapist', 'Radiologist', 'General Practitioner', 'General Surgeon', 'AYUSHHomoeopath', 'Nephrologist/Renal Specialist', 'Surgical Oncologist', 'Dentist', 'TherapistNeuropsychologist', 'Ophthalmologist/ Eye Surgeon', 'Psychiatrist', 'Obstetrician, Gynecologist', 'AYUSHYoga and Naturopathy', 'Gynecologist, Obstetrician', 'Nephrologist/Renal Specialist', 'Radiation Oncologist', 'Implantologist, Dentist', 'Pediatric Surgeon', 'Nephrologist/Renal Specialist', 'TherapistDietitian/Nutritionist', 'Dental Surgeon', 'Obstetrician, Gynecologist', 'TherapistPhysiotherapist', 'Dental Surgeon', 'Hair Transplant Surgeon, Dermatologist, Cosmetologist', 'Pediatrician', 'Gynecologist, Obstetrician', 'TherapistCounselling Psychologist', 'Pediatrician, Neonatologist', 'Pediatrician', 'Rheumatologist', 'Joint Replacement Surgeon, Orthopedic surgeon', 'Ophthalmologist/ Eye Surgeon', 'Orthopedic surgeon', 'Cardiologist', 'Laparoscopic Surgeon, Bariatric Surgeon, General Surgeon', 'Prosthodontist, Implantologist', 'General Physician', 'Infertility Specialist, Laparoscopic Surgeon (Obs & Gyn), Gynecologist', 'AYUSHHomoeopath', 'Dental Surgeon, Implantologist', 'Psychiatrist', 'Dentist, Dental Surgeon, Implantologist', 'TherapistPhysiotherapist', 'AYUSHAyurveda, Alternative Medicine', 'Endodontist, Conservative Dentist, Restorative Dentist', 'Neurosurgeon', 'Gastroenterologist', 'Dentist', 'Pediatrician', 'Pediatrician', 'Dentist', 'Internal Medicine, General Physician', 'Endodontist, Dentist, Cosmetic/Aesthetic Dentist, Dental Surgeon', 'Oral And MaxilloFacial Surgeon, Dentist', 'Neurologist', 'Psychiatrist', 'ENT/ Otorhinolaryngologist', 'Plastic Reconstruction Surgeon', 'Surgical Oncologist, Laparoscopic Surgeon, Breast Surgeon', 'AYUSHHomoeopath', 'Laparoscopic Surgeon, Colorectal Surgeon, General Surgeon', 'Pediatrician, Allergist/Immunologist', 'Plastic Surgeon', 'TherapistPediatric Physiotherapist', 'ENT/ Otorhinolaryngologist', 'Dentist, Oral Pathologist', 'Neurosurgeon', 'Orthopedic surgeon', 'Gynecologist, Obstetrician', 'Orthopedic surgeon, Spine Surgeon (Ortho)', 'Gynecologist, Infertility Specialist, Obstetrician', 'Plastic Surgeon', 'Dentist, Dental Surgeon', 'Radiologist', 'ENT/ Otorhinolaryngologist', 'Laparoscopic Surgeon, General Surgeon, Proctologist, Bariatric Surgeon', 'Veterinary Physician', 'Pediatrician, Neonatologist', 'Infertility Specialist, Obstetrician, Gynecologist, Reproductive Health Specialist', 'Plastic Surgeon', 'ENT/ Otorhinolaryngologist', 'TherapistCounselling Psychologist', 'Pediatrician, Neonatologist', 'Pediatrician', 'Obstetrician, Gynecologist', 'Spine Surgeon (Ortho)', 'Gynecologist, Obstetrician', 'TherapistPhysiotherapist', 'Gynecologist, Obstetrician', 'Gastroenterologist', 'Infertility Specialist, Gynecologist, Obstetrician', 'Dentist, Implantologist', 'Dentist, Periodontist, Implantologist, Dental Surgeon, Cosmetic/Aesthetic Dentist', 'AYUSHYoga and Naturopathy, Acupuncturist', 'General Practitioner', 'Dermatologist', 'Internal Medicine, General Practitioner, Consultant Physician', 'General Surgeon, Laparoscopic Surgeon, Proctologist', 'Cardiologist, Internal Medicine, Interventional Cardiologist', 'TherapistClinical Psychologist', 'General Physician', 'Gynecologist, Infertility Specialist', 'Gynecologist, Obstetrician', 'Urologist', 'Dentist', 'Orthopedic surgeon, Joint Replacement Surgeon, Spine And Pain Specialist', 'Gastroenterologist', 'AYUSHHomoeopath', 'Rheumatologist', 'Dentist, Cosmetic/Aesthetic Dentist, Implantologist', 'ENT/ Otorhinolaryngologist', 'Dental Surgeon, Oral Medicine and Radiology', 'Family Physician', 'General Physician, Internal Medicine', 'Dermatologist, Cosmetologist', 'Internal Medicine', 'Pediatrician', 'Dental Surgeon', 'Urologist', 'General Physician', 'Dentist, Prosthodontist, Implantologist', 'Infertility Specialist', 'Obstetrician, Gynecologist, Infertility Specialist, Laparoscopic Surgeon (Obs & Gyn)', 'Dentist', 'Dental Surgeon, Cosmetic/Aesthetic Dentist', 'General Physician', 'General Physician', 'Orthopedic surgeon', 'Gynecologist', 'Gynecologist, Obstetrician, Infertility Specialist', 'Joint Replacement Surgeon', 'Infertility Specialist, Gynecologist, Obstetrician', 'Oral And MaxilloFacial Surgeon, Implantologist, Dentist, Cosmetic/Aesthetic Dentist', 'ENT/ Otorhinolaryngologist', 'Dentist, Cosmetic/Aesthetic Dentist, Dental Surgeon', 'Laparoscopic Surgeon, Bariatric Surgeon, General Surgeon, Proctologist', 'Gynecologist, General Physician', 'Urologist, General Surgeon', 'Ophthalmologist/ Eye Surgeon', 'Dermatologist', 'Urologist, Andrologist, Urological Surgeon', 'Plastic Surgeon, Plastic Reconstruction Surgeon, Diabetic Foot Surgeon, Cosmetologist, Burn Surgeon', 'General Physician', 'Dentist', 'Internal Medicine, General Physician', 'Cardiologist', 'General Physician, Special Interest in Diabetology', 'Orthopedic surgeon, Spine Surgeon (Ortho), Joint Replacement Surgeon', 'Internal Medicine', 'Neurologist', 'Obstetrician, Gynecologist', 'Joint Replacement Surgeon', 'TherapistCounselling Psychologist', 'Orthopedic surgeon', 'Nephrologist/Renal Specialist', 'Pediatrician', 'TherapistPhysiotherapist', 'AYUSHHomoeopath', 'Dentist, Orthodontist, Dental Surgeon', 'Dentist, Oral Medicine and Radiology', 'Urologist, Andrologist', 'TherapistOccupational Therapist', 'Rheumatologist', 'General Physician', 'Gastroenterologist', 'Dentist, Dental Surgeon', 'Pediatrician', 'Dentist, Implantologist, Dental Surgeon', 'Pediatrician', 'Dermatologist', 'Dentist, Dental Surgeon, Implantologist, Cosmetic/Aesthetic Dentist', 'Hepatologist', 'TherapistCounselling Psychologist', 'Joint Replacement Surgeon, Orthopedic surgeon', 'Psychiatrist, Neuropsychiatrist, Psychotherapist, Addiction Psychiatrist, Geriatric Psychiatrist', 'Dentist, Orthodontist, Dentofacial Orthopedist, Implantologist', 'Pediatrician', 'Pediatric Dentist, Dental Surgeon', 'General Physician, Internal Medicine', 'Dentist, Cosmetic/Aesthetic Dentist', 'General Physician', 'Obstetrician, Gynecologist, Infertility Specialist', 'Pediatrician', 'Endodontist, Restorative Dentist, Conservative Dentist, Dentist', 'Dermatologist, Cosmetologist', 'Dentist, Dental Surgeon', 'Orthodontist, Dentist', 'Dentist, Endodontist, Cosmetic/Aesthetic Dentist, Conservative Dentist', 'Urologist', 'Orthopedic surgeon', 'Neurologist', 'Obstetrician, Gynecologist, Laparoscopic Surgeon (Obs & Gyn)', 'Gynecologist', 'Pediatrician', 'Radiation Oncologist', 'AYUSHAyurveda', 'Dentist', 'Dentist', 'Endodontist, Dentist, Restorative Dentist', 'Radiation Oncologist', 'Obstetrician', 'Dentist, Cosmetic/Aesthetic Dentist', 'Dentist, Implantologist, Periodontist', 'Oral And MaxilloFacial Surgeon, Implantologist', 'Dental Surgeon, Pediatric Dentist, Preventive Dentistry', 'Obstetrician, Infertility Specialist', 'General Physician', 'Neurosurgeon', 'Cardiologist', 'Infertility Specialist, Gynecologist, Obstetrician', 'Internal Medicine, General Physician, Consultant Physician', 'Pediatrician', 'ENT/ Otorhinolaryngologist, Head and Neck Surgeon, Allergist/Immunologist', 'Gastroenterologist', 'Internal Medicine', 'TherapistPhysiotherapist', 'Pediatric Cardiologist', 'Implantologist, Dental Surgeon', 'Pediatrician', 'Ophthalmologist/ Eye Surgeon', 'Nephrologist/Renal Specialist', 'Gynecologic Oncologist', 'Radiologist', 'Obstetrician', 'Oral Medicine and Radiology, Implantologist, Dentist, Cosmetic/Aesthetic Dentist', 'Dentist, Endodontist', 'Dentist, Cosmetic/Aesthetic Dentist', 'Gynecologist', 'Joint Replacement Surgeon, Orthopedic surgeon', 'Dermatologist, Dermatosurgeon, Venereologist, Cosmetologist', 'Obstetrician, Gynecologist, Infertility Specialist', 'Medical Oncologist', 'Orthopedic surgeon, Joint Replacement Surgeon', 'Oral And MaxilloFacial Surgeon, Dentist', 'Dental Surgeon, Periodontist, Implantologist', 'Spine Surgeon (Ortho)', 'ENT/ Otorhinolaryngologist', 'Cardiologist', 'TherapistOccupational Therapist', 'Gynecologist, Infertility Specialist', 'Neuroradiologist, Interventional Radiologist', 'Dental Surgeon, Preventive Dentistry, Public Health Dentist', 'Dermatologist, Aesthetic Dermatologist, Trichologist', 'Neurologist, Neurosurgeon', 'Gynecologist', 'Dental Surgeon, Implantologist, Dentist', 'ENT/ Otorhinolaryngologist', 'AYUSHAyurveda, Alternative Medicine', 'Cosmetic/Aesthetic Dentist, Implantologist', 'Gynecologist, Obstetrician', 'Gastroenterologist', 'Implantologist, Dental Surgeon, Dentist, Cosmetic/Aesthetic Dentist', 'Gynecologist, Obstetrician', 'General Surgeon, Laparoscopic Surgeon', 'Dentist, Oral And MaxilloFacial Surgeon', 'Cardiologist', 'Dentist, Dental Surgeon', 'General Surgeon', 'Dermatologist', 'General Physician, Internal Medicine', 'Pediatrician', 'Reproductive Endocrinologist (Infertility), Gynecologist, Obstetrician, Infertility Specialist', 'Family and Community Medicine Specialist', 'Nephrologist/Renal Specialist', 'General Physician, Internal Medicine, Consultant Physician', 'AYUSHSiddha', 'Orthopedic surgeon', 'Dermatologist', 'Orthodontist', 'Dentist', 'Obstetrician, Gynecologist', 'Obstetrician, Gynecologist', 'Pediatric Neurologist, Pediatrician', 'Dental Surgeon', 'Orthopedic surgeon, Joint Replacement Surgeon', 'Orthopedic surgeon, Sports Medicine Surgeon', 'TherapistDietitian/Nutritionist', 'General Physician', 'Dental Surgeon, Cosmetic/Aesthetic Dentist', 'ENT/ Otorhinolaryngologist', 'Neurologist', 'Dermatologist, Trichologist, Cosmetologist', 'Nephrologist/Renal Specialist', 'Gynecologist, Obstetrician, Infertility Specialist', 'Pulmonologist', 'Medical Oncologist, Hematologic Oncologist', 'Dentist, Cosmetic/Aesthetic Dentist', 'Orthopedic surgeon, Joint Replacement Surgeon', 'General Physician', 'Cosmetologist, Dermatosurgeon, Aesthetic Dermatologist, Dermatologist', 'Pediatrician', 'Cardiothoracic Surgeon, Cardiac Surgeon, Cardiologist', 'Surgical Oncologist', 'Radiologist', 'ENT/ Otorhinolaryngologist', 'Prosthodontist, Dentist, Implantologist', 'AYUSHAlternative Medicine, Ayurveda', 'TherapistPhysiotherapist, Geriatric Physiotherapist', 'Endocrinologist', 'Internal Medicine', 'Pediatrician, General Physician, Neonatologist', 'Obstetrician, Gynecologist, Infertility Specialist', 'Pediatric Surgeon', 'Ophthalmologist/ Eye Surgeon', 'Dermatologist, Cosmetologist', 'Nephrologist/Renal Specialist', 'Prosthodontist, Implantologist', 'Dentist, Orthodontist, Implantologist', 'Plastic Surgeon, Hair Transplant Surgeon, Cosmetologist', 'Dental Surgeon, Orthodontist', 'TherapistPhysiotherapist', 'Pediatrician', 'TherapistPhysiotherapist', 'Obstetrician', 'General Surgeon', 'Dermatologist', 'Neurosurgeon, Neurointerventional Surgery, Spine Surgeon (Neuro)', 'Dentist, Periodontist, Implantologist', 'Hair Transplant Surgeon', 'ENT/ Otorhinolaryngologist', 'Dermatologist', 'Orthopedic surgeon', 'Gynecologist, Obstetrician', 'Pediatrician', 'Dentist, Prosthodontist', 'Orthopedic surgeon, Spine Surgeon (Ortho), Joint Replacement Surgeon, Spine And Pain Specialist', 'Gynecologist, Laparoscopic Surgeon (Obs & Gyn)', 'Orthopedic surgeon', 'ENT/ Otorhinolaryngologist, General Physician', 'Prosthodontist, Implantologist', 'General Physician, Consultant Physician, Internal Medicine', 'Neurosurgeon', 'Orthodontist, Dentist', 'Gynecologist, Obstetrician', 'Obstetrician, Gynecologist, Laparoscopic Surgeon (Obs & Gyn)', 'TherapistAudiologist', 'Neurosurgeon, Spine Surgeon (Ortho)', 'Pediatric Hematologic-Oncologist, Pediatrician', 'Dermatologist, Trichologist, Aesthetic Dermatologist, Hair Transplant Surgeon, Cosmetologist', 'Internal Medicine', 'General Surgeon', 'Internal Medicine', 'Cardiologist, Cardiothoracic Surgeon', 'Dentist, Periodontist, Implantologist', 'Endodontist', 'Neurologist', 'Dermatologist, Hair Transplant Surgeon, Aesthetic Dermatologist', 'AYUSHAyurveda', 'Orthopedic surgeon, Joint Replacement Surgeon, Spine Surgeon (Ortho)', 'Gastroenterologist', 'Dental Surgeon, Dentist', 'AYUSHAyurveda', 'Surgical Oncologist', 'Pediatric Cardiologist, Pediatrician', 'AYUSHAyurveda', 'Orthodontist, Dentist', 'Cosmetic/Aesthetic Dentist, Dental Surgeon, Implantologist', 'Radiologist, General Physician', 'Internal Medicine, General Physician', 'Dental Surgeon, Dentist', 'Plastic Surgeon', 'TherapistPhysiotherapist', 'TherapistPsychologist, Counselling Psychologist', 'Endodontist, Dentist, Dental Surgeon, Cosmetic/Aesthetic Dentist, Conservative Dentist, Restorative Dentist, Implantologist', 'TherapistPhysiotherapist', 'Orthopedic surgeon', 'TherapistPhysiotherapist', 'Nephrologist/Renal Specialist', 'General Physician, General Practitioner', 'Pediatrician', 'Gynecologist', 'Endodontist', 'Endodontist', 'Pediatrician', 'General Surgeon', 'Joint Replacement Surgeon, Orthopedic surgeon, Spine Surgeon (Ortho)', 'Endocrinologist', 'Internal Medicine, General Physician', 'Neurosurgeon, Spine Surgeon (Neuro)', 'Orthodontist, Implantologist, Dentist', 'TherapistPsychotherapist, Clinical Psychologist', 'Cardiothoracic Surgeon', 'Neonatologist, Pediatrician', 'Orthopedic surgeon', 'Pediatrician', 'Dermatologist, Trichologist, Hair Transplant Surgeon', 'Dentist', 'Neurosurgeon', 'General Practitioner, General Physician, Neurologist', 'General Physician, Consultant Physician, Internal Medicine, General Practitioner', 'General Physician', 'TherapistPhysiotherapist', 'TherapistCardiovascular & Pulmonary Physiotherapist', 'Cardiologist', 'Dental Surgeon, Cosmetic/Aesthetic Dentist, Dentist', 'Dentist, Orthodontist', 'Periodontist, Implantologist, Dentist', 'Cardiothoracic and Vascular Surgeon, Cardiothoracic Surgeon', 'Vascular Surgeon', 'Pulmonologist', 'Orthodontist, Dentist', 'Gynecologist, Laparoscopic Surgeon (Obs & Gyn)', 'Neurosurgeon, Spine Surgeon (Neuro), Neurologist', 'Pediatrician', 'Plastic Surgeon, Hair Transplant Surgeon, Plastic Reconstruction Surgeon, Burn Surgeon', 'ENT/ Otorhinolaryngologist', 'TherapistPhysiotherapist', 'Pediatric Dentist, Preventive Dentistry', 'Plastic Surgeon', 'Oral Medicine and Radiology, Dentist, Cosmetic/Aesthetic Dentist', 'Obstetrician, Gynecologist', 'TherapistPhysiotherapist', 'TherapistPediatric Physiotherapist, Physiotherapist', 'Family Physician', 'Dentist, Implantologist, Oral And MaxilloFacial Surgeon, Dental Surgeon', 'Dentist, Oral And MaxilloFacial Surgeon, Dental Surgeon, Implantologist', 'Ophthalmologist/ Eye Surgeon', 'Neurologist', 'Gastroenterologist', 'Surgical Oncologist, General Surgeon, Laparoscopic Surgeon', 'TherapistPhysiotherapist, Orthopedic Physiotherapist, Geriatric Physiotherapist', 'TherapistCounselling Psychologist', 'TherapistCounselling Psychologist', 'Family Physician, General Physician', 'Dermatologist, Cosmetologist', 'General Physician, Internal Medicine', 'Dermatologist, Cosmetologist, Dermatosurgeon, Pediatric Dermatologist, Immunodermatologist, Trichologist', 'Pediatric Dentist, Preventive Dentistry', 'Dermatologist', 'ENT/ Otorhinolaryngologist', 'Orthopedic surgeon', 'Obstetrician, Gynecologist', 'General Physician', 'Periodontist, Cosmetic/Aesthetic Dentist, Dentist', 'TherapistClinical Psychologist', 'Joint Replacement Surgeon, Orthopedic surgeon', 'General Physician', 'Gastroenterologist', 'Urologist, Andrologist, Urological Surgeon', 'Internal Medicine', 'ENT/ Otorhinolaryngologist, Head and Neck Surgeon', 'AYUSHHomoeopath', 'Neurosurgeon', 'General Surgeon', 'Periodontist, Cosmetic/Aesthetic Dentist, Dental Surgeon', 'Dentist, Pediatric Dentist', 'Internal Medicine', 'Pediatrician', 'Gynecologist, Obstetrician', 'Reproductive Endocrinologist (Infertility), Obstetrician', 'GastroIntestinal Surgeon', 'Orthopedic surgeon', 'AYUSHAyurveda', 'TherapistPhysiotherapist', 'AYUSHAyurveda', 'General Surgeon, Bariatric Surgeon, GastroIntestinal Surgeon', 'Medical Oncologist, Hematologic Oncologist', 'Pediatrician', 'Periodontist, Dentist, Dental Surgeon', 'Periodontist, Implantologist', 'Obstetrician, Gynecologist, Infertility Specialist', 'Periodontist, Dentist', 'AYUSHHomoeopath', 'Plastic Surgeon', 'Endodontist, Dental Surgeon, Dentist, Cosmetic/Aesthetic Dentist, Implantologist', 'Dentist', 'Psychiatrist', 'General Physician, Internal Medicine, Special Interest in Diabetology', 'Obstetrician', 'Dentist', 'General Physician, Internal Medicine, Consultant Physician', 'GastroIntestinal Surgeon, Gastroenterologist, Laparoscopic Surgeon', 'Pediatric Dentist, Preventive Dentistry, Dentist', 'Orthopedic surgeon', 'Pulmonologist', 'Nephrologist/Renal Specialist', 'Gynecologist, Obstetrician, Laparoscopic Surgeon (Obs & Gyn)', 'Neonatologist, Pediatrician', 'Gynecologist, Obstetrician, Infertility Specialist', 'Internal Medicine, General Physician', 'Dentist, Dental Surgeon, Cosmetic/Aesthetic Dentist', 'Internal Medicine, General Physician', 'Cardiologist', 'Cardiothoracic and Vascular Surgeon, Cardiac Surgeon, Cardiothoracic Surgeon', 'Gynecologist, Obstetrician', 'ENT/ Otorhinolaryngologist, Head and Neck Surgeon', 'Urologist, Urological Surgeon', 'Orthopedic surgeon', 'General Physician', 'Dental Surgeon', 'Neurologist', 'Colorectal Surgeon, General Surgeon', 'Gynecologist, Obstetrician, Laparoscopic Surgeon (Obs & Gyn)', 'Dentist', 'Urologist', 'Gynecologist, Obstetrician, Infertility Specialist', 'TherapistOrthopedic Physiotherapist', 'TherapistPhysiotherapist', 'Special Interest in Infectious Diseases', 'Dentist, Dental Surgeon, Cosmetic/Aesthetic Dentist', 'Dermatologist, Trichologist, Aesthetic Dermatologist, Hair Transplant Surgeon, Cosmetologist', 'Head and Neck Surgeon, ENT/ Otorhinolaryngologist', 'Endocrinologist', 'Gynecologist, Obstetrician, Laparoscopic Surgeon (Obs & Gyn)', 'Pulmonologist', 'AYUSHAyurveda', 'TherapistSports and Musculoskeletal Physiotherapist', 'AYUSHAyurveda', 'Pediatrician', 'Cosmetic/Aesthetic Dentist, Dentofacial Orthopedist', 'Dentist', 'Cardiothoracic Surgeon', 'TherapistPhysiotherapist', 'Dentist, Dental Surgeon', 'Urologist, Laparoscopic Surgeon, General Surgeon', 'Pediatric Dentist, Preventive Dentistry, Cosmetic/Aesthetic Dentist', 'Cardiologist', 'Ophthalmologist/ Eye Surgeon', 'General Surgeon, Bariatric Surgeon', 'Ophthalmologist/ Eye Surgeon', 'Gynecologist, Obstetrician, Laparoscopic Surgeon (Obs & Gyn)', 'Neurologist', 'General Physician', 'General Physician, General Practitioner', 'Dentist, Endodontist, Implantologist', 'ENT/ Otorhinolaryngologist', 'Cardiologist', 'Dentist, Cosmetic/Aesthetic Dentist', 'Gynecologist, Obstetrician, Laparoscopic Surgeon (Obs & Gyn), Infertility Specialist', 'Infertility Specialist, Gynecologist', 'Cardiologist, Interventional Cardiologist', 'TherapistDietitian/Nutritionist', 'TherapistCounselling Psychologist, Child Behavior Therapist', 'Dentist, Implantologist', 'Psychiatrist', 'AYUSHHomoeopath', 'Obstetrician, Gynecologist, Laparoscopic Surgeon (Obs & Gyn)', 'Gynecologist, Obstetrician, Infertility Specialist', 'Urologist', 'Orthodontist, Dentist', 'Plastic Surgeon, Hair Transplant Surgeon, Plastic Reconstruction Surgeon', 'Endocrinologist', 'Gynecologist, Laparoscopic Surgeon (Obs & Gyn), Obstetrician', 'Anesthesiologist, Pain Management Specialist', 'ENT/ Otorhinolaryngologist', 'Pediatrician', 'General Surgeon', 'Joint Replacement Surgeon, Sports Medicine Surgeon', 'General Physician', 'Pediatrician', 'Ophthalmologist/ Eye Surgeon', 'General Physician', 'Dentist, Pediatric Dentist', 'Internal Medicine', 'TherapistCounselling Psychologist', 'Dentist, Periodontist, Implantologist, Cosmetic/Aesthetic Dentist', 'General Surgeon, Laparoscopic Surgeon, Bariatric Surgeon', 'Orthopedic surgeon, Joint Replacement Surgeon', 'Obstetrician, Infertility Specialist', 'Endocrinologist', 'Endodontist, Cosmetic/Aesthetic Dentist', 'Dentist', 'Orthopedic surgeon', 'Obstetrician, Gynecologist, Infertility Specialist', 'Dermatologist, Cosmetologist, Hair Transplant Surgeon', 'Obstetrician, Gynecologist, Infertility Specialist', 'Ophthalmologist/ Eye Surgeon', 'Pediatrician', 'TherapistCounselling Psychologist, Psychotherapist', 'Orthopedic surgeon', 'Pediatrician', 'TherapistSports and Musculoskeletal Physiotherapist', 'Dentist', 'ENT/ Otorhinolaryngologist', 'Pediatrician', 'ENT/ Otorhinolaryngologist', 'Nephrologist/Renal Specialist', 'General Surgeon, Laparoscopic Surgeon', 'Cardiologist', 'Pediatrician', 'Gynecologist, Obstetrician, Infertility Specialist', 'TherapistCounselling Psychologist', 'Dermatologist, Cosmetologist, Trichologist, Aesthetic Dermatologist, Hair Transplant Surgeon', 'Dentist, Cosmetic/Aesthetic Dentist', 'Gynecologist', 'Radiologist', 'Orthodontist', 'General Surgeon, Laparoscopic Surgeon, Proctologist', 'ENT/ Otorhinolaryngologist', 'General Surgeon', 'General Surgeon, Laparoscopic Surgeon, Diabetic Foot Surgeon', 'ENT/ Otorhinolaryngologist', 'Dental Surgeon, Cosmetic/Aesthetic Dentist', 'TherapistPhysiotherapist', 'Gastroenterologist', 'Pediatrician', 'Plastic Surgeon, Burn Surgeon, Hair Transplant Surgeon', 'Hair Transplant Surgeon', 'Obstetrician, Gynecologist', 'ENT/ Otorhinolaryngologist', 'Psychiatrist', 'Orthodontist, Dentofacial Orthopedist, Cosmetic/Aesthetic Dentist, Dentist', 'Orthopedic surgeon', 'Orthopedic surgeon', 'General Surgeon', 'General Physician, Special Interest in Diabetology', 'Dentist', 'TherapistPhysiotherapist', 'Pediatrician', 'Cardiologist', 'Orthopedic surgeon', 'ENT/ Otorhinolaryngologist', 'Psychiatrist', 'Urologist', 'TherapistDietitian/Nutritionist', 'AYUSHHomoeopath', 'Veterinary Physician', 'Obstetrician, Gynecologist, Infertility Specialist', 'Gynecologist', 'Medical Oncologist', 'Dentist, Implantologist, Dental Surgeon', 'Pediatrician', 'Neurosurgeon', 'Orthopedic surgeon, Joint Replacement Surgeon', 'Dermatosurgeon, Aesthetic Dermatologist, Dermatologist', 'TherapistPhysiotherapist', 'General Physician, General Practitioner, Consultant Physician', 'Dental Surgeon, Dentist, Cosmetic/Aesthetic Dentist', 'TherapistClinical Psychologist', 'Gynecologist, Obstetrician', 'TherapistPhysiotherapist, Orthopedic Physiotherapist', 'Pediatrician', 'Spine Surgeon (Ortho), Orthopedic surgeon, Spine And Pain Specialist, Joint Replacement Surgeon', 'TherapistCounselling Psychologist', 'Dentist, Oral Medicine and Radiology, Implantologist', 'Dentist, Oral Pathologist', 'Internal Medicine', 'TherapistPhysiotherapist', 'Internal Medicine, General Physician', 'Neurosurgeon, General Surgeon, Laparoscopic Surgeon, Spine Surgeon (Neuro)', 'Neurosurgeon', 'Oral And MaxilloFacial Surgeon', 'Radiation Oncologist', 'Dentist, Dental Surgeon, Cosmetic/Aesthetic Dentist', 'Cardiologist', 'Neurologist', 'Obstetrician, Gynecologist, Infertility Specialist', 'Gastroenterologist', 'Pediatrician', 'Orthopedic surgeon', 'Orthodontist, Dentofacial Orthopedist', 'Dental Surgeon, Implantologist', 'Plastic Surgeon, General Surgeon, Cosmetologist, Hair Transplant Surgeon', 'Orthopedic surgeon, Joint Replacement Surgeon', 'Ophthalmologist/ Eye Surgeon', 'Medical Oncologist, Hematologic Oncologist', 'Dentist, Cosmetic/Aesthetic Dentist', 'Gynecologist, Obstetrician', 'Pulmonologist', 'Dentist', 'Cardiothoracic and Vascular Surgeon, Cardiothoracic Surgeon', 'AYUSHYoga and Naturopathy', 'TherapistCounselling Psychologist', 'ENT/ Otorhinolaryngologist', 'General Physician, Pulmonologist, Tuberculous and chest Diseases Specialist', 'Plastic Surgeon, Hair Transplant Surgeon', 'Cardiothoracic and Vascular Surgeon', 'Gynecologist, Obstetrician', 'Breast Surgeon', 'Cardiologist', 'Gynecologist', 'Pediatrician', 'Gynecologist, Obstetrician', 'Dentist, Endodontist', 'Plastic Surgeon, Plastic Reconstruction Surgeon', 'TherapistSpeech Therapist, Audiologist', 'Gynecologist', 'Dentist, Cosmetic/Aesthetic Dentist, Implantologist', 'Infertility Specialist, Laparoscopic Surgeon (Obs & Gyn)', 'Psychiatrist', 'Gynecologist', 'General Physician', 'Interventional Cardiologist, Cardiologist', 'Orthopedic surgeon, Joint Replacement Surgeon', 'Pediatrician', 'General Surgeon, Laparoscopic Surgeon', 'Laparoscopic Surgeon (Obs & Gyn), Obstetrician, Gynecologist', 'Ophthalmologist/ Eye Surgeon', 'General Surgeon, Bariatric Surgeon, Laparoscopic Surgeon, Proctologist', 'Pediatrician', 'Veterinary Physician', 'Orthopedic surgeon, Joint Replacement Surgeon', 'Cosmetic/Aesthetic Dentist, Dental Surgeon', 'Pediatrician', 'Gynecologist, Laparoscopic Surgeon (Obs & Gyn), Infertility Specialist', 'AYUSHHomoeopath', 'TherapistPhysiotherapist', 'Anesthesiologist, General Physician', 'Orthopedic surgeon', 'Gynecologist, Obstetrician, Laparoscopic Surgeon (Obs & Gyn)', 'Veterinary Physician', 'Orthopedic surgeon', 'Dental Surgeon, Dentist', 'Dentist', 'Psychiatrist, Addiction Psychiatrist, Neuropsychiatrist', 'General Physician, Internal Medicine', 'Dentist, Orthodontist', 'Vascular Surgeon', 'Urologist, Urological Surgeon', 'General Physician, Internal Medicine', 'General Surgeon', 'Orthopedic surgeon', 'Cardiologist, Interventional Cardiologist', 'General Physician', 'Oral And MaxilloFacial Surgeon, Dentist', 'Nephrologist/Renal Specialist', 'Radiation Oncologist', 'AYUSHHomoeopath', 'Obstetrician, Gynecologist', 'Psychiatrist', 'Dermatologist', 'Pulmonologist, Tuberculous and chest Diseases Specialist', 'Dermatologist, Pediatric Dermatologist', 'Obstetrician, Gynecologist, Infertility Specialist, Laparoscopic Surgeon (Obs & Gyn)', 'Obstetrician, Gynecologist', 'Orthopedic surgeon', 'Nephrologist/Renal Specialist', 'Dentist', 'TherapistCounselling Psychologist', 'AYUSHAcupuncturist, Yoga and Naturopathy', 'GastroIntestinal Surgeon, General Surgeon', 'TherapistDietitian/Nutritionist', 'Urologist, Andrologist, Laparoscopic Surgeon', 'Neurosurgeon', 'TherapistPhysiotherapist', 'ENT/ Otorhinolaryngologist', 'AYUSHHomoeopath, Homoeopathic Pediatrician', 'Endodontist, Conservative Dentist, Dentist', 'Dental Surgeon', 'Urological Surgeon, Urologist', 'Orthopedic surgeon', 'Dermatologist, Cosmetologist', 'Rehab & Physical Medicine Specialist', 'Cardiologist', 'Gynecologist, Obstetrician', 'Ophthalmologist/ Eye Surgeon', 'Orthopedic surgeon, Joint Replacement Surgeon', 'Critical Care Medicine, General Physician', 'Gynecologist, Obstetrician', 'General Physician, Special Interest in Diabetology', 'Nephrologist/Renal Specialist', 'Pediatrician', 'Cardiothoracic and Vascular Surgeon, Cardiac Surgeon, Cardiothoracic Surgeon', 'Urologist', 'Cardiologist, Interventional Cardiologist', 'Colorectal Surgeon', 'AYUSHPhysiotherapist, Osteopath', 'Obstetrician, Gynecologist', 'TherapistCounselling Psychologist, Psychotherapist', 'Dentist, Implantologist, Periodontist', 'General Physician', 'Cosmetic/Aesthetic Dentist, Dental Surgeon', 'General Physician, Internal Medicine', 'Obstetrician, Gynecologist', 'Gastroenterologist', 'Endodontist', 'Orthodontist, Dentist, Dental Surgeon', 'Pediatrician', 'TherapistDietitian/Nutritionist', 'Medical Oncologist', 'General Surgeon', 'Gynecologist, Obstetrician', 'Cardiologist', 'Radiation Oncologist', 'General Surgeon', 'Cosmetologist, Dermatologist, Trichologist', 'Gynecologist, Obstetrician', 'Orthopedic surgeon, Joint Replacement Surgeon', 'Gynecologist, Obstetrician', 'General Physician', 'Cardiothoracic and Vascular Surgeon, Cardiothoracic Surgeon', 'AYUSHHomoeopath', 'Dentist, Implantologist, Prosthodontist', 'ENT/ Otorhinolaryngologist', 'Dental Surgeon, Implantologist, Oral And MaxilloFacial Surgeon', 'General Surgeon, Laparoscopic Surgeon, Bariatric Surgeon', 'Ophthalmologist/ Eye Surgeon', 'Neurologist, Neurosurgeon, Neurointerventional Surgery, Spine Surgeon (Neuro)', 'Plastic Surgeon, Cosmetologist, Burn Surgeon, Diabetic Foot Surgeon, Plastic Reconstruction Surgeon', 'Pediatric Dentist, Dentist, Dental Surgeon', 'Dermatologist, Aesthetic Dermatologist', 'General Surgeon, Proctologist, Laparoscopic Surgeon', 'ENT/ Otorhinolaryngologist', 'Gynecologist, Obstetrician, Infertility Specialist', 'Pediatric Dentist, Preventive Dentistry', 'TherapistAudiologist, Speech Therapist', 'TherapistNeuro Physiotherapist, Physiotherapist', 'Pediatrician, Paediatric Intensivist', 'Hair Transplant Surgeon, Plastic Surgeon', 'Gynecologist, Obstetrician', 'General Surgeon', 'Neurologist', 'Gynecologist, Obstetrician', 'General Physician', 'Bariatric Surgeon', 'Pediatrician', 'Gastroenterologist', 'Cardiologist', 'General Physician, Internal Medicine', 'General Physician', 'Implantologist, Cosmetic/Aesthetic Dentist', 'Internal Medicine, General Physician', 'ENT/ Otorhinolaryngologist', 'Pediatrician, Neonatologist', 'ENT/ Otorhinolaryngologist', 'Dental Surgeon, Cosmetic/Aesthetic Dentist, Dentist', 'Surgical Oncologist', 'Neurologist, Neurosurgeon', 'Cosmetologist, Dermatologist, Venereologist', 'Orthopedic surgeon, Joint Replacement Surgeon', 'Endocrinologist', 'Dermatologist, Hair Transplant Surgeon, Aesthetic Dermatologist', 'Psychiatrist, Neuropsychiatrist, Sexologist', 'Cardiothoracic Surgeon, Cardiologist', 'Dentist, Cosmetic/Aesthetic Dentist, Dental Surgeon', 'Orthopedic surgeon', 'Urologist', 'Dental Surgeon, Periodontist, Implantologist', 'AYUSHHomoeopath', 'Dentist, Implantologist, Cosmetic/Aesthetic Dentist', 'TherapistDietitian/Nutritionist', 'Dentist, Prosthodontist, Implantologist', 'Cardiologist', 'Dermatologist, Hair Transplant Surgeon, Dermatosurgeon', 'Orthopedic surgeon', 'Dental Surgeon, Implantologist', 'Dentist', 'Pediatrician', 'TherapistPhysiotherapist', 'Interventional Cardiologist, Cardiologist', 'ENT/ Otorhinolaryngologist', 'Gastroenterologist', 'AYUSHAyurveda', 'Interventional Cardiologist, Cardiologist, Internal Medicine', 'Dental Surgeon, Dentist, Implantologist', 'TherapistOccupational Therapist, Pediatric OT, Geriatric OT', 'Prosthodontist, Implantologist, Cosmetic/Aesthetic Dentist', 'Orthopedic surgeon', 'Ophthalmologist/ Eye Surgeon', 'Pediatrician', 'Dentist', 'Plastic Surgeon', 'General Practitioner, General Physician', 'Neurosurgeon, Spine Surgeon (Neuro)', 'General Physician', 'Orthopedic surgeon', 'Dentist', 'Obstetrician, Gynecologist', 'Pediatrician', 'Ophthalmologist/ Eye Surgeon', 'Urologist', 'Gastroenterologist', 'Dentist, Endodontist, Cosmetic/Aesthetic Dentist', 'ENT/ Otorhinolaryngologist', 'Gynecologist, Obstetrician, Infertility Specialist', 'Internal Medicine, General Physician', 'Dermatologist, Dermatosurgeon, Venereologist, Aesthetic Dermatologist', 'AYUSHHomoeopath', 'Cardiologist', 'TherapistCounselling Psychologist, Psychotherapist', 'Obstetrician, Gynecologist', 'Dermatosurgeon, Dermatologist, Cosmetologist, Hair Transplant Surgeon', 'ENT/ Otorhinolaryngologist', 'Psychiatrist, Neuropsychiatrist, Addiction Psychiatrist', 'Dentist, Dental Surgeon, Cosmetic/Aesthetic Dentist, Implantologist, Oral Medicine and Radiology', 'Ophthalmologist/ Eye Surgeon', 'Nephrologist/Renal Specialist', 'Dentist, Orthodontist', 'Dermatologist, Trichologist, Aesthetic Dermatologist, Hair Transplant Surgeon, Cosmetologist', 'Dermatologist, Hair Transplant Surgeon', 'Dentist, Cosmetic/Aesthetic Dentist', 'TherapistSports and Musculoskeletal Physiotherapist', 'Orthopedic surgeon', 'Internal Medicine', 'Gynecologist, Infertility Specialist', 'Orthopedic surgeon', 'Cardiologist', 'Dermatologist, Hair Transplant Surgeon, Cosmetologist, Trichologist, Aesthetic Dermatologist', 'Obstetrician, Gynecologist', 'Gynecologist, Obstetrician', 'Gynecologist, Obstetrician', 'Dermatologist, Aesthetic Dermatologist, Cosmetologist', 'Gynecologist, Obstetrician', 'General Surgeon, Laparoscopic Surgeon, Bariatric Surgeon, Proctologist', 'AYUSHHomoeopath', 'TherapistDietitian/Nutritionist', 'Dentist, Periodontist, Dental Surgeon', 'Orthopedic surgeon', 'Infertility Specialist, Gynecologist, Obstetrician', 'Laparoscopic Surgeon (Obs & Gyn), Gynecologist, Infertility Specialist, Obstetrician', 'Medical Oncologist', 'Dentist, Dental Surgeon', 'Pediatrician', 'AYUSHHomoeopath', 'Head and Neck Surgeon, ENT/ Otorhinolaryngologist', 'TherapistDietitian/Nutritionist', 'Joint Replacement Surgeon, Orthopedic surgeon', 'Urologist, Urological Surgeon, Andrologist', 'Pediatrician', 'Pediatrician', 'Orthopedic surgeon', 'Internal Medicine, Consultant Physician', 'AYUSHHomoeopath', 'TherapistCounselling Psychologist', 'Dermatologist, Hair Transplant Surgeon, Trichologist, Aesthetic Dermatologist, Dermatosurgeon, Cosmetologist', 'Neurologist', 'Dermatologist, Hair Transplant Surgeon, Cosmetologist', 'Laparoscopic Surgeon (Obs & Gyn), Obstetrician, Gynecologist, Infertility Specialist', 'Periodontist, Implantologist, Cosmetic/Aesthetic Dentist', 'Urologist, Andrologist', 'TherapistPhysiotherapist', 'Dermatologist, Cosmetologist', 'Prosthodontist, Implantologist', 'Dentist', 'Dentist, Oral Pathologist', 'Cardiologist, Interventional Cardiologist', 'TherapistOccupational Therapist', 'Psychiatrist, Neuropsychiatrist, Addiction Psychiatrist', 'Gastroenterologist', 'Urologist, Urological Surgeon', 'Hair Transplant Surgeon, Plastic Reconstruction Surgeon, Plastic Surgeon, Cosmetologist', 'Pediatrician', 'Radiologist', 'Pediatrician', 'Dermatologist, Cosmetologist, Venereologist', 'Laparoscopic Surgeon, General Surgeon, Gastroenterologist', 'Orthopedic surgeon', 'Gynecologist, Laparoscopic Surgeon (Obs & Gyn), Infertility Specialist', 'General Physician, General Practitioner', 'Urologist, Urological Surgeon, Andrologist', 'Nephrologist/Renal Specialist', 'Psychiatrist', 'Gynecologist', 'Surgical Oncologist', 'Gynecologist, Obstetrician, Infertility Specialist', 'Gastroenterologist', 'Oral And MaxilloFacial Surgeon', 'Psychiatrist', 'Laparoscopic Surgeon, General Surgeon', 'Dentist', 'TherapistOrthopedic Physiotherapist, Physiotherapist', 'Dentist', 'TherapistCounselling Psychologist', 'TherapistPhysiotherapist', 'Orthopedic surgeon', 'Orthopedic surgeon', 'Gynecologist', 'Gastroenterologist', 'Nephrologist/Renal Specialist', 'Pulmonologist', 'Gynecologist, Obstetrician, Infertility Specialist', 'Cardiologist', 'Gynecologist, Obstetrician, Infertility Specialist', 'Orthopedic surgeon', 'Cosmetic/Aesthetic Dentist', 'Gynecologist, Obstetrician', 'Nephrologist/Renal Specialist', 'Dermatologist', 'AYUSHAyurveda', 'General Surgeon, General Physician', 'AYUSHHomoeopath', 'Oral And MaxilloFacial Surgeon, Implantologist, Dental Surgeon', 'Internal Medicine', 'Dentist', 'Pediatric Dentist', 'Dermatologist, Cosmetologist', 'Plastic Surgeon', 'Internal Medicine, General Physician', 'General Surgeon, Laparoscopic Surgeon, Bariatric Surgeon', 'Nephrologist/Renal Specialist', 'Infertility Specialist', 'TherapistPhysiotherapist', 'Hepatologist', 'ENT/ Otorhinolaryngologist', 'Dental Surgeon, Dentist, Cosmetic/Aesthetic Dentist, Implantologist', 'Oral Medicine and Radiology', 'Oral And MaxilloFacial Surgeon', 'TherapistPhysiotherapist', 'General Physician, General Practitioner', 'Infertility Specialist', 'Urologist', 'Veterinary Physician', 'Medical Oncologist', 'General Surgeon, Colorectal Surgeon', 'Endocrinologist, Diabetologist', 'General Surgeon', 'Dentist, Orthodontist', 'Pediatric Surgeon', 'Gynecologist, Infertility Specialist, Laparoscopic Surgeon (Obs & Gyn)', 'Urologist, Andrologist, Urological Surgeon, Laparoscopic Surgeon', 'Periodontist, Implantologist, Cosmetic/Aesthetic Dentist', 'Neuroradiologist', 'Cardiologist', 'Dentist, Dental Surgeon', 'Dentist, Dental Surgeon', 'Orthopedic surgeon', 'Pulmonologist', 'Neuropsychiatrist, Psychiatrist', 'Gastroenterologist', 'Plastic Surgeon, Burn Surgeon, Diabetic Foot Surgeon', 'Dermatologist, Aesthetic Dermatologist, Trichologist, Hair Transplant Surgeon, Cosmetologist', 'Gynecologist, Laparoscopic Surgeon (Obs & Gyn)', 'ENT/ Otorhinolaryngologist, Head and Neck Surgeon', 'Gynecologist', 'Implantologist, Dental Surgeon, Dentist, Cosmetic/Aesthetic Dentist', 'Ophthalmologist/ Eye Surgeon', 'ENT/ Otorhinolaryngologist', 'Infertility Specialist, Gynecologist, Obstetrician', 'Infertility Specialist, Gynecologist, Obstetrician', 'AYUSHAyurveda', 'Obstetrician, Gynecologist, Infertility Specialist', 'Obstetrician, Gynecologist', 'Laparoscopic Surgeon, General Surgeon', 'Hepatologist', 'Dentist, Cosmetologist, Dental Surgeon', 'TherapistClinical Psychologist', 'Gastroenterologist', 'Dentist', 'Pediatrician, Neonatologist', 'Neurosurgeon', 'Cosmetic/Aesthetic Dentist, Dental Surgeon', 'Urologist', 'ENT/ Otorhinolaryngologist, Head and Neck Surgeon', 'Pediatrician', 'Internal Medicine', 'General Physician', 'Obstetrician, Gynecologist, Infertility Specialist', 'TherapistPsychotherapist, Counselling Psychologist', 'Gynecologist', 'Dentist, Dental Surgeon', 'Pulmonologist', 'ENT/ Otorhinolaryngologist', 'AYUSHHomoeopath', 'Obstetrician, Gynecologist', 'Obstetrician, Gynecologist', 'Pulmonologist', 'Dermatologist', 'Pediatrician', 'Oral And MaxilloFacial Surgeon, Dentist', 'AYUSHHomoeopath', 'Medical Oncologist', 'Gynecologist, Obstetrician', 'AYUSHAyurveda', 'Gynecologist, Obstetrician, Laparoscopic Surgeon (Obs & Gyn)', 'Dentist', 'TherapistDietitian/Nutritionist', 'Dentist', 'Dentist', 'Gynecologist, Obstetrician', 'Pediatrician', 'Infertility Specialist, Reproductive Endocrinologist (Infertility)', 'Dentist', 'Oral And MaxilloFacial Surgeon, Dentist, Dental Surgeon, Implantologist', 'Ophthalmologist/ Eye Surgeon', 'Dermatologist, Cosmetologist, Trichologist', 'General Physician', 'Vascular Surgeon', 'Pediatrician', 'Obstetrician, Gynecologist, Infertility Specialist, Laparoscopic Surgeon (Obs & Gyn)', 'AYUSHHomoeopath', 'Dentist, Endodontist, Restorative Dentist, Cosmetic/Aesthetic Dentist', 'Spine Surgeon (Neuro), Neurosurgeon', 'Orthopedic surgeon, Joint Replacement Surgeon', 'Adolescent And Child Psychiatrist, Psychiatrist', 'Ophthalmologist/ Eye Surgeon', 'Pediatric Dentist, Dentist, Dental Surgeon', 'General Surgeon, Laparoscopic Surgeon', 'Prosthodontist, Implantologist', 'TherapistCounselling Psychologist', 'Gastroenterologist', 'Urologist', 'Dental Surgeon, Dentist, Implantologist', 'Head and Neck Surgeon', 'Gynecologist', 'Dentist, Implantologist', 'Orthodontist, Dentist, Dental Surgeon, Dentofacial Orthopedist', 'Dental Surgeon', 'Gastroenterologist', 'Cosmetologist, Dermatologist, Venereologist', 'Dentist, Dental Surgeon', 'Endocrinologist', 'Dentist, Cosmetic/Aesthetic Dentist, Implantologist', 'Dermatologist, Hair Transplant Surgeon', 'Orthopedic surgeon, Joint Replacement Surgeon', 'Dentist, Orthodontist, Dental Surgeon, Cosmetic/Aesthetic Dentist, Dental Surgeon', 'TherapistDietitian/Nutritionist', 'Pediatrician', 'AYUSHAyurveda, Dietitian/Nutritionist', 'TherapistHypnotherapist, Counselling Psychologist', 'Plastic Surgeon, Cosmetologist, Hair Transplant Surgeon', 'General Physician', 'Gynecologist, Obstetrician, Infertility Specialist, Reproductive Endocrinologist (Infertility)', 'Prosthodontist, Implantologist', 'Dentist, Cosmetic/Aesthetic Dentist', 'Pediatrician, Neonatologist', 'Oral And MaxilloFacial Surgeon', 'Dermatologist, Cosmetologist', 'Pediatrician', 'Andrologist, Urologist', 'TherapistClinical Psychologist', 'Gynecologist, Obstetrician, Infertility Specialist', 'AYUSHAyurveda, Alternative Medicine', 'Medical Oncologist', 'TherapistCounselling Psychologist', 'ENT/ Otorhinolaryngologist', 'Dental Surgeon', 'Gynecologist, Obstetrician', 'Interventional Radiologist', 'AYUSHAyurveda, Alternative Medicine', 'Pediatric Dentist', 'Orthopedic surgeon', 'Endodontist', 'Cardiologist, Interventional Cardiologist', 'TherapistDietitian/Nutritionist', 'Radiologist', 'Obstetrician, Gynecologist', 'Paediatric Intensivist, Pediatrician', 'Gastroenterologist', 'Neurosurgeon', 'AYUSHAyurveda', 'Obstetrician, Gynecologist', 'TherapistOccupational Therapist', 'General Surgeon', 'TherapistPhysiotherapist', 'Neurosurgeon, Spine Surgeon (Neuro)', 'General Surgeon, Laparoscopic Surgeon', 'Obstetrician, Gynecologist', 'Joint Replacement Surgeon', 'Interventional Cardiologist, Cardiologist', 'Obstetrician, Gynecologist', 'Neurologist', 'Pediatrician', 'Orthodontist, Dentofacial Orthopedist, Dentist', 'Internal Medicine, General Physician', 'General Physician, Special Interest in Diabetology', 'Orthopedic surgeon', 'Interventional Cardiologist, Cardiologist', 'Dentist, Cosmetic/Aesthetic Dentist, Dental Surgeon', 'Cardiologist', 'Pediatric Dentist, Dental Surgeon, Dentist', 'Pediatric Neurologist', 'Cosmetic/Aesthetic Dentist', 'General Physician', 'Pediatric Dentist', 'Obstetrician, Gynecologist', 'Dermatologist, Aesthetic Dermatologist, Trichologist, Hair Transplant Surgeon, Cosmetologist', 'Gynecologist, Laparoscopic Surgeon (Obs & Gyn), Infertility Specialist', 'Obstetrician, Gynecologist, Infertility Specialist', 'Gynecologist, Obstetrician', 'Infertility Specialist, Obstetrician, Gynecologist', 'Veterinary Physician', 'AYUSHYoga and Naturopathy', 'General Physician', 'Dermatologist, Hair Transplant Surgeon', 'Internal Medicine, General Physician', 'Pediatrician', 'General Surgeon, Urologist', 'Ophthalmologist/ Eye Surgeon', 'Dentist', 'TherapistCounselling Psychologist', 'Pediatric Nephrologist', 'Psychiatrist', 'Endodontist, Dentist, Implantologist', 'TherapistPhysiotherapist', 'Internal Medicine', 'TherapistPhysiotherapist', 'Gynecologist', 'Plastic Surgeon', 'Neurologist', 'TherapistDietitian/Nutritionist', 'Neuropsychiatrist, Psychiatrist, Addiction Psychiatrist', 'AYUSHAyurveda, Alternative Medicine', 'General Physician, Radiation Oncologist', 'Periodontist, Dentist, Implantologist', 'Oral And MaxilloFacial Surgeon, Dental Surgeon, Dentist', 'Dentist, Periodontist', 'ENT/ Otorhinolaryngologist', 'TherapistDietitian/Nutritionist', 'Dentist, Oral And MaxilloFacial Surgeon, Implantologist', 'TherapistPhysiotherapist', 'Bariatric Surgeon', 'Dentist', 'Dentist, Pediatric Dentist', 'Plastic Surgeon, Hair Transplant Surgeon, General Surgeon', 'TherapistNeuro Physiotherapist', 'Obstetrician, Gynecologist', 'ENT/ Otorhinolaryngologist', 'Gynecologist, Obstetrician', 'Urologist, Urological Surgeon, Laparoscopic Surgeon', 'Pediatrician', 'Orthodontist, Dentofacial Orthopedist', 'Medical Oncologist', 'Dentist', 'Nephrologist/Renal Specialist', 'ENT/ Otorhinolaryngologist', 'Pediatrician', 'Orthodontist, Dentist, Dentofacial Orthopedist', 'Orthodontist, Dental Surgeon, Dentist, Dentofacial Orthopedist', 'Dentist, Oral Medicine and Radiology, Cosmetic/Aesthetic Dentist, Implantologist, Dental Surgeon', 'Dentist', 'TherapistCounselling Psychologist', 'Neurologist', 'Pediatrician, Neonatologist', 'Internal Medicine, General Physician', 'Pediatrician', 'Dermatologist', 'Head and Neck Surgeon, Head and Neck Oncologist', 'Gynecologist, Infertility Specialist, Reproductive Endocrinologist (Infertility)', 'Medical Oncologist', 'Gastroenterologist, GastroIntestinal Surgeon, Laparoscopic Surgeon', 'General Physician', 'Cosmetic/Aesthetic Dentist, Dentist, Dental Surgeon', 'Orthopedic surgeon, Joint Replacement Surgeon, Spine And Pain Specialist', 'Oral And MaxilloFacial Surgeon, Dentist, Dental Surgeon', 'Plastic Surgeon, Plastic Reconstruction Surgeon', 'Obstetrician, Gynecologist', 'Orthopedic surgeon', 'General Surgeon', 'Dentist, Endodontist', 'Dentist', 'Nephrologist/Renal Specialist', 'Pediatrician', 'General Physician, Cosmetologist, Sexologist', 'Neurologist', 'TherapistCounselling Psychologist', 'Gynecologist, Obstetrician', 'Dentist, Pediatric Dentist, Cosmetic/Aesthetic Dentist', 'AYUSHHomoeopath, Sexologist (Homeopathy)', 'Joint Replacement Surgeon, Orthopedic surgeon', 'Nephrologist/Renal Specialist', 'Nephrologist/Renal Specialist', 'Obstetrician, Gynecologist, Laparoscopic Surgeon (Obs & Gyn)', 'Dermatologist, Aesthetic Dermatologist, Trichologist, Hair Transplant Surgeon, Cosmetologist', 'TherapistCounselling Psychologist', 'Pediatric Surgeon', 'Pulmonologist', 'Gynecologist', 'General Physician, Consultant Physician, Internal Medicine', 'Internal Medicine, General Physician', 'Family Physician, General Physician', 'Obstetrician, Gynecologist', 'Pediatric Surgeon', 'Neurologist', 'Cardiologist, Interventional Cardiologist', 'Gastroenterologist', 'AYUSHAyurveda', 'Laparoscopic Surgeon, Surgical Oncologist', 'Hair Transplant Surgeon', 'General Physician', 'Dermatosurgeon, Hair Transplant Surgeon, Aesthetic Dermatologist', 'Nephrologist/Renal Specialist', 'General Physician', 'Neonatologist, Pediatrician', 'Urologist', 'General Physician, Internal Medicine', 'Prosthodontist, Implantologist', 'Gynecologist', 'Pain Management Specialist', 'Pediatrician', 'General Surgeon, Laparoscopic Surgeon', 'General Surgeon, Surgical Oncologist', 'Neurosurgeon', 'Surgical Oncologist, Laparoscopic Surgeon', 'Neurosurgeon', 'Obstetrician, Gynecologist', 'Cardiothoracic Surgeon', 'AYUSHAyurveda', 'Orthopedic surgeon', 'Radiologist', 'Gynecologist, Obstetrician, Infertility Specialist, Laparoscopic Surgeon (Obs & Gyn)', 'Dermatologist, Trichologist', 'AYUSHHomoeopath', 'Cosmetic/Aesthetic Dentist', 'Psychiatrist, Addiction Psychiatrist, Neuropsychiatrist', 'Dentist', 'General Surgeon, Laparoscopic Surgeon', 'TherapistPhysiotherapist', 'Dentist', 'Dental Surgeon', 'Radiation Oncologist', 'Urologist', 'Dermatologist, Cosmetologist, Hair Transplant Surgeon', 'Ophthalmologist/ Eye Surgeon', 'Dermatologist, Cosmetologist', 'Dermatologist, Cosmetologist, Trichologist, Aesthetic Dermatologist', 'General Surgeon, Laparoscopic Surgeon', 'Dentist, Orthodontist', 'AYUSHAyurveda', 'Orthopedic surgeon', 'Dermatologist, Trichologist, Venereologist, Dermatosurgeon, Hair Transplant Surgeon', 'Internal Medicine, General Physician', 'Dermatologist', 'ENT/ Otorhinolaryngologist, Otologist/ Neurotologist', 'Infertility Specialist, Gynecologist, Obstetrician, Reproductive Endocrinologist (Infertility)', 'Orthopedic surgeon, Joint Replacement Surgeon', 'Oral And MaxilloFacial Surgeon, Hair Transplant Surgeon, Implantologist, Cosmetic/Aesthetic Dentist', 'Gynecologist, Infertility Specialist, Laparoscopic Surgeon (Obs & Gyn)', 'Radiologist', 'Dentist', 'AYUSHYoga and Naturopathy, Acupuncturist', 'Gynecologist, Obstetrician', 'Dermatologist, Cosmetologist', 'Orthopedic surgeon', 'Dermatologist', 'Dermatologist', 'Gynecologist', 'Laparoscopic Surgeon, General Surgeon', 'Neurosurgeon', 'Cosmetic/Aesthetic Dentist, Implantologist, Dentist', 'Dentist', 'Gastroenterologist', 'Gynecologist, Obstetrician, Laparoscopic Surgeon (Obs & Gyn)', 'Ophthalmologist/ Eye Surgeon', 'Surgical Oncologist, Laparoscopic Surgeon', 'AYUSHAyurveda', 'General Surgeon, Laparoscopic Surgeon', 'Pediatrician', 'Cardiologist', 'Spine Surgeon (Ortho)', 'AYUSHHomoeopath', 'Orthopedic surgeon, Joint Replacement Surgeon', 'Joint Replacement Surgeon, Orthopedic surgeon', 'Gynecologist, Infertility Specialist, Laparoscopic Surgeon (Obs & Gyn)', 'Infertility Specialist, Gynecologist, Reproductive Endocrinologist (Infertility)', 'Pediatric Dentist, Dentist', 'Orthodontist, Dentofacial Orthopedist, Cosmetic/Aesthetic Dentist, Implantologist', 'Cardiologist', 'AYUSHAyurveda, Counselling Psychologist', 'AYUSHAyurveda, Alternative Medicine', 'Pediatrician', 'Obstetrician', 'TherapistAudiologist, Speech Therapist', 'Radiation Oncologist', 'Internal Medicine, General Physician', 'Dentist', 'Infertility Specialist, Gynecologist, Reproductive Endocrinologist (Infertility), Obstetrician', 'Orthodontist', 'Bariatric Surgeon, General Surgeon', 'Pediatrician', 'Gastroenterologist', 'Ophthalmologist/ Eye Surgeon', 'Pediatrician', 'Dentist', 'Pediatrician', 'Interventional Cardiologist', 'Medical Oncologist', 'Neurologist', 'Prosthodontist, Implantologist, Dentist', 'Surgical Oncologist', 'Pediatrician', 'General Physician, Internal Medicine', 'Pediatrician', 'Oral And MaxilloFacial Surgeon', 'General Physician, General Practitioner', 'Dentist', 'Gynecologist, Infertility Specialist, Obstetrician', 'Orthopedic surgeon', 'Cardiologist', 'AYUSHYoga and Naturopathy', 'Orthodontist, Implantologist', 'Orthopedic surgeon, Joint Replacement Surgeon', 'General Surgeon, Laparoscopic Surgeon', 'Dentist', 'Dentist, Endodontist', 'Pediatric Dentist, Preventive Dentistry, Cosmetic/Aesthetic Dentist', 'Endocrinologist', 'TherapistPhysiotherapist', 'AYUSHAyurveda, Alternative Medicine', 'TherapistSpeech Therapist', 'General Physician', 'Breast Surgeon', 'Orthopedic surgeon', 'TherapistDietitian/Nutritionist', 'Pediatrician', 'Plastic Reconstruction Surgeon, Plastic Surgeon, Burn Surgeon, Diabetic Foot Surgeon', 'AYUSHAyurveda, Alternative Medicine', 'Orthopedic surgeon', 'Nephrologist/Renal Specialist', 'Cardiothoracic Surgeon, Cardiologist, Thoracic (Chest) Surgeon', 'Dentist, Cosmetic/Aesthetic Dentist', 'Dermatologist, Cosmetologist, Hair Transplant Surgeon, Dermatosurgeon', 'Dental Surgeon', 'Pediatrician', 'Gynecologist, Obstetrician, Infertility Specialist', 'Gynecologist', 'Dentist, Prosthodontist', 'Ophthalmologist/ Eye Surgeon', 'Pediatrician', 'Neurosurgeon', 'General Surgeon, Proctologist, Diabetic Foot Surgeon', 'Dentist', 'Pediatrician', 'Ophthalmologist/ Eye Surgeon', 'Infertility Specialist', 'Medical Oncologist', 'General Surgeon', 'Psychiatrist, Sexologist, Addiction Psychiatrist', 'TherapistPhysiotherapist', 'General Practitioner, Proctologist, General Surgeon', 'Obstetrician, Gynecologist', 'Pediatrician', 'Orthodontist, Dentist', 'General Physician', 'Urological Surgeon', 'Oral And MaxilloFacial Surgeon', 'Pediatrician, Neonatologist', 'Orthopedic surgeon, Joint Replacement Surgeon', 'Gynecologist, Obstetrician', 'Gynecologist, Infertility Specialist, Laparoscopic Surgeon (Obs & Gyn)', 'Dentist', 'Periodontist, Dentist, Cosmetic/Aesthetic Dentist, Implantologist', 'Nephrologist/Renal Specialist', 'TherapistCosmetologist', 'Dermatologist, Hair Transplant Surgeon, Dermatosurgeon, Cosmetologist', 'Gynecologist, Obstetrician, Laparoscopic Surgeon (Obs & Gyn)', 'Gynecologist', 'TherapistPhysiotherapist', 'TherapistPhysiotherapist', 'Dentist', 'Dentist, Periodontist, Implantologist', 'ENT/ Otorhinolaryngologist', 'Dentist, Cosmetic/Aesthetic Dentist, Dental Surgeon', 'Dentist, Pediatric Dentist, Cosmetic/Aesthetic Dentist', 'Surgical Oncologist', 'AYUSHAyurveda', 'Gynecologist, Obstetrician, Infertility Specialist', 'Dentist, Prosthodontist, Implantologist', 'Cardiothoracic and Vascular Surgeon', 'Cosmetic/Aesthetic Dentist, Implantologist', 'General Physician', 'TherapistPhysiotherapist, Sports and Musculoskeletal Physiotherapist', 'Prosthodontist, Implantologist', 'Dental Surgeon, Dentist', 'General Physician', 'Cardiologist', 'General Surgeon', 'Cardiologist', 'Pediatrician, General Physician', 'Dermatologist', 'Prosthodontist, Implantologist', 'TherapistCounselling Psychologist', 'Pediatrician, Special Interest in Pediatric Endocrinology', 'Gynecologist, Obstetrician', 'Neurosurgeon', 'Obstetrician, Gynecologist, Infertility Specialist', 'Dentist, Prosthodontist, Implantologist', 'TherapistCounselling Psychologist', 'Gynecologist, Obstetrician', 'Gynecologist, Reproductive Endocrinologist (Infertility)', 'ENT/ Otorhinolaryngologist', 'Gynecologist, Obstetrician, Laparoscopic Surgeon (Obs & Gyn)', 'Endocrinologist', 'Joint Replacement Surgeon, Spine And Pain Specialist', 'General Physician', 'TherapistClinical Psychologist, Psychologist', 'Dentist, Oral And MaxilloFacial Surgeon, Dental Surgeon', 'Dentist', 'Neurosurgeon', 'Cardiothoracic Surgeon, Cardiac Surgeon', 'Cardiothoracic Surgeon, General Surgeon', 'General Physician', 'Neurosurgeon, Neurointerventional Surgery, Spine Surgeon (Neuro)', 'Cardiologist, Interventional Cardiologist', 'Pediatric Surgeon', 'Orthodontist, Dentist', 'AYUSHHomoeopath', 'Dentist, Dental Surgeon, Cosmetic/Aesthetic Dentist', 'Orthopedic surgeon', 'Hematologic Oncologist', 'Oral And MaxilloFacial Surgeon', 'Dentist, Cosmetic/Aesthetic Dentist, Implantologist', 'General Physician', 'TherapistCounselling Psychologist', 'Pediatrician', 'Dentist', 'Pediatrician', 'Dentist, Orthodontist', 'Gynecologist, Obstetrician', 'Pediatrician', 'AYUSHAyurveda', 'Dermatologist', 'Orthopedic surgeon, Joint Replacement Surgeon', 'General Surgeon, Laparoscopic Surgeon, Proctologist', 'TherapistCounselling Psychologist', 'Dentist, Prosthodontist, Implantologist', 'Pediatric Surgeon', 'Endocrinologist, Diabetologist', 'Orthopedic surgeon, Joint Replacement Surgeon, Sports Medicine Surgeon', 'General Surgeon, Laparoscopic Surgeon, GastroIntestinal Surgeon', 'TherapistPhysiotherapist', 'AYUSHHomoeopath', 'TherapistPhysiotherapist', 'Pediatric Dentist', 'Pediatrician', 'Dental Surgeon', 'Preventive Dentistry, Dental Surgeon, Public Health Dentist', 'Pediatrician', 'Neurologist', 'Neurosurgeon', 'Neurologist', 'Orthopedic surgeon', 'Obstetrician, Gynecologist', 'Orthopedic surgeon', 'Endodontist', 'Cardiothoracic and Vascular Surgeon', 'Dentist', 'Dentist', 'Dentist, Cosmetic/Aesthetic Dentist', 'AYUSHHomoeopath', 'Internal Medicine', 'Endodontist, Dental Surgeon, Dentist', 'Pediatric Neurologist, Pediatrician', 'AYUSHHomoeopath', 'Cardiologist', 'Gynecologist, Obstetrician, Infertility Specialist', 'Neurologist', 'Endocrinologist, Diabetologist, General Physician', 'Orthopedic surgeon, Joint Replacement Surgeon', 'Dentist, Dental Surgeon, Cosmetic/Aesthetic Dentist', 'Dentist', 'Gynecologist', 'Dentist, Periodontist, Implantologist', 'General Surgeon', 'Ophthalmologist/ Eye Surgeon', 'Dermatologist, Venereologist, Cosmetologist, Trichologist', 'AYUSHAyurveda, Sexologist, Sexologist (Ayurveda)', 'Gynecologist, Obstetrician', 'General Physician', 'Pediatric Dentist, Dentist', 'TherapistAcupuncturist', 'Cosmetic/Aesthetic Dentist, Dental Surgeon', 'General Physician, Pathologist', 'Gynecologist, Obstetrician', 'Ophthalmologist/ Eye Surgeon', 'TherapistClinical Psychologist', 'General Surgeon, Laparoscopic Surgeon', 'Internal Medicine', 'TherapistPhysiotherapist', 'Gynecologist, Obstetrician, Infertility Specialist', 'Orthopedic surgeon, Joint Replacement Surgeon, Spine Surgeon (Ortho)', 'General Surgeon, Urologist', 'TherapistDietitian/Nutritionist', 'Medical Oncologist, General Physician', 'Medical Oncologist', 'Dentist', 'Vascular Surgeon, General Surgeon', 'Dermatologist, Trichologist, Aesthetic Dermatologist, Hair Transplant Surgeon, Cosmetologist', 'Radiologist', 'TherapistCounselling Psychologist, Psychotherapist', 'AYUSHAyurveda', 'TherapistAudiologist, Speech Therapist', 'Dentist, Periodontist, Implantologist', 'Medical Oncologist, Hematologic Oncologist, Consultant Physician', 'General Physician, General Practitioner', 'Implantologist, Dental Surgeon, Cosmetic/Aesthetic Dentist', 'Conservative Dentist, Endodontist, Cosmetic/Aesthetic Dentist, Restorative Dentist', 'Prosthodontist, Dentist, Implantologist, Cosmetic/Aesthetic Dentist', 'General Physician, Internal Medicine', 'Special Interest in Rheumatology', 'Nephrologist/Renal Specialist', 'Psychiatrist', 'Laparoscopic Surgeon', 'TherapistPhysiotherapist', 'Dermatologist, Cosmetologist', 'Gynecologist', 'Internal Medicine', 'Interventional Radiologist, Radiologist', 'Dentist, Pediatric Dentist', 'Cosmetic/Aesthetic Dentist, Endodontist, Conservative Dentist', 'Orthodontist, Dentofacial Orthopedist', 'AYUSHHomoeopath', 'ENT/ Otorhinolaryngologist', 'Orthopedic surgeon, Joint Replacement Surgeon', 'Urologist, Urological Surgeon, General Surgeon', 'TherapistSpeech Therapist', 'Cardiologist, Interventional Cardiologist, Internal Medicine', 'Pediatrician', 'Pediatrician', 'Internal Medicine, Consultant Physician', 'Cardiologist, Interventional Cardiologist', 'TherapistPhysiotherapist', 'Dentist, Oral And MaxilloFacial Surgeon', 'Dentist', 'Gynecologist, Obstetrician, Laparoscopic Surgeon (Obs & Gyn), Infertility Specialist', 'Pediatrician, Neonatologist', 'Dermatologist, Aesthetic Dermatologist, Trichologist, Hair Transplant Surgeon, Cosmetologist', 'Gynecologist, Obstetrician', 'General Surgeon, Laparoscopic Surgeon', 'Gynecologist, Obstetrician, Laparoscopic Surgeon (Obs & Gyn)', 'Pediatrician', 'Geriatrician', 'Obstetrician, Gynecologist', 'Interventional Cardiologist', 'Orthopedic surgeon, Joint Replacement Surgeon', 'Endocrinologist, General Physician', 'Neurosurgeon', 'Internal Medicine', 'Bariatric Surgeon, Laparoscopic Surgeon, Proctologist, General Surgeon', 'Gynecologist, Obstetrician, Infertility Specialist', 'TherapistDietitian/Nutritionist', 'Dermatologist', 'TherapistClinical Nutritionist', 'General Surgeon, Laparoscopic Surgeon', 'TherapistPhysiotherapist', 'Neurologist', 'Prosthodontist', 'Urologist', 'Dental Surgeon, Dentist', 'TherapistChiropractor', 'General Surgeon', 'TherapistAudiologist', 'Cardiologist, General Physician', 'Consultant Physician, Special Interest in Diabetology', 'General Physician', 'General Physician', 'Gynecologist', 'Laparoscopic Surgeon', 'AYUSHHomoeopath', 'Dermatologist', 'Gynecologist', 'Ophthalmologist/ Eye Surgeon', 'Prosthodontist, Dentist, Implantologist', 'AYUSHHomoeopath', 'Cardiologist, Interventional Cardiologist', 'Urologist, Andrologist, Laparoscopic Surgeon', 'General Surgeon', 'TherapistDietitian/Nutritionist, Clinical Nutritionist', 'Orthopedic surgeon', 'Plastic Surgeon', 'Gynecologist, Obstetrician, Laparoscopic Surgeon (Obs & Gyn), Infertility Specialist', 'Infertility Specialist, Laparoscopic Surgeon (Obs & Gyn), Gynecologist', 'Dentist, Dental Surgeon', 'Medical Oncologist', 'Obstetrician, Gynecologist', 'Psychiatrist', 'Neurosurgeon', 'Laparoscopic Surgeon', 'Orthopedic surgeon', 'General Surgeon', 'Infertility Specialist, Reproductive Endocrinologist (Infertility)', 'Neurosurgeon', 'AYUSHAyurveda', 'Pediatrician', 'Internal Medicine, General Physician', 'Vascular Surgeon', 'Dentist, Implantologist', 'Hair Transplant Surgeon', 'Internal Medicine', 'Prosthodontist, Dentist, Implantologist', 'General Physician', 'Pain Management Specialist, Anesthesiologist', 'Gynecologist, Infertility Specialist, Laparoscopic Surgeon (Obs & Gyn), Obstetrician', 'Orthodontist, Dental Surgeon, Dentofacial Orthopedist, Dentist', 'Orthopedic surgeon, Joint Replacement Surgeon', 'Oral And MaxilloFacial Surgeon, Dentist', 'Internal Medicine, General Physician', 'Orthopedic surgeon', 'Hair Transplant Surgeon', 'Pediatrician', 'Orthopedic surgeon', 'Neurosurgeon', 'Dentist, Cosmetic/Aesthetic Dentist', 'Nephrologist/Renal Specialist', 'Gastroenterologist', 'TherapistPhysiotherapist', 'TherapistDietitian/Nutritionist', 'Cardiologist, Interventional Cardiologist', 'AYUSHHomoeopath', 'General Physician, General Practitioner', 'TherapistClinical Psychologist', 'Gastroenterologist', 'AYUSHYoga and Naturopathy, Clinical Nutritionist, Dietitian/Nutritionist, Sports Nutritionist, Acupuncturist', 'Dermatologist, Cosmetologist, Aesthetic Dermatologist, Dermatosurgeon, Pediatric Dermatologist', 'General Physician', 'Neurologist', 'General Physician', 'Orthodontist, Dentist', 'Pediatrician', 'Pulmonologist', 'General Physician', 'Pediatrician', 'Dentist, Cosmetic/Aesthetic Dentist', 'TherapistCounselling Psychologist', 'Cosmetic/Aesthetic Dentist, Implantologist', 'TherapistPhysiotherapist', 'Dermatologist, Venereologist', 'Tuberculous and chest Diseases Specialist, Pulmonologist', 'Periodontist, Implantologist, Dentist, Dental Surgeon, Cosmetic/Aesthetic Dentist', 'Orthodontist, Dentist', 'General Physician', 'Dentist', 'TherapistPhysiotherapist', 'TherapistCounselling Psychologist', 'Pediatric Surgeon', 'TherapistPhysiotherapist', 'Interventional Cardiologist, Cardiologist', 'Dental Surgeon, Prosthodontist, Implantologist', 'TherapistPhysiotherapist', 'Dentist', 'ENT/ Otorhinolaryngologist', 'TherapistCounselling Psychologist', 'General Surgeon, Proctologist, Bariatric Surgeon, Laparoscopic Surgeon', 'Dentist', 'Infertility Specialist, Obstetrician, Gynecologist', 'Pediatrician', 'Cardiologist, Interventional Cardiologist', 'General Physician', 'Orthopedic surgeon', 'AYUSHAyurveda', 'Dermatologist', 'Infertility Specialist, Gynecologist, Obstetrician', 'Cardiologist', 'Gynecologist, Infertility Specialist', 'Pain Management Specialist, Anesthesiologist', 'General Surgeon', 'Gynecologist, Obstetrician', 'AYUSHAyurveda', 'Laparoscopic Surgeon, Surgical Oncologist', 'Neurosurgeon', 'TherapistPhysiotherapist', 'Medical Oncologist', 'General Physician', 'Orthopedic surgeon, Joint Replacement Surgeon', 'Neurologist', 'Dermatologist, Trichologist, Aesthetic Dermatologist, Hair Transplant Surgeon, Cosmetologist', 'Gynecologist, Obstetrician, Infertility Specialist', 'Dentist', 'General Surgeon', 'Nephrologist/Renal Specialist', 'Pediatrician', 'Dentist, Cosmetic/Aesthetic Dentist, Implantologist', 'Plastic Surgeon', 'General Physician', 'Orthopedic surgeon, Joint Replacement Surgeon', 'General Surgeon', 'Dentist, Cosmetic/Aesthetic Dentist, Dental Surgeon', 'Geneticist', 'Obstetrician, Gynecologist, Infertility Specialist', 'Pediatrician', 'Radiation Oncologist', 'Psychiatrist', 'Internal Medicine', 'Andrologist', 'Dentist, Pediatric Dentist', 'AYUSHHomoeopath', 'Psychiatrist', 'AYUSHAyurveda, Alternative Medicine', 'Laparoscopic Surgeon, Proctologist, Bariatric Surgeon, General Surgeon', 'Internal Medicine', 'Dental Surgeon, Dentist, Cosmetic/Aesthetic Dentist', 'Orthopedic surgeon', 'Veterinary Physician', 'Obstetrician, Gynecologist', 'Implantologist, Dental Surgeon, Oral And MaxilloFacial Surgeon', 'Dentist, Implantologist, Cosmetic/Aesthetic Dentist', 'Pediatrician', 'Cardiologist', 'Dermatologist, Cosmetologist', 'Pediatrician', 'Joint Replacement Surgeon', 'Cardiologist', 'Dental Surgeon', 'Dentist', 'AYUSHAyurveda', 'General Physician', 'Gynecologist, Obstetrician, Laparoscopic Surgeon (Obs & Gyn)', 'Oral And MaxilloFacial Surgeon', 'Pediatrician, Neonatologist', 'Hepatologist', 'Gynecologist, Obstetrician', 'Neurosurgeon', 'General Physician', 'Medical Oncologist, Hematologic Oncologist', 'TherapistCosmetologist', 'Dermatologist, Aesthetic Dermatologist, Trichologist, Hair Transplant Surgeon, Cosmetologist', 'Gynecologist', 'Dentist', 'Plastic Surgeon', 'Oral And MaxilloFacial Surgeon, Dentist, Dental Surgeon', 'TherapistCounselling Psychologist', 'Pediatrician', 'Psychiatrist', 'Orthopedic surgeon', 'Gynecologist, Obstetrician, Infertility Specialist', 'AYUSHHomoeopath', 'TherapistPsychologist, Psychotherapist, Clinical Psychologist, Counselling Psychologist', 'General Surgeon', 'Dentist, Implantologist, Dental Surgeon', 'Psychiatrist, Addiction Psychiatrist, Geriatric Psychiatrist', 'Gastroenterologist', 'Medical Oncologist', 'TherapistPhysiotherapist', 'Pediatric Cardiologist', 'Radiologist', 'Urologist', 'Dental Surgeon, Implantologist, Periodontist', 'Cosmetic/Aesthetic Dentist, Dental Surgeon, Implantologist', 'Dentist, Cosmetic/Aesthetic Dentist, Dental Surgeon', 'Orthopedic surgeon', 'Pediatrician', 'Dermatologist, Cosmetologist', 'AYUSHAyurveda', 'Dentist', 'Oral And MaxilloFacial Surgeon, Dental Surgeon', 'Plastic Surgeon, Hair Transplant Surgeon', 'Pediatrician, Neonatologist', 'Urologist, Urological Surgeon, Andrologist', 'Dermatologist', 'Endodontist, Restorative Dentist, Dental Surgeon', 'Pulmonologist', 'AYUSHHomoeopath', 'Orthopedic surgeon, Joint Replacement Surgeon', 'Dentist, Implantologist, Dental Surgeon', 'Dermatologist, Hair Transplant Surgeon, Trichologist, Aesthetic Dermatologist, Cosmetologist', 'Cardiologist', 'General Surgeon', 'TherapistAudiologist, Speech Therapist', 'Gynecologist, Infertility Specialist', 'Cardiac Surgeon, Cardiothoracic and Vascular Surgeon', 'ENT/ Otorhinolaryngologist', 'Dental Surgeon, Cosmetologist, Cosmetic/Aesthetic Dentist', 'Obstetrician, Gynecologist', 'Oral And MaxilloFacial Surgeon, Hair Transplant Surgeon, Implantologist', 'Rheumatologist', 'TherapistClinical Psychologist', 'Cosmetologist, Cosmetic/Aesthetic Dentist', 'Dentist, Dental Surgeon', 'Internal Medicine', 'Infertility Specialist, Gynecologist', 'Gynecologist, Obstetrician, Infertility Specialist', 'Gynecologist', 'Gastroenterologist', 'Obstetrician, Gynecologist, Laparoscopic Surgeon (Obs & Gyn)', 'ENT/ Otorhinolaryngologist', 'Orthopedic surgeon', 'TherapistCounselling Psychologist', 'Dermatologist, Cosmetologist, Pediatric Dermatologist, Trichologist', 'Dentist', 'General Surgeon, Laparoscopic Surgeon, Bariatric Surgeon', 'Pediatrician', 'ENT/ Otorhinolaryngologist, Otologist/ Neurotologist, Head and Neck Surgeon', 'Plastic Surgeon, Hair Transplant Surgeon', 'Rheumatologist', 'Gastroenterologist', 'TherapistDietitian/Nutritionist', 'Pediatrician', 'Orthopedic surgeon', 'Obstetrician, Gynecologist', 'Dermatologist, Aesthetic Dermatologist, Cosmetologist, Trichologist', 'Urologist, Andrologist', 'Neurosurgeon', 'TherapistCounselling Psychologist', 'General Surgeon', 'AYUSHHomoeopath', 'Laparoscopic Surgeon, Bariatric Surgeon, GastroIntestinal Surgeon, General Surgeon, Gastroenterologist', 'Pulmonologist', 'General Physician', 'ENT/ Otorhinolaryngologist', 'TherapistPhysiotherapist', 'Gastroenterologist', 'AYUSHHomoeopath', 'Dentist, Hair Transplant Surgeon, Oral And MaxilloFacial Surgeon, Cosmetic/Aesthetic Dentist, Dental Surgeon', 'Cardiologist', 'AYUSHAyurveda', 'Dental Surgeon', 'Pediatrician', 'Interventional Cardiologist, Cardiologist', 'TherapistPhysiotherapist', 'Cardiologist', 'AYUSHHomoeopath, Cosmetologist', 'Spine And Pain Specialist, Pain Management Specialist', 'Vascular Surgeon, Diabetic Foot Surgeon', 'Orthodontist, Dentist, Dental Surgeon', 'Dentist, Dental Surgeon', 'TherapistClinical Psychologist', 'Psychiatrist', 'General Physician', 'Orthopedic surgeon', 'TherapistSexologist', 'Dental Surgeon, Dentist, Cosmetologist', 'Orthodontist, Dentist', 'Dental Surgeon', 'Dentist', 'Orthopedic surgeon', 'TherapistAudiologist, Speech Therapist', 'General Physician, Internal Medicine', 'TherapistPhysiotherapist', 'Gastroenterologist', 'Orthopedic surgeon', 'Dentist, Cosmetic/Aesthetic Dentist', 'Dentist', 'Orthodontist, Dentofacial Orthopedist, Cosmetic/Aesthetic Dentist', 'TherapistSexologist', 'Bariatric Surgeon, General Surgeon, Intestine Surgeon, GastroIntestinal Surgeon, Laparoscopic Surgeon, Proctologist, Gastroenterologist, Colorectal Surgeon, Breast Surgeon', 'TherapistDietitian/Nutritionist', 'TherapistPhysiotherapist', 'Pediatric Surgeon', 'General Physician, Critical Care Medicine', 'Pediatrician', 'General Surgeon, Urologist, Andrologist', 'Urologist', 'ENT/ Otorhinolaryngologist', 'Urologist, Urological Surgeon', 'General Practitioner, General Physician', 'Orthopedic surgeon', 'Dermatologist, Dermatosurgeon', 'Pediatric Oncologist', 'Gastroenterologist', 'Dentist, Cosmetic/Aesthetic Dentist', 'Gynecologist', 'Pediatrician', 'Gastroenterologist', 'Cosmetic/Aesthetic Dentist, Endodontist', 'Gynecologist, Obstetrician', 'Dentist, Pediatric Dentist', 'Dentist, Dental Surgeon', 'Neurosurgeon', 'Prosthodontist, Implantologist', 'Andrologist, Urologist', 'General Physician', 'ENT/ Otorhinolaryngologist', 'ENT/ Otorhinolaryngologist', 'Dentist', 'Surgical Oncologist', 'Medical Oncologist', 'Pediatrician', 'Oral And MaxilloFacial Surgeon, Dentist', 'Urologist', 'Dentist', 'AYUSHAyurveda', 'Obstetrician, Gynecologist, Laparoscopic Surgeon (Obs & Gyn), Infertility Specialist', 'Adolescent And Child Psychiatrist, Psychiatrist', 'Gynecologist', 'Internal Medicine, General Physician', 'General Physician', 'Joint Replacement Surgeon, Orthopedic surgeon', 'Gastroenterologist', 'AYUSHHomoeopath', 'ENT/ Otorhinolaryngologist', 'Ophthalmologist/ Eye Surgeon', 'Laparoscopic Surgeon (Obs & Gyn), Gynecologist, Obstetrician', 'General Physician', 'TherapistAudiologist', 'Cardiologist', 'Infertility Specialist, Gynecologist', 'General Physician', 'Prosthodontist, Dentist', 'Dentist, Cosmetic/Aesthetic Dentist', 'Consultant Physician', 'Neurosurgeon, Spine Surgeon (Neuro)', 'Ophthalmologist/ Eye Surgeon', 'Dermatologist, Cosmetologist, Hair Transplant Surgeon, Pediatric Dermatologist, Dermatosurgeon', 'AYUSHHomoeopath', 'Pediatric Hematologic-Oncologist, Pediatrician', 'Orthopedic surgeon', 'Orthopedic surgeon', 'TherapistDietitian/Nutritionist', 'Gynecologist', 'Orthopedic surgeon', 'Dentist', 'AYUSHHomoeopath', 'Pediatrician, Neonatologist', 'Dentist', 'Dermatologist', 'TherapistDietitian/Nutritionist', 'AYUSHHomoeopath', 'Pediatrician, Paediatric Intensivist', 'Ophthalmologist/ Eye Surgeon', 'Endodontist, Dental Surgeon, Dentist', 'Medical Oncologist', 'Dentist, Dental Surgeon', 'Dentist, Dental Surgeon, Endodontist, Cosmetic/Aesthetic Dentist', 'Dentist, Implantologist', 'TherapistClinical Psychologist', 'Infertility Specialist, Laparoscopic Surgeon (Obs & Gyn), Obstetrician, Gynecologist', 'ENT/ Otorhinolaryngologist', 'Internal Medicine', 'Pediatrician, Special Interest in Pediatric Nephrology', 'Orthopedic surgeon', 'Pediatric Dentist, Preventive Dentistry', 'General Surgeon, Bariatric Surgeon', 'TherapistPhysiotherapist', 'Gynecologist, Obstetrician', 'Psychiatrist', 'General Physician, Internal Medicine', 'Orthodontist, Dentist', 'Orthodontist, Dentist', 'Dentist, Dental Surgeon', 'General Physician', 'Dermatologist', 'Obstetrician, Gynecologist, Laparoscopic Surgeon (Obs & Gyn)', 'TherapistSpeech Therapist', 'Dentist, Implantologist', 'Plastic Surgeon, Plastic Reconstruction Surgeon', 'Endocrinologist, Diabetologist', 'Dentist, Prosthodontist, Cosmetic/Aesthetic Dentist, Dental Surgeon, Implantologist', 'AYUSHHomoeopath', 'Orthopedic surgeon', 'Dermatologist', 'General Physician', 'General Physician, Consultant Physician', 'Dental Surgeon, Dentist', 'Internal Medicine, General Physician', 'Prosthodontist', 'Dermatologist, Cosmetologist', 'Dental Surgeon, Cosmetic/Aesthetic Dentist', 'Pediatrician', 'Infertility Specialist, Gynecologist, Obstetrician', 'General Physician', 'Orthopedic surgeon', 'Dentist, Prosthodontist, Implantologist, Dental Surgeon', 'Dentist, Periodontist, Implantologist', 'Dermatologist', 'Cardiologist', 'AYUSHHomoeopath, Counselling Psychologist', 'Dentist, Dental Surgeon', 'Vascular Surgeon, General Surgeon', 'Pediatrician', 'AYUSHHomoeopath', 'Dentist, Orthodontist', 'TherapistPhysiotherapist', 'GastroIntestinal Surgeon, General Surgeon, Gastroenterologist', 'Internal Medicine', 'Gynecologist, Obstetrician', 'Interventional Cardiologist, Cardiologist', 'Dermatologist, Aesthetic Dermatologist, Trichologist, Hair Transplant Surgeon', 'AYUSHHomoeopath', 'Pediatrician, Neonatologist', 'Implantologist, Prosthodontist, Dentist', 'Urologist', 'Endodontist', 'ENT/ Otorhinolaryngologist', 'General Surgeon', 'TherapistPhysiotherapist', 'General Physician, Consultant Physician', 'Nephrologist/Renal Specialist', 'Infertility Specialist, Gynecologist', 'Gynecologist, Obstetrician', 'Cardiologist, Interventional Cardiologist', 'ENT/ Otorhinolaryngologist, Pediatric Otorhinolaryngologist', 'Dentist, Dental Surgeon', 'Pediatrician', 'TherapistSpeech Therapist', 'Psychiatrist, Addiction Psychiatrist', 'Obstetrician, Gynecologist', 'Joint Replacement Surgeon, Orthopedic surgeon', 'Gynecologist, Obstetrician', 'Neurosurgeon', 'TherapistPhysiotherapist, Geriatric Physiotherapist', 'Infertility Specialist, Gynecologist, Obstetrician', 'Dermatologist, Aesthetic Dermatologist, Trichologist', 'Laparoscopic Surgeon (Obs & Gyn), Gynecologist', 'Prosthodontist, Dentist, Cosmetic/Aesthetic Dentist, Implantologist', 'General Physician', 'AYUSHHomoeopath', 'Psychiatrist', 'General Physician', 'Hepatologist', 'Pediatric Surgeon', 'Psychiatrist', 'AYUSHHomoeopath', 'Urologist, General Surgeon, Urological Surgeon', 'Gynecologist', 'Pediatrician', 'General Surgeon', 'Obstetrician, Gynecologist, Infertility Specialist', 'Pediatrician, Neonatologist', 'Dentist', 'Oral And MaxilloFacial Surgeon, Implantologist', 'Neurosurgeon', 'ENT/ Otorhinolaryngologist, Head and Neck Surgeon', 'Dentist, Implantologist, Cosmetic/Aesthetic Dentist', 'Ophthalmologist/ Eye Surgeon', 'Pediatrician', 'Laparoscopic Surgeon (Obs & Gyn), Infertility Specialist, Gynecologist', 'Plastic Surgeon, Plastic Reconstruction Surgeon, Burn Surgeon', 'Pediatrician', 'TherapistCounselling Psychologist', 'TherapistCounselling Psychologist, Acupuncturist', 'Orthopedic surgeon, Joint Replacement Surgeon', 'TherapistSpeech Therapist', 'Andrologist, Urologist, Urological Surgeon', 'Orthopedic surgeon', 'Orthodontist, Dentofacial Orthopedist, Dentist', 'Plastic Reconstruction Surgeon, Burn Surgeon, Diabetic Foot Surgeon', 'Dentist, Preventive Dentistry', 'General Practitioner', 'Medical Oncologist', 'General Physician', 'Pediatrician', 'General Surgeon, Laparoscopic Surgeon', 'AYUSHAyurveda', 'General Physician', 'Surgical Oncologist, Laparoscopic Surgeon, General Surgeon', 'Dentist', 'Obstetrician, Gynecologist, Laparoscopic Surgeon (Obs & Gyn), Infertility Specialist', 'Nephrologist/Renal Specialist', 'General Physician, Internal Medicine', 'Neurologist', 'Dentist', 'Cardiologist, Interventional Cardiologist', 'General Surgeon', 'Gynecologist, Obstetrician, Infertility Specialist', 'Internal Medicine, General Physician', 'General Physician', 'Dentist, Oral And MaxilloFacial Surgeon, Dental Surgeon', 'Gastroenterologist', 'Gynecologist, Infertility Specialist, Laparoscopic Surgeon (Obs & Gyn)', 'Surgical Oncologist, General Surgeon, Laparoscopic Surgeon', 'TherapistNeuro Physiotherapist, Physiotherapist', 'Obstetrician, Gynecologist, Laparoscopic Surgeon (Obs & Gyn)', 'Cardiologist, Interventional Cardiologist', 'TherapistCounselling Psychologist', 'Dentist, Oral And MaxilloFacial Surgeon, Implantologist', 'Gastroenterologist', 'Implantologist', 'General Physician, Consultant Physician, Internal Medicine', 'Endodontist', 'Plastic Surgeon', 'Hand Surgeon, Orthopedic surgeon', 'General Surgeon', 'Ophthalmologist/ Eye Surgeon', 'AYUSHCounselling Psychologist, Homoeopath', 'Orthopedic surgeon', 'Dentist, Cosmetic/Aesthetic Dentist, Dental Surgeon', 'Gynecologist, Obstetrician, Infertility Specialist, Reproductive Endocrinologist (Infertility)', 'Dermatologist, Aesthetic Dermatologist, Trichologist, Hair Transplant Surgeon, Cosmetologist', 'Obstetrician, Gynecologist', 'Dental Surgeon, Dentist, Cosmetic/Aesthetic Dentist, Implantologist', 'Laparoscopic Surgeon, General Surgeon, Gynecologist', 'General Physician', 'Sexologist, Psychiatrist', 'Neonatologist, Pediatrician', 'Infertility Specialist, Gynecologist, Reproductive Endocrinologist (Infertility)', 'Dermatologist, Dermatosurgeon, Hair Transplant Surgeon', 'Pediatrician', 'General Physician', 'Neurologist', 'Gynecologist, Obstetrician', 'AYUSHHomoeopath', 'Orthodontist, Dentofacial Orthopedist', 'Dentist', 'Orthodontist', 'AYUSHAyurveda, Dietitian/Nutritionist, Alternative Medicine', 'AYUSHHomoeopath', 'Obstetrician, Gynecologist, Infertility Specialist', 'Obstetrician, Gynecologist', 'TherapistCounselling Psychologist', 'Internal Medicine', 'Internal Medicine', 'Urologist', 'Orthodontist', 'Dental Surgeon', 'Gynecologist, Obstetrician, Infertility Specialist', 'AYUSHSexologist (Ayurveda), Ayurveda', 'Dermatologist, Cosmetologist, Trichologist', 'Internal Medicine, General Physician, Consultant Physician', 'Gynecologist, Obstetrician', 'Urologist, Andrologist', 'Gynecologist, Obstetrician', 'Interventional Cardiologist', 'Internal Medicine, General Physician', 'Surgical Oncologist', 'Psychiatrist', 'ENT/ Otorhinolaryngologist', 'Gastroenterologist', 'General Physician', 'GastroIntestinal Surgeon, Laparoscopic Surgeon, Bariatric Surgeon', 'Orthodontist', 'Pediatrician', 'Joint Replacement Surgeon, Orthopedic surgeon', 'TherapistAudiologist, Speech Therapist', 'General Physician, Internal Medicine', 'Cosmetic/Aesthetic Dentist, Dentist, Implantologist', 'Dentist, Dental Surgeon', 'AYUSHHomoeopath', 'Plastic Surgeon, Hair Transplant Surgeon, Cosmetologist', 'Pediatrician', 'Pediatrician', 'Orthopedic surgeon', 'Orthopedic surgeon', 'AYUSHAyurveda', 'Cardiothoracic and Vascular Surgeon, Cardiothoracic Surgeon, Vascular Surgeon', 'Rheumatologist', 'Gynecologist, Infertility Specialist, Obstetrician', 'Gynecologist, Obstetrician', 'Cardiothoracic Surgeon', 'Psychiatrist', 'Joint Replacement Surgeon, Orthopedic surgeon', 'Neurosurgeon, Spine Surgeon (Neuro), Neurologist', 'Obstetrician, Gynecologist', 'Obstetrician', 'TherapistPhysiotherapist, Geriatric Physiotherapist', 'Dermatologist, Cosmetologist', 'Dermatologist', 'Neurosurgeon', 'Neurosurgeon', 'Pediatrician', 'Pediatric Dentist', 'Dermatologist, Trichologist, Cosmetologist', 'General Physician', 'TherapistPhysiotherapist', 'General Practitioner, General Physician, Pathologist', 'Oral And MaxilloFacial Surgeon, Implantologist, Cosmetic/Aesthetic Dentist', 'Pediatrician', 'Pediatrician, Neonatologist', 'Laparoscopic Surgeon, General Surgeon', 'Hair Transplant Surgeon', 'Neurosurgeon', 'Spine And Pain Specialist, Joint Replacement Surgeon, Orthopedic surgeon', 'Gynecologist, Obstetrician', 'Pediatrician', 'Dentist, Endodontist', 'AYUSHAyurveda', 'Dental Surgeon, Dentist', 'Orthodontist, Dental Surgeon, Dentist, Implantologist', 'Pulmonologist', 'Dentofacial Orthopedist', 'Plastic Surgeon, Hair Transplant Surgeon', 'TherapistAudiologist, Speech Therapist', 'Urologist', 'Somnologist (Sleep Specialist), Pulmonologist', 'Neurologist, Neurosurgeon', 'Diabetologist, General Physician', 'Dentist', 'AYUSHHomoeopath', 'Dentist, Cosmetic/Aesthetic Dentist', 'Internal Medicine, General Physician', 'Dermatologist', 'TherapistPhysiotherapist', 'Orthopedic surgeon, Spine Surgeon (Ortho), Spine And Pain Specialist', 'ENT/ Otorhinolaryngologist', 'Dermatologist, Aesthetic Dermatologist, Pediatric Dermatologist', 'Pediatrician', 'TherapistPhysiotherapist', 'Gynecologist, Obstetrician', 'AYUSHHomoeopath', 'TherapistDietitian/Nutritionist, Sports Nutritionist', 'TherapistPhysiotherapist', 'Neurosurgeon, Neurologist, Spine Surgeon (Ortho)', 'Hair Transplant Surgeon', 'Obstetrician, Infertility Specialist, Laparoscopic Surgeon (Obs & Gyn), Gynecologist', 'Pediatrician', 'TherapistPhysiotherapist', 'Gynecologist, Obstetrician', 'Surgical Oncologist', 'Gynecologist, Obstetrician, Infertility Specialist', 'Nephrologist/Renal Specialist', 'Dentist, Cosmetic/Aesthetic Dentist, Implantologist, Dental Surgeon', 'Psychiatrist', 'Gynecologist, Obstetrician, Infertility Specialist, Laparoscopic Surgeon (Obs & Gyn)', 'Orthopedic surgeon', 'Trichologist, Aesthetic Dermatologist, Dermatologist, Hair Transplant Surgeon, Cosmetologist', 'ENT/ Otorhinolaryngologist, Head and Neck Surgeon', 'Oral Medicine and Radiology', 'Dentist, Dental Surgeon, Cosmetic/Aesthetic Dentist', 'Joint Replacement Surgeon, Orthopedic surgeon', 'Orthopedic surgeon', 'Cosmetic/Aesthetic Dentist, Implantologist, Dentist, Dental Surgeon', 'Prosthodontist, Dentist', 'General Physician', 'Neonatologist', 'Orthopedic surgeon', 'Psychiatrist', 'ENT/ Otorhinolaryngologist', 'Gynecologist, Obstetrician, Infertility Specialist', 'ENT/ Otorhinolaryngologist', 'AYUSHAyurveda', 'AYUSHSiddha', 'Special Interest in Infectious Diseases', 'AYUSHSexologist (Unani), Sexologist, Unani', 'Neurologist', 'Psychiatrist', 'Dentist, Implantologist, Pediatric Dentist, Cosmetic/Aesthetic Dentist', 'Reproductive Endocrinologist (Infertility), Infertility Specialist', 'Internal Medicine, General Physician', 'Cardiologist', 'TherapistSports and Musculoskeletal Physiotherapist', 'General Surgeon, Laparoscopic Surgeon, Bariatric Surgeon', 'TherapistSports and Musculoskeletal Physiotherapist', 'Gynecologist, Obstetrician, Laparoscopic Surgeon (Obs & Gyn), Reproductive Endocrinologist (Infertility)', 'Neurosurgeon', 'Dental Surgeon, Dentist', 'Implantologist, Dentist', 'TherapistCounselling Psychologist', 'Neurologist', 'General Physician', 'TherapistNeuro Physiotherapist', 'Dentist, Implantologist', 'ENT/ Otorhinolaryngologist', 'Orthopedic surgeon, Joint Replacement Surgeon', 'Nephrologist/Renal Specialist', 'Obstetrician', 'Psychiatrist', 'Surgical Oncologist', 'Ophthalmologist/ Eye Surgeon', 'Neurologist', 'Dermatologist, Trichologist, Aesthetic Dermatologist, Cosmetologist', 'Gynecologist, Obstetrician', 'Dermatologist, Trichologist, Aesthetic Dermatologist, Hair Transplant Surgeon, Cosmetologist', 'Urologist, Urological Surgeon, Andrologist', 'Psychiatrist', 'Dentist, Cosmetic/Aesthetic Dentist, Implantologist, Dental Surgeon', 'Gynecologist, Infertility Specialist', 'AYUSHAyurveda', 'Cosmetic/Aesthetic Dentist, Dentist, Implantologist', 'Obstetrician, Gynecologist, Infertility Specialist, Laparoscopic Surgeon (Obs & Gyn)', 'Pediatrician', 'Rheumatologist', 'Ophthalmologist/ Eye Surgeon', 'Dentist, Cosmetic/Aesthetic Dentist, Implantologist, Dental Surgeon', 'Interventional Radiologist', 'Gastroenterologist', 'TherapistDietitian/Nutritionist', 'Endodontist', 'TherapistCosmetologist', 'Nephrologist/Renal Specialist', 'Cardiologist, Interventional Cardiologist', 'AYUSHHomoeopath', 'Dentist, Implantologist, Orthodontist', 'Gynecologist, Obstetrician', 'ENT/ Otorhinolaryngologist', 'Obstetrician, Gynecologist', 'Bariatric Surgeon, General Surgeon', 'Cardiothoracic Surgeon, Cardiac Surgeon', 'AYUSHHomoeopath', 'Dermatologist', 'Obstetrician, Gynecologist', 'Dentist, Cosmetic/Aesthetic Dentist, Dental Surgeon', 'Gynecologist, Obstetrician', 'General Physician', 'Cardiologist', 'Dentist', 'Pediatrician', 'Endodontist', 'Obstetrician, Gynecologist', 'Internal Medicine, General Physician', 'Gynecologist, Obstetrician', 'Dentist', 'Internal Medicine', 'Interventional Cardiologist, Cardiologist', 'Orthopedic surgeon', 'Orthopedic surgeon, Joint Replacement Surgeon', 'Dermatologist, Cosmetologist', 'Dentist', 'Pediatrician', 'Dentist', 'Orthopedic surgeon, Spine Surgeon (Ortho)', 'General Physician, Family Physician', 'Infertility Specialist, Gynecologist, Obstetrician', 'Pediatrician', 'Obstetrician, Gynecologist, Infertility Specialist, Laparoscopic Surgeon (Obs & Gyn)', 'Cardiologist', 'Obstetrician, Gynecologist', 'Urologist', 'Endodontist, Conservative Dentist', 'Gynecologist, Infertility Specialist, Obstetrician', 'Psychiatrist, Neuropsychiatrist', 'Dental Surgeon', 'TherapistPhysiotherapist', 'Obstetrician, Gynecologist', 'General Surgeon, Laparoscopic Surgeon, Bariatric Surgeon', 'TherapistPhysiotherapist, Geriatric Physiotherapist', 'Oral And MaxilloFacial Surgeon, Implantologist, Dentist', 'Dermatologist, Cosmetologist, Pediatric Dermatologist, Dermatosurgeon, Hair Transplant Surgeon, Aesthetic Dermatologist, Trichologist, Venereologist', 'General Surgeon, Laparoscopic Surgeon, Proctologist', 'TherapistCounselling Psychologist', 'AYUSHHomoeopath', 'Dental Surgeon, Oral Medicine and Radiology', 'Orthopedic surgeon', 'Gynecologist, Laparoscopic Surgeon (Obs & Gyn), Infertility Specialist', 'Prosthodontist, Implantologist, Cosmetic/Aesthetic Dentist, Dental Surgeon, Dentist', 'TherapistClinical Psychologist', 'TherapistCosmetologist', 'Pediatric Dentist, Preventive Dentistry', 'Ophthalmologist/ Eye Surgeon', 'Pediatrician', 'Pediatrician', 'Pediatric Dentist', 'Cosmetic/Aesthetic Dentist', 'Surgical Oncologist', 'Medical Oncologist', 'Pain Management Specialist, Spine And Pain Specialist', 'Bariatric Surgeon, Laparoscopic Surgeon', 'Pediatrician', 'Ophthalmologist/ Eye Surgeon', 'Dermatologist', 'AYUSHAyurveda', 'AYUSHHomoeopath', 'Dentist, Dental Surgeon, Implantologist', 'Pediatrician', 'AYUSHAyurveda, Alternative Medicine', 'Dermatologist, Cosmetologist', 'Pediatrician', 'Dentist, Orthodontist', 'Psychiatrist', 'TherapistCounselling Psychologist', 'General Surgeon, GastroIntestinal Surgeon', 'Gynecologist, Obstetrician, Infertility Specialist', 'Orthopedic surgeon, Joint Replacement Surgeon, Spine Surgeon (Ortho)', 'Pediatrician', 'Plastic Surgeon', 'AYUSHHomoeopath', 'Pediatric Surgeon, General Surgeon', 'Prosthodontist, Implantologist, Cosmetic/Aesthetic Dentist', 'TherapistPhysiotherapist', 'Dentist', 'Pediatrician', 'Gynecologist, Obstetrician, Infertility Specialist', 'ENT/ Otorhinolaryngologist', 'TherapistAudiologist', 'Dentist, Cosmetic/Aesthetic Dentist', 'General Surgeon', 'General Physician', 'Cardiologist', 'Neurologist', 'Prosthodontist, Dentist, Implantologist, Cosmetic/Aesthetic Dentist, Dental Surgeon', 'General Physician, Internal Medicine, Consultant Physician', 'TherapistAudiologist, Speech Therapist', 'Endodontist', 'AYUSHAyurveda', 'Periodontist', 'Neurologist, General Physician', 'Dentist, Cosmetic/Aesthetic Dentist', 'TherapistGeriatric Physiotherapist, Physiotherapist', 'Urologist', 'Dental Surgeon, Cosmetic/Aesthetic Dentist', 'ENT/ Otorhinolaryngologist', 'Dentist, Dental Surgeon, Cosmetic/Aesthetic Dentist, Implantologist', 'Cardiothoracic Surgeon', 'Pediatric Surgeon', 'Joint Replacement Surgeon', 'Neurosurgeon, Neurointerventional Surgery', 'Dermatologist, Trichologist, Aesthetic Dermatologist, Hair Transplant Surgeon, Cosmetologist', 'Gynecologist, Obstetrician', 'Cosmetic/Aesthetic Dentist', 'Dentist, Dental Surgeon, Cosmetic/Aesthetic Dentist', 'Endodontist, Dentist', 'Dentist', 'Ophthalmologist/ Eye Surgeon', 'Pulmonologist', 'Orthopedic surgeon, Joint Replacement Surgeon', 'Orthopedic surgeon', 'AYUSHHomoeopath', 'Obstetrician, Gynecologist', 'ENT/ Otorhinolaryngologist', 'ENT/ Otorhinolaryngologist', 'Dental Surgeon, Cosmetic/Aesthetic Dentist, Implantologist', 'Gynecologist, Obstetrician, Reproductive Endocrinologist (Infertility)', 'Ophthalmologist/ Eye Surgeon', 'Pediatric Cardiologist', 'AYUSHHomoeopath', 'Dental Surgeon, Dentist, Cosmetic/Aesthetic Dentist', 'Pediatric Otorhinolaryngologist', 'TherapistCounselling Psychologist', 'Pulmonologist', 'Pediatric Neurologist, Pediatrician', 'Gynecologist', 'Dermatologist, Hair Transplant Surgeon, Dermatosurgeon, Trichologist', 'Internal Medicine', 'Neurologist', 'TherapistSpeech Therapist', 'Orthopedic surgeon, Spine And Pain Specialist, Spine Surgeon (Ortho)', 'Obstetrician, Gynecologist', 'ENT/ Otorhinolaryngologist', 'Spine And Pain Specialist', 'Pediatrician, Neonatologist', 'AYUSHAyurveda', 'Pediatrician, Pediatric Rheumatologist', 'ENT/ Otorhinolaryngologist', 'Gynecologist, Infertility Specialist, Obstetrician, Laparoscopic Surgeon (Obs & Gyn)', 'Pediatric Dentist', 'Orthopedic surgeon', 'Pulmonologist, General Physician', 'Pulmonologist', 'Obstetrician, Gynecologist', 'Psychiatrist', 'Orthopedic surgeon', 'Paediatric Intensivist, Pediatrician', 'Obstetrician, Gynecologist', 'Radiation Oncologist', 'Ophthalmologist/ Eye Surgeon', 'Urologist', 'Obstetrician, Gynecologist, Infertility Specialist', 'AYUSHAyurveda', 'Pediatrician', 'Dentist', 'Dentist, Restorative Dentist, Endodontist, Cosmetic/Aesthetic Dentist', 'Endodontist, Dentist', 'TherapistPhysiotherapist', 'Psychiatrist', 'Medical Oncologist', 'Orthopedic surgeon', 'Psychiatrist, Geriatric Psychiatrist', 'AYUSHAyurveda, Sexologist', 'Internal Medicine, General Physician', 'Oral And MaxilloFacial Surgeon', 'Nephrologist/Renal Specialist, Internal Medicine', 'Gynecologist, Obstetrician, Infertility Specialist, Cosmetologist', 'Infertility Specialist, Obstetrician, Gynecologist', 'Dentist', 'Dermatologist, Aesthetic Dermatologist, Dermatosurgeon, Hair Transplant Surgeon, Trichologist', 'TherapistSports and Musculoskeletal Physiotherapist', 'Orthopedic surgeon', 'Pulmonologist', 'General Physician', 'Dentist, Periodontist, Implantologist, Dental Surgeon, Cosmetic/Aesthetic Dentist', 'Oral And MaxilloFacial Surgeon, Implantologist', 'Ophthalmologist/ Eye Surgeon', 'Pediatrician', 'Orthodontist, Implantologist', 'Gynecologist', 'Infertility Specialist', 'Orthodontist', 'Orthopedic surgeon', 'AYUSHYoga and Naturopathy, Acupuncturist', 'Cardiologist, Interventional Cardiologist', 'Dentist, Cosmetic/Aesthetic Dentist', 'Obstetrician, Gynecologist, Infertility Specialist', 'Gynecologist, Obstetrician, Laparoscopic Surgeon (Obs & Gyn)', 'Urologist', 'Cardiologist', 'Urologist, Andrologist', 'AYUSHAyurveda', 'Dental Surgeon, Cosmetic/Aesthetic Dentist', 'Urologist', 'Dental Surgeon, Dentist', 'ENT/ Otorhinolaryngologist', 'Pediatrician', 'TherapistPhysiotherapist', 'Orthopedic surgeon, Joint Replacement Surgeon', 'Surgical Oncologist', 'Periodontist, Implantologist', 'Pediatrician', 'General Physician', 'AYUSHHomoeopath', 'Dentist, Oral Pathologist', 'Gynecologist, Obstetrician', 'General Surgeon, Liver Transplant Surgeon, Hepato-Biliary-Pancreatic, Laparoscopic Surgeon', 'AYUSHHomoeopath, Sexologist (Homeopathy)', 'Dermatologist, Aesthetic Dermatologist, Trichologist, Hair Transplant Surgeon, Cosmetologist', 'General Physician', 'Laparoscopic Surgeon (Obs & Gyn), Infertility Specialist', 'AYUSHHomoeopath', 'Dermatologist, Hair Transplant Surgeon, Dermatosurgeon', 'Cardiologist, Interventional Cardiologist', 'Dentist, Prosthodontist, Implantologist', 'Periodontist, Implantologist', 'General Physician', 'Pediatric Gastroenterologist', 'Ophthalmologist/ Eye Surgeon', 'Infertility Specialist', 'Obstetrician, Gynecologist, Infertility Specialist', 'Oral And MaxilloFacial Surgeon, Dentist, Implantologist', 'General Surgeon, Laparoscopic Surgeon', 'AYUSHAyurveda', 'TherapistPhysiotherapist', 'TherapistCounselling Psychologist', 'Pediatrician', 'Psychiatrist, Sexologist', 'Nephrologist/Renal Specialist, Internal Medicine, General Physician', 'General Physician', 'Gynecologist', 'Orthopedic surgeon, Joint Replacement Surgeon', 'TherapistPhysiotherapist', 'AYUSHAyurveda, Alternative Medicine', 'Gynecologist, Obstetrician', 'Implantologist, Periodontist', 'Laparoscopic Surgeon (Obs & Gyn), Gynecologist', 'Pain Management Specialist, Spine And Pain Specialist', 'Gastroenterologist, GastroIntestinal Surgeon, General Surgeon', 'Reproductive Endocrinologist (Infertility), Gynecologist, Laparoscopic Surgeon (Obs & Gyn)', 'Orthopedic surgeon, Joint Replacement Surgeon', 'Pulmonologist', 'Medical Oncologist', 'Prosthodontist, Dentist, Implantologist', 'Radiation Oncologist', 'Obstetrician, Gynecologist', 'Gynecologist, Obstetrician, Infertility Specialist, Laparoscopic Surgeon (Obs & Gyn)', 'AYUSHHomoeopath', 'Pulmonologist', 'TherapistPhysiotherapist', 'Pediatrician', 'Gynecologist, Obstetrician', 'Obstetrician, Gynecologist', 'Pediatric Dentist', 'Gynecologist, Obstetrician', 'Neurosurgeon, Spine Surgeon (Ortho), Spine And Pain Specialist, Spine Surgeon (Neuro)', 'Urologist', 'Obstetrician, Gynecologist', 'Ophthalmologist/ Eye Surgeon', 'AYUSHAyurveda', 'Obstetrician, Gynecologist, Infertility Specialist', 'Orthopedic surgeon, Joint Replacement Surgeon', 'Oral And MaxilloFacial Surgeon, Dentist', 'Internal Medicine, General Physician', 'Dental Surgeon, Dentist', 'Orthopedic surgeon', 'Special Interest in Surgical Oncology', 'Surgical Oncologist', 'Prosthodontist, Dentist, Cosmetic/Aesthetic Dentist, Dental Surgeon, Implantologist', 'TherapistPhysiotherapist', 'Dentist, Periodontist, Implantologist', 'TherapistCounselling Psychologist, Hypnotherapist', 'Dermatologist', 'Plastic Surgeon, Hair Transplant Surgeon, Cosmetologist, Plastic Reconstruction Surgeon', 'Hepato-Biliary-Pancreatic', 'TherapistCounselling Psychologist', 'Reproductive Endocrinologist (Infertility), Infertility Specialist', 'Obstetrician, Gynecologist', 'Dentist, Periodontist, Implantologist', 'Oral And MaxilloFacial Surgeon', 'Pulmonologist', 'Cardiologist', 'Pediatrician', 'Cosmetic/Aesthetic Dentist, Implantologist, Dentist', 'ENT/ Otorhinolaryngologist', 'Plastic Surgeon', 'Dentist, Periodontist', 'Dentist', 'TherapistSpeech Therapist, Audiologist', 'AYUSHAyurveda', 'TherapistCounselling Psychologist', 'Spine Surgeon (Ortho)', 'Internal Medicine, General Physician', 'Pediatrician', 'Orthopedic surgeon, Joint Replacement Surgeon', 'Cosmetic/Aesthetic Dentist, Dentist', 'Cardiologist', 'Gynecologist, Obstetrician', 'Radiation Oncologist', 'Orthopedic surgeon', 'Implantologist, Orthodontist, Dentist', 'Pediatrician', 'Dental Surgeon', 'Dermatologist, Aesthetic Dermatologist, Trichologist, Hair Transplant Surgeon, Cosmetologist', 'ENT/ Otorhinolaryngologist', 'AYUSHHomoeopath', 'Orthopedic surgeon', 'Vascular Surgeon', 'Psychiatrist', 'Dental Surgeon, Dentist, Implantologist', 'Pediatric Dentist', 'TherapistPhysiotherapist', 'Laparoscopic Surgeon, GastroIntestinal Surgeon', 'Internal Medicine']\n"
     ]
    }
   ],
   "source": [
    "speciality=[]\n",
    "for i in df.Speciality:\n",
    "    speciality.append(i)\n",
    "print(speciality)"
   ]
  },
  {
   "cell_type": "code",
   "execution_count": 22,
   "id": "4c684ca1",
   "metadata": {
    "colab": {
     "base_uri": "https://localhost:8080/",
     "height": 658
    },
    "id": "4c684ca1",
    "outputId": "824c86b6-b4c6-4548-ae24-a67b5aa84276"
   },
   "outputs": [
    {
     "data": {
      "text/html": [
       "<div>\n",
       "<style scoped>\n",
       "    .dataframe tbody tr th:only-of-type {\n",
       "        vertical-align: middle;\n",
       "    }\n",
       "\n",
       "    .dataframe tbody tr th {\n",
       "        vertical-align: top;\n",
       "    }\n",
       "\n",
       "    .dataframe thead th {\n",
       "        text-align: right;\n",
       "    }\n",
       "</style>\n",
       "<table border=\"1\" class=\"dataframe\">\n",
       "  <thead>\n",
       "    <tr style=\"text-align: right;\">\n",
       "      <th></th>\n",
       "      <th>Name</th>\n",
       "      <th>Degree</th>\n",
       "      <th>DP Score</th>\n",
       "      <th>NPV Value</th>\n",
       "      <th>Location</th>\n",
       "      <th>City</th>\n",
       "      <th>Consult Fee</th>\n",
       "      <th>Years of Experience</th>\n",
       "      <th>Speciality</th>\n",
       "    </tr>\n",
       "  </thead>\n",
       "  <tbody>\n",
       "    <tr>\n",
       "      <th>0</th>\n",
       "      <td>Dr. Manish Agarwal</td>\n",
       "      <td>MBBS, MS - General Surgery</td>\n",
       "      <td>93.0</td>\n",
       "      <td>61.0</td>\n",
       "      <td>Saket</td>\n",
       "      <td>Delhi</td>\n",
       "      <td>900.0</td>\n",
       "      <td>26.0</td>\n",
       "      <td>General Surgeon, Laparoscopic Surgeon</td>\n",
       "    </tr>\n",
       "    <tr>\n",
       "      <th>1</th>\n",
       "      <td>Dr. Pallavi Joshi</td>\n",
       "      <td>BHMS</td>\n",
       "      <td>100.0</td>\n",
       "      <td>91.0</td>\n",
       "      <td>Saket</td>\n",
       "      <td>Delhi</td>\n",
       "      <td>500.0</td>\n",
       "      <td>16.0</td>\n",
       "      <td>AYUSHHomoeopath</td>\n",
       "    </tr>\n",
       "    <tr>\n",
       "      <th>2</th>\n",
       "      <td>Dr. Shikha Gurnani</td>\n",
       "      <td>MBBS, DNB - Obstetrics &amp; Gynecology</td>\n",
       "      <td>98.0</td>\n",
       "      <td>1312.0</td>\n",
       "      <td>Dwarka</td>\n",
       "      <td>Delhi</td>\n",
       "      <td>800.0</td>\n",
       "      <td>20.0</td>\n",
       "      <td>Gynecologist, Obstetrician</td>\n",
       "    </tr>\n",
       "    <tr>\n",
       "      <th>3</th>\n",
       "      <td>Dr. Sanneya Manchanda</td>\n",
       "      <td>BDS, MDS - Conservative Dentistry &amp; Endodontics</td>\n",
       "      <td>100.0</td>\n",
       "      <td>122.0</td>\n",
       "      <td>Jangpura</td>\n",
       "      <td>Delhi</td>\n",
       "      <td>400.0</td>\n",
       "      <td>10.0</td>\n",
       "      <td>Dentist, Endodontist, Conservative Dentist, Re...</td>\n",
       "    </tr>\n",
       "    <tr>\n",
       "      <th>4</th>\n",
       "      <td>Dr. Pearl Bhardwaj</td>\n",
       "      <td>BDS, MDS - Periodontics</td>\n",
       "      <td>94.0</td>\n",
       "      <td>190.0</td>\n",
       "      <td>Model Town 2</td>\n",
       "      <td>Delhi</td>\n",
       "      <td>400.0</td>\n",
       "      <td>10.0</td>\n",
       "      <td>Dentist, Implantologist, Periodontist</td>\n",
       "    </tr>\n",
       "    <tr>\n",
       "      <th>...</th>\n",
       "      <td>...</td>\n",
       "      <td>...</td>\n",
       "      <td>...</td>\n",
       "      <td>...</td>\n",
       "      <td>...</td>\n",
       "      <td>...</td>\n",
       "      <td>...</td>\n",
       "      <td>...</td>\n",
       "      <td>...</td>\n",
       "    </tr>\n",
       "    <tr>\n",
       "      <th>8040</th>\n",
       "      <td>Dr. Amrith Kiran Shetty</td>\n",
       "      <td>BDS, Certificate in Dental Implants</td>\n",
       "      <td>96.0</td>\n",
       "      <td>609.0</td>\n",
       "      <td>Banaswadi</td>\n",
       "      <td>Bangalore</td>\n",
       "      <td>500.0</td>\n",
       "      <td>20.0</td>\n",
       "      <td>Dental Surgeon, Dentist, Implantologist</td>\n",
       "    </tr>\n",
       "    <tr>\n",
       "      <th>8041</th>\n",
       "      <td>Dr. Smitha M</td>\n",
       "      <td>BDS, MDS - Paedodontics And Preventive Dentistry</td>\n",
       "      <td>91.0</td>\n",
       "      <td>22.0</td>\n",
       "      <td>RT Nagar</td>\n",
       "      <td>Bangalore</td>\n",
       "      <td>400.0</td>\n",
       "      <td>23.0</td>\n",
       "      <td>Pediatric Dentist</td>\n",
       "    </tr>\n",
       "    <tr>\n",
       "      <th>8042</th>\n",
       "      <td>Dr. Shamraz Abbas   (Physiotherapist)</td>\n",
       "      <td>BPTh/BPT</td>\n",
       "      <td>94.0</td>\n",
       "      <td>190.0</td>\n",
       "      <td>BTM Layout 2nd Stage</td>\n",
       "      <td>Bangalore</td>\n",
       "      <td>500.0</td>\n",
       "      <td>10.0</td>\n",
       "      <td>TherapistPhysiotherapist</td>\n",
       "    </tr>\n",
       "    <tr>\n",
       "      <th>8043</th>\n",
       "      <td>Dr. Lohith U</td>\n",
       "      <td>MBBS, MS - General Surgery, DNB - Surgical Gas...</td>\n",
       "      <td>100.0</td>\n",
       "      <td>15.0</td>\n",
       "      <td>Sarjapur Road</td>\n",
       "      <td>Bangalore</td>\n",
       "      <td>850.0</td>\n",
       "      <td>15.0</td>\n",
       "      <td>Laparoscopic Surgeon, GastroIntestinal Surgeon</td>\n",
       "    </tr>\n",
       "    <tr>\n",
       "      <th>8044</th>\n",
       "      <td>Dr. Faiyaz Ali</td>\n",
       "      <td>MBBS, MD - General Medicine</td>\n",
       "      <td>94.0</td>\n",
       "      <td>190.0</td>\n",
       "      <td>Kammana Halli</td>\n",
       "      <td>Bangalore</td>\n",
       "      <td>650.0</td>\n",
       "      <td>44.0</td>\n",
       "      <td>Internal Medicine</td>\n",
       "    </tr>\n",
       "  </tbody>\n",
       "</table>\n",
       "<p>7988 rows × 9 columns</p>\n",
       "</div>"
      ],
      "text/plain": [
       "                                       Name  \\\n",
       "0                        Dr. Manish Agarwal   \n",
       "1                         Dr. Pallavi Joshi   \n",
       "2                        Dr. Shikha Gurnani   \n",
       "3                     Dr. Sanneya Manchanda   \n",
       "4                        Dr. Pearl Bhardwaj   \n",
       "...                                     ...   \n",
       "8040                Dr. Amrith Kiran Shetty   \n",
       "8041                           Dr. Smitha M   \n",
       "8042  Dr. Shamraz Abbas   (Physiotherapist)   \n",
       "8043                           Dr. Lohith U   \n",
       "8044                         Dr. Faiyaz Ali   \n",
       "\n",
       "                                                 Degree  DP Score  NPV Value  \\\n",
       "0                            MBBS, MS - General Surgery      93.0       61.0   \n",
       "1                                                  BHMS     100.0       91.0   \n",
       "2                   MBBS, DNB - Obstetrics & Gynecology      98.0     1312.0   \n",
       "3       BDS, MDS - Conservative Dentistry & Endodontics     100.0      122.0   \n",
       "4                               BDS, MDS - Periodontics      94.0      190.0   \n",
       "...                                                 ...       ...        ...   \n",
       "8040                BDS, Certificate in Dental Implants      96.0      609.0   \n",
       "8041   BDS, MDS - Paedodontics And Preventive Dentistry      91.0       22.0   \n",
       "8042                                           BPTh/BPT      94.0      190.0   \n",
       "8043  MBBS, MS - General Surgery, DNB - Surgical Gas...     100.0       15.0   \n",
       "8044                        MBBS, MD - General Medicine      94.0      190.0   \n",
       "\n",
       "                  Location        City  Consult Fee  Years of Experience  \\\n",
       "0                    Saket       Delhi        900.0                 26.0   \n",
       "1                    Saket       Delhi        500.0                 16.0   \n",
       "2                   Dwarka       Delhi        800.0                 20.0   \n",
       "3                 Jangpura       Delhi        400.0                 10.0   \n",
       "4             Model Town 2       Delhi        400.0                 10.0   \n",
       "...                    ...         ...          ...                  ...   \n",
       "8040             Banaswadi   Bangalore        500.0                 20.0   \n",
       "8041              RT Nagar   Bangalore        400.0                 23.0   \n",
       "8042  BTM Layout 2nd Stage   Bangalore        500.0                 10.0   \n",
       "8043         Sarjapur Road   Bangalore        850.0                 15.0   \n",
       "8044         Kammana Halli   Bangalore        650.0                 44.0   \n",
       "\n",
       "                                             Speciality  \n",
       "0                 General Surgeon, Laparoscopic Surgeon  \n",
       "1                                       AYUSHHomoeopath  \n",
       "2                            Gynecologist, Obstetrician  \n",
       "3     Dentist, Endodontist, Conservative Dentist, Re...  \n",
       "4                 Dentist, Implantologist, Periodontist  \n",
       "...                                                 ...  \n",
       "8040            Dental Surgeon, Dentist, Implantologist  \n",
       "8041                                  Pediatric Dentist  \n",
       "8042                           TherapistPhysiotherapist  \n",
       "8043     Laparoscopic Surgeon, GastroIntestinal Surgeon  \n",
       "8044                                  Internal Medicine  \n",
       "\n",
       "[7988 rows x 9 columns]"
      ]
     },
     "execution_count": 22,
     "metadata": {},
     "output_type": "execute_result"
    }
   ],
   "source": [
    "df"
   ]
  },
  {
   "cell_type": "code",
   "execution_count": 23,
   "id": "4f69be06",
   "metadata": {
    "colab": {
     "base_uri": "https://localhost:8080/"
    },
    "id": "4f69be06",
    "outputId": "d546870f-917b-4429-d632-93ea0c239613",
    "scrolled": true
   },
   "outputs": [
    {
     "name": "stderr",
     "output_type": "stream",
     "text": [
      "C:\\Users\\Shashank\\AppData\\Local\\Temp\\ipykernel_1556\\1977123895.py:2: SettingWithCopyWarning: \n",
      "A value is trying to be set on a copy of a slice from a DataFrame.\n",
      "Try using .loc[row_indexer,col_indexer] = value instead\n",
      "\n",
      "See the caveats in the documentation: https://pandas.pydata.org/pandas-docs/stable/user_guide/indexing.html#returning-a-view-versus-a-copy\n",
      "  Dentist['Speciality'] = 'Dentist'\n"
     ]
    }
   ],
   "source": [
    "Dentist = df[df['Speciality'].str.contains('Dentist', case = False)]\n",
    "Dentist['Speciality'] = 'Dentist'\n",
    "df = df[~(df['Speciality'].str.contains('Dentist', case = False))]"
   ]
  },
  {
   "cell_type": "code",
   "execution_count": 24,
   "id": "a16f85dd",
   "metadata": {
    "colab": {
     "base_uri": "https://localhost:8080/"
    },
    "id": "a16f85dd",
    "outputId": "4fd52fc4-aea9-4549-8e70-f2d61d5a2e0b",
    "scrolled": true
   },
   "outputs": [
    {
     "name": "stderr",
     "output_type": "stream",
     "text": [
      "C:\\Users\\Shashank\\AppData\\Local\\Temp\\ipykernel_1556\\359673948.py:2: SettingWithCopyWarning: \n",
      "A value is trying to be set on a copy of a slice from a DataFrame.\n",
      "Try using .loc[row_indexer,col_indexer] = value instead\n",
      "\n",
      "See the caveats in the documentation: https://pandas.pydata.org/pandas-docs/stable/user_guide/indexing.html#returning-a-view-versus-a-copy\n",
      "  Gynecologist['Speciality'] = 'Gynecologist'\n"
     ]
    }
   ],
   "source": [
    "Gynecologist = df[df['Speciality'].str.contains('Gynecologist', case = False)]\n",
    "Gynecologist['Speciality'] = 'Gynecologist'\n",
    "df = df[~(df['Speciality'].str.contains('Gynecologist', case = False))]"
   ]
  },
  {
   "cell_type": "code",
   "execution_count": 25,
   "id": "d4d5425a",
   "metadata": {
    "colab": {
     "base_uri": "https://localhost:8080/"
    },
    "id": "d4d5425a",
    "outputId": "02db1295-ba36-4325-f543-abc9ec501b63"
   },
   "outputs": [
    {
     "name": "stderr",
     "output_type": "stream",
     "text": [
      "C:\\Users\\Shashank\\AppData\\Local\\Temp\\ipykernel_1556\\339426651.py:2: SettingWithCopyWarning: \n",
      "A value is trying to be set on a copy of a slice from a DataFrame.\n",
      "Try using .loc[row_indexer,col_indexer] = value instead\n",
      "\n",
      "See the caveats in the documentation: https://pandas.pydata.org/pandas-docs/stable/user_guide/indexing.html#returning-a-view-versus-a-copy\n",
      "  Pediatrician['Speciality'] = 'Pediatrician'\n"
     ]
    }
   ],
   "source": [
    "Pediatrician = df[df['Speciality'].str.contains('Pediatrician', case = False)]\n",
    "Pediatrician['Speciality'] = 'Pediatrician'\n",
    "df = df[~(df['Speciality'].str.contains('Pediatrician', case = False))]"
   ]
  },
  {
   "cell_type": "code",
   "execution_count": 26,
   "id": "2cf34e6b",
   "metadata": {
    "colab": {
     "base_uri": "https://localhost:8080/"
    },
    "id": "2cf34e6b",
    "outputId": "ac0d6e4b-b902-4aba-a5e1-12c31e29e210"
   },
   "outputs": [
    {
     "name": "stderr",
     "output_type": "stream",
     "text": [
      "C:\\Users\\Shashank\\AppData\\Local\\Temp\\ipykernel_1556\\722785023.py:2: SettingWithCopyWarning: \n",
      "A value is trying to be set on a copy of a slice from a DataFrame.\n",
      "Try using .loc[row_indexer,col_indexer] = value instead\n",
      "\n",
      "See the caveats in the documentation: https://pandas.pydata.org/pandas-docs/stable/user_guide/indexing.html#returning-a-view-versus-a-copy\n",
      "  Orthopedist['Speciality'] = 'Orthopedist'\n"
     ]
    }
   ],
   "source": [
    "Orthopedist = df[df['Speciality'].str.contains('Ortho', case = False)]\n",
    "Orthopedist['Speciality'] = 'Orthopedist'\n",
    "df = df[~(df['Speciality'].str.contains('Ortho', case = False))]"
   ]
  },
  {
   "cell_type": "code",
   "execution_count": 27,
   "id": "e7e55840",
   "metadata": {
    "colab": {
     "base_uri": "https://localhost:8080/"
    },
    "id": "e7e55840",
    "outputId": "3759df75-b311-4de9-803b-d8cb0a2425d8"
   },
   "outputs": [
    {
     "name": "stderr",
     "output_type": "stream",
     "text": [
      "C:\\Users\\Shashank\\AppData\\Local\\Temp\\ipykernel_1556\\3214511333.py:2: SettingWithCopyWarning: \n",
      "A value is trying to be set on a copy of a slice from a DataFrame.\n",
      "Try using .loc[row_indexer,col_indexer] = value instead\n",
      "\n",
      "See the caveats in the documentation: https://pandas.pydata.org/pandas-docs/stable/user_guide/indexing.html#returning-a-view-versus-a-copy\n",
      "  Ophthalmologist['Speciality'] = 'Ophthalmologist'\n"
     ]
    }
   ],
   "source": [
    "Ophthalmologist = df[df['Speciality'].str.contains('Ophthalmologist', case = False)]\n",
    "Ophthalmologist['Speciality'] = 'Ophthalmologist'\n",
    "df = df[~(df['Speciality'].str.contains('Ophthalmologist', case = False))]"
   ]
  },
  {
   "cell_type": "code",
   "execution_count": 28,
   "id": "23c3b496",
   "metadata": {
    "colab": {
     "base_uri": "https://localhost:8080/"
    },
    "id": "23c3b496",
    "outputId": "445346f1-0734-42c4-90b4-3bfc2ed0a0c5"
   },
   "outputs": [
    {
     "name": "stderr",
     "output_type": "stream",
     "text": [
      "C:\\Users\\Shashank\\AppData\\Local\\Temp\\ipykernel_1556\\3958096773.py:2: SettingWithCopyWarning: \n",
      "A value is trying to be set on a copy of a slice from a DataFrame.\n",
      "Try using .loc[row_indexer,col_indexer] = value instead\n",
      "\n",
      "See the caveats in the documentation: https://pandas.pydata.org/pandas-docs/stable/user_guide/indexing.html#returning-a-view-versus-a-copy\n",
      "  Physiotherapist['Speciality'] = 'Physiotherapist'\n",
      "C:\\Users\\Shashank\\AppData\\Local\\Temp\\ipykernel_1556\\3958096773.py:6: SettingWithCopyWarning: \n",
      "A value is trying to be set on a copy of a slice from a DataFrame.\n",
      "Try using .loc[row_indexer,col_indexer] = value instead\n",
      "\n",
      "See the caveats in the documentation: https://pandas.pydata.org/pandas-docs/stable/user_guide/indexing.html#returning-a-view-versus-a-copy\n",
      "  Physician['Speciality'] = 'Physiotherapist'\n"
     ]
    }
   ],
   "source": [
    "Physiotherapist = df[df['Speciality'].str.contains('Physiotherapist', case = False)]\n",
    "Physiotherapist['Speciality'] = 'Physiotherapist'\n",
    "df = df[~(df['Speciality'].str.contains('Physiotherapist', case = False))]\n",
    "\n",
    "Physician = df[df['Speciality'].str.contains('Physician', case = False)]\n",
    "Physician['Speciality'] = 'Physiotherapist'\n",
    "df = df[~(df['Speciality'].str.contains('Physician', case = False))]\n",
    "\n",
    "Physiotherapist = pd.concat([Physician, Physiotherapist])"
   ]
  },
  {
   "cell_type": "code",
   "execution_count": 29,
   "id": "ecc0cedc",
   "metadata": {
    "colab": {
     "base_uri": "https://localhost:8080/"
    },
    "id": "ecc0cedc",
    "outputId": "90e7601c-98a0-4b24-ad66-0628059e7d34"
   },
   "outputs": [
    {
     "name": "stderr",
     "output_type": "stream",
     "text": [
      "C:\\Users\\Shashank\\AppData\\Local\\Temp\\ipykernel_1556\\474870015.py:2: SettingWithCopyWarning: \n",
      "A value is trying to be set on a copy of a slice from a DataFrame.\n",
      "Try using .loc[row_indexer,col_indexer] = value instead\n",
      "\n",
      "See the caveats in the documentation: https://pandas.pydata.org/pandas-docs/stable/user_guide/indexing.html#returning-a-view-versus-a-copy\n",
      "  Dermatologist['Speciality'] = 'Dermatologist'\n"
     ]
    }
   ],
   "source": [
    "Dermatologist = df[df['Speciality'].str.contains('Dermatologist', case = False)]\n",
    "Dermatologist['Speciality'] = 'Dermatologist'\n",
    "df = df[~(df['Speciality'].str.contains('Dermatologist', case = False))]"
   ]
  },
  {
   "cell_type": "code",
   "execution_count": 30,
   "id": "7c41be5b",
   "metadata": {
    "colab": {
     "base_uri": "https://localhost:8080/"
    },
    "id": "7c41be5b",
    "outputId": "b573f5fb-f8a6-421c-d930-62778e875641"
   },
   "outputs": [
    {
     "name": "stderr",
     "output_type": "stream",
     "text": [
      "C:\\Users\\Shashank\\AppData\\Local\\Temp\\ipykernel_1556\\2550815963.py:2: SettingWithCopyWarning: \n",
      "A value is trying to be set on a copy of a slice from a DataFrame.\n",
      "Try using .loc[row_indexer,col_indexer] = value instead\n",
      "\n",
      "See the caveats in the documentation: https://pandas.pydata.org/pandas-docs/stable/user_guide/indexing.html#returning-a-view-versus-a-copy\n",
      "  Infertility_Specialist['Speciality'] = 'Infertility Specialist'\n"
     ]
    }
   ],
   "source": [
    "Infertility_Specialist = df[df['Speciality'].str.contains('Infertility Specialist', case = False)]\n",
    "Infertility_Specialist['Speciality'] = 'Infertility Specialist'\n",
    "df = df[~(df['Speciality'].str.contains('Infertility Specialist', case = False))]"
   ]
  },
  {
   "cell_type": "code",
   "execution_count": 31,
   "id": "46aff2ba",
   "metadata": {
    "colab": {
     "base_uri": "https://localhost:8080/"
    },
    "id": "46aff2ba",
    "outputId": "83fb84bf-89bd-4c8d-e49e-4c70180c9f77"
   },
   "outputs": [
    {
     "name": "stderr",
     "output_type": "stream",
     "text": [
      "C:\\Users\\Shashank\\AppData\\Local\\Temp\\ipykernel_1556\\1828010262.py:2: SettingWithCopyWarning: \n",
      "A value is trying to be set on a copy of a slice from a DataFrame.\n",
      "Try using .loc[row_indexer,col_indexer] = value instead\n",
      "\n",
      "See the caveats in the documentation: https://pandas.pydata.org/pandas-docs/stable/user_guide/indexing.html#returning-a-view-versus-a-copy\n",
      "  Cardiologist['Speciality'] = 'Cardiologist'\n"
     ]
    }
   ],
   "source": [
    "Cardiologist = df[df['Speciality'].str.contains('Cardiologist', case = False)]\n",
    "Cardiologist['Speciality'] = 'Cardiologist'\n",
    "df = df[~(df['Speciality'].str.contains('Cardiologist', case = False))]"
   ]
  },
  {
   "cell_type": "code",
   "execution_count": 32,
   "id": "e104b7dc",
   "metadata": {
    "colab": {
     "base_uri": "https://localhost:8080/"
    },
    "id": "e104b7dc",
    "outputId": "f3703508-8a8f-467d-c135-d4e1ff7e2268"
   },
   "outputs": [
    {
     "name": "stderr",
     "output_type": "stream",
     "text": [
      "C:\\Users\\Shashank\\AppData\\Local\\Temp\\ipykernel_1556\\2915479269.py:2: SettingWithCopyWarning: \n",
      "A value is trying to be set on a copy of a slice from a DataFrame.\n",
      "Try using .loc[row_indexer,col_indexer] = value instead\n",
      "\n",
      "See the caveats in the documentation: https://pandas.pydata.org/pandas-docs/stable/user_guide/indexing.html#returning-a-view-versus-a-copy\n",
      "  Dietitian['Speciality'] = 'Dietitian'\n"
     ]
    }
   ],
   "source": [
    "Dietitian = df[df['Speciality'].str.contains('Dietitian', case = False)]\n",
    "Dietitian['Speciality'] = 'Dietitian'\n",
    "df = df[~(df['Speciality'].str.contains('Dietitian', case = False))]"
   ]
  },
  {
   "cell_type": "code",
   "execution_count": 33,
   "id": "84b91500",
   "metadata": {
    "colab": {
     "base_uri": "https://localhost:8080/"
    },
    "id": "84b91500",
    "outputId": "8928cdfa-64f9-40e6-8503-248d6c283357"
   },
   "outputs": [
    {
     "name": "stderr",
     "output_type": "stream",
     "text": [
      "C:\\Users\\Shashank\\AppData\\Local\\Temp\\ipykernel_1556\\3667992425.py:2: SettingWithCopyWarning: \n",
      "A value is trying to be set on a copy of a slice from a DataFrame.\n",
      "Try using .loc[row_indexer,col_indexer] = value instead\n",
      "\n",
      "See the caveats in the documentation: https://pandas.pydata.org/pandas-docs/stable/user_guide/indexing.html#returning-a-view-versus-a-copy\n",
      "  Psychiatrist['Speciality'] = 'Psychiatrist'\n"
     ]
    }
   ],
   "source": [
    "Psychiatrist = df[df['Speciality'].str.contains('Psych', case = False)]\n",
    "Psychiatrist['Speciality'] = 'Psychiatrist'\n",
    "df = df[~(df['Speciality'].str.contains('Psych', case = False))]"
   ]
  },
  {
   "cell_type": "code",
   "execution_count": 34,
   "id": "3e066cf9",
   "metadata": {
    "colab": {
     "base_uri": "https://localhost:8080/"
    },
    "id": "3e066cf9",
    "outputId": "24928fe1-184c-4753-ad19-e01e9b277a08"
   },
   "outputs": [
    {
     "name": "stderr",
     "output_type": "stream",
     "text": [
      "C:\\Users\\Shashank\\AppData\\Local\\Temp\\ipykernel_1556\\447700612.py:2: SettingWithCopyWarning: \n",
      "A value is trying to be set on a copy of a slice from a DataFrame.\n",
      "Try using .loc[row_indexer,col_indexer] = value instead\n",
      "\n",
      "See the caveats in the documentation: https://pandas.pydata.org/pandas-docs/stable/user_guide/indexing.html#returning-a-view-versus-a-copy\n",
      "  Pulmonologist['Speciality'] = 'Pulmonologist'\n"
     ]
    }
   ],
   "source": [
    "Pulmonologist = df[df['Speciality'].str.contains('Pulmonologist', case = False)]\n",
    "Pulmonologist['Speciality'] = 'Pulmonologist'\n",
    "df = df[~(df['Speciality'].str.contains('Pulmonologist', case = False))]"
   ]
  },
  {
   "cell_type": "code",
   "execution_count": 35,
   "id": "174d8d42",
   "metadata": {
    "colab": {
     "base_uri": "https://localhost:8080/"
    },
    "id": "174d8d42",
    "outputId": "545a666e-a285-4bb3-bb44-c069fbaefd94"
   },
   "outputs": [
    {
     "name": "stderr",
     "output_type": "stream",
     "text": [
      "C:\\Users\\Shashank\\AppData\\Local\\Temp\\ipykernel_1556\\122553923.py:2: SettingWithCopyWarning: \n",
      "A value is trying to be set on a copy of a slice from a DataFrame.\n",
      "Try using .loc[row_indexer,col_indexer] = value instead\n",
      "\n",
      "See the caveats in the documentation: https://pandas.pydata.org/pandas-docs/stable/user_guide/indexing.html#returning-a-view-versus-a-copy\n",
      "  Gastroenterologist['Speciality'] = 'Gastroenterologist'\n"
     ]
    }
   ],
   "source": [
    "Gastroenterologist = df[df['Speciality'].str.contains('Gastroenterologist', case = False)]\n",
    "Gastroenterologist['Speciality'] = 'Gastroenterologist'\n",
    "df = df[~(df['Speciality'].str.contains('Gastroenterologist', case = False))]"
   ]
  },
  {
   "cell_type": "code",
   "execution_count": 36,
   "id": "e0722cde",
   "metadata": {
    "colab": {
     "base_uri": "https://localhost:8080/"
    },
    "id": "e0722cde",
    "outputId": "7add7082-d2f1-4895-d563-6ae30c4f2c1d"
   },
   "outputs": [
    {
     "name": "stderr",
     "output_type": "stream",
     "text": [
      "C:\\Users\\Shashank\\AppData\\Local\\Temp\\ipykernel_1556\\1154502202.py:2: SettingWithCopyWarning: \n",
      "A value is trying to be set on a copy of a slice from a DataFrame.\n",
      "Try using .loc[row_indexer,col_indexer] = value instead\n",
      "\n",
      "See the caveats in the documentation: https://pandas.pydata.org/pandas-docs/stable/user_guide/indexing.html#returning-a-view-versus-a-copy\n",
      "  Urolog['Speciality'] = 'Urologist'\n",
      "C:\\Users\\Shashank\\AppData\\Local\\Temp\\ipykernel_1556\\1154502202.py:6: SettingWithCopyWarning: \n",
      "A value is trying to be set on a copy of a slice from a DataFrame.\n",
      "Try using .loc[row_indexer,col_indexer] = value instead\n",
      "\n",
      "See the caveats in the documentation: https://pandas.pydata.org/pandas-docs/stable/user_guide/indexing.html#returning-a-view-versus-a-copy\n",
      "  Nephrologist['Speciality'] = 'Urologist'\n"
     ]
    }
   ],
   "source": [
    "Urolog = df[df['Speciality'].str.contains('Urologist', case = False)]\n",
    "Urolog['Speciality'] = 'Urologist'\n",
    "df = df[~(df['Speciality'].str.contains('Urologist', case = False))]\n",
    "\n",
    "Nephrologist = df[df['Speciality'].str.contains('Nephrologist', case = False)]\n",
    "Nephrologist['Speciality'] = 'Urologist'\n",
    "df = df[~(df['Speciality'].str.contains('Nephrologist', case = False))]\n",
    "\n",
    "Urologist = pd.concat([Urolog, Nephrologist])"
   ]
  },
  {
   "cell_type": "code",
   "execution_count": 37,
   "id": "19e8f466",
   "metadata": {
    "colab": {
     "base_uri": "https://localhost:8080/"
    },
    "id": "19e8f466",
    "outputId": "e83704a4-c004-4b8c-bf7e-e1a0a306acda"
   },
   "outputs": [
    {
     "name": "stderr",
     "output_type": "stream",
     "text": [
      "C:\\Users\\Shashank\\AppData\\Local\\Temp\\ipykernel_1556\\22050914.py:2: SettingWithCopyWarning: \n",
      "A value is trying to be set on a copy of a slice from a DataFrame.\n",
      "Try using .loc[row_indexer,col_indexer] = value instead\n",
      "\n",
      "See the caveats in the documentation: https://pandas.pydata.org/pandas-docs/stable/user_guide/indexing.html#returning-a-view-versus-a-copy\n",
      "  Neurologist['Speciality'] = 'Neurologist'\n"
     ]
    }
   ],
   "source": [
    "Neurologist = df[df['Speciality'].str.contains('Neuro', case = False)]\n",
    "Neurologist['Speciality'] = 'Neurologist'\n",
    "df = df[~(df['Speciality'].str.contains('Neuro', case = False))]"
   ]
  },
  {
   "cell_type": "code",
   "execution_count": 38,
   "id": "abe23251",
   "metadata": {
    "colab": {
     "base_uri": "https://localhost:8080/"
    },
    "id": "abe23251",
    "outputId": "aac746f2-b79a-4015-b36e-1a7199207493"
   },
   "outputs": [
    {
     "name": "stderr",
     "output_type": "stream",
     "text": [
      "C:\\Users\\Shashank\\AppData\\Local\\Temp\\ipykernel_1556\\1255590151.py:2: SettingWithCopyWarning: \n",
      "A value is trying to be set on a copy of a slice from a DataFrame.\n",
      "Try using .loc[row_indexer,col_indexer] = value instead\n",
      "\n",
      "See the caveats in the documentation: https://pandas.pydata.org/pandas-docs/stable/user_guide/indexing.html#returning-a-view-versus-a-copy\n",
      "  Bariatric_Surgeon['Speciality'] = 'Bariatric Surgeon'\n"
     ]
    }
   ],
   "source": [
    "Bariatric_Surgeon = df[df['Speciality'].str.contains('Bariatric Surgeon', case = False)]\n",
    "Bariatric_Surgeon['Speciality'] = 'Bariatric Surgeon'\n",
    "df = df[~(df['Speciality'].str.contains('Bariatric Surgeon', case = False))]"
   ]
  },
  {
   "cell_type": "code",
   "execution_count": 39,
   "id": "7498aa39",
   "metadata": {
    "colab": {
     "base_uri": "https://localhost:8080/"
    },
    "id": "7498aa39",
    "outputId": "892dc325-192a-442a-a823-7e9ed043d99c"
   },
   "outputs": [
    {
     "name": "stderr",
     "output_type": "stream",
     "text": [
      "C:\\Users\\Shashank\\AppData\\Local\\Temp\\ipykernel_1556\\2748648170.py:2: SettingWithCopyWarning: \n",
      "A value is trying to be set on a copy of a slice from a DataFrame.\n",
      "Try using .loc[row_indexer,col_indexer] = value instead\n",
      "\n",
      "See the caveats in the documentation: https://pandas.pydata.org/pandas-docs/stable/user_guide/indexing.html#returning-a-view-versus-a-copy\n",
      "  Rheumatologist['Speciality'] = 'Rheumatologist'\n"
     ]
    }
   ],
   "source": [
    "Rheumatologist = df[df['Speciality'].str.contains('Rheumatologist', case = False)]\n",
    "Rheumatologist['Speciality'] = 'Rheumatologist'\n",
    "df = df[~(df['Speciality'].str.contains('Rheumatologist', case = False))]"
   ]
  },
  {
   "cell_type": "code",
   "execution_count": 40,
   "id": "da250a69",
   "metadata": {
    "colab": {
     "base_uri": "https://localhost:8080/"
    },
    "id": "da250a69",
    "outputId": "dd66a69c-48ed-4e4e-d0c7-3af77dacfe64"
   },
   "outputs": [
    {
     "name": "stderr",
     "output_type": "stream",
     "text": [
      "C:\\Users\\Shashank\\AppData\\Local\\Temp\\ipykernel_1556\\212820942.py:2: SettingWithCopyWarning: \n",
      "A value is trying to be set on a copy of a slice from a DataFrame.\n",
      "Try using .loc[row_indexer,col_indexer] = value instead\n",
      "\n",
      "See the caveats in the documentation: https://pandas.pydata.org/pandas-docs/stable/user_guide/indexing.html#returning-a-view-versus-a-copy\n",
      "  Endodontist['Speciality'] = 'Endodontist'\n"
     ]
    }
   ],
   "source": [
    "Endodontist = df[df['Speciality'].str.contains('Endo', case = False)]\n",
    "Endodontist['Speciality'] = 'Endodontist'\n",
    "df = df[~(df['Speciality'].str.contains('Endo', case = False))]"
   ]
  },
  {
   "cell_type": "code",
   "execution_count": 41,
   "id": "d79a2d7e",
   "metadata": {
    "colab": {
     "base_uri": "https://localhost:8080/"
    },
    "id": "d79a2d7e",
    "outputId": "46d6193b-dc4e-4612-8610-e705c20bc192"
   },
   "outputs": [
    {
     "name": "stderr",
     "output_type": "stream",
     "text": [
      "C:\\Users\\Shashank\\AppData\\Local\\Temp\\ipykernel_1556\\908745500.py:2: SettingWithCopyWarning: \n",
      "A value is trying to be set on a copy of a slice from a DataFrame.\n",
      "Try using .loc[row_indexer,col_indexer] = value instead\n",
      "\n",
      "See the caveats in the documentation: https://pandas.pydata.org/pandas-docs/stable/user_guide/indexing.html#returning-a-view-versus-a-copy\n",
      "  General_Surgeon['Speciality'] = 'General Surgeon'\n"
     ]
    }
   ],
   "source": [
    "General_Surgeon = df[df['Speciality'].str.contains('Surgeon', case = False)]\n",
    "General_Surgeon['Speciality'] = 'General Surgeon'\n",
    "df = df[~(df['Speciality'].str.contains('Surgeon', case = False))]"
   ]
  },
  {
   "cell_type": "code",
   "execution_count": 42,
   "id": "a53cd282",
   "metadata": {
    "colab": {
     "base_uri": "https://localhost:8080/"
    },
    "id": "a53cd282",
    "outputId": "5605cb2c-e1ae-4fe7-eeda-89883e0947d5"
   },
   "outputs": [
    {
     "name": "stderr",
     "output_type": "stream",
     "text": [
      "C:\\Users\\Shashank\\AppData\\Local\\Temp\\ipykernel_1556\\2773317398.py:2: SettingWithCopyWarning: \n",
      "A value is trying to be set on a copy of a slice from a DataFrame.\n",
      "Try using .loc[row_indexer,col_indexer] = value instead\n",
      "\n",
      "See the caveats in the documentation: https://pandas.pydata.org/pandas-docs/stable/user_guide/indexing.html#returning-a-view-versus-a-copy\n",
      "  Otorhinolaryngologist['Speciality'] = 'Otorhinolaryngologist'\n"
     ]
    }
   ],
   "source": [
    "Otorhinolaryngologist = df[df['Speciality'].str.contains('Otorhinolaryngologist', case = False)]\n",
    "Otorhinolaryngologist['Speciality'] = 'Otorhinolaryngologist'\n",
    "df = df[~(df['Speciality'].str.contains('Otorhinolaryngologist', case = False))]"
   ]
  },
  {
   "cell_type": "code",
   "execution_count": 43,
   "id": "6153ee17",
   "metadata": {
    "colab": {
     "base_uri": "https://localhost:8080/"
    },
    "id": "6153ee17",
    "outputId": "dbb9bab1-c3be-49a2-8320-fee5e05e1168"
   },
   "outputs": [
    {
     "name": "stderr",
     "output_type": "stream",
     "text": [
      "C:\\Users\\Shashank\\AppData\\Local\\Temp\\ipykernel_1556\\981566478.py:2: SettingWithCopyWarning: \n",
      "A value is trying to be set on a copy of a slice from a DataFrame.\n",
      "Try using .loc[row_indexer,col_indexer] = value instead\n",
      "\n",
      "See the caveats in the documentation: https://pandas.pydata.org/pandas-docs/stable/user_guide/indexing.html#returning-a-view-versus-a-copy\n",
      "  Ayurveda['Speciality'] = 'Ayurveda'\n"
     ]
    }
   ],
   "source": [
    "Ayurveda = df[df['Speciality'].str.contains('Ayurveda', case = False)]\n",
    "Ayurveda['Speciality'] = 'Ayurveda'\n",
    "df = df[~(df['Speciality'].str.contains('Ayurveda', case = False))]"
   ]
  },
  {
   "cell_type": "code",
   "execution_count": 44,
   "id": "fa344937",
   "metadata": {
    "colab": {
     "base_uri": "https://localhost:8080/"
    },
    "id": "fa344937",
    "outputId": "cf68e006-2854-4cfd-b5af-defbde15c792"
   },
   "outputs": [
    {
     "name": "stderr",
     "output_type": "stream",
     "text": [
      "C:\\Users\\Shashank\\AppData\\Local\\Temp\\ipykernel_1556\\366674078.py:2: SettingWithCopyWarning: \n",
      "A value is trying to be set on a copy of a slice from a DataFrame.\n",
      "Try using .loc[row_indexer,col_indexer] = value instead\n",
      "\n",
      "See the caveats in the documentation: https://pandas.pydata.org/pandas-docs/stable/user_guide/indexing.html#returning-a-view-versus-a-copy\n",
      "  Homoeopath['Speciality'] = 'Homoeopath'\n"
     ]
    }
   ],
   "source": [
    "Homoeopath = df[df['Speciality'].str.contains('AYUSH', case = False)]\n",
    "Homoeopath['Speciality'] = 'Homoeopath'\n",
    "df = df[~(df['Speciality'].str.contains('AYUSH', case = False))]"
   ]
  },
  {
   "cell_type": "code",
   "execution_count": 45,
   "id": "f7fe0a45",
   "metadata": {
    "colab": {
     "base_uri": "https://localhost:8080/"
    },
    "id": "f7fe0a45",
    "outputId": "426a7258-26aa-44c3-eaf2-9052c346883c"
   },
   "outputs": [
    {
     "name": "stderr",
     "output_type": "stream",
     "text": [
      "C:\\Users\\Shashank\\AppData\\Local\\Temp\\ipykernel_1556\\4010995328.py:2: SettingWithCopyWarning: \n",
      "A value is trying to be set on a copy of a slice from a DataFrame.\n",
      "Try using .loc[row_indexer,col_indexer] = value instead\n",
      "\n",
      "See the caveats in the documentation: https://pandas.pydata.org/pandas-docs/stable/user_guide/indexing.html#returning-a-view-versus-a-copy\n",
      "  Oncologist['Speciality'] = 'Oncologist'\n"
     ]
    }
   ],
   "source": [
    "Oncologist = df[df['Speciality'].str.contains('Oncolo', case = False)]\n",
    "Oncologist['Speciality'] = 'Oncologist'\n",
    "df = df[~(df['Speciality'].str.contains('Oncolo', case = False))]"
   ]
  },
  {
   "cell_type": "code",
   "execution_count": 46,
   "id": "38825cf8",
   "metadata": {
    "colab": {
     "base_uri": "https://localhost:8080/"
    },
    "id": "38825cf8",
    "outputId": "41bf1c95-5ea3-4a71-d123-d7b7355085c2"
   },
   "outputs": [
    {
     "name": "stderr",
     "output_type": "stream",
     "text": [
      "C:\\Users\\Shashank\\AppData\\Local\\Temp\\ipykernel_1556\\1303312768.py:2: SettingWithCopyWarning: \n",
      "A value is trying to be set on a copy of a slice from a DataFrame.\n",
      "Try using .loc[row_indexer,col_indexer] = value instead\n",
      "\n",
      "See the caveats in the documentation: https://pandas.pydata.org/pandas-docs/stable/user_guide/indexing.html#returning-a-view-versus-a-copy\n",
      "  Internal_Medicine['Speciality'] = 'Internal Medicine'\n"
     ]
    }
   ],
   "source": [
    "Internal_Medicine = df[df['Speciality'].str.contains('Medicine', case = False)]\n",
    "Internal_Medicine['Speciality'] = 'Internal Medicine'\n",
    "df = df[~(df['Speciality'].str.contains('Medicine', case = False))]"
   ]
  },
  {
   "cell_type": "code",
   "execution_count": 47,
   "id": "99eea7d5",
   "metadata": {
    "colab": {
     "base_uri": "https://localhost:8080/"
    },
    "id": "99eea7d5",
    "outputId": "24491110-3c10-45ae-c3c1-6d273abbea18"
   },
   "outputs": [
    {
     "name": "stderr",
     "output_type": "stream",
     "text": [
      "C:\\Users\\Shashank\\AppData\\Local\\Temp\\ipykernel_1556\\4004715628.py:2: SettingWithCopyWarning: \n",
      "A value is trying to be set on a copy of a slice from a DataFrame.\n",
      "Try using .loc[row_indexer,col_indexer] = value instead\n",
      "\n",
      "See the caveats in the documentation: https://pandas.pydata.org/pandas-docs/stable/user_guide/indexing.html#returning-a-view-versus-a-copy\n",
      "  Radiologist['Speciality'] = 'Radiologist'\n"
     ]
    }
   ],
   "source": [
    "Radiologist = df[df['Speciality'].str.contains('Radio', case = False)]\n",
    "Radiologist['Speciality'] = 'Radiologist'\n",
    "df = df[~(df['Speciality'].str.contains('Radio', case = False))]"
   ]
  },
  {
   "cell_type": "code",
   "execution_count": 48,
   "id": "4ac89f69",
   "metadata": {
    "colab": {
     "base_uri": "https://localhost:8080/"
    },
    "id": "4ac89f69",
    "outputId": "6f4291da-45f5-426b-c80e-c4b01b7d67fa"
   },
   "outputs": [
    {
     "name": "stderr",
     "output_type": "stream",
     "text": [
      "C:\\Users\\Shashank\\AppData\\Local\\Temp\\ipykernel_1556\\109791385.py:2: SettingWithCopyWarning: \n",
      "A value is trying to be set on a copy of a slice from a DataFrame.\n",
      "Try using .loc[row_indexer,col_indexer] = value instead\n",
      "\n",
      "See the caveats in the documentation: https://pandas.pydata.org/pandas-docs/stable/user_guide/indexing.html#returning-a-view-versus-a-copy\n",
      "  Therapist['Speciality'] = 'Therapist'\n"
     ]
    }
   ],
   "source": [
    "Therapist = df[df['Speciality'].str.contains('Therapist', case = False)]\n",
    "Therapist['Speciality'] = 'Therapist'\n",
    "df = df[~(df['Speciality'].str.contains('Therapist', case = False))]"
   ]
  },
  {
   "cell_type": "code",
   "execution_count": 49,
   "id": "2d4c4f29",
   "metadata": {
    "colab": {
     "base_uri": "https://localhost:8080/"
    },
    "id": "2d4c4f29",
    "outputId": "032a6159-6169-40cc-8766-c5c79f1df2a6"
   },
   "outputs": [
    {
     "name": "stderr",
     "output_type": "stream",
     "text": [
      "C:\\Users\\Shashank\\AppData\\Local\\Temp\\ipykernel_1556\\4129538051.py:2: SettingWithCopyWarning: \n",
      "A value is trying to be set on a copy of a slice from a DataFrame.\n",
      "Try using .loc[row_indexer,col_indexer] = value instead\n",
      "\n",
      "See the caveats in the documentation: https://pandas.pydata.org/pandas-docs/stable/user_guide/indexing.html#returning-a-view-versus-a-copy\n",
      "  Prosthodontist['Speciality'] = 'Prosthodontist'\n"
     ]
    }
   ],
   "source": [
    "Prosthodontist = df[df['Speciality'].str.contains('Prosthodontist', case = False)]\n",
    "Prosthodontist['Speciality'] = 'Prosthodontist'\n",
    "df = df[~(df['Speciality'].str.contains('Prosthodontist', case = False))]"
   ]
  },
  {
   "cell_type": "code",
   "execution_count": 50,
   "id": "2147c245",
   "metadata": {
    "colab": {
     "base_uri": "https://localhost:8080/"
    },
    "id": "2147c245",
    "outputId": "89080722-9669-4c72-c2e3-af3247147790",
    "scrolled": true
   },
   "outputs": [
    {
     "name": "stderr",
     "output_type": "stream",
     "text": [
      "C:\\Users\\Shashank\\AppData\\Local\\Temp\\ipykernel_1556\\536311178.py:2: SettingWithCopyWarning: \n",
      "A value is trying to be set on a copy of a slice from a DataFrame.\n",
      "Try using .loc[row_indexer,col_indexer] = value instead\n",
      "\n",
      "See the caveats in the documentation: https://pandas.pydata.org/pandas-docs/stable/user_guide/indexing.html#returning-a-view-versus-a-copy\n",
      "  Pain_Specialist['Speciality'] = 'Pain Specialist'\n"
     ]
    }
   ],
   "source": [
    "Pain_Specialist = df[df['Speciality'].str.contains('Pain', case = False)]\n",
    "Pain_Specialist['Speciality'] = 'Pain Specialist'\n",
    "df = df[~(df['Speciality'].str.contains('Pain', case = False))]"
   ]
  },
  {
   "cell_type": "code",
   "execution_count": 51,
   "id": "b2695ca7",
   "metadata": {
    "colab": {
     "base_uri": "https://localhost:8080/"
    },
    "id": "b2695ca7",
    "outputId": "9d5f8ad7-b15d-46bb-e2f8-364adfb63021"
   },
   "outputs": [
    {
     "name": "stderr",
     "output_type": "stream",
     "text": [
      "C:\\Users\\Shashank\\AppData\\Local\\Temp\\ipykernel_1556\\3143729836.py:2: SettingWithCopyWarning: \n",
      "A value is trying to be set on a copy of a slice from a DataFrame.\n",
      "Try using .loc[row_indexer,col_indexer] = value instead\n",
      "\n",
      "See the caveats in the documentation: https://pandas.pydata.org/pandas-docs/stable/user_guide/indexing.html#returning-a-view-versus-a-copy\n",
      "  Periodontist['Speciality'] = 'Periodontist'\n",
      "C:\\Users\\Shashank\\AppData\\Local\\Temp\\ipykernel_1556\\3143729836.py:6: SettingWithCopyWarning: \n",
      "A value is trying to be set on a copy of a slice from a DataFrame.\n",
      "Try using .loc[row_indexer,col_indexer] = value instead\n",
      "\n",
      "See the caveats in the documentation: https://pandas.pydata.org/pandas-docs/stable/user_guide/indexing.html#returning-a-view-versus-a-copy\n",
      "  Periodontist1['Speciality'] = 'Periodontist'\n"
     ]
    }
   ],
   "source": [
    "Periodontist = df[df['Speciality'].str.contains('Implantologist', case = False)]\n",
    "Periodontist['Speciality'] = 'Periodontist'\n",
    "df = df[~(df['Speciality'].str.contains('Implantologist', case = False))]\n",
    "\n",
    "Periodontist1 = df[df['Speciality'].str.contains('Periodontist', case = False)]\n",
    "Periodontist1['Speciality'] = 'Periodontist'\n",
    "df = df[~(df['Speciality'].str.contains('Periodontist', case = False))]\n",
    "\n",
    "Periodontist = pd.concat([Periodontist, Periodontist1])"
   ]
  },
  {
   "cell_type": "code",
   "execution_count": 52,
   "id": "811872a7",
   "metadata": {
    "colab": {
     "base_uri": "https://localhost:8080/"
    },
    "id": "811872a7",
    "outputId": "d1073f56-28b2-4019-ac18-34bf0dee14c0"
   },
   "outputs": [
    {
     "name": "stderr",
     "output_type": "stream",
     "text": [
      "C:\\Users\\Shashank\\AppData\\Local\\Temp\\ipykernel_1556\\2837680941.py:2: SettingWithCopyWarning: \n",
      "A value is trying to be set on a copy of a slice from a DataFrame.\n",
      "Try using .loc[row_indexer,col_indexer] = value instead\n",
      "\n",
      "See the caveats in the documentation: https://pandas.pydata.org/pandas-docs/stable/user_guide/indexing.html#returning-a-view-versus-a-copy\n",
      "  Obstetrician['Speciality'] = 'Obstetrician'\n"
     ]
    }
   ],
   "source": [
    "Obstetrician = df[df['Speciality'].str.contains('Obstetrician', case = False)]\n",
    "Obstetrician['Speciality'] = 'Obstetrician'\n",
    "df = df[~(df['Speciality'].str.contains('Obstetrician', case = False))]"
   ]
  },
  {
   "cell_type": "code",
   "execution_count": 53,
   "id": "6ae3f35e",
   "metadata": {
    "colab": {
     "base_uri": "https://localhost:8080/",
     "height": 1000
    },
    "id": "6ae3f35e",
    "outputId": "9bef425e-1197-409a-b88b-d9399bdaddc5",
    "scrolled": true
   },
   "outputs": [
    {
     "data": {
      "text/html": [
       "<div>\n",
       "<style scoped>\n",
       "    .dataframe tbody tr th:only-of-type {\n",
       "        vertical-align: middle;\n",
       "    }\n",
       "\n",
       "    .dataframe tbody tr th {\n",
       "        vertical-align: top;\n",
       "    }\n",
       "\n",
       "    .dataframe thead th {\n",
       "        text-align: right;\n",
       "    }\n",
       "</style>\n",
       "<table border=\"1\" class=\"dataframe\">\n",
       "  <thead>\n",
       "    <tr style=\"text-align: right;\">\n",
       "      <th></th>\n",
       "      <th>Name</th>\n",
       "      <th>Degree</th>\n",
       "      <th>DP Score</th>\n",
       "      <th>NPV Value</th>\n",
       "      <th>Location</th>\n",
       "      <th>City</th>\n",
       "      <th>Consult Fee</th>\n",
       "      <th>Years of Experience</th>\n",
       "      <th>Speciality</th>\n",
       "    </tr>\n",
       "  </thead>\n",
       "  <tbody>\n",
       "    <tr>\n",
       "      <th>125</th>\n",
       "      <td>Dr. Poonam Rathi</td>\n",
       "      <td>MBBS</td>\n",
       "      <td>94.0</td>\n",
       "      <td>190.0</td>\n",
       "      <td>Greater Kailash Part 1</td>\n",
       "      <td>Delhi</td>\n",
       "      <td>300.0</td>\n",
       "      <td>44.0</td>\n",
       "      <td>General Practitioner</td>\n",
       "    </tr>\n",
       "    <tr>\n",
       "      <th>155</th>\n",
       "      <td>Dr. Prateek Parashar</td>\n",
       "      <td>MBBS</td>\n",
       "      <td>94.0</td>\n",
       "      <td>190.0</td>\n",
       "      <td>Hari Nagar</td>\n",
       "      <td>Delhi</td>\n",
       "      <td>200.0</td>\n",
       "      <td>6.0</td>\n",
       "      <td>General Practitioner</td>\n",
       "    </tr>\n",
       "    <tr>\n",
       "      <th>250</th>\n",
       "      <td>Dr. Anu</td>\n",
       "      <td>MBBS</td>\n",
       "      <td>98.0</td>\n",
       "      <td>43.0</td>\n",
       "      <td>Dilshad Garden</td>\n",
       "      <td>Delhi</td>\n",
       "      <td>500.0</td>\n",
       "      <td>9.0</td>\n",
       "      <td>General Practitioner</td>\n",
       "    </tr>\n",
       "    <tr>\n",
       "      <th>424</th>\n",
       "      <td>Dr. Rajesh K Chawla</td>\n",
       "      <td>MBBS, MD - Tuberculosis &amp; Respiratory Diseases...</td>\n",
       "      <td>94.0</td>\n",
       "      <td>190.0</td>\n",
       "      <td>Sarita Vihar</td>\n",
       "      <td>Delhi</td>\n",
       "      <td>2000.0</td>\n",
       "      <td>42.0</td>\n",
       "      <td>Tuberculous and chest Diseases Specialist</td>\n",
       "    </tr>\n",
       "    <tr>\n",
       "      <th>873</th>\n",
       "      <td>Dr. Shishir Seth</td>\n",
       "      <td>DM - Clinical Haematology, MBBS, MD - Pathology</td>\n",
       "      <td>94.0</td>\n",
       "      <td>190.0</td>\n",
       "      <td>Sarita Vihar</td>\n",
       "      <td>Delhi</td>\n",
       "      <td>2000.0</td>\n",
       "      <td>18.0</td>\n",
       "      <td>Clinical Hematologist</td>\n",
       "    </tr>\n",
       "    <tr>\n",
       "      <th>917</th>\n",
       "      <td>Dr. Divya Bansal</td>\n",
       "      <td>MBBS, DNB - Pediatrics, DM - Clinical Haematology</td>\n",
       "      <td>94.0</td>\n",
       "      <td>190.0</td>\n",
       "      <td>Dwarka Sector 6</td>\n",
       "      <td>Delhi</td>\n",
       "      <td>1100.0</td>\n",
       "      <td>20.0</td>\n",
       "      <td>Clinical Hematologist</td>\n",
       "    </tr>\n",
       "    <tr>\n",
       "      <th>1240</th>\n",
       "      <td>Dr. Rekha Singh</td>\n",
       "      <td>MBBS</td>\n",
       "      <td>94.0</td>\n",
       "      <td>190.0</td>\n",
       "      <td>Vivek Vihar</td>\n",
       "      <td>Delhi</td>\n",
       "      <td>500.0</td>\n",
       "      <td>41.0</td>\n",
       "      <td>General Practitioner</td>\n",
       "    </tr>\n",
       "    <tr>\n",
       "      <th>1524</th>\n",
       "      <td>Dr. Arun Puri</td>\n",
       "      <td>MD - Anaesthesiology, MBBS</td>\n",
       "      <td>94.0</td>\n",
       "      <td>190.0</td>\n",
       "      <td>Patparganj</td>\n",
       "      <td>Delhi</td>\n",
       "      <td>800.0</td>\n",
       "      <td>40.0</td>\n",
       "      <td>Anesthesiologist</td>\n",
       "    </tr>\n",
       "    <tr>\n",
       "      <th>1782</th>\n",
       "      <td>Dr. Gurpreet Singh Popli</td>\n",
       "      <td>MBBS, Diploma in Anesthesiology, DNB - Anaesth...</td>\n",
       "      <td>94.0</td>\n",
       "      <td>190.0</td>\n",
       "      <td>Punjabi Bagh</td>\n",
       "      <td>Delhi</td>\n",
       "      <td>1000.0</td>\n",
       "      <td>23.0</td>\n",
       "      <td>Anesthesiologist</td>\n",
       "    </tr>\n",
       "    <tr>\n",
       "      <th>2286</th>\n",
       "      <td>Dr. Priya Rao</td>\n",
       "      <td>MBBS</td>\n",
       "      <td>94.0</td>\n",
       "      <td>190.0</td>\n",
       "      <td>Karol Bagh</td>\n",
       "      <td>Delhi</td>\n",
       "      <td>300.0</td>\n",
       "      <td>5.0</td>\n",
       "      <td>General Practitioner</td>\n",
       "    </tr>\n",
       "    <tr>\n",
       "      <th>2308</th>\n",
       "      <td>Dr. Amrish Sahney</td>\n",
       "      <td>MBBS, MD - Medicine, DM - Hepatology</td>\n",
       "      <td>94.0</td>\n",
       "      <td>190.0</td>\n",
       "      <td>Pusa Road</td>\n",
       "      <td>Delhi</td>\n",
       "      <td>1000.0</td>\n",
       "      <td>16.0</td>\n",
       "      <td>Hepatologist</td>\n",
       "    </tr>\n",
       "    <tr>\n",
       "      <th>2400</th>\n",
       "      <td>Dr. Rahul Naithani</td>\n",
       "      <td>DM - Clinical Haematology, MD - Pediatrics, MBBS</td>\n",
       "      <td>45.0</td>\n",
       "      <td>11.0</td>\n",
       "      <td>Panchsheel Park</td>\n",
       "      <td>Delhi</td>\n",
       "      <td>1800.0</td>\n",
       "      <td>17.0</td>\n",
       "      <td>Hematologist</td>\n",
       "    </tr>\n",
       "    <tr>\n",
       "      <th>2555</th>\n",
       "      <td>Dr. Ishwar Gilada</td>\n",
       "      <td>MBBS, Diploma in Dermatology, FCPS - Dermatolo...</td>\n",
       "      <td>93.0</td>\n",
       "      <td>15.0</td>\n",
       "      <td>Lamington Road</td>\n",
       "      <td>Mumbai</td>\n",
       "      <td>3000.0</td>\n",
       "      <td>43.0</td>\n",
       "      <td>Sexologist, Venereologist, HIV Specialist</td>\n",
       "    </tr>\n",
       "    <tr>\n",
       "      <th>3161</th>\n",
       "      <td>Dr. Sanjith Saseedharan</td>\n",
       "      <td>MBBS, Diploma in Anesthesiology</td>\n",
       "      <td>94.0</td>\n",
       "      <td>190.0</td>\n",
       "      <td>Mahim</td>\n",
       "      <td>Mumbai</td>\n",
       "      <td>2000.0</td>\n",
       "      <td>21.0</td>\n",
       "      <td>Anesthesiologist</td>\n",
       "    </tr>\n",
       "    <tr>\n",
       "      <th>3171</th>\n",
       "      <td>Dr. Abhijit  Jadhav</td>\n",
       "      <td>MBBS, Diploma in Diabetology (Mumbai Universit...</td>\n",
       "      <td>98.0</td>\n",
       "      <td>366.0</td>\n",
       "      <td>Mulund East</td>\n",
       "      <td>Mumbai</td>\n",
       "      <td>1000.0</td>\n",
       "      <td>23.0</td>\n",
       "      <td>Diabetologist</td>\n",
       "    </tr>\n",
       "    <tr>\n",
       "      <th>3873</th>\n",
       "      <td>Dr. Shivkumar G. Lalwani</td>\n",
       "      <td>MBBS, MD - Pediatrics, Diploma in Child Health...</td>\n",
       "      <td>94.0</td>\n",
       "      <td>190.0</td>\n",
       "      <td>Powai</td>\n",
       "      <td>Mumbai</td>\n",
       "      <td>1000.0</td>\n",
       "      <td>30.0</td>\n",
       "      <td>Neonatologist</td>\n",
       "    </tr>\n",
       "    <tr>\n",
       "      <th>3909</th>\n",
       "      <td>Dr. Namita M. Zaveri</td>\n",
       "      <td>MBBS</td>\n",
       "      <td>94.0</td>\n",
       "      <td>190.0</td>\n",
       "      <td>Chembur</td>\n",
       "      <td>Mumbai</td>\n",
       "      <td>300.0</td>\n",
       "      <td>32.0</td>\n",
       "      <td>General Practitioner</td>\n",
       "    </tr>\n",
       "    <tr>\n",
       "      <th>4137</th>\n",
       "      <td>Dr. Lenny Da Costa</td>\n",
       "      <td>MBBS, Diploma in Geriatric Medicine</td>\n",
       "      <td>84.0</td>\n",
       "      <td>25.0</td>\n",
       "      <td>Worli</td>\n",
       "      <td>Mumbai</td>\n",
       "      <td>2000.0</td>\n",
       "      <td>28.0</td>\n",
       "      <td>Geriatrician</td>\n",
       "    </tr>\n",
       "    <tr>\n",
       "      <th>4709</th>\n",
       "      <td>Dr. Satish Kumar A</td>\n",
       "      <td>MBBS, MD - General Medicine, DM - Clinical Hae...</td>\n",
       "      <td>91.0</td>\n",
       "      <td>22.0</td>\n",
       "      <td>Yeshwanthpur</td>\n",
       "      <td>Bangalore</td>\n",
       "      <td>1100.0</td>\n",
       "      <td>24.0</td>\n",
       "      <td>Hematologist</td>\n",
       "    </tr>\n",
       "    <tr>\n",
       "      <th>4990</th>\n",
       "      <td>Dr. Rakshith</td>\n",
       "      <td>MBBS</td>\n",
       "      <td>94.0</td>\n",
       "      <td>190.0</td>\n",
       "      <td>Jayanagar 9 Block</td>\n",
       "      <td>Bangalore</td>\n",
       "      <td>150.0</td>\n",
       "      <td>5.0</td>\n",
       "      <td>General Practitioner</td>\n",
       "    </tr>\n",
       "    <tr>\n",
       "      <th>5376</th>\n",
       "      <td>Dr. Venkatesh H.A</td>\n",
       "      <td>MBBS, DNB - Paediatrics, Fellowship in Neonato...</td>\n",
       "      <td>100.0</td>\n",
       "      <td>31.0</td>\n",
       "      <td>Old Airport Road</td>\n",
       "      <td>Bangalore</td>\n",
       "      <td>900.0</td>\n",
       "      <td>32.0</td>\n",
       "      <td>Neonatologist</td>\n",
       "    </tr>\n",
       "    <tr>\n",
       "      <th>5383</th>\n",
       "      <td>Dr. Nupur Tandon</td>\n",
       "      <td>MBBS</td>\n",
       "      <td>94.0</td>\n",
       "      <td>16.0</td>\n",
       "      <td>Sarjapur Road</td>\n",
       "      <td>Bangalore</td>\n",
       "      <td>550.0</td>\n",
       "      <td>14.0</td>\n",
       "      <td>General Practitioner</td>\n",
       "    </tr>\n",
       "    <tr>\n",
       "      <th>5476</th>\n",
       "      <td>Dr. Chakravarthy Mazumdar</td>\n",
       "      <td>MBBS</td>\n",
       "      <td>94.0</td>\n",
       "      <td>190.0</td>\n",
       "      <td>Seegehalli</td>\n",
       "      <td>Bangalore</td>\n",
       "      <td>300.0</td>\n",
       "      <td>20.0</td>\n",
       "      <td>General Practitioner</td>\n",
       "    </tr>\n",
       "    <tr>\n",
       "      <th>5553</th>\n",
       "      <td>Dr. Mallikarjun Sakpal</td>\n",
       "      <td>MBBS, MD - Medicine, DM - Hepatology</td>\n",
       "      <td>96.0</td>\n",
       "      <td>28.0</td>\n",
       "      <td>Hebbal</td>\n",
       "      <td>Bangalore</td>\n",
       "      <td>1000.0</td>\n",
       "      <td>19.0</td>\n",
       "      <td>Hepatologist</td>\n",
       "    </tr>\n",
       "    <tr>\n",
       "      <th>5880</th>\n",
       "      <td>Dr. Sanjay P Deshpande</td>\n",
       "      <td>MBBS, Diploma in Child Health (DCH), DNB - Ped...</td>\n",
       "      <td>94.0</td>\n",
       "      <td>190.0</td>\n",
       "      <td>Old Airport Road</td>\n",
       "      <td>Bangalore</td>\n",
       "      <td>750.0</td>\n",
       "      <td>13.0</td>\n",
       "      <td>Special Interest in Infectious Diseases</td>\n",
       "    </tr>\n",
       "    <tr>\n",
       "      <th>6366</th>\n",
       "      <td>Dr. Sandeep Satsangi</td>\n",
       "      <td>DM - Hepatology, MD - General Medicine, MBBS</td>\n",
       "      <td>97.0</td>\n",
       "      <td>37.0</td>\n",
       "      <td>Seshadripuram</td>\n",
       "      <td>Bangalore</td>\n",
       "      <td>740.0</td>\n",
       "      <td>13.0</td>\n",
       "      <td>Hepatologist</td>\n",
       "    </tr>\n",
       "    <tr>\n",
       "      <th>6408</th>\n",
       "      <td>Dr. Pramod Kumar D A</td>\n",
       "      <td>MBBS, MD - General Medicine, DM - Hepatology</td>\n",
       "      <td>94.0</td>\n",
       "      <td>190.0</td>\n",
       "      <td>Kengeri</td>\n",
       "      <td>Bangalore</td>\n",
       "      <td>700.0</td>\n",
       "      <td>12.0</td>\n",
       "      <td>Hepatologist</td>\n",
       "    </tr>\n",
       "    <tr>\n",
       "      <th>6955</th>\n",
       "      <td>Dr. Harshini A S</td>\n",
       "      <td>MBBS, MD - General Medicine</td>\n",
       "      <td>98.0</td>\n",
       "      <td>59.0</td>\n",
       "      <td>Rajarajeshwarinagar</td>\n",
       "      <td>Bangalore</td>\n",
       "      <td>850.0</td>\n",
       "      <td>12.0</td>\n",
       "      <td>Special Interest in Rheumatology</td>\n",
       "    </tr>\n",
       "    <tr>\n",
       "      <th>6987</th>\n",
       "      <td>Dr. Anoop Amarnath</td>\n",
       "      <td>MBBS, MD - Geriatrics</td>\n",
       "      <td>96.0</td>\n",
       "      <td>23.0</td>\n",
       "      <td>Old Airport Road</td>\n",
       "      <td>Bangalore</td>\n",
       "      <td>900.0</td>\n",
       "      <td>16.0</td>\n",
       "      <td>Geriatrician</td>\n",
       "    </tr>\n",
       "    <tr>\n",
       "      <th>7133</th>\n",
       "      <td>Dr. Mitesh Shetty</td>\n",
       "      <td>MBBS, Ph.D - Medical Genetics</td>\n",
       "      <td>94.0</td>\n",
       "      <td>190.0</td>\n",
       "      <td>Old Airport Road</td>\n",
       "      <td>Bangalore</td>\n",
       "      <td>1900.0</td>\n",
       "      <td>22.0</td>\n",
       "      <td>Geneticist</td>\n",
       "    </tr>\n",
       "    <tr>\n",
       "      <th>7139</th>\n",
       "      <td>Dr. S S Vasan</td>\n",
       "      <td>MBBS, DNB - General Surgery, DNB - Urology/Gen...</td>\n",
       "      <td>76.0</td>\n",
       "      <td>86.0</td>\n",
       "      <td>JP Nagar</td>\n",
       "      <td>Bangalore</td>\n",
       "      <td>1050.0</td>\n",
       "      <td>41.0</td>\n",
       "      <td>Andrologist</td>\n",
       "    </tr>\n",
       "    <tr>\n",
       "      <th>7165</th>\n",
       "      <td>Dr. Prasanna Bhat K S</td>\n",
       "      <td>MBBS, MD - General Medicine, DM - Hepatology</td>\n",
       "      <td>96.0</td>\n",
       "      <td>224.0</td>\n",
       "      <td>Jayanagar 9 Block</td>\n",
       "      <td>Bangalore</td>\n",
       "      <td>800.0</td>\n",
       "      <td>16.0</td>\n",
       "      <td>Hepatologist</td>\n",
       "    </tr>\n",
       "    <tr>\n",
       "      <th>7455</th>\n",
       "      <td>Dr. Apurva Pande</td>\n",
       "      <td>MBBS, MD - General Medicine, DM - Hepatology</td>\n",
       "      <td>94.0</td>\n",
       "      <td>190.0</td>\n",
       "      <td>Hebbal</td>\n",
       "      <td>Bangalore</td>\n",
       "      <td>1000.0</td>\n",
       "      <td>8.0</td>\n",
       "      <td>Hepatologist</td>\n",
       "    </tr>\n",
       "    <tr>\n",
       "      <th>7484</th>\n",
       "      <td>Dr. Geethashree G L</td>\n",
       "      <td>MBBS</td>\n",
       "      <td>94.0</td>\n",
       "      <td>190.0</td>\n",
       "      <td>Hebbal</td>\n",
       "      <td>Bangalore</td>\n",
       "      <td>300.0</td>\n",
       "      <td>22.0</td>\n",
       "      <td>General Practitioner</td>\n",
       "    </tr>\n",
       "    <tr>\n",
       "      <th>7659</th>\n",
       "      <td>Dr. Ravi Kyadegeri</td>\n",
       "      <td>MBBS, MD - Pediatrics, MD - Fellow in Neonatology</td>\n",
       "      <td>100.0</td>\n",
       "      <td>14.0</td>\n",
       "      <td>Jayanagar 5 Block</td>\n",
       "      <td>Bangalore</td>\n",
       "      <td>700.0</td>\n",
       "      <td>15.0</td>\n",
       "      <td>Neonatologist</td>\n",
       "    </tr>\n",
       "    <tr>\n",
       "      <th>7667</th>\n",
       "      <td>Dr. Neha Mishra</td>\n",
       "      <td>MBBS, MD - General Medicine</td>\n",
       "      <td>100.0</td>\n",
       "      <td>13.0</td>\n",
       "      <td>Old Airport Road</td>\n",
       "      <td>Bangalore</td>\n",
       "      <td>900.0</td>\n",
       "      <td>13.0</td>\n",
       "      <td>Special Interest in Infectious Diseases</td>\n",
       "    </tr>\n",
       "    <tr>\n",
       "      <th>8005</th>\n",
       "      <td>Dr. Arvind Kidambi Seshadri</td>\n",
       "      <td>MBBS, MS - General Surgery, MCh - Hepato Pancr...</td>\n",
       "      <td>94.0</td>\n",
       "      <td>190.0</td>\n",
       "      <td>Old Airport Road</td>\n",
       "      <td>Bangalore</td>\n",
       "      <td>900.0</td>\n",
       "      <td>20.0</td>\n",
       "      <td>Hepato-Biliary-Pancreatic</td>\n",
       "    </tr>\n",
       "  </tbody>\n",
       "</table>\n",
       "</div>"
      ],
      "text/plain": [
       "                             Name  \\\n",
       "125              Dr. Poonam Rathi   \n",
       "155          Dr. Prateek Parashar   \n",
       "250                       Dr. Anu   \n",
       "424           Dr. Rajesh K Chawla   \n",
       "873              Dr. Shishir Seth   \n",
       "917              Dr. Divya Bansal   \n",
       "1240              Dr. Rekha Singh   \n",
       "1524                Dr. Arun Puri   \n",
       "1782     Dr. Gurpreet Singh Popli   \n",
       "2286                Dr. Priya Rao   \n",
       "2308            Dr. Amrish Sahney   \n",
       "2400           Dr. Rahul Naithani   \n",
       "2555            Dr. Ishwar Gilada   \n",
       "3161      Dr. Sanjith Saseedharan   \n",
       "3171          Dr. Abhijit  Jadhav   \n",
       "3873     Dr. Shivkumar G. Lalwani   \n",
       "3909         Dr. Namita M. Zaveri   \n",
       "4137           Dr. Lenny Da Costa   \n",
       "4709           Dr. Satish Kumar A   \n",
       "4990                 Dr. Rakshith   \n",
       "5376            Dr. Venkatesh H.A   \n",
       "5383             Dr. Nupur Tandon   \n",
       "5476    Dr. Chakravarthy Mazumdar   \n",
       "5553       Dr. Mallikarjun Sakpal   \n",
       "5880       Dr. Sanjay P Deshpande   \n",
       "6366         Dr. Sandeep Satsangi   \n",
       "6408         Dr. Pramod Kumar D A   \n",
       "6955             Dr. Harshini A S   \n",
       "6987           Dr. Anoop Amarnath   \n",
       "7133            Dr. Mitesh Shetty   \n",
       "7139                Dr. S S Vasan   \n",
       "7165        Dr. Prasanna Bhat K S   \n",
       "7455             Dr. Apurva Pande   \n",
       "7484          Dr. Geethashree G L   \n",
       "7659           Dr. Ravi Kyadegeri   \n",
       "7667              Dr. Neha Mishra   \n",
       "8005  Dr. Arvind Kidambi Seshadri   \n",
       "\n",
       "                                                 Degree  DP Score  NPV Value  \\\n",
       "125                                                MBBS      94.0      190.0   \n",
       "155                                                MBBS      94.0      190.0   \n",
       "250                                                MBBS      98.0       43.0   \n",
       "424   MBBS, MD - Tuberculosis & Respiratory Diseases...      94.0      190.0   \n",
       "873     DM - Clinical Haematology, MBBS, MD - Pathology      94.0      190.0   \n",
       "917   MBBS, DNB - Pediatrics, DM - Clinical Haematology      94.0      190.0   \n",
       "1240                                               MBBS      94.0      190.0   \n",
       "1524                         MD - Anaesthesiology, MBBS      94.0      190.0   \n",
       "1782  MBBS, Diploma in Anesthesiology, DNB - Anaesth...      94.0      190.0   \n",
       "2286                                               MBBS      94.0      190.0   \n",
       "2308               MBBS, MD - Medicine, DM - Hepatology      94.0      190.0   \n",
       "2400   DM - Clinical Haematology, MD - Pediatrics, MBBS      45.0       11.0   \n",
       "2555  MBBS, Diploma in Dermatology, FCPS - Dermatolo...      93.0       15.0   \n",
       "3161                    MBBS, Diploma in Anesthesiology      94.0      190.0   \n",
       "3171  MBBS, Diploma in Diabetology (Mumbai Universit...      98.0      366.0   \n",
       "3873  MBBS, MD - Pediatrics, Diploma in Child Health...      94.0      190.0   \n",
       "3909                                               MBBS      94.0      190.0   \n",
       "4137                MBBS, Diploma in Geriatric Medicine      84.0       25.0   \n",
       "4709  MBBS, MD - General Medicine, DM - Clinical Hae...      91.0       22.0   \n",
       "4990                                               MBBS      94.0      190.0   \n",
       "5376  MBBS, DNB - Paediatrics, Fellowship in Neonato...     100.0       31.0   \n",
       "5383                                               MBBS      94.0       16.0   \n",
       "5476                                               MBBS      94.0      190.0   \n",
       "5553               MBBS, MD - Medicine, DM - Hepatology      96.0       28.0   \n",
       "5880  MBBS, Diploma in Child Health (DCH), DNB - Ped...      94.0      190.0   \n",
       "6366       DM - Hepatology, MD - General Medicine, MBBS      97.0       37.0   \n",
       "6408       MBBS, MD - General Medicine, DM - Hepatology      94.0      190.0   \n",
       "6955                        MBBS, MD - General Medicine      98.0       59.0   \n",
       "6987                              MBBS, MD - Geriatrics      96.0       23.0   \n",
       "7133                      MBBS, Ph.D - Medical Genetics      94.0      190.0   \n",
       "7139  MBBS, DNB - General Surgery, DNB - Urology/Gen...      76.0       86.0   \n",
       "7165       MBBS, MD - General Medicine, DM - Hepatology      96.0      224.0   \n",
       "7455       MBBS, MD - General Medicine, DM - Hepatology      94.0      190.0   \n",
       "7484                                               MBBS      94.0      190.0   \n",
       "7659  MBBS, MD - Pediatrics, MD - Fellow in Neonatology     100.0       14.0   \n",
       "7667                        MBBS, MD - General Medicine     100.0       13.0   \n",
       "8005  MBBS, MS - General Surgery, MCh - Hepato Pancr...      94.0      190.0   \n",
       "\n",
       "                    Location        City  Consult Fee  Years of Experience  \\\n",
       "125   Greater Kailash Part 1       Delhi        300.0                 44.0   \n",
       "155               Hari Nagar       Delhi        200.0                  6.0   \n",
       "250           Dilshad Garden       Delhi        500.0                  9.0   \n",
       "424             Sarita Vihar       Delhi       2000.0                 42.0   \n",
       "873             Sarita Vihar       Delhi       2000.0                 18.0   \n",
       "917          Dwarka Sector 6       Delhi       1100.0                 20.0   \n",
       "1240             Vivek Vihar       Delhi        500.0                 41.0   \n",
       "1524              Patparganj       Delhi        800.0                 40.0   \n",
       "1782            Punjabi Bagh       Delhi       1000.0                 23.0   \n",
       "2286              Karol Bagh       Delhi        300.0                  5.0   \n",
       "2308               Pusa Road       Delhi       1000.0                 16.0   \n",
       "2400         Panchsheel Park       Delhi       1800.0                 17.0   \n",
       "2555          Lamington Road      Mumbai       3000.0                 43.0   \n",
       "3161                   Mahim      Mumbai       2000.0                 21.0   \n",
       "3171             Mulund East      Mumbai       1000.0                 23.0   \n",
       "3873                   Powai      Mumbai       1000.0                 30.0   \n",
       "3909                 Chembur      Mumbai        300.0                 32.0   \n",
       "4137                   Worli      Mumbai       2000.0                 28.0   \n",
       "4709            Yeshwanthpur   Bangalore       1100.0                 24.0   \n",
       "4990       Jayanagar 9 Block   Bangalore        150.0                  5.0   \n",
       "5376        Old Airport Road   Bangalore        900.0                 32.0   \n",
       "5383           Sarjapur Road   Bangalore        550.0                 14.0   \n",
       "5476              Seegehalli   Bangalore        300.0                 20.0   \n",
       "5553                  Hebbal   Bangalore       1000.0                 19.0   \n",
       "5880        Old Airport Road   Bangalore        750.0                 13.0   \n",
       "6366           Seshadripuram   Bangalore        740.0                 13.0   \n",
       "6408                 Kengeri   Bangalore        700.0                 12.0   \n",
       "6955     Rajarajeshwarinagar   Bangalore        850.0                 12.0   \n",
       "6987        Old Airport Road   Bangalore        900.0                 16.0   \n",
       "7133        Old Airport Road   Bangalore       1900.0                 22.0   \n",
       "7139                JP Nagar   Bangalore       1050.0                 41.0   \n",
       "7165       Jayanagar 9 Block   Bangalore        800.0                 16.0   \n",
       "7455                  Hebbal   Bangalore       1000.0                  8.0   \n",
       "7484                  Hebbal   Bangalore        300.0                 22.0   \n",
       "7659       Jayanagar 5 Block   Bangalore        700.0                 15.0   \n",
       "7667        Old Airport Road   Bangalore        900.0                 13.0   \n",
       "8005        Old Airport Road   Bangalore        900.0                 20.0   \n",
       "\n",
       "                                     Speciality  \n",
       "125                        General Practitioner  \n",
       "155                        General Practitioner  \n",
       "250                        General Practitioner  \n",
       "424   Tuberculous and chest Diseases Specialist  \n",
       "873                       Clinical Hematologist  \n",
       "917                       Clinical Hematologist  \n",
       "1240                       General Practitioner  \n",
       "1524                           Anesthesiologist  \n",
       "1782                           Anesthesiologist  \n",
       "2286                       General Practitioner  \n",
       "2308                               Hepatologist  \n",
       "2400                               Hematologist  \n",
       "2555  Sexologist, Venereologist, HIV Specialist  \n",
       "3161                           Anesthesiologist  \n",
       "3171                              Diabetologist  \n",
       "3873                              Neonatologist  \n",
       "3909                       General Practitioner  \n",
       "4137                               Geriatrician  \n",
       "4709                               Hematologist  \n",
       "4990                       General Practitioner  \n",
       "5376                              Neonatologist  \n",
       "5383                       General Practitioner  \n",
       "5476                       General Practitioner  \n",
       "5553                               Hepatologist  \n",
       "5880    Special Interest in Infectious Diseases  \n",
       "6366                               Hepatologist  \n",
       "6408                               Hepatologist  \n",
       "6955           Special Interest in Rheumatology  \n",
       "6987                               Geriatrician  \n",
       "7133                                 Geneticist  \n",
       "7139                                Andrologist  \n",
       "7165                               Hepatologist  \n",
       "7455                               Hepatologist  \n",
       "7484                       General Practitioner  \n",
       "7659                              Neonatologist  \n",
       "7667    Special Interest in Infectious Diseases  \n",
       "8005                  Hepato-Biliary-Pancreatic  "
      ]
     },
     "execution_count": 53,
     "metadata": {},
     "output_type": "execute_result"
    }
   ],
   "source": [
    "df"
   ]
  },
  {
   "cell_type": "code",
   "execution_count": 54,
   "id": "ee9aa093",
   "metadata": {
    "colab": {
     "base_uri": "https://localhost:8080/"
    },
    "id": "ee9aa093",
    "outputId": "59e97d92-2fa5-40f2-b8a8-c4742887ef30"
   },
   "outputs": [
    {
     "data": {
      "text/plain": [
       "General Practitioner                         10\n",
       "Hepatologist                                  6\n",
       "Anesthesiologist                              3\n",
       "Neonatologist                                 3\n",
       "Clinical Hematologist                         2\n",
       "Hematologist                                  2\n",
       "Geriatrician                                  2\n",
       "Special Interest in Infectious Diseases       2\n",
       "Tuberculous and chest Diseases Specialist     1\n",
       "Sexologist, Venereologist, HIV Specialist     1\n",
       "Diabetologist                                 1\n",
       "Special Interest in Rheumatology              1\n",
       "Geneticist                                    1\n",
       "Andrologist                                   1\n",
       "Hepato-Biliary-Pancreatic                     1\n",
       "Name: Speciality, dtype: int64"
      ]
     },
     "execution_count": 54,
     "metadata": {},
     "output_type": "execute_result"
    }
   ],
   "source": [
    "df.Speciality.value_counts()"
   ]
  },
  {
   "cell_type": "code",
   "execution_count": 55,
   "id": "28148bf5",
   "metadata": {
    "id": "28148bf5"
   },
   "outputs": [],
   "source": [
    "dfs = [Dentist,Gynecologist,Pediatrician,Orthopedist,Ophthalmologist,Physiotherapist,Dermatologist,\n",
    "       Infertility_Specialist,Cardiologist,Dietitian,Psychiatrist,Pulmonologist,Gastroenterologist,\n",
    "       Urologist,Neurologist,Bariatric_Surgeon,Rheumatologist,Endodontist,General_Surgeon,\n",
    "       Otorhinolaryngologist,Ayurveda,Homoeopath,Oncologist,Internal_Medicine,Radiologist,Therapist,\n",
    "       Prosthodontist,Pain_Specialist,Periodontist,Obstetrician]\n",
    "\n",
    "result = pd.concat(dfs, ignore_index=True)"
   ]
  },
  {
   "cell_type": "code",
   "execution_count": 56,
   "id": "2233082d",
   "metadata": {
    "colab": {
     "base_uri": "https://localhost:8080/",
     "height": 589
    },
    "id": "2233082d",
    "outputId": "bbc309c3-b0e2-41fb-fbac-50f54de7ae46"
   },
   "outputs": [
    {
     "data": {
      "text/html": [
       "<div>\n",
       "<style scoped>\n",
       "    .dataframe tbody tr th:only-of-type {\n",
       "        vertical-align: middle;\n",
       "    }\n",
       "\n",
       "    .dataframe tbody tr th {\n",
       "        vertical-align: top;\n",
       "    }\n",
       "\n",
       "    .dataframe thead th {\n",
       "        text-align: right;\n",
       "    }\n",
       "</style>\n",
       "<table border=\"1\" class=\"dataframe\">\n",
       "  <thead>\n",
       "    <tr style=\"text-align: right;\">\n",
       "      <th></th>\n",
       "      <th>Name</th>\n",
       "      <th>Degree</th>\n",
       "      <th>DP Score</th>\n",
       "      <th>NPV Value</th>\n",
       "      <th>Location</th>\n",
       "      <th>City</th>\n",
       "      <th>Consult Fee</th>\n",
       "      <th>Years of Experience</th>\n",
       "      <th>Speciality</th>\n",
       "    </tr>\n",
       "  </thead>\n",
       "  <tbody>\n",
       "    <tr>\n",
       "      <th>0</th>\n",
       "      <td>Dr. Sanneya Manchanda</td>\n",
       "      <td>BDS, MDS - Conservative Dentistry &amp; Endodontics</td>\n",
       "      <td>100.0</td>\n",
       "      <td>122.0</td>\n",
       "      <td>Jangpura</td>\n",
       "      <td>Delhi</td>\n",
       "      <td>400.0</td>\n",
       "      <td>10.0</td>\n",
       "      <td>Dentist</td>\n",
       "    </tr>\n",
       "    <tr>\n",
       "      <th>1</th>\n",
       "      <td>Dr. Pearl Bhardwaj</td>\n",
       "      <td>BDS, MDS - Periodontics</td>\n",
       "      <td>94.0</td>\n",
       "      <td>190.0</td>\n",
       "      <td>Model Town 2</td>\n",
       "      <td>Delhi</td>\n",
       "      <td>400.0</td>\n",
       "      <td>10.0</td>\n",
       "      <td>Dentist</td>\n",
       "    </tr>\n",
       "    <tr>\n",
       "      <th>2</th>\n",
       "      <td>Dr. Jyoti Ahlawat</td>\n",
       "      <td>BDS, MDS - Conservative Dentistry &amp; Endodontics</td>\n",
       "      <td>99.0</td>\n",
       "      <td>136.0</td>\n",
       "      <td>Vasundhra Enclave</td>\n",
       "      <td>Delhi</td>\n",
       "      <td>500.0</td>\n",
       "      <td>15.0</td>\n",
       "      <td>Dentist</td>\n",
       "    </tr>\n",
       "    <tr>\n",
       "      <th>3</th>\n",
       "      <td>Dr. Vinod Khanna</td>\n",
       "      <td>BDS, MDS - Prosthodontist And Crown Bridge</td>\n",
       "      <td>98.0</td>\n",
       "      <td>207.0</td>\n",
       "      <td>Ramesh Nagar</td>\n",
       "      <td>Delhi</td>\n",
       "      <td>500.0</td>\n",
       "      <td>14.0</td>\n",
       "      <td>Dentist</td>\n",
       "    </tr>\n",
       "    <tr>\n",
       "      <th>4</th>\n",
       "      <td>Dr. Sumit Datta</td>\n",
       "      <td>BDS, MDS - Orthodontics</td>\n",
       "      <td>94.0</td>\n",
       "      <td>190.0</td>\n",
       "      <td>Panchsheel Park</td>\n",
       "      <td>Delhi</td>\n",
       "      <td>1200.0</td>\n",
       "      <td>26.0</td>\n",
       "      <td>Dentist</td>\n",
       "    </tr>\n",
       "    <tr>\n",
       "      <th>...</th>\n",
       "      <td>...</td>\n",
       "      <td>...</td>\n",
       "      <td>...</td>\n",
       "      <td>...</td>\n",
       "      <td>...</td>\n",
       "      <td>...</td>\n",
       "      <td>...</td>\n",
       "      <td>...</td>\n",
       "      <td>...</td>\n",
       "    </tr>\n",
       "    <tr>\n",
       "      <th>7946</th>\n",
       "      <td>Dr. Nayana M S</td>\n",
       "      <td>MBBS, MS - Obstetrics &amp; Gynaecology</td>\n",
       "      <td>94.0</td>\n",
       "      <td>190.0</td>\n",
       "      <td>Rajajinagar</td>\n",
       "      <td>Bangalore</td>\n",
       "      <td>500.0</td>\n",
       "      <td>4.0</td>\n",
       "      <td>Obstetrician</td>\n",
       "    </tr>\n",
       "    <tr>\n",
       "      <th>7947</th>\n",
       "      <td>Dr. A Lakshmi Kumari</td>\n",
       "      <td>MBBS, DGO</td>\n",
       "      <td>94.0</td>\n",
       "      <td>190.0</td>\n",
       "      <td>Sarjapur Road</td>\n",
       "      <td>Bangalore</td>\n",
       "      <td>900.0</td>\n",
       "      <td>25.0</td>\n",
       "      <td>Obstetrician</td>\n",
       "    </tr>\n",
       "    <tr>\n",
       "      <th>7948</th>\n",
       "      <td>Dr. Sheela V Mane</td>\n",
       "      <td>MBBS, MD - Obstetrics &amp; Gynaecology</td>\n",
       "      <td>94.0</td>\n",
       "      <td>190.0</td>\n",
       "      <td>Cunningham Road</td>\n",
       "      <td>Bangalore</td>\n",
       "      <td>700.0</td>\n",
       "      <td>42.0</td>\n",
       "      <td>Obstetrician</td>\n",
       "    </tr>\n",
       "    <tr>\n",
       "      <th>7949</th>\n",
       "      <td>Dr. Chandana Narayana</td>\n",
       "      <td>MBBS, MS - Obstetrics &amp; Gynaecology</td>\n",
       "      <td>92.0</td>\n",
       "      <td>26.0</td>\n",
       "      <td>Sarjapur Road</td>\n",
       "      <td>Bangalore</td>\n",
       "      <td>750.0</td>\n",
       "      <td>13.0</td>\n",
       "      <td>Obstetrician</td>\n",
       "    </tr>\n",
       "    <tr>\n",
       "      <th>7950</th>\n",
       "      <td>Dr. Sandhya Rani</td>\n",
       "      <td>MBBS, DGO</td>\n",
       "      <td>98.0</td>\n",
       "      <td>48.0</td>\n",
       "      <td>Old Airport Road</td>\n",
       "      <td>Bangalore</td>\n",
       "      <td>850.0</td>\n",
       "      <td>17.0</td>\n",
       "      <td>Obstetrician</td>\n",
       "    </tr>\n",
       "  </tbody>\n",
       "</table>\n",
       "<p>7951 rows × 9 columns</p>\n",
       "</div>"
      ],
      "text/plain": [
       "                       Name                                           Degree  \\\n",
       "0     Dr. Sanneya Manchanda  BDS, MDS - Conservative Dentistry & Endodontics   \n",
       "1        Dr. Pearl Bhardwaj                          BDS, MDS - Periodontics   \n",
       "2         Dr. Jyoti Ahlawat  BDS, MDS - Conservative Dentistry & Endodontics   \n",
       "3          Dr. Vinod Khanna       BDS, MDS - Prosthodontist And Crown Bridge   \n",
       "4           Dr. Sumit Datta                          BDS, MDS - Orthodontics   \n",
       "...                     ...                                              ...   \n",
       "7946         Dr. Nayana M S              MBBS, MS - Obstetrics & Gynaecology   \n",
       "7947   Dr. A Lakshmi Kumari                                        MBBS, DGO   \n",
       "7948      Dr. Sheela V Mane              MBBS, MD - Obstetrics & Gynaecology   \n",
       "7949  Dr. Chandana Narayana              MBBS, MS - Obstetrics & Gynaecology   \n",
       "7950       Dr. Sandhya Rani                                        MBBS, DGO   \n",
       "\n",
       "      DP Score  NPV Value           Location        City  Consult Fee  \\\n",
       "0        100.0      122.0           Jangpura       Delhi        400.0   \n",
       "1         94.0      190.0       Model Town 2       Delhi        400.0   \n",
       "2         99.0      136.0  Vasundhra Enclave       Delhi        500.0   \n",
       "3         98.0      207.0       Ramesh Nagar       Delhi        500.0   \n",
       "4         94.0      190.0    Panchsheel Park       Delhi       1200.0   \n",
       "...        ...        ...                ...         ...          ...   \n",
       "7946      94.0      190.0        Rajajinagar   Bangalore        500.0   \n",
       "7947      94.0      190.0      Sarjapur Road   Bangalore        900.0   \n",
       "7948      94.0      190.0    Cunningham Road   Bangalore        700.0   \n",
       "7949      92.0       26.0      Sarjapur Road   Bangalore        750.0   \n",
       "7950      98.0       48.0   Old Airport Road   Bangalore        850.0   \n",
       "\n",
       "      Years of Experience    Speciality  \n",
       "0                    10.0       Dentist  \n",
       "1                    10.0       Dentist  \n",
       "2                    15.0       Dentist  \n",
       "3                    14.0       Dentist  \n",
       "4                    26.0       Dentist  \n",
       "...                   ...           ...  \n",
       "7946                  4.0  Obstetrician  \n",
       "7947                 25.0  Obstetrician  \n",
       "7948                 42.0  Obstetrician  \n",
       "7949                 13.0  Obstetrician  \n",
       "7950                 17.0  Obstetrician  \n",
       "\n",
       "[7951 rows x 9 columns]"
      ]
     },
     "execution_count": 56,
     "metadata": {},
     "output_type": "execute_result"
    }
   ],
   "source": [
    "result"
   ]
  },
  {
   "cell_type": "code",
   "execution_count": 57,
   "id": "d537108f",
   "metadata": {
    "id": "d537108f"
   },
   "outputs": [],
   "source": [
    "Degree_no = []\n",
    "for i in range(len(result)):\n",
    "    l = result.Degree[i]\n",
    "    count = 1\n",
    "    for j in l:\n",
    "        if j == ',':\n",
    "            count = count + 1\n",
    "    Degree_no.append(count)"
   ]
  },
  {
   "cell_type": "code",
   "execution_count": 58,
   "id": "a5228627",
   "metadata": {
    "colab": {
     "base_uri": "https://localhost:8080/"
    },
    "id": "a5228627",
    "outputId": "813a427e-4901-4d5f-8fb4-c1a1071a9be4"
   },
   "outputs": [
    {
     "data": {
      "text/plain": [
       "7951"
      ]
     },
     "execution_count": 58,
     "metadata": {},
     "output_type": "execute_result"
    }
   ],
   "source": [
    "len(Degree_no)"
   ]
  },
  {
   "cell_type": "code",
   "execution_count": 59,
   "id": "e01f6967",
   "metadata": {
    "id": "e01f6967"
   },
   "outputs": [],
   "source": [
    "result['Degree_no'] = Degree_no"
   ]
  },
  {
   "cell_type": "code",
   "execution_count": 60,
   "id": "eda3c688",
   "metadata": {
    "colab": {
     "base_uri": "https://localhost:8080/",
     "height": 641
    },
    "id": "eda3c688",
    "outputId": "26020a30-b152-4574-908e-78f9279c34ee"
   },
   "outputs": [
    {
     "data": {
      "text/html": [
       "<div>\n",
       "<style scoped>\n",
       "    .dataframe tbody tr th:only-of-type {\n",
       "        vertical-align: middle;\n",
       "    }\n",
       "\n",
       "    .dataframe tbody tr th {\n",
       "        vertical-align: top;\n",
       "    }\n",
       "\n",
       "    .dataframe thead th {\n",
       "        text-align: right;\n",
       "    }\n",
       "</style>\n",
       "<table border=\"1\" class=\"dataframe\">\n",
       "  <thead>\n",
       "    <tr style=\"text-align: right;\">\n",
       "      <th></th>\n",
       "      <th>Name</th>\n",
       "      <th>Degree</th>\n",
       "      <th>DP Score</th>\n",
       "      <th>NPV Value</th>\n",
       "      <th>Location</th>\n",
       "      <th>City</th>\n",
       "      <th>Consult Fee</th>\n",
       "      <th>Years of Experience</th>\n",
       "      <th>Speciality</th>\n",
       "      <th>Degree_no</th>\n",
       "    </tr>\n",
       "  </thead>\n",
       "  <tbody>\n",
       "    <tr>\n",
       "      <th>0</th>\n",
       "      <td>Dr. Sanneya Manchanda</td>\n",
       "      <td>BDS, MDS - Conservative Dentistry &amp; Endodontics</td>\n",
       "      <td>100.0</td>\n",
       "      <td>122.0</td>\n",
       "      <td>Jangpura</td>\n",
       "      <td>Delhi</td>\n",
       "      <td>400.0</td>\n",
       "      <td>10.0</td>\n",
       "      <td>Dentist</td>\n",
       "      <td>2</td>\n",
       "    </tr>\n",
       "    <tr>\n",
       "      <th>1</th>\n",
       "      <td>Dr. Pearl Bhardwaj</td>\n",
       "      <td>BDS, MDS - Periodontics</td>\n",
       "      <td>94.0</td>\n",
       "      <td>190.0</td>\n",
       "      <td>Model Town 2</td>\n",
       "      <td>Delhi</td>\n",
       "      <td>400.0</td>\n",
       "      <td>10.0</td>\n",
       "      <td>Dentist</td>\n",
       "      <td>2</td>\n",
       "    </tr>\n",
       "    <tr>\n",
       "      <th>2</th>\n",
       "      <td>Dr. Jyoti Ahlawat</td>\n",
       "      <td>BDS, MDS - Conservative Dentistry &amp; Endodontics</td>\n",
       "      <td>99.0</td>\n",
       "      <td>136.0</td>\n",
       "      <td>Vasundhra Enclave</td>\n",
       "      <td>Delhi</td>\n",
       "      <td>500.0</td>\n",
       "      <td>15.0</td>\n",
       "      <td>Dentist</td>\n",
       "      <td>2</td>\n",
       "    </tr>\n",
       "    <tr>\n",
       "      <th>3</th>\n",
       "      <td>Dr. Vinod Khanna</td>\n",
       "      <td>BDS, MDS - Prosthodontist And Crown Bridge</td>\n",
       "      <td>98.0</td>\n",
       "      <td>207.0</td>\n",
       "      <td>Ramesh Nagar</td>\n",
       "      <td>Delhi</td>\n",
       "      <td>500.0</td>\n",
       "      <td>14.0</td>\n",
       "      <td>Dentist</td>\n",
       "      <td>2</td>\n",
       "    </tr>\n",
       "    <tr>\n",
       "      <th>4</th>\n",
       "      <td>Dr. Sumit Datta</td>\n",
       "      <td>BDS, MDS - Orthodontics</td>\n",
       "      <td>94.0</td>\n",
       "      <td>190.0</td>\n",
       "      <td>Panchsheel Park</td>\n",
       "      <td>Delhi</td>\n",
       "      <td>1200.0</td>\n",
       "      <td>26.0</td>\n",
       "      <td>Dentist</td>\n",
       "      <td>2</td>\n",
       "    </tr>\n",
       "    <tr>\n",
       "      <th>...</th>\n",
       "      <td>...</td>\n",
       "      <td>...</td>\n",
       "      <td>...</td>\n",
       "      <td>...</td>\n",
       "      <td>...</td>\n",
       "      <td>...</td>\n",
       "      <td>...</td>\n",
       "      <td>...</td>\n",
       "      <td>...</td>\n",
       "      <td>...</td>\n",
       "    </tr>\n",
       "    <tr>\n",
       "      <th>7946</th>\n",
       "      <td>Dr. Nayana M S</td>\n",
       "      <td>MBBS, MS - Obstetrics &amp; Gynaecology</td>\n",
       "      <td>94.0</td>\n",
       "      <td>190.0</td>\n",
       "      <td>Rajajinagar</td>\n",
       "      <td>Bangalore</td>\n",
       "      <td>500.0</td>\n",
       "      <td>4.0</td>\n",
       "      <td>Obstetrician</td>\n",
       "      <td>2</td>\n",
       "    </tr>\n",
       "    <tr>\n",
       "      <th>7947</th>\n",
       "      <td>Dr. A Lakshmi Kumari</td>\n",
       "      <td>MBBS, DGO</td>\n",
       "      <td>94.0</td>\n",
       "      <td>190.0</td>\n",
       "      <td>Sarjapur Road</td>\n",
       "      <td>Bangalore</td>\n",
       "      <td>900.0</td>\n",
       "      <td>25.0</td>\n",
       "      <td>Obstetrician</td>\n",
       "      <td>2</td>\n",
       "    </tr>\n",
       "    <tr>\n",
       "      <th>7948</th>\n",
       "      <td>Dr. Sheela V Mane</td>\n",
       "      <td>MBBS, MD - Obstetrics &amp; Gynaecology</td>\n",
       "      <td>94.0</td>\n",
       "      <td>190.0</td>\n",
       "      <td>Cunningham Road</td>\n",
       "      <td>Bangalore</td>\n",
       "      <td>700.0</td>\n",
       "      <td>42.0</td>\n",
       "      <td>Obstetrician</td>\n",
       "      <td>2</td>\n",
       "    </tr>\n",
       "    <tr>\n",
       "      <th>7949</th>\n",
       "      <td>Dr. Chandana Narayana</td>\n",
       "      <td>MBBS, MS - Obstetrics &amp; Gynaecology</td>\n",
       "      <td>92.0</td>\n",
       "      <td>26.0</td>\n",
       "      <td>Sarjapur Road</td>\n",
       "      <td>Bangalore</td>\n",
       "      <td>750.0</td>\n",
       "      <td>13.0</td>\n",
       "      <td>Obstetrician</td>\n",
       "      <td>2</td>\n",
       "    </tr>\n",
       "    <tr>\n",
       "      <th>7950</th>\n",
       "      <td>Dr. Sandhya Rani</td>\n",
       "      <td>MBBS, DGO</td>\n",
       "      <td>98.0</td>\n",
       "      <td>48.0</td>\n",
       "      <td>Old Airport Road</td>\n",
       "      <td>Bangalore</td>\n",
       "      <td>850.0</td>\n",
       "      <td>17.0</td>\n",
       "      <td>Obstetrician</td>\n",
       "      <td>2</td>\n",
       "    </tr>\n",
       "  </tbody>\n",
       "</table>\n",
       "<p>7951 rows × 10 columns</p>\n",
       "</div>"
      ],
      "text/plain": [
       "                       Name                                           Degree  \\\n",
       "0     Dr. Sanneya Manchanda  BDS, MDS - Conservative Dentistry & Endodontics   \n",
       "1        Dr. Pearl Bhardwaj                          BDS, MDS - Periodontics   \n",
       "2         Dr. Jyoti Ahlawat  BDS, MDS - Conservative Dentistry & Endodontics   \n",
       "3          Dr. Vinod Khanna       BDS, MDS - Prosthodontist And Crown Bridge   \n",
       "4           Dr. Sumit Datta                          BDS, MDS - Orthodontics   \n",
       "...                     ...                                              ...   \n",
       "7946         Dr. Nayana M S              MBBS, MS - Obstetrics & Gynaecology   \n",
       "7947   Dr. A Lakshmi Kumari                                        MBBS, DGO   \n",
       "7948      Dr. Sheela V Mane              MBBS, MD - Obstetrics & Gynaecology   \n",
       "7949  Dr. Chandana Narayana              MBBS, MS - Obstetrics & Gynaecology   \n",
       "7950       Dr. Sandhya Rani                                        MBBS, DGO   \n",
       "\n",
       "      DP Score  NPV Value           Location        City  Consult Fee  \\\n",
       "0        100.0      122.0           Jangpura       Delhi        400.0   \n",
       "1         94.0      190.0       Model Town 2       Delhi        400.0   \n",
       "2         99.0      136.0  Vasundhra Enclave       Delhi        500.0   \n",
       "3         98.0      207.0       Ramesh Nagar       Delhi        500.0   \n",
       "4         94.0      190.0    Panchsheel Park       Delhi       1200.0   \n",
       "...        ...        ...                ...         ...          ...   \n",
       "7946      94.0      190.0        Rajajinagar   Bangalore        500.0   \n",
       "7947      94.0      190.0      Sarjapur Road   Bangalore        900.0   \n",
       "7948      94.0      190.0    Cunningham Road   Bangalore        700.0   \n",
       "7949      92.0       26.0      Sarjapur Road   Bangalore        750.0   \n",
       "7950      98.0       48.0   Old Airport Road   Bangalore        850.0   \n",
       "\n",
       "      Years of Experience    Speciality  Degree_no  \n",
       "0                    10.0       Dentist          2  \n",
       "1                    10.0       Dentist          2  \n",
       "2                    15.0       Dentist          2  \n",
       "3                    14.0       Dentist          2  \n",
       "4                    26.0       Dentist          2  \n",
       "...                   ...           ...        ...  \n",
       "7946                  4.0  Obstetrician          2  \n",
       "7947                 25.0  Obstetrician          2  \n",
       "7948                 42.0  Obstetrician          2  \n",
       "7949                 13.0  Obstetrician          2  \n",
       "7950                 17.0  Obstetrician          2  \n",
       "\n",
       "[7951 rows x 10 columns]"
      ]
     },
     "execution_count": 60,
     "metadata": {},
     "output_type": "execute_result"
    }
   ],
   "source": [
    "result"
   ]
  },
  {
   "cell_type": "code",
   "execution_count": 61,
   "id": "55705738",
   "metadata": {
    "id": "55705738"
   },
   "outputs": [],
   "source": [
    "Degree = []\n",
    "for i in result.Degree:\n",
    "    Degree.append(i.split(',')[:2])"
   ]
  },
  {
   "cell_type": "code",
   "execution_count": 62,
   "id": "79eb1e4a",
   "metadata": {
    "id": "79eb1e4a"
   },
   "outputs": [],
   "source": [
    "Degree = pd.DataFrame(Degree,columns=['Degree_1','Degree_2'])"
   ]
  },
  {
   "cell_type": "code",
   "execution_count": 63,
   "id": "bbef9d61",
   "metadata": {
    "id": "bbef9d61"
   },
   "outputs": [],
   "source": [
    "Degree.fillna('No_more_degree ',inplace=True)"
   ]
  },
  {
   "cell_type": "code",
   "execution_count": 64,
   "id": "ce5614d2",
   "metadata": {
    "colab": {
     "base_uri": "https://localhost:8080/",
     "height": 423
    },
    "id": "ce5614d2",
    "outputId": "9d4e101d-0717-4afd-c519-9f98ebda7998"
   },
   "outputs": [
    {
     "data": {
      "text/html": [
       "<div>\n",
       "<style scoped>\n",
       "    .dataframe tbody tr th:only-of-type {\n",
       "        vertical-align: middle;\n",
       "    }\n",
       "\n",
       "    .dataframe tbody tr th {\n",
       "        vertical-align: top;\n",
       "    }\n",
       "\n",
       "    .dataframe thead th {\n",
       "        text-align: right;\n",
       "    }\n",
       "</style>\n",
       "<table border=\"1\" class=\"dataframe\">\n",
       "  <thead>\n",
       "    <tr style=\"text-align: right;\">\n",
       "      <th></th>\n",
       "      <th>Degree_1</th>\n",
       "      <th>Degree_2</th>\n",
       "    </tr>\n",
       "  </thead>\n",
       "  <tbody>\n",
       "    <tr>\n",
       "      <th>0</th>\n",
       "      <td>BDS</td>\n",
       "      <td>MDS - Conservative Dentistry &amp; Endodontics</td>\n",
       "    </tr>\n",
       "    <tr>\n",
       "      <th>1</th>\n",
       "      <td>BDS</td>\n",
       "      <td>MDS - Periodontics</td>\n",
       "    </tr>\n",
       "    <tr>\n",
       "      <th>2</th>\n",
       "      <td>BDS</td>\n",
       "      <td>MDS - Conservative Dentistry &amp; Endodontics</td>\n",
       "    </tr>\n",
       "    <tr>\n",
       "      <th>3</th>\n",
       "      <td>BDS</td>\n",
       "      <td>MDS - Prosthodontist And Crown Bridge</td>\n",
       "    </tr>\n",
       "    <tr>\n",
       "      <th>4</th>\n",
       "      <td>BDS</td>\n",
       "      <td>MDS - Orthodontics</td>\n",
       "    </tr>\n",
       "    <tr>\n",
       "      <th>...</th>\n",
       "      <td>...</td>\n",
       "      <td>...</td>\n",
       "    </tr>\n",
       "    <tr>\n",
       "      <th>7946</th>\n",
       "      <td>MBBS</td>\n",
       "      <td>MS - Obstetrics &amp; Gynaecology</td>\n",
       "    </tr>\n",
       "    <tr>\n",
       "      <th>7947</th>\n",
       "      <td>MBBS</td>\n",
       "      <td>DGO</td>\n",
       "    </tr>\n",
       "    <tr>\n",
       "      <th>7948</th>\n",
       "      <td>MBBS</td>\n",
       "      <td>MD - Obstetrics &amp; Gynaecology</td>\n",
       "    </tr>\n",
       "    <tr>\n",
       "      <th>7949</th>\n",
       "      <td>MBBS</td>\n",
       "      <td>MS - Obstetrics &amp; Gynaecology</td>\n",
       "    </tr>\n",
       "    <tr>\n",
       "      <th>7950</th>\n",
       "      <td>MBBS</td>\n",
       "      <td>DGO</td>\n",
       "    </tr>\n",
       "  </tbody>\n",
       "</table>\n",
       "<p>7951 rows × 2 columns</p>\n",
       "</div>"
      ],
      "text/plain": [
       "     Degree_1                                     Degree_2\n",
       "0         BDS   MDS - Conservative Dentistry & Endodontics\n",
       "1         BDS                           MDS - Periodontics\n",
       "2         BDS   MDS - Conservative Dentistry & Endodontics\n",
       "3         BDS        MDS - Prosthodontist And Crown Bridge\n",
       "4         BDS                           MDS - Orthodontics\n",
       "...       ...                                          ...\n",
       "7946     MBBS                MS - Obstetrics & Gynaecology\n",
       "7947     MBBS                                          DGO\n",
       "7948     MBBS                MD - Obstetrics & Gynaecology\n",
       "7949     MBBS                MS - Obstetrics & Gynaecology\n",
       "7950     MBBS                                          DGO\n",
       "\n",
       "[7951 rows x 2 columns]"
      ]
     },
     "execution_count": 64,
     "metadata": {},
     "output_type": "execute_result"
    }
   ],
   "source": [
    "Degree"
   ]
  },
  {
   "cell_type": "code",
   "execution_count": 65,
   "id": "182509a8",
   "metadata": {
    "id": "182509a8"
   },
   "outputs": [],
   "source": [
    "l = []\n",
    "for j in Degree['Degree_1']:\n",
    "    l.append(j.split()[0])\n",
    "Degree['Degree_1'] = l\n",
    "\n",
    "l = []\n",
    "for j in Degree['Degree_2']:\n",
    "    l.append(j.split()[0])\n",
    "Degree['Degree_2'] = l"
   ]
  },
  {
   "cell_type": "code",
   "execution_count": 66,
   "id": "7fd979c4",
   "metadata": {
    "colab": {
     "base_uri": "https://localhost:8080/",
     "height": 423
    },
    "id": "7fd979c4",
    "outputId": "5d27043c-54c6-44f8-b796-801ebfb8feb0"
   },
   "outputs": [
    {
     "data": {
      "text/html": [
       "<div>\n",
       "<style scoped>\n",
       "    .dataframe tbody tr th:only-of-type {\n",
       "        vertical-align: middle;\n",
       "    }\n",
       "\n",
       "    .dataframe tbody tr th {\n",
       "        vertical-align: top;\n",
       "    }\n",
       "\n",
       "    .dataframe thead th {\n",
       "        text-align: right;\n",
       "    }\n",
       "</style>\n",
       "<table border=\"1\" class=\"dataframe\">\n",
       "  <thead>\n",
       "    <tr style=\"text-align: right;\">\n",
       "      <th></th>\n",
       "      <th>Degree_1</th>\n",
       "      <th>Degree_2</th>\n",
       "    </tr>\n",
       "  </thead>\n",
       "  <tbody>\n",
       "    <tr>\n",
       "      <th>0</th>\n",
       "      <td>BDS</td>\n",
       "      <td>MDS</td>\n",
       "    </tr>\n",
       "    <tr>\n",
       "      <th>1</th>\n",
       "      <td>BDS</td>\n",
       "      <td>MDS</td>\n",
       "    </tr>\n",
       "    <tr>\n",
       "      <th>2</th>\n",
       "      <td>BDS</td>\n",
       "      <td>MDS</td>\n",
       "    </tr>\n",
       "    <tr>\n",
       "      <th>3</th>\n",
       "      <td>BDS</td>\n",
       "      <td>MDS</td>\n",
       "    </tr>\n",
       "    <tr>\n",
       "      <th>4</th>\n",
       "      <td>BDS</td>\n",
       "      <td>MDS</td>\n",
       "    </tr>\n",
       "    <tr>\n",
       "      <th>...</th>\n",
       "      <td>...</td>\n",
       "      <td>...</td>\n",
       "    </tr>\n",
       "    <tr>\n",
       "      <th>7946</th>\n",
       "      <td>MBBS</td>\n",
       "      <td>MS</td>\n",
       "    </tr>\n",
       "    <tr>\n",
       "      <th>7947</th>\n",
       "      <td>MBBS</td>\n",
       "      <td>DGO</td>\n",
       "    </tr>\n",
       "    <tr>\n",
       "      <th>7948</th>\n",
       "      <td>MBBS</td>\n",
       "      <td>MD</td>\n",
       "    </tr>\n",
       "    <tr>\n",
       "      <th>7949</th>\n",
       "      <td>MBBS</td>\n",
       "      <td>MS</td>\n",
       "    </tr>\n",
       "    <tr>\n",
       "      <th>7950</th>\n",
       "      <td>MBBS</td>\n",
       "      <td>DGO</td>\n",
       "    </tr>\n",
       "  </tbody>\n",
       "</table>\n",
       "<p>7951 rows × 2 columns</p>\n",
       "</div>"
      ],
      "text/plain": [
       "     Degree_1 Degree_2\n",
       "0         BDS      MDS\n",
       "1         BDS      MDS\n",
       "2         BDS      MDS\n",
       "3         BDS      MDS\n",
       "4         BDS      MDS\n",
       "...       ...      ...\n",
       "7946     MBBS       MS\n",
       "7947     MBBS      DGO\n",
       "7948     MBBS       MD\n",
       "7949     MBBS       MS\n",
       "7950     MBBS      DGO\n",
       "\n",
       "[7951 rows x 2 columns]"
      ]
     },
     "execution_count": 66,
     "metadata": {},
     "output_type": "execute_result"
    }
   ],
   "source": [
    "Degree"
   ]
  },
  {
   "cell_type": "code",
   "execution_count": 67,
   "id": "bab527d4",
   "metadata": {
    "colab": {
     "base_uri": "https://localhost:8080/"
    },
    "id": "bab527d4",
    "outputId": "ed45f445-6543-492d-9915-42eaf745f7dc"
   },
   "outputs": [
    {
     "name": "stdout",
     "output_type": "stream",
     "text": [
      "MBBS        4586\n",
      "BDS         1319\n",
      "MD           280\n",
      "BPTh/BPT     234\n",
      "MS           202\n",
      "            ... \n",
      "DDV            1\n",
      "MRCS           1\n",
      "CCT            1\n",
      "FCPS-          1\n",
      "M.Sc           1\n",
      "Name: Degree_1, Length: 84, dtype: int64\n",
      "No_more_degree    1589\n",
      "MD                1585\n",
      "MS                1472\n",
      "MDS                650\n",
      "DNB                622\n",
      "                  ... \n",
      "MA/MPhil             1\n",
      "MPT                  1\n",
      "MFGDP                1\n",
      "MPhil                1\n",
      "Dip                  1\n",
      "Name: Degree_2, Length: 99, dtype: int64\n"
     ]
    }
   ],
   "source": [
    "for i in Degree.columns:\n",
    "    print(Degree[i].value_counts())"
   ]
  },
  {
   "cell_type": "code",
   "execution_count": 68,
   "id": "b868025d",
   "metadata": {
    "id": "b868025d"
   },
   "outputs": [],
   "source": [
    "result[['Degree_1','Degree_2']] = Degree"
   ]
  },
  {
   "cell_type": "code",
   "execution_count": 69,
   "id": "81121bf0",
   "metadata": {
    "id": "81121bf0"
   },
   "outputs": [],
   "source": [
    "result.drop(columns='Degree',inplace=True)"
   ]
  },
  {
   "cell_type": "code",
   "execution_count": 70,
   "id": "2e8ef42a",
   "metadata": {
    "colab": {
     "base_uri": "https://localhost:8080/",
     "height": 554
    },
    "id": "2e8ef42a",
    "outputId": "3c3cfa15-56a5-4f84-8025-c9a9270f553b"
   },
   "outputs": [
    {
     "data": {
      "text/html": [
       "<div>\n",
       "<style scoped>\n",
       "    .dataframe tbody tr th:only-of-type {\n",
       "        vertical-align: middle;\n",
       "    }\n",
       "\n",
       "    .dataframe tbody tr th {\n",
       "        vertical-align: top;\n",
       "    }\n",
       "\n",
       "    .dataframe thead th {\n",
       "        text-align: right;\n",
       "    }\n",
       "</style>\n",
       "<table border=\"1\" class=\"dataframe\">\n",
       "  <thead>\n",
       "    <tr style=\"text-align: right;\">\n",
       "      <th></th>\n",
       "      <th>Name</th>\n",
       "      <th>DP Score</th>\n",
       "      <th>NPV Value</th>\n",
       "      <th>Location</th>\n",
       "      <th>City</th>\n",
       "      <th>Consult Fee</th>\n",
       "      <th>Years of Experience</th>\n",
       "      <th>Speciality</th>\n",
       "      <th>Degree_no</th>\n",
       "      <th>Degree_1</th>\n",
       "      <th>Degree_2</th>\n",
       "    </tr>\n",
       "  </thead>\n",
       "  <tbody>\n",
       "    <tr>\n",
       "      <th>0</th>\n",
       "      <td>Dr. Sanneya Manchanda</td>\n",
       "      <td>100.0</td>\n",
       "      <td>122.0</td>\n",
       "      <td>Jangpura</td>\n",
       "      <td>Delhi</td>\n",
       "      <td>400.0</td>\n",
       "      <td>10.0</td>\n",
       "      <td>Dentist</td>\n",
       "      <td>2</td>\n",
       "      <td>BDS</td>\n",
       "      <td>MDS</td>\n",
       "    </tr>\n",
       "    <tr>\n",
       "      <th>1</th>\n",
       "      <td>Dr. Pearl Bhardwaj</td>\n",
       "      <td>94.0</td>\n",
       "      <td>190.0</td>\n",
       "      <td>Model Town 2</td>\n",
       "      <td>Delhi</td>\n",
       "      <td>400.0</td>\n",
       "      <td>10.0</td>\n",
       "      <td>Dentist</td>\n",
       "      <td>2</td>\n",
       "      <td>BDS</td>\n",
       "      <td>MDS</td>\n",
       "    </tr>\n",
       "    <tr>\n",
       "      <th>2</th>\n",
       "      <td>Dr. Jyoti Ahlawat</td>\n",
       "      <td>99.0</td>\n",
       "      <td>136.0</td>\n",
       "      <td>Vasundhra Enclave</td>\n",
       "      <td>Delhi</td>\n",
       "      <td>500.0</td>\n",
       "      <td>15.0</td>\n",
       "      <td>Dentist</td>\n",
       "      <td>2</td>\n",
       "      <td>BDS</td>\n",
       "      <td>MDS</td>\n",
       "    </tr>\n",
       "    <tr>\n",
       "      <th>3</th>\n",
       "      <td>Dr. Vinod Khanna</td>\n",
       "      <td>98.0</td>\n",
       "      <td>207.0</td>\n",
       "      <td>Ramesh Nagar</td>\n",
       "      <td>Delhi</td>\n",
       "      <td>500.0</td>\n",
       "      <td>14.0</td>\n",
       "      <td>Dentist</td>\n",
       "      <td>2</td>\n",
       "      <td>BDS</td>\n",
       "      <td>MDS</td>\n",
       "    </tr>\n",
       "    <tr>\n",
       "      <th>4</th>\n",
       "      <td>Dr. Sumit Datta</td>\n",
       "      <td>94.0</td>\n",
       "      <td>190.0</td>\n",
       "      <td>Panchsheel Park</td>\n",
       "      <td>Delhi</td>\n",
       "      <td>1200.0</td>\n",
       "      <td>26.0</td>\n",
       "      <td>Dentist</td>\n",
       "      <td>2</td>\n",
       "      <td>BDS</td>\n",
       "      <td>MDS</td>\n",
       "    </tr>\n",
       "    <tr>\n",
       "      <th>...</th>\n",
       "      <td>...</td>\n",
       "      <td>...</td>\n",
       "      <td>...</td>\n",
       "      <td>...</td>\n",
       "      <td>...</td>\n",
       "      <td>...</td>\n",
       "      <td>...</td>\n",
       "      <td>...</td>\n",
       "      <td>...</td>\n",
       "      <td>...</td>\n",
       "      <td>...</td>\n",
       "    </tr>\n",
       "    <tr>\n",
       "      <th>7946</th>\n",
       "      <td>Dr. Nayana M S</td>\n",
       "      <td>94.0</td>\n",
       "      <td>190.0</td>\n",
       "      <td>Rajajinagar</td>\n",
       "      <td>Bangalore</td>\n",
       "      <td>500.0</td>\n",
       "      <td>4.0</td>\n",
       "      <td>Obstetrician</td>\n",
       "      <td>2</td>\n",
       "      <td>MBBS</td>\n",
       "      <td>MS</td>\n",
       "    </tr>\n",
       "    <tr>\n",
       "      <th>7947</th>\n",
       "      <td>Dr. A Lakshmi Kumari</td>\n",
       "      <td>94.0</td>\n",
       "      <td>190.0</td>\n",
       "      <td>Sarjapur Road</td>\n",
       "      <td>Bangalore</td>\n",
       "      <td>900.0</td>\n",
       "      <td>25.0</td>\n",
       "      <td>Obstetrician</td>\n",
       "      <td>2</td>\n",
       "      <td>MBBS</td>\n",
       "      <td>DGO</td>\n",
       "    </tr>\n",
       "    <tr>\n",
       "      <th>7948</th>\n",
       "      <td>Dr. Sheela V Mane</td>\n",
       "      <td>94.0</td>\n",
       "      <td>190.0</td>\n",
       "      <td>Cunningham Road</td>\n",
       "      <td>Bangalore</td>\n",
       "      <td>700.0</td>\n",
       "      <td>42.0</td>\n",
       "      <td>Obstetrician</td>\n",
       "      <td>2</td>\n",
       "      <td>MBBS</td>\n",
       "      <td>MD</td>\n",
       "    </tr>\n",
       "    <tr>\n",
       "      <th>7949</th>\n",
       "      <td>Dr. Chandana Narayana</td>\n",
       "      <td>92.0</td>\n",
       "      <td>26.0</td>\n",
       "      <td>Sarjapur Road</td>\n",
       "      <td>Bangalore</td>\n",
       "      <td>750.0</td>\n",
       "      <td>13.0</td>\n",
       "      <td>Obstetrician</td>\n",
       "      <td>2</td>\n",
       "      <td>MBBS</td>\n",
       "      <td>MS</td>\n",
       "    </tr>\n",
       "    <tr>\n",
       "      <th>7950</th>\n",
       "      <td>Dr. Sandhya Rani</td>\n",
       "      <td>98.0</td>\n",
       "      <td>48.0</td>\n",
       "      <td>Old Airport Road</td>\n",
       "      <td>Bangalore</td>\n",
       "      <td>850.0</td>\n",
       "      <td>17.0</td>\n",
       "      <td>Obstetrician</td>\n",
       "      <td>2</td>\n",
       "      <td>MBBS</td>\n",
       "      <td>DGO</td>\n",
       "    </tr>\n",
       "  </tbody>\n",
       "</table>\n",
       "<p>7951 rows × 11 columns</p>\n",
       "</div>"
      ],
      "text/plain": [
       "                       Name  DP Score  NPV Value           Location  \\\n",
       "0     Dr. Sanneya Manchanda     100.0      122.0           Jangpura   \n",
       "1        Dr. Pearl Bhardwaj      94.0      190.0       Model Town 2   \n",
       "2         Dr. Jyoti Ahlawat      99.0      136.0  Vasundhra Enclave   \n",
       "3          Dr. Vinod Khanna      98.0      207.0       Ramesh Nagar   \n",
       "4           Dr. Sumit Datta      94.0      190.0    Panchsheel Park   \n",
       "...                     ...       ...        ...                ...   \n",
       "7946         Dr. Nayana M S      94.0      190.0        Rajajinagar   \n",
       "7947   Dr. A Lakshmi Kumari      94.0      190.0      Sarjapur Road   \n",
       "7948      Dr. Sheela V Mane      94.0      190.0    Cunningham Road   \n",
       "7949  Dr. Chandana Narayana      92.0       26.0      Sarjapur Road   \n",
       "7950       Dr. Sandhya Rani      98.0       48.0   Old Airport Road   \n",
       "\n",
       "            City  Consult Fee  Years of Experience    Speciality  Degree_no  \\\n",
       "0          Delhi        400.0                 10.0       Dentist          2   \n",
       "1          Delhi        400.0                 10.0       Dentist          2   \n",
       "2          Delhi        500.0                 15.0       Dentist          2   \n",
       "3          Delhi        500.0                 14.0       Dentist          2   \n",
       "4          Delhi       1200.0                 26.0       Dentist          2   \n",
       "...          ...          ...                  ...           ...        ...   \n",
       "7946   Bangalore        500.0                  4.0  Obstetrician          2   \n",
       "7947   Bangalore        900.0                 25.0  Obstetrician          2   \n",
       "7948   Bangalore        700.0                 42.0  Obstetrician          2   \n",
       "7949   Bangalore        750.0                 13.0  Obstetrician          2   \n",
       "7950   Bangalore        850.0                 17.0  Obstetrician          2   \n",
       "\n",
       "     Degree_1 Degree_2  \n",
       "0         BDS      MDS  \n",
       "1         BDS      MDS  \n",
       "2         BDS      MDS  \n",
       "3         BDS      MDS  \n",
       "4         BDS      MDS  \n",
       "...       ...      ...  \n",
       "7946     MBBS       MS  \n",
       "7947     MBBS      DGO  \n",
       "7948     MBBS       MD  \n",
       "7949     MBBS       MS  \n",
       "7950     MBBS      DGO  \n",
       "\n",
       "[7951 rows x 11 columns]"
      ]
     },
     "execution_count": 70,
     "metadata": {},
     "output_type": "execute_result"
    }
   ],
   "source": [
    "result"
   ]
  },
  {
   "cell_type": "code",
   "execution_count": 71,
   "id": "a69e92ec",
   "metadata": {
    "colab": {
     "base_uri": "https://localhost:8080/"
    },
    "id": "a69e92ec",
    "outputId": "88762762-077b-4dae-a9a8-bfbe38aa9c50"
   },
   "outputs": [
    {
     "name": "stdout",
     "output_type": "stream",
     "text": [
      "<class 'pandas.core.frame.DataFrame'>\n",
      "RangeIndex: 7951 entries, 0 to 7950\n",
      "Data columns (total 11 columns):\n",
      " #   Column               Non-Null Count  Dtype  \n",
      "---  ------               --------------  -----  \n",
      " 0   Name                 7951 non-null   object \n",
      " 1   DP Score             7951 non-null   float64\n",
      " 2   NPV Value            7951 non-null   float64\n",
      " 3   Location             7951 non-null   object \n",
      " 4   City                 7951 non-null   object \n",
      " 5   Consult Fee          7951 non-null   float64\n",
      " 6   Years of Experience  7951 non-null   float64\n",
      " 7   Speciality           7951 non-null   object \n",
      " 8   Degree_no            7951 non-null   int64  \n",
      " 9   Degree_1             7951 non-null   object \n",
      " 10  Degree_2             7951 non-null   object \n",
      "dtypes: float64(4), int64(1), object(6)\n",
      "memory usage: 683.4+ KB\n"
     ]
    }
   ],
   "source": [
    "result.info()"
   ]
  },
  {
   "cell_type": "code",
   "execution_count": 72,
   "id": "cc5d1e53",
   "metadata": {
    "id": "cc5d1e53"
   },
   "outputs": [],
   "source": [
    "#result.to_csv(r\"C:\\Users\\Admin\\Desktop\\Masai\\9 ML\\project\\Final\\practo_final.csv\")"
   ]
  },
  {
   "cell_type": "code",
   "execution_count": 73,
   "id": "ffd8b4e4",
   "metadata": {
    "colab": {
     "base_uri": "https://localhost:8080/",
     "height": 554
    },
    "id": "ffd8b4e4",
    "outputId": "effac307-70c6-4a78-b367-7ad26db64e5c"
   },
   "outputs": [
    {
     "data": {
      "text/html": [
       "<div>\n",
       "<style scoped>\n",
       "    .dataframe tbody tr th:only-of-type {\n",
       "        vertical-align: middle;\n",
       "    }\n",
       "\n",
       "    .dataframe tbody tr th {\n",
       "        vertical-align: top;\n",
       "    }\n",
       "\n",
       "    .dataframe thead th {\n",
       "        text-align: right;\n",
       "    }\n",
       "</style>\n",
       "<table border=\"1\" class=\"dataframe\">\n",
       "  <thead>\n",
       "    <tr style=\"text-align: right;\">\n",
       "      <th></th>\n",
       "      <th>Name</th>\n",
       "      <th>DP Score</th>\n",
       "      <th>NPV Value</th>\n",
       "      <th>Location</th>\n",
       "      <th>City</th>\n",
       "      <th>Consult Fee</th>\n",
       "      <th>Years of Experience</th>\n",
       "      <th>Speciality</th>\n",
       "      <th>Degree_no</th>\n",
       "      <th>Degree_1</th>\n",
       "      <th>Degree_2</th>\n",
       "    </tr>\n",
       "  </thead>\n",
       "  <tbody>\n",
       "    <tr>\n",
       "      <th>0</th>\n",
       "      <td>Dr. Sanneya Manchanda</td>\n",
       "      <td>100.0</td>\n",
       "      <td>122.0</td>\n",
       "      <td>Jangpura</td>\n",
       "      <td>Delhi</td>\n",
       "      <td>400.0</td>\n",
       "      <td>10.0</td>\n",
       "      <td>Dentist</td>\n",
       "      <td>2</td>\n",
       "      <td>BDS</td>\n",
       "      <td>MDS</td>\n",
       "    </tr>\n",
       "    <tr>\n",
       "      <th>1</th>\n",
       "      <td>Dr. Pearl Bhardwaj</td>\n",
       "      <td>94.0</td>\n",
       "      <td>190.0</td>\n",
       "      <td>Model Town 2</td>\n",
       "      <td>Delhi</td>\n",
       "      <td>400.0</td>\n",
       "      <td>10.0</td>\n",
       "      <td>Dentist</td>\n",
       "      <td>2</td>\n",
       "      <td>BDS</td>\n",
       "      <td>MDS</td>\n",
       "    </tr>\n",
       "    <tr>\n",
       "      <th>2</th>\n",
       "      <td>Dr. Jyoti Ahlawat</td>\n",
       "      <td>99.0</td>\n",
       "      <td>136.0</td>\n",
       "      <td>Vasundhra Enclave</td>\n",
       "      <td>Delhi</td>\n",
       "      <td>500.0</td>\n",
       "      <td>15.0</td>\n",
       "      <td>Dentist</td>\n",
       "      <td>2</td>\n",
       "      <td>BDS</td>\n",
       "      <td>MDS</td>\n",
       "    </tr>\n",
       "    <tr>\n",
       "      <th>3</th>\n",
       "      <td>Dr. Vinod Khanna</td>\n",
       "      <td>98.0</td>\n",
       "      <td>207.0</td>\n",
       "      <td>Ramesh Nagar</td>\n",
       "      <td>Delhi</td>\n",
       "      <td>500.0</td>\n",
       "      <td>14.0</td>\n",
       "      <td>Dentist</td>\n",
       "      <td>2</td>\n",
       "      <td>BDS</td>\n",
       "      <td>MDS</td>\n",
       "    </tr>\n",
       "    <tr>\n",
       "      <th>4</th>\n",
       "      <td>Dr. Sumit Datta</td>\n",
       "      <td>94.0</td>\n",
       "      <td>190.0</td>\n",
       "      <td>Panchsheel Park</td>\n",
       "      <td>Delhi</td>\n",
       "      <td>1200.0</td>\n",
       "      <td>26.0</td>\n",
       "      <td>Dentist</td>\n",
       "      <td>2</td>\n",
       "      <td>BDS</td>\n",
       "      <td>MDS</td>\n",
       "    </tr>\n",
       "    <tr>\n",
       "      <th>...</th>\n",
       "      <td>...</td>\n",
       "      <td>...</td>\n",
       "      <td>...</td>\n",
       "      <td>...</td>\n",
       "      <td>...</td>\n",
       "      <td>...</td>\n",
       "      <td>...</td>\n",
       "      <td>...</td>\n",
       "      <td>...</td>\n",
       "      <td>...</td>\n",
       "      <td>...</td>\n",
       "    </tr>\n",
       "    <tr>\n",
       "      <th>7946</th>\n",
       "      <td>Dr. Nayana M S</td>\n",
       "      <td>94.0</td>\n",
       "      <td>190.0</td>\n",
       "      <td>Rajajinagar</td>\n",
       "      <td>Bangalore</td>\n",
       "      <td>500.0</td>\n",
       "      <td>4.0</td>\n",
       "      <td>Obstetrician</td>\n",
       "      <td>2</td>\n",
       "      <td>MBBS</td>\n",
       "      <td>MS</td>\n",
       "    </tr>\n",
       "    <tr>\n",
       "      <th>7947</th>\n",
       "      <td>Dr. A Lakshmi Kumari</td>\n",
       "      <td>94.0</td>\n",
       "      <td>190.0</td>\n",
       "      <td>Sarjapur Road</td>\n",
       "      <td>Bangalore</td>\n",
       "      <td>900.0</td>\n",
       "      <td>25.0</td>\n",
       "      <td>Obstetrician</td>\n",
       "      <td>2</td>\n",
       "      <td>MBBS</td>\n",
       "      <td>DGO</td>\n",
       "    </tr>\n",
       "    <tr>\n",
       "      <th>7948</th>\n",
       "      <td>Dr. Sheela V Mane</td>\n",
       "      <td>94.0</td>\n",
       "      <td>190.0</td>\n",
       "      <td>Cunningham Road</td>\n",
       "      <td>Bangalore</td>\n",
       "      <td>700.0</td>\n",
       "      <td>42.0</td>\n",
       "      <td>Obstetrician</td>\n",
       "      <td>2</td>\n",
       "      <td>MBBS</td>\n",
       "      <td>MD</td>\n",
       "    </tr>\n",
       "    <tr>\n",
       "      <th>7949</th>\n",
       "      <td>Dr. Chandana Narayana</td>\n",
       "      <td>92.0</td>\n",
       "      <td>26.0</td>\n",
       "      <td>Sarjapur Road</td>\n",
       "      <td>Bangalore</td>\n",
       "      <td>750.0</td>\n",
       "      <td>13.0</td>\n",
       "      <td>Obstetrician</td>\n",
       "      <td>2</td>\n",
       "      <td>MBBS</td>\n",
       "      <td>MS</td>\n",
       "    </tr>\n",
       "    <tr>\n",
       "      <th>7950</th>\n",
       "      <td>Dr. Sandhya Rani</td>\n",
       "      <td>98.0</td>\n",
       "      <td>48.0</td>\n",
       "      <td>Old Airport Road</td>\n",
       "      <td>Bangalore</td>\n",
       "      <td>850.0</td>\n",
       "      <td>17.0</td>\n",
       "      <td>Obstetrician</td>\n",
       "      <td>2</td>\n",
       "      <td>MBBS</td>\n",
       "      <td>DGO</td>\n",
       "    </tr>\n",
       "  </tbody>\n",
       "</table>\n",
       "<p>7951 rows × 11 columns</p>\n",
       "</div>"
      ],
      "text/plain": [
       "                       Name  DP Score  NPV Value           Location  \\\n",
       "0     Dr. Sanneya Manchanda     100.0      122.0           Jangpura   \n",
       "1        Dr. Pearl Bhardwaj      94.0      190.0       Model Town 2   \n",
       "2         Dr. Jyoti Ahlawat      99.0      136.0  Vasundhra Enclave   \n",
       "3          Dr. Vinod Khanna      98.0      207.0       Ramesh Nagar   \n",
       "4           Dr. Sumit Datta      94.0      190.0    Panchsheel Park   \n",
       "...                     ...       ...        ...                ...   \n",
       "7946         Dr. Nayana M S      94.0      190.0        Rajajinagar   \n",
       "7947   Dr. A Lakshmi Kumari      94.0      190.0      Sarjapur Road   \n",
       "7948      Dr. Sheela V Mane      94.0      190.0    Cunningham Road   \n",
       "7949  Dr. Chandana Narayana      92.0       26.0      Sarjapur Road   \n",
       "7950       Dr. Sandhya Rani      98.0       48.0   Old Airport Road   \n",
       "\n",
       "            City  Consult Fee  Years of Experience    Speciality  Degree_no  \\\n",
       "0          Delhi        400.0                 10.0       Dentist          2   \n",
       "1          Delhi        400.0                 10.0       Dentist          2   \n",
       "2          Delhi        500.0                 15.0       Dentist          2   \n",
       "3          Delhi        500.0                 14.0       Dentist          2   \n",
       "4          Delhi       1200.0                 26.0       Dentist          2   \n",
       "...          ...          ...                  ...           ...        ...   \n",
       "7946   Bangalore        500.0                  4.0  Obstetrician          2   \n",
       "7947   Bangalore        900.0                 25.0  Obstetrician          2   \n",
       "7948   Bangalore        700.0                 42.0  Obstetrician          2   \n",
       "7949   Bangalore        750.0                 13.0  Obstetrician          2   \n",
       "7950   Bangalore        850.0                 17.0  Obstetrician          2   \n",
       "\n",
       "     Degree_1 Degree_2  \n",
       "0         BDS      MDS  \n",
       "1         BDS      MDS  \n",
       "2         BDS      MDS  \n",
       "3         BDS      MDS  \n",
       "4         BDS      MDS  \n",
       "...       ...      ...  \n",
       "7946     MBBS       MS  \n",
       "7947     MBBS      DGO  \n",
       "7948     MBBS       MD  \n",
       "7949     MBBS       MS  \n",
       "7950     MBBS      DGO  \n",
       "\n",
       "[7951 rows x 11 columns]"
      ]
     },
     "execution_count": 73,
     "metadata": {},
     "output_type": "execute_result"
    }
   ],
   "source": [
    "result"
   ]
  },
  {
   "cell_type": "code",
   "execution_count": 74,
   "id": "a070710a",
   "metadata": {
    "id": "a070710a"
   },
   "outputs": [],
   "source": [
    "result.drop(columns=['Name','Location','Degree_2'],inplace = True)"
   ]
  },
  {
   "cell_type": "code",
   "execution_count": 75,
   "id": "e01793fe",
   "metadata": {
    "colab": {
     "base_uri": "https://localhost:8080/",
     "height": 423
    },
    "id": "e01793fe",
    "outputId": "010800fd-f7cd-4eef-f785-a9204a17c96d"
   },
   "outputs": [
    {
     "data": {
      "text/html": [
       "<div>\n",
       "<style scoped>\n",
       "    .dataframe tbody tr th:only-of-type {\n",
       "        vertical-align: middle;\n",
       "    }\n",
       "\n",
       "    .dataframe tbody tr th {\n",
       "        vertical-align: top;\n",
       "    }\n",
       "\n",
       "    .dataframe thead th {\n",
       "        text-align: right;\n",
       "    }\n",
       "</style>\n",
       "<table border=\"1\" class=\"dataframe\">\n",
       "  <thead>\n",
       "    <tr style=\"text-align: right;\">\n",
       "      <th></th>\n",
       "      <th>DP Score</th>\n",
       "      <th>NPV Value</th>\n",
       "      <th>City</th>\n",
       "      <th>Consult Fee</th>\n",
       "      <th>Years of Experience</th>\n",
       "      <th>Speciality</th>\n",
       "      <th>Degree_no</th>\n",
       "      <th>Degree_1</th>\n",
       "    </tr>\n",
       "  </thead>\n",
       "  <tbody>\n",
       "    <tr>\n",
       "      <th>0</th>\n",
       "      <td>100.0</td>\n",
       "      <td>122.0</td>\n",
       "      <td>Delhi</td>\n",
       "      <td>400.0</td>\n",
       "      <td>10.0</td>\n",
       "      <td>Dentist</td>\n",
       "      <td>2</td>\n",
       "      <td>BDS</td>\n",
       "    </tr>\n",
       "    <tr>\n",
       "      <th>1</th>\n",
       "      <td>94.0</td>\n",
       "      <td>190.0</td>\n",
       "      <td>Delhi</td>\n",
       "      <td>400.0</td>\n",
       "      <td>10.0</td>\n",
       "      <td>Dentist</td>\n",
       "      <td>2</td>\n",
       "      <td>BDS</td>\n",
       "    </tr>\n",
       "    <tr>\n",
       "      <th>2</th>\n",
       "      <td>99.0</td>\n",
       "      <td>136.0</td>\n",
       "      <td>Delhi</td>\n",
       "      <td>500.0</td>\n",
       "      <td>15.0</td>\n",
       "      <td>Dentist</td>\n",
       "      <td>2</td>\n",
       "      <td>BDS</td>\n",
       "    </tr>\n",
       "    <tr>\n",
       "      <th>3</th>\n",
       "      <td>98.0</td>\n",
       "      <td>207.0</td>\n",
       "      <td>Delhi</td>\n",
       "      <td>500.0</td>\n",
       "      <td>14.0</td>\n",
       "      <td>Dentist</td>\n",
       "      <td>2</td>\n",
       "      <td>BDS</td>\n",
       "    </tr>\n",
       "    <tr>\n",
       "      <th>4</th>\n",
       "      <td>94.0</td>\n",
       "      <td>190.0</td>\n",
       "      <td>Delhi</td>\n",
       "      <td>1200.0</td>\n",
       "      <td>26.0</td>\n",
       "      <td>Dentist</td>\n",
       "      <td>2</td>\n",
       "      <td>BDS</td>\n",
       "    </tr>\n",
       "    <tr>\n",
       "      <th>...</th>\n",
       "      <td>...</td>\n",
       "      <td>...</td>\n",
       "      <td>...</td>\n",
       "      <td>...</td>\n",
       "      <td>...</td>\n",
       "      <td>...</td>\n",
       "      <td>...</td>\n",
       "      <td>...</td>\n",
       "    </tr>\n",
       "    <tr>\n",
       "      <th>7946</th>\n",
       "      <td>94.0</td>\n",
       "      <td>190.0</td>\n",
       "      <td>Bangalore</td>\n",
       "      <td>500.0</td>\n",
       "      <td>4.0</td>\n",
       "      <td>Obstetrician</td>\n",
       "      <td>2</td>\n",
       "      <td>MBBS</td>\n",
       "    </tr>\n",
       "    <tr>\n",
       "      <th>7947</th>\n",
       "      <td>94.0</td>\n",
       "      <td>190.0</td>\n",
       "      <td>Bangalore</td>\n",
       "      <td>900.0</td>\n",
       "      <td>25.0</td>\n",
       "      <td>Obstetrician</td>\n",
       "      <td>2</td>\n",
       "      <td>MBBS</td>\n",
       "    </tr>\n",
       "    <tr>\n",
       "      <th>7948</th>\n",
       "      <td>94.0</td>\n",
       "      <td>190.0</td>\n",
       "      <td>Bangalore</td>\n",
       "      <td>700.0</td>\n",
       "      <td>42.0</td>\n",
       "      <td>Obstetrician</td>\n",
       "      <td>2</td>\n",
       "      <td>MBBS</td>\n",
       "    </tr>\n",
       "    <tr>\n",
       "      <th>7949</th>\n",
       "      <td>92.0</td>\n",
       "      <td>26.0</td>\n",
       "      <td>Bangalore</td>\n",
       "      <td>750.0</td>\n",
       "      <td>13.0</td>\n",
       "      <td>Obstetrician</td>\n",
       "      <td>2</td>\n",
       "      <td>MBBS</td>\n",
       "    </tr>\n",
       "    <tr>\n",
       "      <th>7950</th>\n",
       "      <td>98.0</td>\n",
       "      <td>48.0</td>\n",
       "      <td>Bangalore</td>\n",
       "      <td>850.0</td>\n",
       "      <td>17.0</td>\n",
       "      <td>Obstetrician</td>\n",
       "      <td>2</td>\n",
       "      <td>MBBS</td>\n",
       "    </tr>\n",
       "  </tbody>\n",
       "</table>\n",
       "<p>7951 rows × 8 columns</p>\n",
       "</div>"
      ],
      "text/plain": [
       "      DP Score  NPV Value        City  Consult Fee  Years of Experience  \\\n",
       "0        100.0      122.0       Delhi        400.0                 10.0   \n",
       "1         94.0      190.0       Delhi        400.0                 10.0   \n",
       "2         99.0      136.0       Delhi        500.0                 15.0   \n",
       "3         98.0      207.0       Delhi        500.0                 14.0   \n",
       "4         94.0      190.0       Delhi       1200.0                 26.0   \n",
       "...        ...        ...         ...          ...                  ...   \n",
       "7946      94.0      190.0   Bangalore        500.0                  4.0   \n",
       "7947      94.0      190.0   Bangalore        900.0                 25.0   \n",
       "7948      94.0      190.0   Bangalore        700.0                 42.0   \n",
       "7949      92.0       26.0   Bangalore        750.0                 13.0   \n",
       "7950      98.0       48.0   Bangalore        850.0                 17.0   \n",
       "\n",
       "        Speciality  Degree_no Degree_1  \n",
       "0          Dentist          2      BDS  \n",
       "1          Dentist          2      BDS  \n",
       "2          Dentist          2      BDS  \n",
       "3          Dentist          2      BDS  \n",
       "4          Dentist          2      BDS  \n",
       "...            ...        ...      ...  \n",
       "7946  Obstetrician          2     MBBS  \n",
       "7947  Obstetrician          2     MBBS  \n",
       "7948  Obstetrician          2     MBBS  \n",
       "7949  Obstetrician          2     MBBS  \n",
       "7950  Obstetrician          2     MBBS  \n",
       "\n",
       "[7951 rows x 8 columns]"
      ]
     },
     "execution_count": 75,
     "metadata": {},
     "output_type": "execute_result"
    }
   ],
   "source": [
    "result"
   ]
  },
  {
   "cell_type": "code",
   "execution_count": 76,
   "id": "7e72c9e7",
   "metadata": {
    "colab": {
     "base_uri": "https://localhost:8080/",
     "height": 804
    },
    "id": "7e72c9e7",
    "outputId": "d5b8b9fa-bb3a-4fd5-bb46-f3404723152a"
   },
   "outputs": [
    {
     "data": {
      "image/png": "[encoded data removed]",
      "text/plain": [
       "<Figure size 640x480 with 1 Axes>"
      ]
     },
     "metadata": {},
     "output_type": "display_data"
    },
    {
     "data": {
      "image/png": "[encoded data removed]",
      "text/plain": [
       "<Figure size 640x480 with 1 Axes>"
      ]
     },
     "metadata": {},
     "output_type": "display_data"
    },
    {
     "data": {
      "image/png": "[encoded data removed]",
      "text/plain": [
       "<Figure size 640x480 with 1 Axes>"
      ]
     },
     "metadata": {},
     "output_type": "display_data"
    }
   ],
   "source": [
    "col = ['Speciality','City','Degree_1']\n",
    "for i in col:\n",
    "    plt.figure()\n",
    "    sns.histplot(result[i])"
   ]
  },
  {
   "cell_type": "code",
   "execution_count": 77,
   "id": "c96d23f4",
   "metadata": {
    "colab": {
     "base_uri": "https://localhost:8080/",
     "height": 81
    },
    "id": "c96d23f4",
    "outputId": "1302e5f0-c133-4779-b599-2a0339760fc2"
   },
   "outputs": [
    {
     "data": {
      "text/html": [
       "<div>\n",
       "<style scoped>\n",
       "    .dataframe tbody tr th:only-of-type {\n",
       "        vertical-align: middle;\n",
       "    }\n",
       "\n",
       "    .dataframe tbody tr th {\n",
       "        vertical-align: top;\n",
       "    }\n",
       "\n",
       "    .dataframe thead th {\n",
       "        text-align: right;\n",
       "    }\n",
       "</style>\n",
       "<table border=\"1\" class=\"dataframe\">\n",
       "  <thead>\n",
       "    <tr style=\"text-align: right;\">\n",
       "      <th></th>\n",
       "      <th>DP Score</th>\n",
       "      <th>NPV Value</th>\n",
       "      <th>City</th>\n",
       "      <th>Consult Fee</th>\n",
       "      <th>Years of Experience</th>\n",
       "      <th>Speciality</th>\n",
       "      <th>Degree_no</th>\n",
       "      <th>Degree_1</th>\n",
       "    </tr>\n",
       "  </thead>\n",
       "  <tbody>\n",
       "    <tr>\n",
       "      <th>0</th>\n",
       "      <td>100.0</td>\n",
       "      <td>122.0</td>\n",
       "      <td>Delhi</td>\n",
       "      <td>400.0</td>\n",
       "      <td>10.0</td>\n",
       "      <td>Dentist</td>\n",
       "      <td>2</td>\n",
       "      <td>BDS</td>\n",
       "    </tr>\n",
       "  </tbody>\n",
       "</table>\n",
       "</div>"
      ],
      "text/plain": [
       "   DP Score  NPV Value    City  Consult Fee  Years of Experience Speciality  \\\n",
       "0     100.0      122.0   Delhi        400.0                 10.0    Dentist   \n",
       "\n",
       "   Degree_no Degree_1  \n",
       "0          2      BDS  "
      ]
     },
     "execution_count": 77,
     "metadata": {},
     "output_type": "execute_result"
    }
   ],
   "source": [
    "result.head(1)"
   ]
  },
  {
   "cell_type": "code",
   "execution_count": 78,
   "id": "173f70eb",
   "metadata": {
    "colab": {
     "base_uri": "https://localhost:8080/",
     "height": 1000
    },
    "id": "173f70eb",
    "outputId": "b926fadd-4e29-40d8-b571-0afc00222a2c"
   },
   "outputs": [
    {
     "data": {
      "image/png": "[encoded data removed]",
      "text/plain": [
       "<Figure size 640x480 with 1 Axes>"
      ]
     },
     "metadata": {},
     "output_type": "display_data"
    },
    {
     "data": {
      "image/png": "[encoded data removed]",
      "text/plain": [
       "<Figure size 640x480 with 1 Axes>"
      ]
     },
     "metadata": {},
     "output_type": "display_data"
    },
    {
     "data": {
      "image/png": "[encoded data removed]",
      "text/plain": [
       "<Figure size 640x480 with 1 Axes>"
      ]
     },
     "metadata": {},
     "output_type": "display_data"
    },
    {
     "data": {
      "image/png": "[encoded data removed]",
      "text/plain": [
       "<Figure size 640x480 with 1 Axes>"
      ]
     },
     "metadata": {},
     "output_type": "display_data"
    },
    {
     "data": {
      "image/png": "[encoded data removed]",
      "text/plain": [
       "<Figure size 640x480 with 1 Axes>"
      ]
     },
     "metadata": {},
     "output_type": "display_data"
    }
   ],
   "source": [
    "col = ['Years of Experience','NPV Value','DP Score','Consult Fee','Degree_no']\n",
    "for i in col:\n",
    "    plt.figure()\n",
    "    sns.kdeplot(result[i])"
   ]
  },
  {
   "cell_type": "code",
   "execution_count": 79,
   "id": "189d3307",
   "metadata": {
    "id": "189d3307"
   },
   "outputs": [],
   "source": [
    "col = ['Years of Experience','NPV Value','DP Score']"
   ]
  },
  {
   "cell_type": "code",
   "execution_count": 80,
   "id": "fc45a117",
   "metadata": {
    "colab": {
     "base_uri": "https://localhost:8080/",
     "height": 722
    },
    "id": "fc45a117",
    "outputId": "6a352cc7-2790-4c29-e8a7-029f26bcbe38"
   },
   "outputs": [
    {
     "data": {
      "image/png": "[encoded data removed]",
      "text/plain": [
       "<Figure size 640x480 with 1 Axes>"
      ]
     },
     "metadata": {},
     "output_type": "display_data"
    },
    {
     "data": {
      "image/png": "[encoded data removed]",
      "text/plain": [
       "<Figure size 640x480 with 1 Axes>"
      ]
     },
     "metadata": {},
     "output_type": "display_data"
    },
    {
     "data": {
      "image/png": "[encoded data removed]",
      "text/plain": [
       "<Figure size 640x480 with 1 Axes>"
      ]
     },
     "metadata": {},
     "output_type": "display_data"
    }
   ],
   "source": [
    "for c in col:\n",
    "    percentile25=result[c].quantile(0.25)\n",
    "    percentile75=result[c].quantile(0.75)\n",
    "    iqr=percentile75-percentile25\n",
    "    upper_limit=percentile75+(1.5*iqr)\n",
    "    lower_limit=percentile25-(1.5*iqr)\n",
    "    result=result[result[c]<=upper_limit]\n",
    "    result=result[result[c]>=lower_limit]\n",
    "    plt.figure()\n",
    "    sns.boxplot(y=c, data=result)"
   ]
  },
  {
   "cell_type": "code",
   "execution_count": 81,
   "id": "m_skL_5hCfrp",
   "metadata": {
    "colab": {
     "base_uri": "https://localhost:8080/"
    },
    "id": "m_skL_5hCfrp",
    "outputId": "c4e71f3e-af2a-415b-c91b-854dd01caf88"
   },
   "outputs": [
    {
     "name": "stderr",
     "output_type": "stream",
     "text": [
      "C:\\Users\\Shashank\\AppData\\Local\\Temp\\ipykernel_1556\\223717307.py:2: FutureWarning: The default value of regex will change from True to False in a future version. In addition, single character regular expressions will *not* be treated as literal strings when regex=True.\n",
      "  result.Degree_1=result.Degree_1.str.replace('.','')\n"
     ]
    }
   ],
   "source": [
    "result.replace({'99%':np.nan,'BSAM':np.nan,'DUMS':np.nan,'MVSc':np.nan,'GHMS':np.nan,'FRCP':np.nan,'Fellow':np.nan,'LCEH':np.nan},regex=True,inplace=True)\n",
    "result.Degree_1=result.Degree_1.str.replace('.','')\n",
    "result.Degree_1=result.Degree_1.str.replace('-','')\n",
    "result.dropna(inplace=True)"
   ]
  },
  {
   "cell_type": "code",
   "execution_count": 82,
   "id": "KLCzgFu4xYDu",
   "metadata": {
    "colab": {
     "base_uri": "https://localhost:8080/",
     "height": 81
    },
    "id": "KLCzgFu4xYDu",
    "outputId": "c862e26b-bba9-4b44-f10f-b9c8a6639b98"
   },
   "outputs": [
    {
     "data": {
      "text/html": [
       "<div>\n",
       "<style scoped>\n",
       "    .dataframe tbody tr th:only-of-type {\n",
       "        vertical-align: middle;\n",
       "    }\n",
       "\n",
       "    .dataframe tbody tr th {\n",
       "        vertical-align: top;\n",
       "    }\n",
       "\n",
       "    .dataframe thead th {\n",
       "        text-align: right;\n",
       "    }\n",
       "</style>\n",
       "<table border=\"1\" class=\"dataframe\">\n",
       "  <thead>\n",
       "    <tr style=\"text-align: right;\">\n",
       "      <th></th>\n",
       "      <th>DP Score</th>\n",
       "      <th>NPV Value</th>\n",
       "      <th>City</th>\n",
       "      <th>Years of Experience</th>\n",
       "      <th>Speciality</th>\n",
       "      <th>Degree_no</th>\n",
       "      <th>Degree_1</th>\n",
       "      <th>Fee</th>\n",
       "    </tr>\n",
       "  </thead>\n",
       "  <tbody>\n",
       "    <tr>\n",
       "      <th>0</th>\n",
       "      <td>100.0</td>\n",
       "      <td>122.0</td>\n",
       "      <td>Delhi</td>\n",
       "      <td>10.0</td>\n",
       "      <td>Dentist</td>\n",
       "      <td>2</td>\n",
       "      <td>BDS</td>\n",
       "      <td>400.0</td>\n",
       "    </tr>\n",
       "  </tbody>\n",
       "</table>\n",
       "</div>"
      ],
      "text/plain": [
       "   DP Score  NPV Value    City  Years of Experience Speciality  Degree_no  \\\n",
       "0     100.0      122.0   Delhi                 10.0    Dentist          2   \n",
       "\n",
       "  Degree_1    Fee  \n",
       "0      BDS  400.0  "
      ]
     },
     "execution_count": 82,
     "metadata": {},
     "output_type": "execute_result"
    }
   ],
   "source": [
    "result['Fee'] = result['Consult Fee']\n",
    "result.drop(columns='Consult Fee',inplace=True)\n",
    "result.head(1)"
   ]
  },
  {
   "cell_type": "code",
   "execution_count": 83,
   "id": "0obHAFnkyPEf",
   "metadata": {
    "colab": {
     "base_uri": "https://localhost:8080/"
    },
    "id": "0obHAFnkyPEf",
    "outputId": "d219a85b-1555-4b06-93ce-3e467d6dfe92"
   },
   "outputs": [
    {
     "data": {
      "text/plain": [
       "array(['BDS', 'MDS', 'PhD', 'Certificate', 'Diploma', 'MBBS', 'MS', 'MD',\n",
       "       'DGO', 'DNB', 'FCPS', 'BAMS', 'BHMS', 'DM', 'Member', 'BPTh/BPT',\n",
       "       'MPTh/MPT', 'FNB', 'MRCS', 'FRCS', 'CCT', 'DO', 'DOMS', 'Doctor',\n",
       "       'MRCP', 'Bachelor', 'BVMS', 'M', 'BSc', 'Masters', 'PGD', 'DDVL',\n",
       "       'MRCOG(UK)', 'DNHE', 'MSc', 'Post', 'BNYS', 'PG', 'DHMS',\n",
       "       'Certification', 'MA', 'MPhil', 'BA', 'DPM', 'Professional',\n",
       "       'PsyD', 'MCh', 'MNAMS', 'MVSc', 'BUMS', 'BSMS', 'MBS', 'Master',\n",
       "       'BASLP', 'Ph', 'MASLP', 'Doctorate'], dtype=object)"
      ]
     },
     "execution_count": 83,
     "metadata": {},
     "output_type": "execute_result"
    }
   ],
   "source": [
    "x=result.iloc[:,:-1]\n",
    "result.Degree_1.unique()"
   ]
  },
  {
   "cell_type": "code",
   "execution_count": 84,
   "id": "BA1svtmRyuPC",
   "metadata": {
    "colab": {
     "base_uri": "https://localhost:8080/"
    },
    "id": "BA1svtmRyuPC",
    "outputId": "c663e639-c9c2-40bd-d9f9-8e4f5fd18955"
   },
   "outputs": [
    {
     "data": {
      "text/plain": [
       "0        400.0\n",
       "1        400.0\n",
       "2        500.0\n",
       "3        500.0\n",
       "4       1200.0\n",
       "         ...  \n",
       "7946     500.0\n",
       "7947     900.0\n",
       "7948     700.0\n",
       "7949     750.0\n",
       "7950     850.0\n",
       "Name: Fee, Length: 6643, dtype: float64"
      ]
     },
     "execution_count": 84,
     "metadata": {},
     "output_type": "execute_result"
    }
   ],
   "source": [
    "y=result.iloc[::,-1]\n",
    "y"
   ]
  },
  {
   "cell_type": "code",
   "execution_count": 85,
   "id": "BSqiKfiC5dAe",
   "metadata": {
    "id": "BSqiKfiC5dAe"
   },
   "outputs": [],
   "source": [
    "from sklearn.model_selection import train_test_split\n",
    "x_train,x_test,y_train,y_test = train_test_split(x,y,test_size=0.20,random_state=55)"
   ]
  },
  {
   "cell_type": "code",
   "execution_count": 86,
   "id": "WoseL6PA9Q3h",
   "metadata": {
    "id": "WoseL6PA9Q3h"
   },
   "outputs": [],
   "source": [
    "from sklearn.compose import ColumnTransformer\n",
    "from sklearn.pipeline import Pipeline\n",
    "from sklearn.preprocessing import OneHotEncoder\n",
    "from sklearn.metrics import r2_score,mean_absolute_error"
   ]
  },
  {
   "cell_type": "code",
   "execution_count": 87,
   "id": "b2IM1dus9R8G",
   "metadata": {
    "id": "b2IM1dus9R8G"
   },
   "outputs": [],
   "source": [
    "from sklearn.linear_model import LinearRegression,Ridge,Lasso\n",
    "from sklearn.neighbors import KNeighborsRegressor\n",
    "from sklearn.tree import DecisionTreeRegressor\n",
    "from sklearn.preprocessing import StandardScaler\n",
    "from sklearn.ensemble import RandomForestRegressor,GradientBoostingRegressor,AdaBoostRegressor,ExtraTreesRegressor\n",
    "from sklearn.svm import SVR"
   ]
  },
  {
   "cell_type": "code",
   "execution_count": 88,
   "id": "6a1e8b6f",
   "metadata": {
    "id": "6a1e8b6f"
   },
   "outputs": [],
   "source": [
    "from sklearn.preprocessing import OneHotEncoder\n",
    "\n",
    "# ohe=OneHotEncoder()\n",
    "# ohe.fit(x[['City','Speciality','Degree_1']])\n",
    "\n",
    "# # result = pd.get_dummies(result,drop_first=True)"
   ]
  },
  {
   "cell_type": "code",
   "execution_count": 89,
   "id": "9pukwmE0tfy7",
   "metadata": {
    "id": "9pukwmE0tfy7"
   },
   "outputs": [],
   "source": [
    "\n",
    "step1 = ColumnTransformer(transformers=[\n",
    "    ('col_tnf', OneHotEncoder(handle_unknown='ignore', sparse=False, drop='first'), [2, 4, 6])\n",
    "], remainder='passthrough')\n",
    "\n",
    "step2 = StandardScaler()\n",
    "\n",
    "step3 = LinearRegression()\n",
    "\n",
    "pipe = Pipeline([\n",
    "    ('step1', step1),\n",
    "    ('step2', step2),\n",
    "    ('step3', step3)\n",
    "])\n"
   ]
  },
  {
   "cell_type": "code",
   "execution_count": 90,
   "id": "CnK_RaHxAgGD",
   "metadata": {
    "id": "CnK_RaHxAgGD"
   },
   "outputs": [],
   "source": [
    "# categories_"
   ]
  },
  {
   "cell_type": "code",
   "execution_count": 91,
   "id": "MizACePD-ylI",
   "metadata": {
    "colab": {
     "base_uri": "https://localhost:8080/"
    },
    "id": "MizACePD-ylI",
    "outputId": "86d5f837-7558-4076-828c-90c95b454d2b"
   },
   "outputs": [
    {
     "name": "stderr",
     "output_type": "stream",
     "text": [
      "C:\\Users\\Shashank\\.conda\\envs\\Linldin_project\\lib\\site-packages\\sklearn\\preprocessing\\_encoders.py:808: FutureWarning: `sparse` was renamed to `sparse_output` in version 1.2 and will be removed in 1.4. `sparse_output` is ignored unless you leave `sparse` to its default value.\n",
      "  warnings.warn(\n"
     ]
    },
    {
     "data": {
      "text/html": [
       "<style>#sk-container-id-1 {color: black;background-color: white;}#sk-container-id-1 pre{padding: 0;}#sk-container-id-1 div.sk-toggleable {background-color: white;}#sk-container-id-1 label.sk-toggleable__label {cursor: pointer;display: block;width: 100%;margin-bottom: 0;padding: 0.3em;box-sizing: border-box;text-align: center;}#sk-container-id-1 label.sk-toggleable__label-arrow:before {content: \"▸\";float: left;margin-right: 0.25em;color: #696969;}#sk-container-id-1 label.sk-toggleable__label-arrow:hover:before {color: black;}#sk-container-id-1 div.sk-estimator:hover label.sk-toggleable__label-arrow:before {color: black;}#sk-container-id-1 div.sk-toggleable__content {max-height: 0;max-width: 0;overflow: hidden;text-align: left;background-color: #f0f8ff;}#sk-container-id-1 div.sk-toggleable__content pre {margin: 0.2em;color: black;border-radius: 0.25em;background-color: #f0f8ff;}#sk-container-id-1 input.sk-toggleable__control:checked~div.sk-toggleable__content {max-height: 200px;max-width: 100%;overflow: auto;}#sk-container-id-1 input.sk-toggleable__control:checked~label.sk-toggleable__label-arrow:before {content: \"▾\";}#sk-container-id-1 div.sk-estimator input.sk-toggleable__control:checked~label.sk-toggleable__label {background-color: #d4ebff;}#sk-container-id-1 div.sk-label input.sk-toggleable__control:checked~label.sk-toggleable__label {background-color: #d4ebff;}#sk-container-id-1 input.sk-hidden--visually {border: 0;clip: rect(1px 1px 1px 1px);clip: rect(1px, 1px, 1px, 1px);height: 1px;margin: -1px;overflow: hidden;padding: 0;position: absolute;width: 1px;}#sk-container-id-1 div.sk-estimator {font-family: monospace;background-color: #f0f8ff;border: 1px dotted black;border-radius: 0.25em;box-sizing: border-box;margin-bottom: 0.5em;}#sk-container-id-1 div.sk-estimator:hover {background-color: #d4ebff;}#sk-container-id-1 div.sk-parallel-item::after {content: \"\";width: 100%;border-bottom: 1px solid gray;flex-grow: 1;}#sk-container-id-1 div.sk-label:hover label.sk-toggleable__label {background-color: #d4ebff;}#sk-container-id-1 div.sk-serial::before {content: \"\";position: absolute;border-left: 1px solid gray;box-sizing: border-box;top: 0;bottom: 0;left: 50%;z-index: 0;}#sk-container-id-1 div.sk-serial {display: flex;flex-direction: column;align-items: center;background-color: white;padding-right: 0.2em;padding-left: 0.2em;position: relative;}#sk-container-id-1 div.sk-item {position: relative;z-index: 1;}#sk-container-id-1 div.sk-parallel {display: flex;align-items: stretch;justify-content: center;background-color: white;position: relative;}#sk-container-id-1 div.sk-item::before, #sk-container-id-1 div.sk-parallel-item::before {content: \"\";position: absolute;border-left: 1px solid gray;box-sizing: border-box;top: 0;bottom: 0;left: 50%;z-index: -1;}#sk-container-id-1 div.sk-parallel-item {display: flex;flex-direction: column;z-index: 1;position: relative;background-color: white;}#sk-container-id-1 div.sk-parallel-item:first-child::after {align-self: flex-end;width: 50%;}#sk-container-id-1 div.sk-parallel-item:last-child::after {align-self: flex-start;width: 50%;}#sk-container-id-1 div.sk-parallel-item:only-child::after {width: 0;}#sk-container-id-1 div.sk-dashed-wrapped {border: 1px dashed gray;margin: 0 0.4em 0.5em 0.4em;box-sizing: border-box;padding-bottom: 0.4em;background-color: white;}#sk-container-id-1 div.sk-label label {font-family: monospace;font-weight: bold;display: inline-block;line-height: 1.2em;}#sk-container-id-1 div.sk-label-container {text-align: center;}#sk-container-id-1 div.sk-container {/* jupyter's `normalize.less` sets `[hidden] { display: none; }` but bootstrap.min.css set `[hidden] { display: none !important; }` so we also need the `!important` here to be able to override the default hidden behavior on the sphinx rendered scikit-learn.org. See: https://github.com/scikit-learn/scikit-learn/issues/21755 */display: inline-block !important;position: relative;}#sk-container-id-1 div.sk-text-repr-fallback {display: none;}</style><div id=\"sk-container-id-1\" class=\"sk-top-container\"><div class=\"sk-text-repr-fallback\"><pre>Pipeline(steps=[(&#x27;step1&#x27;,\n",
       "                 ColumnTransformer(remainder=&#x27;passthrough&#x27;,\n",
       "                                   transformers=[(&#x27;col_tnf&#x27;,\n",
       "                                                  OneHotEncoder(drop=&#x27;first&#x27;,\n",
       "                                                                handle_unknown=&#x27;ignore&#x27;,\n",
       "                                                                sparse=False),\n",
       "                                                  [2, 4, 6])])),\n",
       "                (&#x27;step2&#x27;, StandardScaler()), (&#x27;step3&#x27;, LinearRegression())])</pre><b>In a Jupyter environment, please rerun this cell to show the HTML representation or trust the notebook. <br />On GitHub, the HTML representation is unable to render, please try loading this page with nbviewer.org.</b></div><div class=\"sk-container\" hidden><div class=\"sk-item sk-dashed-wrapped\"><div class=\"sk-label-container\"><div class=\"sk-label sk-toggleable\"><input class=\"sk-toggleable__control sk-hidden--visually\" id=\"sk-estimator-id-1\" type=\"checkbox\" ><label for=\"sk-estimator-id-1\" class=\"sk-toggleable__label sk-toggleable__label-arrow\">Pipeline</label><div class=\"sk-toggleable__content\"><pre>Pipeline(steps=[(&#x27;step1&#x27;,\n",
       "                 ColumnTransformer(remainder=&#x27;passthrough&#x27;,\n",
       "                                   transformers=[(&#x27;col_tnf&#x27;,\n",
       "                                                  OneHotEncoder(drop=&#x27;first&#x27;,\n",
       "                                                                handle_unknown=&#x27;ignore&#x27;,\n",
       "                                                                sparse=False),\n",
       "                                                  [2, 4, 6])])),\n",
       "                (&#x27;step2&#x27;, StandardScaler()), (&#x27;step3&#x27;, LinearRegression())])</pre></div></div></div><div class=\"sk-serial\"><div class=\"sk-item sk-dashed-wrapped\"><div class=\"sk-label-container\"><div class=\"sk-label sk-toggleable\"><input class=\"sk-toggleable__control sk-hidden--visually\" id=\"sk-estimator-id-2\" type=\"checkbox\" ><label for=\"sk-estimator-id-2\" class=\"sk-toggleable__label sk-toggleable__label-arrow\">step1: ColumnTransformer</label><div class=\"sk-toggleable__content\"><pre>ColumnTransformer(remainder=&#x27;passthrough&#x27;,\n",
       "                  transformers=[(&#x27;col_tnf&#x27;,\n",
       "                                 OneHotEncoder(drop=&#x27;first&#x27;,\n",
       "                                               handle_unknown=&#x27;ignore&#x27;,\n",
       "                                               sparse=False),\n",
       "                                 [2, 4, 6])])</pre></div></div></div><div class=\"sk-parallel\"><div class=\"sk-parallel-item\"><div class=\"sk-item\"><div class=\"sk-label-container\"><div class=\"sk-label sk-toggleable\"><input class=\"sk-toggleable__control sk-hidden--visually\" id=\"sk-estimator-id-3\" type=\"checkbox\" ><label for=\"sk-estimator-id-3\" class=\"sk-toggleable__label sk-toggleable__label-arrow\">col_tnf</label><div class=\"sk-toggleable__content\"><pre>[2, 4, 6]</pre></div></div></div><div class=\"sk-serial\"><div class=\"sk-item\"><div class=\"sk-estimator sk-toggleable\"><input class=\"sk-toggleable__control sk-hidden--visually\" id=\"sk-estimator-id-4\" type=\"checkbox\" ><label for=\"sk-estimator-id-4\" class=\"sk-toggleable__label sk-toggleable__label-arrow\">OneHotEncoder</label><div class=\"sk-toggleable__content\"><pre>OneHotEncoder(drop=&#x27;first&#x27;, handle_unknown=&#x27;ignore&#x27;, sparse=False)</pre></div></div></div></div></div></div><div class=\"sk-parallel-item\"><div class=\"sk-item\"><div class=\"sk-label-container\"><div class=\"sk-label sk-toggleable\"><input class=\"sk-toggleable__control sk-hidden--visually\" id=\"sk-estimator-id-5\" type=\"checkbox\" ><label for=\"sk-estimator-id-5\" class=\"sk-toggleable__label sk-toggleable__label-arrow\">remainder</label><div class=\"sk-toggleable__content\"><pre>[&#x27;DP Score&#x27;, &#x27;NPV Value&#x27;, &#x27;Years of Experience&#x27;, &#x27;Degree_no&#x27;]</pre></div></div></div><div class=\"sk-serial\"><div class=\"sk-item\"><div class=\"sk-estimator sk-toggleable\"><input class=\"sk-toggleable__control sk-hidden--visually\" id=\"sk-estimator-id-6\" type=\"checkbox\" ><label for=\"sk-estimator-id-6\" class=\"sk-toggleable__label sk-toggleable__label-arrow\">passthrough</label><div class=\"sk-toggleable__content\"><pre>passthrough</pre></div></div></div></div></div></div></div></div><div class=\"sk-item\"><div class=\"sk-estimator sk-toggleable\"><input class=\"sk-toggleable__control sk-hidden--visually\" id=\"sk-estimator-id-7\" type=\"checkbox\" ><label for=\"sk-estimator-id-7\" class=\"sk-toggleable__label sk-toggleable__label-arrow\">StandardScaler</label><div class=\"sk-toggleable__content\"><pre>StandardScaler()</pre></div></div></div><div class=\"sk-item\"><div class=\"sk-estimator sk-toggleable\"><input class=\"sk-toggleable__control sk-hidden--visually\" id=\"sk-estimator-id-8\" type=\"checkbox\" ><label for=\"sk-estimator-id-8\" class=\"sk-toggleable__label sk-toggleable__label-arrow\">LinearRegression</label><div class=\"sk-toggleable__content\"><pre>LinearRegression()</pre></div></div></div></div></div></div></div>"
      ],
      "text/plain": [
       "Pipeline(steps=[('step1',\n",
       "                 ColumnTransformer(remainder='passthrough',\n",
       "                                   transformers=[('col_tnf',\n",
       "                                                  OneHotEncoder(drop='first',\n",
       "                                                                handle_unknown='ignore',\n",
       "                                                                sparse=False),\n",
       "                                                  [2, 4, 6])])),\n",
       "                ('step2', StandardScaler()), ('step3', LinearRegression())])"
      ]
     },
     "execution_count": 91,
     "metadata": {},
     "output_type": "execute_result"
    }
   ],
   "source": [
    "pipe.fit(x_train,y_train)"
   ]
  },
  {
   "cell_type": "code",
   "execution_count": 92,
   "id": "TReGee96-Tsl",
   "metadata": {
    "colab": {
     "base_uri": "https://localhost:8080/"
    },
    "id": "TReGee96-Tsl",
    "outputId": "5457ee49-2871-43c8-b59e-fb4b65349714"
   },
   "outputs": [
    {
     "name": "stdout",
     "output_type": "stream",
     "text": [
      "R2 score 0.45317362089190294\n",
      "MAE 259.4423433304185\n"
     ]
    }
   ],
   "source": [
    "y_pred = pipe.predict(x_test)\n",
    "\n",
    "print('R2 score',r2_score(y_test,y_pred))\n",
    "print('MAE',mean_absolute_error(y_test,y_pred))"
   ]
  },
  {
   "cell_type": "code",
   "execution_count": 93,
   "id": "aef620c7",
   "metadata": {},
   "outputs": [
    {
     "name": "stdout",
     "output_type": "stream",
     "text": [
      "The scikit-learn version is 1.2.0.\n"
     ]
    }
   ],
   "source": [
    "import sklearn\n",
    "print('The scikit-learn version is {}.'.format(sklearn.__version__))"
   ]
  },
  {
   "cell_type": "code",
   "execution_count": 94,
   "id": "QjKX60YbgfsH",
   "metadata": {
    "colab": {
     "base_uri": "https://localhost:8080/",
     "height": 81
    },
    "id": "QjKX60YbgfsH",
    "outputId": "6ec6546a-6c10-413f-be6b-4ed235d45bb0"
   },
   "outputs": [
    {
     "data": {
      "text/html": [
       "<div>\n",
       "<style scoped>\n",
       "    .dataframe tbody tr th:only-of-type {\n",
       "        vertical-align: middle;\n",
       "    }\n",
       "\n",
       "    .dataframe tbody tr th {\n",
       "        vertical-align: top;\n",
       "    }\n",
       "\n",
       "    .dataframe thead th {\n",
       "        text-align: right;\n",
       "    }\n",
       "</style>\n",
       "<table border=\"1\" class=\"dataframe\">\n",
       "  <thead>\n",
       "    <tr style=\"text-align: right;\">\n",
       "      <th></th>\n",
       "      <th>DP Score</th>\n",
       "      <th>NPV Value</th>\n",
       "      <th>City</th>\n",
       "      <th>Years of Experience</th>\n",
       "      <th>Speciality</th>\n",
       "      <th>Degree_no</th>\n",
       "      <th>Degree_1</th>\n",
       "    </tr>\n",
       "  </thead>\n",
       "  <tbody>\n",
       "    <tr>\n",
       "      <th>0</th>\n",
       "      <td>100.0</td>\n",
       "      <td>122.0</td>\n",
       "      <td>Delhi</td>\n",
       "      <td>10.0</td>\n",
       "      <td>Dentist</td>\n",
       "      <td>2</td>\n",
       "      <td>BDS</td>\n",
       "    </tr>\n",
       "  </tbody>\n",
       "</table>\n",
       "</div>"
      ],
      "text/plain": [
       "   DP Score  NPV Value    City  Years of Experience Speciality  Degree_no  \\\n",
       "0     100.0      122.0   Delhi                 10.0    Dentist          2   \n",
       "\n",
       "  Degree_1  \n",
       "0      BDS  "
      ]
     },
     "execution_count": 94,
     "metadata": {},
     "output_type": "execute_result"
    }
   ],
   "source": [
    "import pickle\n",
    "\n",
    "pickle.dump(result,open('df.pkl','wb'))\n",
    "pickle.dump(pipe,open('pipe.pkl','wb'))\n",
    "x.head(1)"
   ]
  },
  {
   "cell_type": "code",
   "execution_count": 95,
   "id": "mV4svEXK-M7D",
   "metadata": {
    "colab": {
     "base_uri": "https://localhost:8080/"
    },
    "id": "mV4svEXK-M7D",
    "outputId": "c0ad518e-3644-4c37-ff9c-ff30389def9c"
   },
   "outputs": [
    {
     "name": "stderr",
     "output_type": "stream",
     "text": [
      "C:\\Users\\Shashank\\.conda\\envs\\Linldin_project\\lib\\site-packages\\sklearn\\base.py:409: UserWarning: X does not have valid feature names, but OneHotEncoder was fitted with feature names\n",
      "  warnings.warn(\n"
     ]
    },
    {
     "data": {
      "text/plain": [
       "array([444.7645326])"
      ]
     },
     "execution_count": 95,
     "metadata": {},
     "output_type": "execute_result"
    }
   ],
   "source": [
    "lm=pickle.load(open('pipe.pkl','rb'))\n",
    "lm.predict([[100.0, 122.0, ' Delhi', 10.0, 'Dentist', 2, 'BDS']])"
   ]
  }
 ],
 "metadata": {
  "colab": {
   "provenance": []
  },
  "kernelspec": {
   "display_name": "Doctor-Fee-Prediction",
   "language": "python",
   "name": "python3"
  },
  "language_info": {
   "codemirror_mode": {
    "name": "ipython",
    "version": 3
   },
   "file_extension": ".py",
   "mimetype": "text/x-python",
   "name": "python",
   "nbconvert_exporter": "python",
   "pygments_lexer": "ipython3",
   "version": "3.9.16"
  },
  "vscode": {
   "interpreter": {
    "hash": "c8d756fc5a5e39274233777b495d565497337776938f561c2ca594cc0cfc08e4"
   }
  }
 },
 "nbformat": 4,
 "nbformat_minor": 5
}
